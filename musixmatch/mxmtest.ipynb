{
 "cells": [
  {
   "cell_type": "code",
   "execution_count": 1,
   "metadata": {},
   "outputs": [],
   "source": [
    "import utils\n",
    "import requests"
   ]
  },
  {
   "cell_type": "code",
   "execution_count": 2,
   "metadata": {},
   "outputs": [
    {
     "data": {
      "text/plain": [
       "{'message': {'header': {'status_code': 200,\n",
       "   'execute_time': 0.037898063659668,\n",
       "   'available': 54},\n",
       "  'body': {'track_list': [{'track': {'track_id': 182779782,\n",
       "      'track_name': 'Bad Romance',\n",
       "      'track_name_translation_list': [],\n",
       "      'track_rating': 91,\n",
       "      'commontrack_id': 12498973,\n",
       "      'instrumental': 0,\n",
       "      'explicit': 1,\n",
       "      'has_lyrics': 1,\n",
       "      'has_subtitles': 1,\n",
       "      'has_richsync': 1,\n",
       "      'num_favourite': 13382,\n",
       "      'album_id': 34555547,\n",
       "      'album_name': 'The Fame Monster (Deluxe Edition)',\n",
       "      'artist_id': 378462,\n",
       "      'artist_name': 'Lady Gaga',\n",
       "      'track_share_url': 'https://www.musixmatch.com/lyrics/Lady-Gaga/Bad-Romance?utm_source=application&utm_campaign=api&utm_medium=',\n",
       "      'track_edit_url': 'https://www.musixmatch.com/lyrics/Lady-Gaga/Bad-Romance/edit?utm_source=application&utm_campaign=api&utm_medium=',\n",
       "      'restricted': 0,\n",
       "      'updated_time': '2022-08-18T07:12:58Z',\n",
       "      'primary_genres': {'music_genre_list': [{'music_genre': {'music_genre_id': 7,\n",
       "          'music_genre_parent_id': 34,\n",
       "          'music_genre_name': 'Electronic',\n",
       "          'music_genre_name_extended': 'Electronic',\n",
       "          'music_genre_vanity': 'Electronic'}},\n",
       "        {'music_genre': {'music_genre_id': 14,\n",
       "          'music_genre_parent_id': 34,\n",
       "          'music_genre_name': 'Pop',\n",
       "          'music_genre_name_extended': 'Pop',\n",
       "          'music_genre_vanity': 'Pop'}},\n",
       "        {'music_genre': {'music_genre_id': 17,\n",
       "          'music_genre_parent_id': 34,\n",
       "          'music_genre_name': 'Dance',\n",
       "          'music_genre_name_extended': 'Dance',\n",
       "          'music_genre_vanity': 'Dance'}}]}}}]}}}"
      ]
     },
     "execution_count": 2,
     "metadata": {},
     "output_type": "execute_result"
    }
   ],
   "source": [
    "utils.search_track(\"Bad Romance\", \"Lady Gaga\")"
   ]
  },
  {
   "cell_type": "code",
   "execution_count": 11,
   "metadata": {},
   "outputs": [
    {
     "name": "stdout",
     "output_type": "stream",
     "text": [
      "Lyrics:\n",
      " Oh-oh-oh-oh-oh, oh-oh-oh-oh, oh-oh-oh\n",
      "Caught in a bad romance\n",
      "Oh-oh-oh-oh-oh, oh-oh-oh-oh, oh-oh-oh\n",
      "Caught in a bad romance\n",
      "\n",
      "Rah, rah-ah-ah-ah\n",
      "Roma, roma-ma\n",
      "Gaga, ooh-la-la\n",
      "Want your bad romance\n",
      "\n",
      "Rah, rah-ah-ah-ah\n",
      "Roma, roma-ma\n",
      "Gaga, ooh-la-la\n",
      "Want your bad romance\n",
      "\n",
      "I want your ugly, I want your disease\n",
      "I want your everything as long as it's free\n",
      "I want your love\n",
      "Love, love, love, I want your love (hey)\n",
      "\n",
      "I want your drama, the touch of your hand (hey)\n",
      "I want your leather-studded kiss in the sand\n",
      "I want your love\n",
      "Love, love, love, I want your love (love, love, love)\n",
      "(I want your love)\n",
      "\n",
      "You know that I want you\n",
      "And you know that I need you\n",
      "I want it bad, your bad romance\n",
      "\n",
      "I want your love, and I want your revenge\n",
      "You and me could write a bad romance (oh-oh-oh-oh-oh)\n",
      "I want your love and all your lover's revenge\n",
      "You and me could write a bad romance\n",
      "\n",
      "Oh-oh-oh-oh-oh, oh-oh-oh-oh, oh-oh-oh\n",
      "Caught in a bad romance\n",
      "Oh-oh-oh-oh-oh, oh-oh-oh-oh, oh-oh-oh\n",
      "Caught in a bad romance\n",
      "...\n",
      "\n",
      "******* This Lyrics is NOT for Commercial use *******\n",
      "Language: Unknown\n",
      "Track Name: Bad Romance\n",
      "Album Name: The Fame Monster (Deluxe Edition)\n",
      "Artist Name: Lady Gaga\n",
      "Explicit: 1\n",
      "Track Length (seconds): Unknown\n"
     ]
    }
   ],
   "source": [
    "# Example usage for \"Bad Romance\" by Lady Gaga\n",
    "track_name = 'Bad Romance'\n",
    "artist_name = 'Lady Gaga'\n",
    "\n",
    "# Search for the track\n",
    "track_data = utils.search_track(track_name, artist_name)\n",
    "if track_data['message']['header']['status_code'] == 200:\n",
    "    track_list = track_data['message']['body']['track_list']\n",
    "    if track_list:\n",
    "        track_id = track_list[0]['track']['track_id']\n",
    "        \n",
    "        # Get lyrics\n",
    "        lyrics_data = utils.get_lyrics(track_id)\n",
    "        if lyrics_data['message']['header']['status_code'] == 200:\n",
    "            lyrics_body = lyrics_data['message']['body']['lyrics'].get('lyrics_body', 'No lyrics found')\n",
    "            lyrics_language = lyrics_data['message']['body']['lyrics'].get('lyrics_language', 'Unknown')\n",
    "            print(\"Lyrics:\\n\", lyrics_body)\n",
    "            print(\"Language:\", lyrics_language) #looks like this is supposed to be provided by the API but this field is not visible to me here...\n",
    "\n",
    "        # Get additional track info\n",
    "        track_info_data = utils.get_track_info(track_id)\n",
    "        if track_info_data['message']['header']['status_code'] == 200:\n",
    "            track_info = track_info_data['message']['body']['track']\n",
    "            track_name = track_info.get('track_name', 'Unknown')\n",
    "            album_name = track_info.get('album_name', 'Unknown')\n",
    "            artist_name = track_info.get('artist_name', 'Unknown')\n",
    "            explicit = track_info.get('explicit', 'Unknown')\n",
    "            track_length = track_info.get('track_length', 'Unknown')\n",
    "            \n",
    "            print(\"Track Name:\", track_name)\n",
    "            print(\"Album Name:\", album_name)\n",
    "            print(\"Artist Name:\", artist_name)\n",
    "            print(\"Explicit:\", explicit)\n",
    "            print(\"Track Length (seconds):\", track_length) #looks like this is supposed to be provided by the API but this field is not visible to me here...\n",
    "        \n",
    "else:\n",
    "    print(\"Track not found.\")"
   ]
  },
  {
   "cell_type": "code",
   "execution_count": null,
   "metadata": {},
   "outputs": [],
   "source": []
  }
 ],
 "metadata": {
  "kernelspec": {
   "display_name": "base",
   "language": "python",
   "name": "python3"
  },
  "language_info": {
   "codemirror_mode": {
    "name": "ipython",
    "version": 3
   },
   "file_extension": ".py",
   "mimetype": "text/x-python",
   "name": "python",
   "nbconvert_exporter": "python",
   "pygments_lexer": "ipython3",
   "version": "3.9.7"
  }
 },
 "nbformat": 4,
 "nbformat_minor": 2
}
