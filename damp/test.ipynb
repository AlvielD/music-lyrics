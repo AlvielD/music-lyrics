{
 "cells": [
  {
   "cell_type": "markdown",
   "metadata": {},
   "source": [
    "# Lyrics Annotation Class"
   ]
  },
  {
   "cell_type": "code",
   "execution_count": 1,
   "metadata": {},
   "outputs": [],
   "source": [
    "from LyricsAnnot import LyricsAnnot\n",
    "import json"
   ]
  },
  {
   "cell_type": "code",
   "execution_count": 2,
   "metadata": {},
   "outputs": [
    {
     "data": {
      "text/plain": [
       "[{'t': 2.919791666666667, 'l': 'Toda una vida'},\n",
       " {'t': 6.430208333333333, 'l': 'Victor Yturbe el Pirulí'},\n",
       " {'t': 9.930208333333333, 'l': 'Subida por @miguelcap'},\n",
       " {'t': 13.160416666666666, 'l': 'Disfrutenla'},\n",
       " {'t': 13.160416666666666, 'l': ''},\n",
       " {'t': 21.430208333333333, 'l': 'Toda una vida'},\n",
       " {'t': 26.169791666666665, 'l': 'me estaría contigo'},\n",
       " {'t': 31.169791666666665, 'l': 'no me importa en que forma'},\n",
       " {'t': 34.41979166666667, 'l': 'ni donde, ni como'},\n",
       " {'t': 37.16041666666666, 'l': 'pero junto a ti.'},\n",
       " {'t': 37.16041666666666, 'l': ''},\n",
       " {'t': 41.91979166666667, 'l': 'Toda una vida'},\n",
       " {'t': 46.66979166666667, 'l': 'te estaría mimando'},\n",
       " {'t': 51.66041666666666, 'l': 'te estaría cuidando'},\n",
       " {'t': 55.16979166666667, 'l': 'como cuido a mi vida'},\n",
       " {'t': 57.66041666666666, 'l': 'que la vivo por ti.'},\n",
       " {'t': 57.66041666666666, 'l': ''},\n",
       " {'t': 62.41979166666667, 'l': 'No me cansaría'},\n",
       " {'t': 65.66041666666666, 'l': 'de decirte siempre'},\n",
       " {'t': 68.66979166666667, 'l': 'pero siempre, siempre,'},\n",
       " {'t': 72.93020833333333, 'l': 'que eres en mi vida'},\n",
       " {'t': 75.16041666666666, 'l': 'ansiedad, angustia'},\n",
       " {'t': 77.66041666666666, 'l': 'y desesperación.'},\n",
       " {'t': 77.66041666666666, 'l': ''},\n",
       " {'t': 82.66041666666666, 'l': 'Toda una vida'},\n",
       " {'t': 87.16041666666666, 'l': 'me estaría contigo'},\n",
       " {'t': 92.41979166666667, 'l': 'no me importa en que forma'},\n",
       " {'t': 95.91979166666667, 'l': 'ni donde ni como'},\n",
       " {'t': 98.41979166666667, 'l': 'pero junto a ti...'},\n",
       " {'t': 98.41979166666667, 'l': ''},\n",
       " {'t': 123.61041666666667, 'l': 'No me cansaría'},\n",
       " {'t': 126.35, 'l': 'de decirte siempre'},\n",
       " {'t': 128.85, 'l': 'pero siempre, siempre,'},\n",
       " {'t': 134.11041666666665, 'l': 'que eres en mi vida'},\n",
       " {'t': 136.85, 'l': 'ansiedad, angustia'},\n",
       " {'t': 139.33958333333334, 'l': 'y desesperación.'},\n",
       " {'t': 139.33958333333334, 'l': ''},\n",
       " {'t': 144.1, 'l': 'Toda una vida'},\n",
       " {'t': 148.33958333333334, 'l': 'me estaría contigo'},\n",
       " {'t': 153.83958333333334, 'l': 'no me importa en que forma'},\n",
       " {'t': 157.35, 'l': 'ni donde ni como'},\n",
       " {'t': 162.11041666666665, 'l': 'pero junto a ti...'}]"
      ]
     },
     "execution_count": 2,
     "metadata": {},
     "output_type": "execute_result"
    }
   ],
   "source": [
    "# Read the data from a JSON file\n",
    "file_path = '../data/DAMP_MVP/sing_300x30x2/ES/ESLyrics/579583_284978.json'\n",
    "\n",
    "with open(file_path) as file:\n",
    "    data = json.load(file)\n",
    "\n",
    "data\n"
   ]
  },
  {
   "cell_type": "code",
   "execution_count": 3,
   "metadata": {},
   "outputs": [
    {
     "name": "stdout",
     "output_type": "stream",
     "text": [
      "META-DATA\n",
      "------------------------\n",
      "ID:\t00000000\n",
      "Title:\tToda una vida\n",
      "Artist:\tVictor Yturbe el Pirulí\n",
      "Lang:\tes\n",
      "Duration:\t170.96\n",
      "\n",
      "ANNOTATIONS\n",
      "------------------------\n",
      "[]\n"
     ]
    }
   ],
   "source": [
    "# Create the Lyrics object\n",
    "lyrics = LyricsAnnot('Toda una vida', 'Victor Yturbe el Pirulí')\n",
    "\n",
    "# Print its information\n",
    "lyrics.print_song()"
   ]
  },
  {
   "cell_type": "code",
   "execution_count": 4,
   "metadata": {},
   "outputs": [
    {
     "name": "stdout",
     "output_type": "stream",
     "text": [
      "Annotations built succesfully!\n",
      "META-DATA\n",
      "------------------------\n",
      "ID:\t00000000\n",
      "Title:\tToda una vida\n",
      "Artist:\tVictor Yturbe el Pirulí\n",
      "Lang:\tes\n",
      "Duration:\t170.96\n",
      "\n",
      "ANNOTATIONS\n",
      "------------------------\n",
      "[{'line': 'Toda una vida',\n",
      "  'time_duration': 3.510416666666666,\n",
      "  'time_index': [2.919791666666667, 6.330208333333333]},\n",
      " {'line': 'Victor Yturbe el Pirulí',\n",
      "  'time_duration': 3.5,\n",
      "  'time_index': [6.430208333333333, 9.830208333333333]},\n",
      " {'line': 'Subida por @miguelcap',\n",
      "  'time_duration': 3.2302083333333336,\n",
      "  'time_index': [9.930208333333333, 13.060416666666667]},\n",
      " {'line': 'Disfrutenla',\n",
      "  'time_duration': 0.0,\n",
      "  'time_index': [13.160416666666666, 13.060416666666667]},\n",
      " {'line': '',\n",
      "  'time_duration': 8.269791666666666,\n",
      "  'time_index': [13.160416666666666, 21.33020833333333]},\n",
      " {'line': 'Toda una vida',\n",
      "  'time_duration': 4.739583333333332,\n",
      "  'time_index': [21.430208333333333, 26.069791666666664]},\n",
      " {'line': 'me estaría contigo',\n",
      "  'time_duration': 5.0,\n",
      "  'time_index': [26.169791666666665, 31.069791666666664]},\n",
      " {'line': 'no me importa en que forma',\n",
      "  'time_duration': 3.2500000000000036,\n",
      "  'time_index': [31.169791666666665, 34.31979166666667]},\n",
      " {'line': 'ni donde, ni como',\n",
      "  'time_duration': 2.7406249999999943,\n",
      "  'time_index': [34.41979166666667, 37.06041666666666]},\n",
      " {'line': 'pero junto a ti.',\n",
      "  'time_duration': 0.0,\n",
      "  'time_index': [37.16041666666666, 37.06041666666666]},\n",
      " {'line': '',\n",
      "  'time_duration': 4.759375000000006,\n",
      "  'time_index': [37.16041666666666, 41.81979166666667]},\n",
      " {'line': 'Toda una vida',\n",
      "  'time_duration': 4.75,\n",
      "  'time_index': [41.91979166666667, 46.56979166666667]},\n",
      " {'line': 'te estaría mimando',\n",
      "  'time_duration': 4.990624999999994,\n",
      "  'time_index': [46.66979166666667, 51.56041666666666]},\n",
      " {'line': 'te estaría cuidando',\n",
      "  'time_duration': 3.5093750000000057,\n",
      "  'time_index': [51.66041666666666, 55.06979166666667]},\n",
      " {'line': 'como cuido a mi vida',\n",
      "  'time_duration': 2.4906249999999943,\n",
      "  'time_index': [55.16979166666667, 57.56041666666666]},\n",
      " {'line': 'que la vivo por ti.',\n",
      "  'time_duration': 0.0,\n",
      "  'time_index': [57.66041666666666, 57.56041666666666]},\n",
      " {'line': '',\n",
      "  'time_duration': 4.759375000000006,\n",
      "  'time_index': [57.66041666666666, 62.31979166666667]},\n",
      " {'line': 'No me cansaría',\n",
      "  'time_duration': 3.2406249999999943,\n",
      "  'time_index': [62.41979166666667, 65.56041666666667]},\n",
      " {'line': 'de decirte siempre',\n",
      "  'time_duration': 3.0093750000000057,\n",
      "  'time_index': [65.66041666666666, 68.56979166666667]},\n",
      " {'line': 'pero siempre, siempre,',\n",
      "  'time_duration': 4.260416666666657,\n",
      "  'time_index': [68.66979166666667, 72.83020833333333]},\n",
      " {'line': 'que eres en mi vida',\n",
      "  'time_duration': 2.230208333333337,\n",
      "  'time_index': [72.93020833333333, 75.06041666666667]},\n",
      " {'line': 'ansiedad, angustia',\n",
      "  'time_duration': 2.5,\n",
      "  'time_index': [75.16041666666666, 77.56041666666667]},\n",
      " {'line': 'y desesperación.',\n",
      "  'time_duration': 0.0,\n",
      "  'time_index': [77.66041666666666, 77.56041666666667]},\n",
      " {'line': '',\n",
      "  'time_duration': 5.0,\n",
      "  'time_index': [77.66041666666666, 82.56041666666667]},\n",
      " {'line': 'Toda una vida',\n",
      "  'time_duration': 4.5,\n",
      "  'time_index': [82.66041666666666, 87.06041666666667]},\n",
      " {'line': 'me estaría contigo',\n",
      "  'time_duration': 5.259375000000006,\n",
      "  'time_index': [87.16041666666666, 92.31979166666667]},\n",
      " {'line': 'no me importa en que forma',\n",
      "  'time_duration': 3.5,\n",
      "  'time_index': [92.41979166666667, 95.81979166666667]},\n",
      " {'line': 'ni donde ni como',\n",
      "  'time_duration': 2.5,\n",
      "  'time_index': [95.91979166666667, 98.31979166666667]},\n",
      " {'line': 'pero junto a ti...',\n",
      "  'time_duration': 0.0,\n",
      "  'time_index': [98.41979166666667, 98.31979166666667]},\n",
      " {'line': '',\n",
      "  'time_duration': 25.190624999999997,\n",
      "  'time_index': [98.41979166666667, 123.51041666666667]},\n",
      " {'line': 'No me cansaría',\n",
      "  'time_duration': 2.7395833333333286,\n",
      "  'time_index': [123.61041666666667, 126.25]},\n",
      " {'line': 'de decirte siempre',\n",
      "  'time_duration': 2.5,\n",
      "  'time_index': [126.35, 128.75]},\n",
      " {'line': 'pero siempre, siempre,',\n",
      "  'time_duration': 5.260416666666657,\n",
      "  'time_index': [128.85, 134.01041666666666]},\n",
      " {'line': 'que eres en mi vida',\n",
      "  'time_duration': 2.739583333333343,\n",
      "  'time_index': [134.11041666666665, 136.75]},\n",
      " {'line': 'ansiedad, angustia',\n",
      "  'time_duration': 2.489583333333343,\n",
      "  'time_index': [136.85, 139.23958333333334]},\n",
      " {'line': 'y desesperación.',\n",
      "  'time_duration': 0.0,\n",
      "  'time_index': [139.33958333333334, 139.23958333333334]},\n",
      " {'line': '',\n",
      "  'time_duration': 4.760416666666657,\n",
      "  'time_index': [139.33958333333334, 144.0]},\n",
      " {'line': 'Toda una vida',\n",
      "  'time_duration': 4.239583333333343,\n",
      "  'time_index': [144.1, 148.23958333333334]},\n",
      " {'line': 'me estaría contigo',\n",
      "  'time_duration': 5.5,\n",
      "  'time_index': [148.33958333333334, 153.73958333333334]},\n",
      " {'line': 'no me importa en que forma',\n",
      "  'time_duration': 3.510416666666657,\n",
      "  'time_index': [153.83958333333334, 157.25]},\n",
      " {'line': 'ni donde ni como',\n",
      "  'time_duration': 4.760416666666657,\n",
      "  'time_index': [157.35, 162.01041666666666]},\n",
      " {'line': 'pero junto a ti...',\n",
      "  'time_duration': 8.849583333333356,\n",
      "  'time_index': [162.11041666666665, 170.96]}]\n"
     ]
    }
   ],
   "source": [
    "# Build the annotations from the read data and print again\n",
    "lyrics.build_annotations(data, 'DAMP')\n",
    "\n",
    "lyrics.print_song()"
   ]
  },
  {
   "cell_type": "code",
   "execution_count": 5,
   "metadata": {},
   "outputs": [],
   "source": [
    "# Save it to a JSON file\n",
    "lyrics.save_to_json()"
   ]
  },
  {
   "cell_type": "markdown",
   "metadata": {},
   "source": [
    "# Add information to the annotations related to lyrics section"
   ]
  },
  {
   "cell_type": "code",
   "execution_count": 5,
   "metadata": {},
   "outputs": [],
   "source": [
    "import lyricsgenius\n",
    "import config.genius_config as config"
   ]
  },
  {
   "cell_type": "code",
   "execution_count": 6,
   "metadata": {},
   "outputs": [],
   "source": [
    "genius = lyricsgenius.Genius(config.ACCESS_TOKEN)"
   ]
  },
  {
   "cell_type": "code",
   "execution_count": 8,
   "metadata": {},
   "outputs": [
    {
     "name": "stdout",
     "output_type": "stream",
     "text": [
      "Searching for \"Toda una vida\" by Victor Yturbe el Pirulí...\n",
      "Done.\n"
     ]
    }
   ],
   "source": [
    "song = genius.search_song('Toda una vida', 'Victor Yturbe el Pirulí')"
   ]
  }
 ],
 "metadata": {
  "kernelspec": {
   "display_name": "base",
   "language": "python",
   "name": "python3"
  },
  "language_info": {
   "codemirror_mode": {
    "name": "ipython",
    "version": 3
   },
   "file_extension": ".py",
   "mimetype": "text/x-python",
   "name": "python",
   "nbconvert_exporter": "python",
   "pygments_lexer": "ipython3",
   "version": "3.11.5"
  }
 },
 "nbformat": 4,
 "nbformat_minor": 2
}
