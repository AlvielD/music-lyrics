{
 "cells": [
  {
   "cell_type": "code",
   "execution_count": 1,
   "metadata": {},
   "outputs": [],
   "source": [
    "import rdflib\n",
    "import os\n",
    "import re\n",
    "import time\n",
    "\n",
    "import pysparql_anything as sa\n",
    "from tqdm import tqdm"
   ]
  },
  {
   "cell_type": "code",
   "execution_count": 2,
   "metadata": {},
   "outputs": [],
   "source": [
    "def populate_ontology(engine, query_file, annotations_dir, output_dir):\n",
    "\n",
    "    pattern = r'<x-sparql-anything:annotations\\/(.{8}.json)>'\n",
    "\n",
    "    file_list = os.listdir(annotations_dir)\n",
    "    for i, annotation_file in zip(tqdm(range(len(file_list))), file_list):\n",
    "        print(annotation_file)\n",
    "\n",
    "        with open(query_file, 'r') as file:\n",
    "            content = file.read()\n",
    "\n",
    "        # Change the service file in the query file\n",
    "        new_content = re.sub(pattern, f'<x-sparql-anything:annotations/{annotation_file}>', content)\n",
    "\n",
    "        # Write the modified content back to the file\n",
    "        with open(query_file, 'w') as file:\n",
    "            file.write(new_content)\n",
    "\n",
    "        engine.run(\n",
    "            query=query_file,\n",
    "            output=f\"{output_dir}{annotation_file[:-5]}.ttl\",\n",
    "            format=\"ttl\",\n",
    "        )"
   ]
  },
  {
   "cell_type": "code",
   "execution_count": 3,
   "metadata": {},
   "outputs": [
    {
     "name": "stderr",
     "output_type": "stream",
     "text": [
      "  0%|          | 0/3232 [00:00<?, ?it/s]"
     ]
    },
    {
     "name": "stdout",
     "output_type": "stream",
     "text": [
      "00000000.json\n"
     ]
    },
    {
     "name": "stderr",
     "output_type": "stream",
     "text": [
      "  0%|          | 2/3232 [00:00<22:46,  2.36it/s]"
     ]
    },
    {
     "name": "stdout",
     "output_type": "stream",
     "text": [
      "00000001.json\n",
      "00000002.json\n",
      "00000003.json\n"
     ]
    },
    {
     "name": "stderr",
     "output_type": "stream",
     "text": [
      "  0%|          | 6/3232 [00:01<07:18,  7.35it/s]"
     ]
    },
    {
     "name": "stdout",
     "output_type": "stream",
     "text": [
      "00000004.json\n",
      "00000005.json\n",
      "00000006.json\n",
      "00000007.json\n"
     ]
    },
    {
     "name": "stderr",
     "output_type": "stream",
     "text": [
      "  0%|          | 11/3232 [00:01<04:20, 12.35it/s]"
     ]
    },
    {
     "name": "stdout",
     "output_type": "stream",
     "text": [
      "00000008.json\n",
      "00000009.json\n",
      "0000000A.json\n",
      "0000000B.json\n"
     ]
    },
    {
     "name": "stderr",
     "output_type": "stream",
     "text": [
      "  0%|          | 13/3232 [00:01<04:11, 12.82it/s]"
     ]
    },
    {
     "name": "stdout",
     "output_type": "stream",
     "text": [
      "0000000C.json\n",
      "0000000D.json\n",
      "0000000E.json\n",
      "0000000F.json\n"
     ]
    },
    {
     "name": "stderr",
     "output_type": "stream",
     "text": [
      "  1%|          | 21/3232 [00:01<02:45, 19.45it/s]"
     ]
    },
    {
     "name": "stdout",
     "output_type": "stream",
     "text": [
      "00000010.json\n",
      "00000011.json\n",
      "00000012.json\n",
      "00000013.json\n",
      "00000014.json\n"
     ]
    },
    {
     "name": "stderr",
     "output_type": "stream",
     "text": [
      "  1%|          | 24/3232 [00:02<02:29, 21.47it/s]"
     ]
    },
    {
     "name": "stdout",
     "output_type": "stream",
     "text": [
      "00000015.json\n",
      "00000016.json\n",
      "00000017.json\n",
      "00000018.json\n",
      "00000019.json\n"
     ]
    },
    {
     "name": "stderr",
     "output_type": "stream",
     "text": [
      "  1%|          | 30/3232 [00:02<02:13, 23.93it/s]"
     ]
    },
    {
     "name": "stdout",
     "output_type": "stream",
     "text": [
      "0000001A.json\n",
      "0000001B.json\n",
      "0000001C.json\n",
      "0000001D.json\n",
      "0000001E.json\n",
      "0000001F.json\n"
     ]
    },
    {
     "name": "stderr",
     "output_type": "stream",
     "text": [
      "  1%|          | 36/3232 [00:02<02:10, 24.48it/s]"
     ]
    },
    {
     "name": "stdout",
     "output_type": "stream",
     "text": [
      "00000020.json\n",
      "00000021.json\n",
      "00000022.json\n",
      "00000023.json\n",
      "00000024.json\n"
     ]
    },
    {
     "name": "stderr",
     "output_type": "stream",
     "text": [
      "  1%|          | 39/3232 [00:02<02:15, 23.60it/s]"
     ]
    },
    {
     "name": "stdout",
     "output_type": "stream",
     "text": [
      "00000025.json\n",
      "00000026.json\n",
      "00000027.json\n",
      "00000028.json\n",
      "00000029.json\n"
     ]
    },
    {
     "name": "stderr",
     "output_type": "stream",
     "text": [
      "  1%|▏         | 46/3232 [00:02<02:00, 26.44it/s]"
     ]
    },
    {
     "name": "stdout",
     "output_type": "stream",
     "text": [
      "0000002A.json\n",
      "0000002B.json\n",
      "0000002C.json\n",
      "0000002D.json\n",
      "0000002E.json\n",
      "0000002F.json\n",
      "00000030.json\n",
      "00000031.json\n"
     ]
    },
    {
     "name": "stderr",
     "output_type": "stream",
     "text": [
      "  2%|▏         | 54/3232 [00:03<01:41, 31.18it/s]"
     ]
    },
    {
     "name": "stdout",
     "output_type": "stream",
     "text": [
      "00000032.json\n",
      "00000033.json\n",
      "00000034.json\n",
      "00000035.json\n",
      "00000036.json\n",
      "00000037.json\n",
      "00000038.json\n"
     ]
    },
    {
     "name": "stderr",
     "output_type": "stream",
     "text": [
      "  2%|▏         | 62/3232 [00:03<01:49, 28.86it/s]"
     ]
    },
    {
     "name": "stdout",
     "output_type": "stream",
     "text": [
      "00000039.json\n",
      "0000003A.json\n",
      "0000003B.json\n",
      "0000003C.json\n",
      "0000003D.json\n",
      "0000003E.json\n",
      "0000003F.json\n"
     ]
    },
    {
     "name": "stderr",
     "output_type": "stream",
     "text": [
      "  2%|▏         | 70/3232 [00:03<01:41, 31.05it/s]"
     ]
    },
    {
     "name": "stdout",
     "output_type": "stream",
     "text": [
      "00000040.json\n",
      "00000041.json\n",
      "00000042.json\n",
      "00000043.json\n",
      "00000044.json\n",
      "00000045.json\n"
     ]
    },
    {
     "name": "stderr",
     "output_type": "stream",
     "text": [
      "  2%|▏         | 74/3232 [00:03<01:38, 32.04it/s]"
     ]
    },
    {
     "name": "stdout",
     "output_type": "stream",
     "text": [
      "00000046.json\n",
      "00000047.json\n",
      "00000048.json\n",
      "00000049.json\n",
      "0000004A.json\n",
      "0000004B.json\n",
      "0000004C.json\n",
      "0000004D.json\n"
     ]
    },
    {
     "name": "stderr",
     "output_type": "stream",
     "text": [
      "  3%|▎         | 82/3232 [00:04<01:34, 33.47it/s]"
     ]
    },
    {
     "name": "stdout",
     "output_type": "stream",
     "text": [
      "0000004E.json\n",
      "0000004F.json\n",
      "00000050.json\n",
      "00000051.json\n",
      "00000052.json\n",
      "00000053.json\n"
     ]
    },
    {
     "name": "stderr",
     "output_type": "stream",
     "text": [
      "  3%|▎         | 90/3232 [00:04<01:40, 31.12it/s]"
     ]
    },
    {
     "name": "stdout",
     "output_type": "stream",
     "text": [
      "00000054.json\n",
      "00000055.json\n",
      "00000056.json\n",
      "00000057.json\n",
      "00000058.json\n",
      "00000059.json\n"
     ]
    },
    {
     "name": "stderr",
     "output_type": "stream",
     "text": [
      "  3%|▎         | 94/3232 [00:04<01:37, 32.15it/s]"
     ]
    },
    {
     "name": "stdout",
     "output_type": "stream",
     "text": [
      "0000005A.json\n",
      "0000005B.json\n",
      "0000005C.json\n",
      "0000005D.json\n",
      "0000005E.json\n",
      "0000005F.json\n",
      "00000060.json\n",
      "00000061.json\n"
     ]
    },
    {
     "name": "stderr",
     "output_type": "stream",
     "text": [
      "  3%|▎         | 103/3232 [00:04<01:30, 34.55it/s]"
     ]
    },
    {
     "name": "stdout",
     "output_type": "stream",
     "text": [
      "00000062.json\n",
      "00000063.json\n",
      "00000064.json\n",
      "00000065.json\n",
      "00000066.json\n",
      "00000067.json\n",
      "00000068.json\n"
     ]
    },
    {
     "name": "stderr",
     "output_type": "stream",
     "text": [
      "  3%|▎         | 111/3232 [00:04<01:36, 32.18it/s]"
     ]
    },
    {
     "name": "stdout",
     "output_type": "stream",
     "text": [
      "00000069.json\n",
      "0000006A.json\n",
      "0000006B.json\n",
      "0000006C.json\n",
      "0000006D.json\n",
      "0000006E.json\n"
     ]
    },
    {
     "name": "stderr",
     "output_type": "stream",
     "text": [
      "  4%|▎         | 115/3232 [00:05<01:35, 32.81it/s]"
     ]
    },
    {
     "name": "stdout",
     "output_type": "stream",
     "text": [
      "0000006F.json\n",
      "00000070.json\n",
      "00000071.json\n",
      "00000072.json\n",
      "00000073.json\n",
      "00000074.json\n",
      "00000075.json\n",
      "00000076.json\n"
     ]
    },
    {
     "name": "stderr",
     "output_type": "stream",
     "text": [
      "  4%|▍         | 123/3232 [00:05<01:32, 33.64it/s]"
     ]
    },
    {
     "name": "stdout",
     "output_type": "stream",
     "text": [
      "00000077.json\n",
      "00000078.json\n",
      "00000079.json\n",
      "0000007A.json\n",
      "0000007B.json\n",
      "0000007C.json\n",
      "0000007D.json\n"
     ]
    },
    {
     "name": "stderr",
     "output_type": "stream",
     "text": [
      "  4%|▍         | 131/3232 [00:05<01:35, 32.41it/s]"
     ]
    },
    {
     "name": "stdout",
     "output_type": "stream",
     "text": [
      "0000007E.json\n",
      "0000007F.json\n",
      "00000080.json\n",
      "00000081.json\n",
      "00000082.json\n",
      "00000083.json\n",
      "00000084.json\n"
     ]
    },
    {
     "name": "stderr",
     "output_type": "stream",
     "text": [
      "  4%|▍         | 139/3232 [00:05<01:36, 32.10it/s]"
     ]
    },
    {
     "name": "stdout",
     "output_type": "stream",
     "text": [
      "00000085.json\n",
      "00000086.json\n",
      "00000087.json\n",
      "00000088.json\n",
      "00000089.json\n",
      "0000008A.json\n"
     ]
    },
    {
     "name": "stderr",
     "output_type": "stream",
     "text": [
      "  4%|▍         | 143/3232 [00:05<01:39, 31.18it/s]"
     ]
    },
    {
     "name": "stdout",
     "output_type": "stream",
     "text": [
      "0000008B.json\n",
      "0000008C.json\n",
      "0000008D.json\n",
      "0000008E.json\n",
      "0000008F.json\n",
      "00000090.json\n",
      "00000091.json\n"
     ]
    },
    {
     "name": "stderr",
     "output_type": "stream",
     "text": [
      "  5%|▍         | 151/3232 [00:06<01:36, 32.00it/s]"
     ]
    },
    {
     "name": "stdout",
     "output_type": "stream",
     "text": [
      "00000092.json\n",
      "00000093.json\n",
      "00000094.json\n",
      "00000095.json\n",
      "00000096.json\n",
      "00000097.json\n",
      "00000098.json\n",
      "00000099.json\n"
     ]
    },
    {
     "name": "stderr",
     "output_type": "stream",
     "text": [
      "  5%|▍         | 159/3232 [00:06<01:38, 31.28it/s]"
     ]
    },
    {
     "name": "stdout",
     "output_type": "stream",
     "text": [
      "0000009A.json\n",
      "0000009B.json\n",
      "0000009C.json\n",
      "0000009D.json\n",
      "0000009E.json\n",
      "0000009F.json\n",
      "000000A0.json\n",
      "000000A1.json\n"
     ]
    },
    {
     "name": "stderr",
     "output_type": "stream",
     "text": [
      "  5%|▌         | 163/3232 [00:06<01:37, 31.32it/s]"
     ]
    },
    {
     "name": "stdout",
     "output_type": "stream",
     "text": [
      "000000A2.json\n",
      "000000A3.json\n",
      "000000A4.json\n",
      "000000A5.json\n"
     ]
    },
    {
     "name": "stderr",
     "output_type": "stream",
     "text": [
      "  5%|▌         | 167/3232 [00:06<01:53, 27.11it/s]"
     ]
    },
    {
     "name": "stdout",
     "output_type": "stream",
     "text": [
      "000000A6.json\n",
      "000000A7.json\n",
      "000000A8.json\n",
      "000000A9.json\n"
     ]
    },
    {
     "name": "stderr",
     "output_type": "stream",
     "text": [
      "  5%|▌         | 173/3232 [00:07<02:03, 24.74it/s]"
     ]
    },
    {
     "name": "stdout",
     "output_type": "stream",
     "text": [
      "000000AA.json\n",
      "000000AB.json\n",
      "000000AC.json\n",
      "000000AD.json\n",
      "000000AE.json\n",
      "000000AF.json\n"
     ]
    },
    {
     "name": "stderr",
     "output_type": "stream",
     "text": [
      "  6%|▌         | 179/3232 [00:07<02:02, 24.87it/s]"
     ]
    },
    {
     "name": "stdout",
     "output_type": "stream",
     "text": [
      "000000B0.json\n",
      "000000B1.json\n",
      "000000B2.json\n",
      "000000B3.json\n",
      "000000B4.json\n",
      "000000B5.json\n"
     ]
    },
    {
     "name": "stderr",
     "output_type": "stream",
     "text": [
      "  6%|▌         | 186/3232 [00:07<01:47, 28.28it/s]"
     ]
    },
    {
     "name": "stdout",
     "output_type": "stream",
     "text": [
      "000000B6.json\n",
      "000000B7.json\n",
      "000000B8.json\n",
      "000000B9.json\n",
      "000000BA.json\n",
      "000000BB.json\n",
      "000000BC.json\n",
      "000000BD.json\n"
     ]
    },
    {
     "name": "stderr",
     "output_type": "stream",
     "text": [
      "  6%|▌         | 194/3232 [00:07<01:30, 33.45it/s]"
     ]
    },
    {
     "name": "stdout",
     "output_type": "stream",
     "text": [
      "000000BE.json\n",
      "000000BF.json\n",
      "000000C0.json\n",
      "000000C1.json\n",
      "000000C2.json\n",
      "000000C3.json\n",
      "000000C4.json\n",
      "000000C5.json\n",
      "000000C6.json\n"
     ]
    },
    {
     "name": "stderr",
     "output_type": "stream",
     "text": [
      "  6%|▋         | 203/3232 [00:07<01:24, 35.75it/s]"
     ]
    },
    {
     "name": "stdout",
     "output_type": "stream",
     "text": [
      "000000C7.json\n",
      "000000C8.json\n",
      "000000C9.json\n",
      "000000CA.json\n",
      "000000CB.json\n",
      "000000CC.json\n",
      "000000CD.json\n"
     ]
    },
    {
     "name": "stderr",
     "output_type": "stream",
     "text": [
      "  7%|▋         | 211/3232 [00:08<01:32, 32.80it/s]"
     ]
    },
    {
     "name": "stdout",
     "output_type": "stream",
     "text": [
      "000000CE.json\n",
      "000000CF.json\n",
      "000000D0.json\n",
      "000000D1.json\n",
      "000000D2.json\n",
      "000000D3.json\n",
      "000000D4.json\n",
      "000000D5.json\n"
     ]
    },
    {
     "name": "stderr",
     "output_type": "stream",
     "text": [
      "  7%|▋         | 220/3232 [00:08<01:22, 36.30it/s]"
     ]
    },
    {
     "name": "stdout",
     "output_type": "stream",
     "text": [
      "000000D6.json\n",
      "000000D7.json\n",
      "000000D8.json\n",
      "000000D9.json\n",
      "000000DA.json\n",
      "000000DB.json\n",
      "000000DC.json\n",
      "000000DD.json\n",
      "000000DE.json\n"
     ]
    },
    {
     "name": "stderr",
     "output_type": "stream",
     "text": [
      "  7%|▋         | 229/3232 [00:08<01:18, 38.15it/s]"
     ]
    },
    {
     "name": "stdout",
     "output_type": "stream",
     "text": [
      "000000DF.json\n",
      "000000E0.json\n",
      "000000E1.json\n",
      "000000E2.json\n",
      "000000E3.json\n",
      "000000E4.json\n",
      "000000E5.json\n",
      "000000E6.json\n"
     ]
    },
    {
     "name": "stderr",
     "output_type": "stream",
     "text": [
      "  7%|▋         | 237/3232 [00:08<01:18, 38.02it/s]"
     ]
    },
    {
     "name": "stdout",
     "output_type": "stream",
     "text": [
      "000000E7.json\n",
      "000000E8.json\n",
      "000000E9.json\n",
      "000000EA.json\n",
      "000000EB.json\n",
      "000000EC.json\n",
      "000000ED.json\n",
      "000000EE.json\n"
     ]
    },
    {
     "name": "stderr",
     "output_type": "stream",
     "text": [
      "  8%|▊         | 245/3232 [00:09<01:24, 35.33it/s]"
     ]
    },
    {
     "name": "stdout",
     "output_type": "stream",
     "text": [
      "000000EF.json\n",
      "000000F0.json\n",
      "000000F1.json\n",
      "000000F2.json\n",
      "000000F3.json\n",
      "000000F4.json\n"
     ]
    },
    {
     "name": "stderr",
     "output_type": "stream",
     "text": [
      "  8%|▊         | 249/3232 [00:09<01:22, 36.19it/s]"
     ]
    },
    {
     "name": "stdout",
     "output_type": "stream",
     "text": [
      "000000F5.json\n",
      "000000F6.json\n",
      "000000F7.json\n",
      "000000F8.json\n",
      "000000F9.json\n",
      "000000FA.json\n",
      "000000FB.json\n",
      "000000FC.json\n"
     ]
    },
    {
     "name": "stderr",
     "output_type": "stream",
     "text": [
      "  8%|▊         | 257/3232 [00:09<01:24, 35.16it/s]"
     ]
    },
    {
     "name": "stdout",
     "output_type": "stream",
     "text": [
      "000000FD.json\n",
      "000000FE.json\n",
      "000000FF.json\n",
      "00000100.json\n",
      "00000101.json\n",
      "00000102.json\n",
      "00000103.json\n",
      "00000104.json\n"
     ]
    },
    {
     "name": "stderr",
     "output_type": "stream",
     "text": [
      "  8%|▊         | 265/3232 [00:09<01:26, 34.30it/s]"
     ]
    },
    {
     "name": "stdout",
     "output_type": "stream",
     "text": [
      "00000105.json\n",
      "00000106.json\n",
      "00000107.json\n",
      "00000108.json\n",
      "00000109.json\n",
      "0000010A.json\n",
      "0000010B.json\n",
      "0000010C.json\n"
     ]
    },
    {
     "name": "stderr",
     "output_type": "stream",
     "text": [
      "  8%|▊         | 274/3232 [00:09<01:26, 34.10it/s]"
     ]
    },
    {
     "name": "stdout",
     "output_type": "stream",
     "text": [
      "0000010D.json\n",
      "0000010E.json\n",
      "0000010F.json\n",
      "00000110.json\n",
      "00000111.json\n",
      "00000112.json\n",
      "00000113.json\n"
     ]
    },
    {
     "name": "stderr",
     "output_type": "stream",
     "text": [
      "  9%|▉         | 283/3232 [00:10<01:19, 37.11it/s]"
     ]
    },
    {
     "name": "stdout",
     "output_type": "stream",
     "text": [
      "00000114.json\n",
      "00000115.json\n",
      "00000116.json\n",
      "00000117.json\n",
      "00000118.json\n",
      "00000119.json\n",
      "0000011A.json\n",
      "0000011B.json\n",
      "0000011C.json\n"
     ]
    },
    {
     "name": "stderr",
     "output_type": "stream",
     "text": [
      "  9%|▉         | 292/3232 [00:10<01:19, 37.16it/s]"
     ]
    },
    {
     "name": "stdout",
     "output_type": "stream",
     "text": [
      "0000011D.json\n",
      "0000011E.json\n",
      "0000011F.json\n",
      "00000120.json\n",
      "00000121.json\n",
      "00000122.json\n",
      "00000123.json\n"
     ]
    },
    {
     "name": "stderr",
     "output_type": "stream",
     "text": [
      "  9%|▉         | 296/3232 [00:10<01:18, 37.20it/s]"
     ]
    },
    {
     "name": "stdout",
     "output_type": "stream",
     "text": [
      "00000124.json\n",
      "00000125.json\n",
      "00000126.json\n",
      "00000127.json\n",
      "00000128.json\n",
      "00000129.json\n",
      "0000012A.json\n",
      "0000012B.json\n",
      "0000012C.json\n"
     ]
    },
    {
     "name": "stderr",
     "output_type": "stream",
     "text": [
      " 10%|▉         | 310/3232 [00:10<01:11, 40.88it/s]"
     ]
    },
    {
     "name": "stdout",
     "output_type": "stream",
     "text": [
      "0000012D.json\n",
      "0000012E.json\n",
      "0000012F.json\n",
      "00000130.json\n",
      "00000131.json\n",
      "00000132.json\n",
      "00000133.json\n",
      "00000134.json\n",
      "00000135.json\n"
     ]
    },
    {
     "name": "stderr",
     "output_type": "stream",
     "text": [
      " 10%|▉         | 315/3232 [00:11<01:14, 39.03it/s]"
     ]
    },
    {
     "name": "stdout",
     "output_type": "stream",
     "text": [
      "00000136.json\n",
      "00000137.json\n",
      "00000138.json\n",
      "00000139.json\n",
      "0000013A.json\n",
      "0000013B.json\n",
      "0000013C.json\n",
      "0000013D.json\n"
     ]
    },
    {
     "name": "stderr",
     "output_type": "stream",
     "text": [
      " 10%|█         | 324/3232 [00:11<01:13, 39.52it/s]"
     ]
    },
    {
     "name": "stdout",
     "output_type": "stream",
     "text": [
      "0000013E.json\n",
      "0000013F.json\n",
      "00000140.json\n",
      "00000141.json\n",
      "00000142.json\n",
      "00000143.json\n",
      "00000144.json\n",
      "00000145.json\n"
     ]
    },
    {
     "name": "stderr",
     "output_type": "stream",
     "text": [
      " 10%|█         | 332/3232 [00:11<01:18, 36.95it/s]"
     ]
    },
    {
     "name": "stdout",
     "output_type": "stream",
     "text": [
      "00000146.json\n",
      "00000147.json\n",
      "00000148.json\n",
      "00000149.json\n",
      "0000014A.json\n",
      "0000014B.json\n"
     ]
    },
    {
     "name": "stderr",
     "output_type": "stream",
     "text": [
      " 10%|█         | 336/3232 [00:11<01:18, 37.02it/s]"
     ]
    },
    {
     "name": "stdout",
     "output_type": "stream",
     "text": [
      "0000014C.json\n",
      "0000014D.json\n",
      "0000014E.json\n",
      "0000014F.json\n",
      "00000150.json\n",
      "00000151.json\n",
      "00000152.json\n"
     ]
    },
    {
     "name": "stderr",
     "output_type": "stream",
     "text": [
      " 11%|█         | 344/3232 [00:11<01:28, 32.55it/s]"
     ]
    },
    {
     "name": "stdout",
     "output_type": "stream",
     "text": [
      "00000153.json\n",
      "00000154.json\n",
      "00000155.json\n",
      "00000156.json\n",
      "00000157.json\n",
      "00000158.json\n"
     ]
    },
    {
     "name": "stderr",
     "output_type": "stream",
     "text": [
      " 11%|█         | 348/3232 [00:12<01:36, 29.97it/s]"
     ]
    },
    {
     "name": "stdout",
     "output_type": "stream",
     "text": [
      "00000159.json\n",
      "0000015A.json\n",
      "0000015B.json\n",
      "0000015C.json\n",
      "0000015D.json\n",
      "0000015E.json\n",
      "0000015F.json\n"
     ]
    },
    {
     "name": "stderr",
     "output_type": "stream",
     "text": [
      " 11%|█         | 356/3232 [00:12<01:32, 31.13it/s]"
     ]
    },
    {
     "name": "stdout",
     "output_type": "stream",
     "text": [
      "00000160.json\n",
      "00000161.json\n",
      "00000162.json\n",
      "00000163.json\n",
      "00000164.json\n",
      "00000165.json\n",
      "00000166.json\n",
      "00000167.json\n"
     ]
    },
    {
     "name": "stderr",
     "output_type": "stream",
     "text": [
      " 11%|█▏        | 364/3232 [00:12<01:25, 33.71it/s]"
     ]
    },
    {
     "name": "stdout",
     "output_type": "stream",
     "text": [
      "00000168.json\n",
      "00000169.json\n",
      "0000016A.json\n",
      "0000016B.json\n",
      "0000016C.json\n",
      "0000016D.json\n",
      "0000016E.json\n",
      "0000016F.json\n"
     ]
    },
    {
     "name": "stderr",
     "output_type": "stream",
     "text": [
      " 12%|█▏        | 372/3232 [00:12<01:30, 31.51it/s]"
     ]
    },
    {
     "name": "stdout",
     "output_type": "stream",
     "text": [
      "00000170.json\n",
      "00000171.json\n",
      "00000172.json\n",
      "00000173.json\n",
      "00000174.json\n",
      "00000175.json\n"
     ]
    },
    {
     "name": "stderr",
     "output_type": "stream",
     "text": [
      " 12%|█▏        | 376/3232 [00:12<01:33, 30.63it/s]"
     ]
    },
    {
     "name": "stdout",
     "output_type": "stream",
     "text": [
      "00000176.json\n",
      "00000177.json\n",
      "00000178.json\n",
      "00000179.json\n",
      "0000017A.json\n",
      "0000017B.json\n",
      "0000017C.json\n"
     ]
    },
    {
     "name": "stderr",
     "output_type": "stream",
     "text": [
      " 12%|█▏        | 385/3232 [00:13<01:28, 32.07it/s]"
     ]
    },
    {
     "name": "stdout",
     "output_type": "stream",
     "text": [
      "0000017D.json\n",
      "0000017E.json\n",
      "0000017F.json\n",
      "00000180.json\n",
      "00000181.json\n",
      "00000182.json\n",
      "00000183.json\n"
     ]
    },
    {
     "name": "stderr",
     "output_type": "stream",
     "text": [
      " 12%|█▏        | 394/3232 [00:13<01:23, 34.06it/s]"
     ]
    },
    {
     "name": "stdout",
     "output_type": "stream",
     "text": [
      "00000184.json\n",
      "00000185.json\n",
      "00000186.json\n",
      "00000187.json\n",
      "00000188.json\n",
      "00000189.json\n",
      "0000018A.json\n",
      "0000018B.json\n"
     ]
    },
    {
     "name": "stderr",
     "output_type": "stream",
     "text": [
      " 12%|█▏        | 398/3232 [00:13<01:29, 31.83it/s]"
     ]
    },
    {
     "name": "stdout",
     "output_type": "stream",
     "text": [
      "0000018C.json\n",
      "0000018D.json\n",
      "0000018E.json\n",
      "0000018F.json\n",
      "00000190.json\n",
      "00000191.json\n"
     ]
    },
    {
     "name": "stderr",
     "output_type": "stream",
     "text": [
      " 13%|█▎        | 406/3232 [00:13<01:25, 32.91it/s]"
     ]
    },
    {
     "name": "stdout",
     "output_type": "stream",
     "text": [
      "00000192.json\n",
      "00000193.json\n",
      "00000194.json\n",
      "00000195.json\n",
      "00000196.json\n",
      "00000197.json\n",
      "00000198.json\n",
      "00000199.json\n"
     ]
    },
    {
     "name": "stderr",
     "output_type": "stream",
     "text": [
      " 13%|█▎        | 414/3232 [00:14<01:21, 34.47it/s]"
     ]
    },
    {
     "name": "stdout",
     "output_type": "stream",
     "text": [
      "0000019A.json\n",
      "0000019B.json\n",
      "0000019C.json\n",
      "0000019D.json\n",
      "0000019E.json\n",
      "0000019F.json\n",
      "000001A0.json\n"
     ]
    },
    {
     "name": "stderr",
     "output_type": "stream",
     "text": [
      " 13%|█▎        | 422/3232 [00:14<01:22, 34.06it/s]"
     ]
    },
    {
     "name": "stdout",
     "output_type": "stream",
     "text": [
      "000001A1.json\n",
      "000001A2.json\n",
      "000001A3.json\n",
      "000001A4.json\n",
      "000001A5.json\n",
      "000001A6.json\n",
      "000001A7.json\n",
      "000001A8.json\n",
      "000001A9.json\n"
     ]
    },
    {
     "name": "stderr",
     "output_type": "stream",
     "text": [
      " 13%|█▎        | 430/3232 [00:14<01:17, 36.11it/s]"
     ]
    },
    {
     "name": "stdout",
     "output_type": "stream",
     "text": [
      "000001AA.json\n",
      "000001AB.json\n",
      "000001AC.json\n",
      "000001AD.json\n",
      "000001AE.json\n",
      "000001AF.json\n",
      "000001B0.json\n",
      "000001B1.json\n",
      "000001B2.json\n"
     ]
    },
    {
     "name": "stderr",
     "output_type": "stream",
     "text": [
      " 14%|█▎        | 440/3232 [00:14<01:10, 39.69it/s]"
     ]
    },
    {
     "name": "stdout",
     "output_type": "stream",
     "text": [
      "000001B3.json\n",
      "000001B4.json\n",
      "000001B5.json\n",
      "000001B6.json\n",
      "000001B7.json\n",
      "000001B8.json\n",
      "000001B9.json\n",
      "000001BA.json\n",
      "000001BB.json\n",
      "000001BC.json\n"
     ]
    },
    {
     "name": "stderr",
     "output_type": "stream",
     "text": [
      " 14%|█▍        | 450/3232 [00:14<01:09, 39.84it/s]"
     ]
    },
    {
     "name": "stdout",
     "output_type": "stream",
     "text": [
      "000001BD.json\n",
      "000001BE.json\n",
      "000001BF.json\n",
      "000001C0.json\n",
      "000001C1.json\n",
      "000001C2.json\n",
      "000001C3.json\n",
      "000001C4.json\n"
     ]
    },
    {
     "name": "stderr",
     "output_type": "stream",
     "text": [
      " 14%|█▍        | 459/3232 [00:15<01:13, 37.83it/s]"
     ]
    },
    {
     "name": "stdout",
     "output_type": "stream",
     "text": [
      "000001C5.json\n",
      "000001C6.json\n",
      "000001C7.json\n",
      "000001C8.json\n",
      "000001C9.json\n",
      "000001CA.json\n",
      "000001CB.json\n",
      "000001CC.json\n"
     ]
    },
    {
     "name": "stderr",
     "output_type": "stream",
     "text": [
      " 14%|█▍        | 467/3232 [00:15<01:21, 34.03it/s]"
     ]
    },
    {
     "name": "stdout",
     "output_type": "stream",
     "text": [
      "000001CD.json\n",
      "000001CE.json\n",
      "000001CF.json\n",
      "000001D0.json\n",
      "000001D1.json\n",
      "000001D2.json\n",
      "000001D3.json\n"
     ]
    },
    {
     "name": "stderr",
     "output_type": "stream",
     "text": [
      " 15%|█▍        | 475/3232 [00:15<01:16, 36.19it/s]"
     ]
    },
    {
     "name": "stdout",
     "output_type": "stream",
     "text": [
      "000001D4.json\n",
      "000001D5.json\n",
      "000001D6.json\n",
      "000001D7.json\n",
      "000001D8.json\n",
      "000001D9.json\n",
      "000001DA.json\n",
      "000001DB.json\n",
      "000001DC.json\n"
     ]
    },
    {
     "name": "stderr",
     "output_type": "stream",
     "text": [
      " 15%|█▍        | 484/3232 [00:15<01:12, 37.65it/s]"
     ]
    },
    {
     "name": "stdout",
     "output_type": "stream",
     "text": [
      "000001DD.json\n",
      "000001DE.json\n",
      "000001DF.json\n",
      "000001E0.json\n",
      "000001E1.json\n",
      "000001E2.json\n",
      "000001E3.json\n"
     ]
    },
    {
     "name": "stderr",
     "output_type": "stream",
     "text": [
      " 15%|█▌        | 488/3232 [00:15<01:13, 37.55it/s]"
     ]
    },
    {
     "name": "stdout",
     "output_type": "stream",
     "text": [
      "000001E4.json\n",
      "000001E5.json\n",
      "000001E6.json\n",
      "000001E7.json\n",
      "000001E8.json\n",
      "000001E9.json\n",
      "000001EA.json\n",
      "000001EB.json\n"
     ]
    },
    {
     "name": "stderr",
     "output_type": "stream",
     "text": [
      " 15%|█▌        | 496/3232 [00:16<01:16, 35.98it/s]"
     ]
    },
    {
     "name": "stdout",
     "output_type": "stream",
     "text": [
      "000001EC.json\n",
      "000001ED.json\n",
      "000001EE.json\n",
      "000001EF.json\n",
      "000001F0.json\n",
      "000001F1.json\n",
      "000001F2.json\n",
      "000001F3.json\n"
     ]
    },
    {
     "name": "stderr",
     "output_type": "stream",
     "text": [
      " 16%|█▌        | 504/3232 [00:16<01:16, 35.80it/s]"
     ]
    },
    {
     "name": "stdout",
     "output_type": "stream",
     "text": [
      "000001F4.json\n",
      "000001F5.json\n",
      "000001F6.json\n",
      "000001F7.json\n",
      "000001F8.json\n",
      "000001F9.json\n",
      "000001FA.json\n",
      "000001FB.json\n",
      "000001FC.json\n"
     ]
    },
    {
     "name": "stderr",
     "output_type": "stream",
     "text": [
      " 16%|█▌        | 514/3232 [00:16<01:12, 37.45it/s]"
     ]
    },
    {
     "name": "stdout",
     "output_type": "stream",
     "text": [
      "000001FD.json\n",
      "000001FE.json\n",
      "000001FF.json\n",
      "00000200.json\n",
      "00000201.json\n",
      "00000202.json\n",
      "00000203.json\n",
      "00000204.json\n",
      "00000205.json\n"
     ]
    },
    {
     "name": "stderr",
     "output_type": "stream",
     "text": [
      " 16%|█▌        | 524/3232 [00:16<01:06, 40.56it/s]"
     ]
    },
    {
     "name": "stdout",
     "output_type": "stream",
     "text": [
      "00000206.json\n",
      "00000207.json\n",
      "00000208.json\n",
      "00000209.json\n",
      "0000020A.json\n",
      "0000020B.json\n",
      "0000020C.json\n",
      "0000020D.json\n",
      "0000020E.json\n",
      "0000020F.json\n"
     ]
    },
    {
     "name": "stderr",
     "output_type": "stream",
     "text": [
      " 17%|█▋        | 534/3232 [00:17<01:04, 41.94it/s]"
     ]
    },
    {
     "name": "stdout",
     "output_type": "stream",
     "text": [
      "00000210.json\n",
      "00000211.json\n",
      "00000212.json\n",
      "00000213.json\n",
      "00000214.json\n",
      "00000215.json\n",
      "00000216.json\n",
      "00000217.json\n",
      "00000218.json\n",
      "00000219.json\n"
     ]
    },
    {
     "name": "stderr",
     "output_type": "stream",
     "text": [
      " 17%|█▋        | 544/3232 [00:17<01:03, 42.09it/s]"
     ]
    },
    {
     "name": "stdout",
     "output_type": "stream",
     "text": [
      "0000021A.json\n",
      "0000021B.json\n",
      "0000021C.json\n",
      "0000021D.json\n",
      "0000021E.json\n",
      "0000021F.json\n",
      "00000220.json\n",
      "00000221.json\n",
      "00000222.json\n"
     ]
    },
    {
     "name": "stderr",
     "output_type": "stream",
     "text": [
      " 17%|█▋        | 554/3232 [00:17<01:08, 39.25it/s]"
     ]
    },
    {
     "name": "stdout",
     "output_type": "stream",
     "text": [
      "00000223.json\n",
      "00000224.json\n",
      "00000225.json\n",
      "00000226.json\n",
      "00000227.json\n",
      "00000228.json\n",
      "00000229.json\n"
     ]
    },
    {
     "name": "stderr",
     "output_type": "stream",
     "text": [
      " 17%|█▋        | 558/3232 [00:17<01:08, 39.15it/s]"
     ]
    },
    {
     "name": "stdout",
     "output_type": "stream",
     "text": [
      "0000022A.json\n",
      "0000022B.json\n",
      "0000022C.json\n",
      "0000022D.json\n",
      "0000022E.json\n",
      "0000022F.json\n",
      "00000230.json\n",
      "00000231.json\n"
     ]
    },
    {
     "name": "stderr",
     "output_type": "stream",
     "text": [
      " 18%|█▊        | 566/3232 [00:18<01:13, 36.36it/s]"
     ]
    },
    {
     "name": "stdout",
     "output_type": "stream",
     "text": [
      "00000232.json\n",
      "00000233.json\n",
      "00000234.json\n",
      "00000235.json\n",
      "00000236.json\n",
      "00000237.json\n",
      "00000238.json\n",
      "00000239.json\n"
     ]
    },
    {
     "name": "stderr",
     "output_type": "stream",
     "text": [
      " 18%|█▊        | 575/3232 [00:18<01:10, 37.65it/s]"
     ]
    },
    {
     "name": "stdout",
     "output_type": "stream",
     "text": [
      "0000023A.json\n",
      "0000023B.json\n",
      "0000023C.json\n",
      "0000023D.json\n",
      "0000023E.json\n",
      "0000023F.json\n",
      "00000240.json\n",
      "00000241.json\n"
     ]
    },
    {
     "name": "stderr",
     "output_type": "stream",
     "text": [
      " 18%|█▊        | 584/3232 [00:18<01:09, 37.95it/s]"
     ]
    },
    {
     "name": "stdout",
     "output_type": "stream",
     "text": [
      "00000242.json\n",
      "00000243.json\n",
      "00000244.json\n",
      "00000245.json\n",
      "00000246.json\n",
      "00000247.json\n",
      "00000248.json\n",
      "00000249.json\n",
      "0000024A.json\n"
     ]
    },
    {
     "name": "stderr",
     "output_type": "stream",
     "text": [
      " 18%|█▊        | 592/3232 [00:18<01:09, 37.82it/s]"
     ]
    },
    {
     "name": "stdout",
     "output_type": "stream",
     "text": [
      "0000024B.json\n",
      "0000024C.json\n",
      "0000024D.json\n",
      "0000024E.json\n",
      "0000024F.json\n",
      "00000250.json\n",
      "00000251.json\n",
      "00000252.json\n",
      "00000253.json\n"
     ]
    },
    {
     "name": "stderr",
     "output_type": "stream",
     "text": [
      " 19%|█▊        | 601/3232 [00:18<01:08, 38.35it/s]"
     ]
    },
    {
     "name": "stdout",
     "output_type": "stream",
     "text": [
      "00000254.json\n",
      "00000255.json\n",
      "00000256.json\n",
      "00000257.json\n",
      "00000258.json\n",
      "00000259.json\n",
      "0000025A.json\n",
      "0000025B.json\n"
     ]
    },
    {
     "name": "stderr",
     "output_type": "stream",
     "text": [
      " 19%|█▉        | 611/3232 [00:19<01:07, 39.08it/s]"
     ]
    },
    {
     "name": "stdout",
     "output_type": "stream",
     "text": [
      "0000025C.json\n",
      "0000025D.json\n",
      "0000025E.json\n",
      "0000025F.json\n",
      "00000260.json\n",
      "00000261.json\n",
      "00000262.json\n",
      "00000263.json\n",
      "00000264.json\n"
     ]
    },
    {
     "name": "stderr",
     "output_type": "stream",
     "text": [
      " 19%|█▉        | 620/3232 [00:19<01:06, 39.51it/s]"
     ]
    },
    {
     "name": "stdout",
     "output_type": "stream",
     "text": [
      "00000265.json\n",
      "00000266.json\n",
      "00000267.json\n",
      "00000268.json\n",
      "00000269.json\n",
      "0000026A.json\n",
      "0000026B.json\n",
      "0000026C.json\n"
     ]
    },
    {
     "name": "stderr",
     "output_type": "stream",
     "text": [
      " 19%|█▉        | 624/3232 [00:19<01:08, 37.84it/s]"
     ]
    },
    {
     "name": "stdout",
     "output_type": "stream",
     "text": [
      "0000026D.json\n",
      "0000026E.json\n",
      "0000026F.json\n",
      "00000270.json\n",
      "00000271.json\n",
      "00000272.json\n",
      "00000273.json\n"
     ]
    },
    {
     "name": "stderr",
     "output_type": "stream",
     "text": [
      " 20%|█▉        | 632/3232 [00:19<01:13, 35.40it/s]"
     ]
    },
    {
     "name": "stdout",
     "output_type": "stream",
     "text": [
      "00000274.json\n",
      "00000275.json\n",
      "00000276.json\n",
      "00000277.json\n",
      "00000278.json\n",
      "00000279.json\n",
      "0000027A.json\n",
      "0000027B.json\n"
     ]
    },
    {
     "name": "stderr",
     "output_type": "stream",
     "text": [
      " 20%|█▉        | 642/3232 [00:19<01:08, 37.98it/s]"
     ]
    },
    {
     "name": "stdout",
     "output_type": "stream",
     "text": [
      "0000027C.json\n",
      "0000027D.json\n",
      "0000027E.json\n",
      "0000027F.json\n",
      "00000280.json\n",
      "00000281.json\n",
      "00000282.json\n",
      "00000283.json\n"
     ]
    },
    {
     "name": "stderr",
     "output_type": "stream",
     "text": [
      " 20%|██        | 651/3232 [00:20<01:06, 38.71it/s]"
     ]
    },
    {
     "name": "stdout",
     "output_type": "stream",
     "text": [
      "00000284.json\n",
      "00000285.json\n",
      "00000286.json\n",
      "00000287.json\n",
      "00000288.json\n",
      "00000289.json\n",
      "0000028A.json\n",
      "0000028B.json\n",
      "0000028C.json\n"
     ]
    },
    {
     "name": "stderr",
     "output_type": "stream",
     "text": [
      " 20%|██        | 659/3232 [00:20<01:11, 35.78it/s]"
     ]
    },
    {
     "name": "stdout",
     "output_type": "stream",
     "text": [
      "0000028D.json\n",
      "0000028E.json\n",
      "0000028F.json\n",
      "00000290.json\n",
      "00000291.json\n",
      "00000292.json\n"
     ]
    },
    {
     "name": "stderr",
     "output_type": "stream",
     "text": [
      " 21%|██        | 663/3232 [00:20<01:12, 35.27it/s]"
     ]
    },
    {
     "name": "stdout",
     "output_type": "stream",
     "text": [
      "00000293.json\n",
      "00000294.json\n",
      "00000295.json\n",
      "00000296.json\n",
      "00000297.json\n",
      "00000298.json\n",
      "00000299.json\n",
      "0000029A.json\n"
     ]
    },
    {
     "name": "stderr",
     "output_type": "stream",
     "text": [
      " 21%|██        | 671/3232 [00:20<01:20, 31.92it/s]"
     ]
    },
    {
     "name": "stdout",
     "output_type": "stream",
     "text": [
      "0000029B.json\n",
      "0000029C.json\n",
      "0000029D.json\n",
      "0000029E.json\n",
      "0000029F.json\n",
      "000002A0.json\n",
      "000002A1.json\n"
     ]
    },
    {
     "name": "stderr",
     "output_type": "stream",
     "text": [
      " 21%|██        | 681/3232 [00:21<01:09, 36.89it/s]"
     ]
    },
    {
     "name": "stdout",
     "output_type": "stream",
     "text": [
      "000002A2.json\n",
      "000002A3.json\n",
      "000002A4.json\n",
      "000002A5.json\n",
      "000002A6.json\n",
      "000002A7.json\n",
      "000002A8.json\n",
      "000002A9.json\n",
      "000002AA.json\n"
     ]
    },
    {
     "name": "stderr",
     "output_type": "stream",
     "text": [
      " 21%|██▏       | 690/3232 [00:21<01:08, 37.23it/s]"
     ]
    },
    {
     "name": "stdout",
     "output_type": "stream",
     "text": [
      "000002AB.json\n",
      "000002AC.json\n",
      "000002AD.json\n",
      "000002AE.json\n",
      "000002AF.json\n",
      "000002B0.json\n",
      "000002B1.json\n"
     ]
    },
    {
     "name": "stderr",
     "output_type": "stream",
     "text": [
      " 21%|██▏       | 694/3232 [00:21<01:08, 37.22it/s]"
     ]
    },
    {
     "name": "stdout",
     "output_type": "stream",
     "text": [
      "000002B2.json\n",
      "000002B3.json\n",
      "000002B4.json\n",
      "000002B5.json\n",
      "000002B6.json\n",
      "000002B7.json\n",
      "000002B8.json\n",
      "000002B9.json\n"
     ]
    },
    {
     "name": "stderr",
     "output_type": "stream",
     "text": [
      " 22%|██▏       | 703/3232 [00:21<01:06, 38.20it/s]"
     ]
    },
    {
     "name": "stdout",
     "output_type": "stream",
     "text": [
      "000002BA.json\n",
      "000002BB.json\n",
      "000002BC.json\n",
      "000002BD.json\n",
      "000002BE.json\n",
      "000002BF.json\n",
      "000002C0.json\n",
      "000002C1.json\n",
      "000002C2.json\n"
     ]
    },
    {
     "name": "stderr",
     "output_type": "stream",
     "text": [
      " 22%|██▏       | 711/3232 [00:21<01:09, 36.16it/s]"
     ]
    },
    {
     "name": "stdout",
     "output_type": "stream",
     "text": [
      "000002C3.json\n",
      "000002C4.json\n",
      "000002C5.json\n",
      "000002C6.json\n",
      "000002C7.json\n",
      "000002C8.json\n",
      "000002C9.json\n",
      "000002CA.json\n"
     ]
    },
    {
     "name": "stderr",
     "output_type": "stream",
     "text": [
      " 22%|██▏       | 719/3232 [00:22<01:10, 35.84it/s]"
     ]
    },
    {
     "name": "stdout",
     "output_type": "stream",
     "text": [
      "000002CB.json\n",
      "000002CC.json\n",
      "000002CD.json\n",
      "000002CE.json\n",
      "000002CF.json\n",
      "000002D0.json\n",
      "000002D1.json\n",
      "000002D2.json\n"
     ]
    },
    {
     "name": "stderr",
     "output_type": "stream",
     "text": [
      " 23%|██▎       | 731/3232 [00:22<01:08, 36.58it/s]"
     ]
    },
    {
     "name": "stdout",
     "output_type": "stream",
     "text": [
      "000002D3.json\n",
      "000002D4.json\n",
      "000002D5.json\n",
      "000002D6.json\n",
      "000002D7.json\n",
      "000002D8.json\n",
      "000002D9.json\n",
      "000002DA.json\n"
     ]
    },
    {
     "name": "stderr",
     "output_type": "stream",
     "text": [
      " 23%|██▎       | 736/3232 [00:22<01:06, 37.77it/s]"
     ]
    },
    {
     "name": "stdout",
     "output_type": "stream",
     "text": [
      "000002DB.json\n",
      "000002DC.json\n",
      "000002DD.json\n",
      "000002DE.json\n",
      "000002DF.json\n",
      "000002E0.json\n",
      "000002E1.json\n",
      "000002E2.json\n",
      "000002E3.json\n"
     ]
    },
    {
     "name": "stderr",
     "output_type": "stream",
     "text": [
      " 23%|██▎       | 746/3232 [00:22<01:04, 38.62it/s]"
     ]
    },
    {
     "name": "stdout",
     "output_type": "stream",
     "text": [
      "000002E4.json\n",
      "000002E5.json\n",
      "000002E6.json\n",
      "000002E7.json\n",
      "000002E8.json\n",
      "000002E9.json\n",
      "000002EA.json\n",
      "000002EB.json\n"
     ]
    },
    {
     "name": "stderr",
     "output_type": "stream",
     "text": [
      " 23%|██▎       | 751/3232 [00:22<01:03, 39.17it/s]"
     ]
    },
    {
     "name": "stdout",
     "output_type": "stream",
     "text": [
      "000002EC.json\n",
      "000002ED.json\n",
      "000002EE.json\n",
      "000002EF.json\n",
      "000002F0.json\n",
      "000002F1.json\n",
      "000002F2.json\n"
     ]
    },
    {
     "name": "stderr",
     "output_type": "stream",
     "text": [
      " 23%|██▎       | 759/3232 [00:23<01:08, 36.28it/s]"
     ]
    },
    {
     "name": "stdout",
     "output_type": "stream",
     "text": [
      "000002F3.json\n",
      "000002F4.json\n",
      "000002F5.json\n",
      "000002F6.json\n",
      "000002F7.json\n",
      "000002F8.json\n",
      "000002F9.json\n"
     ]
    },
    {
     "name": "stderr",
     "output_type": "stream",
     "text": [
      " 24%|██▎       | 767/3232 [00:23<01:09, 35.35it/s]"
     ]
    },
    {
     "name": "stdout",
     "output_type": "stream",
     "text": [
      "000002FA.json\n",
      "000002FB.json\n",
      "000002FC.json\n",
      "000002FD.json\n",
      "000002FE.json\n",
      "000002FF.json\n",
      "00000300.json\n",
      "00000301.json\n"
     ]
    },
    {
     "name": "stderr",
     "output_type": "stream",
     "text": [
      " 24%|██▍       | 775/3232 [00:23<01:05, 37.27it/s]"
     ]
    },
    {
     "name": "stdout",
     "output_type": "stream",
     "text": [
      "00000302.json\n",
      "00000303.json\n",
      "00000304.json\n",
      "00000305.json\n",
      "00000306.json\n",
      "00000307.json\n",
      "00000308.json\n",
      "00000309.json\n",
      "0000030A.json\n"
     ]
    },
    {
     "name": "stderr",
     "output_type": "stream",
     "text": [
      " 24%|██▍       | 784/3232 [00:23<01:01, 39.58it/s]"
     ]
    },
    {
     "name": "stdout",
     "output_type": "stream",
     "text": [
      "0000030B.json\n",
      "0000030C.json\n",
      "0000030D.json\n",
      "0000030E.json\n",
      "0000030F.json\n",
      "00000310.json\n",
      "00000311.json\n",
      "00000312.json\n",
      "00000313.json\n"
     ]
    },
    {
     "name": "stderr",
     "output_type": "stream",
     "text": [
      " 25%|██▍       | 794/3232 [00:24<01:03, 38.51it/s]"
     ]
    },
    {
     "name": "stdout",
     "output_type": "stream",
     "text": [
      "00000314.json\n",
      "00000315.json\n",
      "00000316.json\n",
      "00000317.json\n",
      "00000318.json\n",
      "00000319.json\n",
      "0000031A.json\n",
      "0000031B.json\n"
     ]
    },
    {
     "name": "stderr",
     "output_type": "stream",
     "text": [
      " 25%|██▍       | 804/3232 [00:24<00:59, 40.99it/s]"
     ]
    },
    {
     "name": "stdout",
     "output_type": "stream",
     "text": [
      "0000031C.json\n",
      "0000031D.json\n",
      "0000031E.json\n",
      "0000031F.json\n",
      "00000320.json\n",
      "00000321.json\n",
      "00000322.json\n",
      "00000323.json\n"
     ]
    },
    {
     "name": "stderr",
     "output_type": "stream",
     "text": [
      " 25%|██▌       | 809/3232 [00:24<00:58, 41.36it/s]"
     ]
    },
    {
     "name": "stdout",
     "output_type": "stream",
     "text": [
      "00000324.json\n",
      "00000325.json\n",
      "00000326.json\n",
      "00000327.json\n",
      "00000328.json\n",
      "00000329.json\n",
      "0000032A.json\n",
      "0000032B.json\n",
      "0000032C.json\n"
     ]
    },
    {
     "name": "stderr",
     "output_type": "stream",
     "text": [
      " 25%|██▌       | 819/3232 [00:24<00:59, 40.74it/s]"
     ]
    },
    {
     "name": "stdout",
     "output_type": "stream",
     "text": [
      "0000032D.json\n",
      "0000032E.json\n",
      "0000032F.json\n",
      "00000330.json\n",
      "00000331.json\n",
      "00000332.json\n",
      "00000333.json\n",
      "00000334.json\n"
     ]
    },
    {
     "name": "stderr",
     "output_type": "stream",
     "text": [
      " 26%|██▌       | 829/3232 [00:24<00:59, 40.60it/s]"
     ]
    },
    {
     "name": "stdout",
     "output_type": "stream",
     "text": [
      "00000335.json\n",
      "00000336.json\n",
      "00000337.json\n",
      "00000338.json\n",
      "00000339.json\n",
      "0000033A.json\n",
      "0000033B.json\n",
      "0000033C.json\n"
     ]
    },
    {
     "name": "stderr",
     "output_type": "stream",
     "text": [
      " 26%|██▌       | 834/3232 [00:25<00:59, 40.20it/s]"
     ]
    },
    {
     "name": "stdout",
     "output_type": "stream",
     "text": [
      "0000033D.json\n",
      "0000033E.json\n",
      "0000033F.json\n",
      "00000340.json\n",
      "00000341.json\n",
      "00000342.json\n",
      "00000343.json\n",
      "00000344.json\n"
     ]
    },
    {
     "name": "stderr",
     "output_type": "stream",
     "text": [
      " 26%|██▌       | 844/3232 [00:25<00:58, 40.95it/s]"
     ]
    },
    {
     "name": "stdout",
     "output_type": "stream",
     "text": [
      "00000345.json\n",
      "00000346.json\n",
      "00000347.json\n",
      "00000348.json\n",
      "00000349.json\n",
      "0000034A.json\n",
      "0000034B.json\n",
      "0000034C.json\n",
      "0000034D.json\n"
     ]
    },
    {
     "name": "stderr",
     "output_type": "stream",
     "text": [
      " 26%|██▋       | 854/3232 [00:25<01:00, 39.36it/s]"
     ]
    },
    {
     "name": "stdout",
     "output_type": "stream",
     "text": [
      "0000034E.json\n",
      "0000034F.json\n",
      "00000350.json\n",
      "00000351.json\n",
      "00000352.json\n",
      "00000353.json\n",
      "00000354.json\n",
      "00000355.json\n"
     ]
    },
    {
     "name": "stderr",
     "output_type": "stream",
     "text": [
      " 27%|██▋       | 858/3232 [00:25<01:06, 35.61it/s]"
     ]
    },
    {
     "name": "stdout",
     "output_type": "stream",
     "text": [
      "00000356.json\n",
      "00000357.json\n",
      "00000358.json\n",
      "00000359.json\n",
      "0000035A.json\n",
      "0000035B.json\n",
      "0000035C.json\n"
     ]
    },
    {
     "name": "stderr",
     "output_type": "stream",
     "text": [
      " 27%|██▋       | 867/3232 [00:25<01:05, 36.19it/s]"
     ]
    },
    {
     "name": "stdout",
     "output_type": "stream",
     "text": [
      "0000035D.json\n",
      "0000035E.json\n",
      "0000035F.json\n",
      "00000360.json\n",
      "00000361.json\n",
      "00000362.json\n",
      "00000363.json\n",
      "00000364.json\n"
     ]
    },
    {
     "name": "stderr",
     "output_type": "stream",
     "text": [
      " 27%|██▋       | 875/3232 [00:26<01:05, 35.84it/s]"
     ]
    },
    {
     "name": "stdout",
     "output_type": "stream",
     "text": [
      "00000365.json\n",
      "00000366.json\n",
      "00000367.json\n",
      "00000368.json\n",
      "00000369.json\n",
      "0000036A.json\n",
      "0000036B.json\n",
      "0000036C.json\n"
     ]
    },
    {
     "name": "stderr",
     "output_type": "stream",
     "text": [
      " 27%|██▋       | 884/3232 [00:26<01:02, 37.83it/s]"
     ]
    },
    {
     "name": "stdout",
     "output_type": "stream",
     "text": [
      "0000036D.json\n",
      "0000036E.json\n",
      "0000036F.json\n",
      "00000370.json\n",
      "00000371.json\n",
      "00000372.json\n",
      "00000373.json\n",
      "00000374.json\n",
      "00000375.json\n"
     ]
    },
    {
     "name": "stderr",
     "output_type": "stream",
     "text": [
      " 28%|██▊       | 892/3232 [00:26<01:04, 36.24it/s]"
     ]
    },
    {
     "name": "stdout",
     "output_type": "stream",
     "text": [
      "00000376.json\n",
      "00000377.json\n",
      "00000378.json\n",
      "00000379.json\n",
      "0000037A.json\n",
      "0000037B.json\n"
     ]
    },
    {
     "name": "stderr",
     "output_type": "stream",
     "text": [
      " 28%|██▊       | 897/3232 [00:26<01:02, 37.54it/s]"
     ]
    },
    {
     "name": "stdout",
     "output_type": "stream",
     "text": [
      "0000037C.json\n",
      "0000037D.json\n",
      "0000037E.json\n",
      "0000037F.json\n",
      "00000380.json\n",
      "00000381.json\n",
      "00000382.json\n",
      "00000383.json\n",
      "00000384.json\n"
     ]
    },
    {
     "name": "stderr",
     "output_type": "stream",
     "text": [
      " 28%|██▊       | 906/3232 [00:27<01:01, 37.94it/s]"
     ]
    },
    {
     "name": "stdout",
     "output_type": "stream",
     "text": [
      "00000385.json\n",
      "00000386.json\n",
      "00000387.json\n",
      "00000388.json\n",
      "00000389.json\n",
      "0000038A.json\n",
      "0000038B.json\n",
      "0000038C.json\n",
      "0000038D.json\n"
     ]
    },
    {
     "name": "stderr",
     "output_type": "stream",
     "text": [
      " 28%|██▊       | 915/3232 [00:27<01:01, 37.94it/s]"
     ]
    },
    {
     "name": "stdout",
     "output_type": "stream",
     "text": [
      "0000038E.json\n",
      "0000038F.json\n",
      "00000390.json\n",
      "00000391.json\n",
      "00000392.json\n",
      "00000393.json\n",
      "00000394.json\n",
      "00000395.json\n"
     ]
    },
    {
     "name": "stderr",
     "output_type": "stream",
     "text": [
      " 29%|██▊       | 924/3232 [00:27<00:59, 38.84it/s]"
     ]
    },
    {
     "name": "stdout",
     "output_type": "stream",
     "text": [
      "00000396.json\n",
      "00000397.json\n",
      "00000398.json\n",
      "00000399.json\n",
      "0000039A.json\n",
      "0000039B.json\n",
      "0000039C.json\n",
      "0000039D.json\n"
     ]
    },
    {
     "name": "stderr",
     "output_type": "stream",
     "text": [
      " 29%|██▉       | 932/3232 [00:27<01:02, 36.72it/s]"
     ]
    },
    {
     "name": "stdout",
     "output_type": "stream",
     "text": [
      "0000039E.json\n",
      "0000039F.json\n",
      "000003A0.json\n",
      "000003A1.json\n",
      "000003A2.json\n",
      "000003A3.json\n"
     ]
    },
    {
     "name": "stderr",
     "output_type": "stream",
     "text": [
      " 29%|██▉       | 936/3232 [00:27<01:02, 36.81it/s]"
     ]
    },
    {
     "name": "stdout",
     "output_type": "stream",
     "text": [
      "000003A4.json\n",
      "000003A5.json\n",
      "000003A6.json\n",
      "000003A7.json\n",
      "000003A8.json\n",
      "000003A9.json\n",
      "000003AA.json\n",
      "000003AB.json\n",
      "000003AC.json\n"
     ]
    },
    {
     "name": "stderr",
     "output_type": "stream",
     "text": [
      " 29%|██▉       | 945/3232 [00:28<01:01, 37.30it/s]"
     ]
    },
    {
     "name": "stdout",
     "output_type": "stream",
     "text": [
      "000003AD.json\n",
      "000003AE.json\n",
      "000003AF.json\n",
      "000003B0.json\n",
      "000003B1.json\n",
      "000003B2.json\n",
      "000003B3.json\n",
      "000003B4.json\n"
     ]
    },
    {
     "name": "stderr",
     "output_type": "stream",
     "text": [
      " 30%|██▉       | 955/3232 [00:28<00:58, 38.78it/s]"
     ]
    },
    {
     "name": "stdout",
     "output_type": "stream",
     "text": [
      "000003B5.json\n",
      "000003B6.json\n",
      "000003B7.json\n",
      "000003B8.json\n",
      "000003B9.json\n",
      "000003BA.json\n",
      "000003BB.json\n",
      "000003BC.json\n",
      "000003BD.json\n"
     ]
    },
    {
     "name": "stderr",
     "output_type": "stream",
     "text": [
      " 30%|██▉       | 964/3232 [00:28<01:01, 37.13it/s]"
     ]
    },
    {
     "name": "stdout",
     "output_type": "stream",
     "text": [
      "000003BE.json\n",
      "000003BF.json\n",
      "000003C0.json\n",
      "000003C1.json\n",
      "000003C2.json\n",
      "000003C3.json\n",
      "000003C4.json\n",
      "000003C5.json\n"
     ]
    },
    {
     "name": "stderr",
     "output_type": "stream",
     "text": [
      " 30%|███       | 973/3232 [00:28<00:58, 38.34it/s]"
     ]
    },
    {
     "name": "stdout",
     "output_type": "stream",
     "text": [
      "000003C6.json\n",
      "000003C7.json\n",
      "000003C8.json\n",
      "000003C9.json\n",
      "000003CA.json\n",
      "000003CB.json\n",
      "000003CC.json\n",
      "000003CD.json\n",
      "000003CE.json\n"
     ]
    },
    {
     "name": "stderr",
     "output_type": "stream",
     "text": [
      " 30%|███       | 982/3232 [00:28<00:58, 38.62it/s]"
     ]
    },
    {
     "name": "stdout",
     "output_type": "stream",
     "text": [
      "000003CF.json\n",
      "000003D0.json\n",
      "000003D1.json\n",
      "000003D2.json\n",
      "000003D3.json\n",
      "000003D4.json\n",
      "000003D5.json\n"
     ]
    },
    {
     "name": "stderr",
     "output_type": "stream",
     "text": [
      " 31%|███       | 990/3232 [00:29<00:57, 38.73it/s]"
     ]
    },
    {
     "name": "stdout",
     "output_type": "stream",
     "text": [
      "000003D6.json\n",
      "000003D7.json\n",
      "000003D8.json\n",
      "000003D9.json\n",
      "000003DA.json\n",
      "000003DB.json\n",
      "000003DC.json\n",
      "000003DD.json\n"
     ]
    },
    {
     "name": "stderr",
     "output_type": "stream",
     "text": [
      " 31%|███       | 995/3232 [00:29<00:56, 39.25it/s]"
     ]
    },
    {
     "name": "stdout",
     "output_type": "stream",
     "text": [
      "000003DE.json\n",
      "000003DF.json\n",
      "000003E0.json\n",
      "000003E1.json\n",
      "000003E2.json\n",
      "000003E3.json\n",
      "000003E4.json\n",
      "000003E5.json\n"
     ]
    },
    {
     "name": "stderr",
     "output_type": "stream",
     "text": [
      " 31%|███       | 1004/3232 [00:29<00:57, 38.67it/s]"
     ]
    },
    {
     "name": "stdout",
     "output_type": "stream",
     "text": [
      "000003E6.json\n",
      "000003E7.json\n",
      "000003E8.json\n",
      "000003E9.json\n",
      "000003EA.json\n",
      "000003EB.json\n",
      "000003EC.json\n",
      "000003ED.json\n",
      "000003EE.json\n"
     ]
    },
    {
     "name": "stderr",
     "output_type": "stream",
     "text": [
      " 31%|███▏      | 1013/3232 [00:29<00:59, 37.44it/s]"
     ]
    },
    {
     "name": "stdout",
     "output_type": "stream",
     "text": [
      "000003EF.json\n",
      "000003F0.json\n",
      "000003F1.json\n",
      "000003F2.json\n",
      "000003F3.json\n",
      "000003F4.json\n",
      "000003F5.json\n",
      "000003F6.json\n"
     ]
    },
    {
     "name": "stderr",
     "output_type": "stream",
     "text": [
      " 32%|███▏      | 1022/3232 [00:30<00:59, 37.17it/s]"
     ]
    },
    {
     "name": "stdout",
     "output_type": "stream",
     "text": [
      "000003F7.json\n",
      "000003F8.json\n",
      "000003F9.json\n",
      "000003FA.json\n",
      "000003FB.json\n",
      "000003FC.json\n",
      "000003FD.json\n"
     ]
    },
    {
     "name": "stderr",
     "output_type": "stream",
     "text": [
      " 32%|███▏      | 1026/3232 [00:30<00:59, 37.24it/s]"
     ]
    },
    {
     "name": "stdout",
     "output_type": "stream",
     "text": [
      "000003FE.json\n",
      "000003FF.json\n",
      "00000400.json\n",
      "00000401.json\n",
      "00000402.json\n",
      "00000403.json\n",
      "00000404.json\n",
      "00000405.json\n",
      "00000406.json\n"
     ]
    },
    {
     "name": "stderr",
     "output_type": "stream",
     "text": [
      " 32%|███▏      | 1035/3232 [00:30<00:59, 36.98it/s]"
     ]
    },
    {
     "name": "stdout",
     "output_type": "stream",
     "text": [
      "00000407.json\n",
      "00000408.json\n",
      "00000409.json\n",
      "0000040A.json\n",
      "0000040B.json\n",
      "0000040C.json\n",
      "0000040D.json\n",
      "0000040E.json\n"
     ]
    },
    {
     "name": "stderr",
     "output_type": "stream",
     "text": [
      " 32%|███▏      | 1044/3232 [00:30<00:56, 38.88it/s]"
     ]
    },
    {
     "name": "stdout",
     "output_type": "stream",
     "text": [
      "0000040F.json\n",
      "00000410.json\n",
      "00000411.json\n",
      "00000412.json\n",
      "00000413.json\n",
      "00000414.json\n",
      "00000415.json\n",
      "00000416.json\n",
      "00000417.json\n"
     ]
    },
    {
     "name": "stderr",
     "output_type": "stream",
     "text": [
      " 33%|███▎      | 1054/3232 [00:30<00:55, 39.48it/s]"
     ]
    },
    {
     "name": "stdout",
     "output_type": "stream",
     "text": [
      "00000418.json\n",
      "00000419.json\n",
      "0000041A.json\n",
      "0000041B.json\n",
      "0000041C.json\n",
      "0000041D.json\n",
      "0000041E.json\n",
      "0000041F.json\n",
      "00000420.json\n"
     ]
    },
    {
     "name": "stderr",
     "output_type": "stream",
     "text": [
      " 33%|███▎      | 1063/3232 [00:31<00:55, 39.30it/s]"
     ]
    },
    {
     "name": "stdout",
     "output_type": "stream",
     "text": [
      "00000421.json\n",
      "00000422.json\n",
      "00000423.json\n",
      "00000424.json\n",
      "00000425.json\n",
      "00000426.json\n",
      "00000427.json\n",
      "00000428.json\n"
     ]
    },
    {
     "name": "stderr",
     "output_type": "stream",
     "text": [
      " 33%|███▎      | 1071/3232 [00:31<00:59, 36.32it/s]"
     ]
    },
    {
     "name": "stdout",
     "output_type": "stream",
     "text": [
      "00000429.json\n",
      "0000042A.json\n",
      "0000042B.json\n",
      "0000042C.json\n",
      "0000042D.json\n",
      "0000042E.json\n",
      "0000042F.json\n",
      "00000430.json\n"
     ]
    },
    {
     "name": "stderr",
     "output_type": "stream",
     "text": [
      " 33%|███▎      | 1080/3232 [00:31<00:56, 38.41it/s]"
     ]
    },
    {
     "name": "stdout",
     "output_type": "stream",
     "text": [
      "00000431.json\n",
      "00000432.json\n",
      "00000433.json\n",
      "00000434.json\n",
      "00000435.json\n",
      "00000436.json\n",
      "00000437.json\n",
      "00000438.json\n",
      "00000439.json\n"
     ]
    },
    {
     "name": "stderr",
     "output_type": "stream",
     "text": [
      " 34%|███▎      | 1090/3232 [00:31<00:52, 40.90it/s]"
     ]
    },
    {
     "name": "stdout",
     "output_type": "stream",
     "text": [
      "0000043A.json\n",
      "0000043B.json\n",
      "0000043C.json\n",
      "0000043D.json\n",
      "0000043E.json\n",
      "0000043F.json\n",
      "00000440.json\n",
      "00000441.json\n"
     ]
    },
    {
     "name": "stderr",
     "output_type": "stream",
     "text": [
      " 34%|███▍      | 1095/3232 [00:31<00:54, 39.01it/s]"
     ]
    },
    {
     "name": "stdout",
     "output_type": "stream",
     "text": [
      "00000442.json\n",
      "00000443.json\n",
      "00000444.json\n",
      "00000445.json\n",
      "00000446.json\n",
      "00000447.json\n",
      "00000448.json\n",
      "00000449.json\n"
     ]
    },
    {
     "name": "stderr",
     "output_type": "stream",
     "text": [
      " 34%|███▍      | 1104/3232 [00:32<00:53, 39.79it/s]"
     ]
    },
    {
     "name": "stdout",
     "output_type": "stream",
     "text": [
      "0000044A.json\n",
      "0000044B.json\n",
      "0000044C.json\n",
      "0000044D.json\n",
      "0000044E.json\n",
      "0000044F.json\n",
      "00000450.json\n",
      "00000451.json\n"
     ]
    },
    {
     "name": "stderr",
     "output_type": "stream",
     "text": [
      " 34%|███▍      | 1113/3232 [00:32<00:54, 38.94it/s]"
     ]
    },
    {
     "name": "stdout",
     "output_type": "stream",
     "text": [
      "00000452.json\n",
      "00000453.json\n",
      "00000454.json\n",
      "00000455.json\n",
      "00000456.json\n",
      "00000457.json\n",
      "00000458.json\n",
      "00000459.json\n",
      "0000045A.json\n"
     ]
    },
    {
     "name": "stderr",
     "output_type": "stream",
     "text": [
      " 35%|███▍      | 1123/3232 [00:32<00:51, 40.60it/s]"
     ]
    },
    {
     "name": "stdout",
     "output_type": "stream",
     "text": [
      "0000045B.json\n",
      "0000045C.json\n",
      "0000045D.json\n",
      "0000045E.json\n",
      "0000045F.json\n",
      "00000460.json\n",
      "00000461.json\n",
      "00000462.json\n"
     ]
    },
    {
     "name": "stderr",
     "output_type": "stream",
     "text": [
      " 35%|███▍      | 1128/3232 [00:32<00:51, 40.96it/s]"
     ]
    },
    {
     "name": "stdout",
     "output_type": "stream",
     "text": [
      "00000463.json\n",
      "00000464.json\n",
      "00000465.json\n",
      "00000466.json\n",
      "00000467.json\n",
      "00000468.json\n",
      "00000469.json\n",
      "0000046A.json\n",
      "0000046B.json\n"
     ]
    },
    {
     "name": "stderr",
     "output_type": "stream",
     "text": [
      " 35%|███▌      | 1138/3232 [00:33<00:48, 43.04it/s]"
     ]
    },
    {
     "name": "stdout",
     "output_type": "stream",
     "text": [
      "0000046C.json\n",
      "0000046D.json\n",
      "0000046E.json\n",
      "0000046F.json\n",
      "00000470.json\n",
      "00000471.json\n",
      "00000472.json\n",
      "00000473.json\n",
      "00000474.json\n"
     ]
    },
    {
     "name": "stderr",
     "output_type": "stream",
     "text": [
      " 36%|███▌      | 1148/3232 [00:33<00:53, 38.97it/s]"
     ]
    },
    {
     "name": "stdout",
     "output_type": "stream",
     "text": [
      "00000475.json\n",
      "00000476.json\n",
      "00000477.json\n",
      "00000478.json\n",
      "00000479.json\n",
      "0000047A.json\n",
      "0000047B.json\n"
     ]
    },
    {
     "name": "stderr",
     "output_type": "stream",
     "text": [
      " 36%|███▌      | 1152/3232 [00:33<00:53, 38.54it/s]"
     ]
    },
    {
     "name": "stdout",
     "output_type": "stream",
     "text": [
      "0000047C.json\n",
      "0000047D.json\n",
      "0000047E.json\n",
      "0000047F.json\n",
      "00000480.json\n",
      "00000481.json\n",
      "00000482.json\n",
      "00000483.json\n"
     ]
    },
    {
     "name": "stderr",
     "output_type": "stream",
     "text": [
      " 36%|███▌      | 1161/3232 [00:33<00:55, 37.16it/s]"
     ]
    },
    {
     "name": "stdout",
     "output_type": "stream",
     "text": [
      "00000484.json\n",
      "00000485.json\n",
      "00000486.json\n",
      "00000487.json\n",
      "00000488.json\n",
      "00000489.json\n",
      "0000048A.json\n",
      "0000048B.json\n"
     ]
    },
    {
     "name": "stderr",
     "output_type": "stream",
     "text": [
      " 36%|███▌      | 1169/3232 [00:33<00:56, 36.46it/s]"
     ]
    },
    {
     "name": "stdout",
     "output_type": "stream",
     "text": [
      "0000048C.json\n",
      "0000048D.json\n",
      "0000048E.json\n",
      "0000048F.json\n",
      "00000490.json\n",
      "00000491.json\n",
      "00000492.json\n",
      "00000493.json\n"
     ]
    },
    {
     "name": "stderr",
     "output_type": "stream",
     "text": [
      " 36%|███▋      | 1177/3232 [00:34<00:59, 34.68it/s]"
     ]
    },
    {
     "name": "stdout",
     "output_type": "stream",
     "text": [
      "00000494.json\n",
      "00000495.json\n",
      "00000496.json\n",
      "00000497.json\n",
      "00000498.json\n",
      "00000499.json\n",
      "0000049A.json\n"
     ]
    },
    {
     "name": "stderr",
     "output_type": "stream",
     "text": [
      " 37%|███▋      | 1186/3232 [00:34<00:54, 37.50it/s]"
     ]
    },
    {
     "name": "stdout",
     "output_type": "stream",
     "text": [
      "0000049B.json\n",
      "0000049C.json\n",
      "0000049D.json\n",
      "0000049E.json\n",
      "0000049F.json\n",
      "000004A0.json\n",
      "000004A1.json\n",
      "000004A2.json\n",
      "000004A3.json\n"
     ]
    },
    {
     "name": "stderr",
     "output_type": "stream",
     "text": [
      " 37%|███▋      | 1195/3232 [00:34<00:53, 38.19it/s]"
     ]
    },
    {
     "name": "stdout",
     "output_type": "stream",
     "text": [
      "000004A4.json\n",
      "000004A5.json\n",
      "000004A6.json\n",
      "000004A7.json\n",
      "000004A8.json\n",
      "000004A9.json\n",
      "000004AA.json\n",
      "000004AB.json\n",
      "000004AC.json\n"
     ]
    },
    {
     "name": "stderr",
     "output_type": "stream",
     "text": [
      " 37%|███▋      | 1203/3232 [00:34<00:53, 38.14it/s]"
     ]
    },
    {
     "name": "stdout",
     "output_type": "stream",
     "text": [
      "000004AD.json\n",
      "000004AE.json\n",
      "000004AF.json\n",
      "000004B0.json\n",
      "000004B1.json\n",
      "000004B2.json\n",
      "000004B3.json\n",
      "000004B4.json\n"
     ]
    },
    {
     "name": "stderr",
     "output_type": "stream",
     "text": [
      " 38%|███▊      | 1212/3232 [00:35<00:52, 38.46it/s]"
     ]
    },
    {
     "name": "stdout",
     "output_type": "stream",
     "text": [
      "000004B5.json\n",
      "000004B6.json\n",
      "000004B7.json\n",
      "000004B8.json\n",
      "000004B9.json\n",
      "000004BA.json\n",
      "000004BB.json\n"
     ]
    },
    {
     "name": "stderr",
     "output_type": "stream",
     "text": [
      " 38%|███▊      | 1216/3232 [00:35<00:53, 37.98it/s]"
     ]
    },
    {
     "name": "stdout",
     "output_type": "stream",
     "text": [
      "000004BC.json\n",
      "000004BD.json\n",
      "000004BE.json\n",
      "000004BF.json\n",
      "000004C0.json\n",
      "000004C1.json\n",
      "000004C2.json\n",
      "000004C3.json\n"
     ]
    },
    {
     "name": "stderr",
     "output_type": "stream",
     "text": [
      " 38%|███▊      | 1224/3232 [00:35<00:52, 38.16it/s]"
     ]
    },
    {
     "name": "stdout",
     "output_type": "stream",
     "text": [
      "000004C4.json\n",
      "000004C5.json\n",
      "000004C6.json\n",
      "000004C7.json\n",
      "000004C8.json\n",
      "000004C9.json\n",
      "000004CA.json\n",
      "000004CB.json\n",
      "000004CC.json\n"
     ]
    },
    {
     "name": "stderr",
     "output_type": "stream",
     "text": [
      " 38%|███▊      | 1234/3232 [00:35<00:47, 41.90it/s]"
     ]
    },
    {
     "name": "stdout",
     "output_type": "stream",
     "text": [
      "000004CD.json\n",
      "000004CE.json\n",
      "000004CF.json\n",
      "000004D0.json\n",
      "000004D1.json\n",
      "000004D2.json\n",
      "000004D3.json\n",
      "000004D4.json\n",
      "000004D5.json\n",
      "000004D6.json\n"
     ]
    },
    {
     "name": "stderr",
     "output_type": "stream",
     "text": [
      " 38%|███▊      | 1244/3232 [00:35<00:50, 39.19it/s]"
     ]
    },
    {
     "name": "stdout",
     "output_type": "stream",
     "text": [
      "000004D7.json\n",
      "000004D8.json\n",
      "000004D9.json\n",
      "000004DA.json\n",
      "000004DB.json\n",
      "000004DC.json\n",
      "000004DD.json\n",
      "000004DE.json\n"
     ]
    },
    {
     "name": "stderr",
     "output_type": "stream",
     "text": [
      " 39%|███▉      | 1254/3232 [00:36<00:51, 38.72it/s]"
     ]
    },
    {
     "name": "stdout",
     "output_type": "stream",
     "text": [
      "000004DF.json\n",
      "000004E0.json\n",
      "000004E1.json\n",
      "000004E2.json\n",
      "000004E3.json\n",
      "000004E4.json\n",
      "000004E5.json\n",
      "000004E6.json\n",
      "000004E7.json\n"
     ]
    },
    {
     "name": "stderr",
     "output_type": "stream",
     "text": [
      " 39%|███▉      | 1264/3232 [00:36<00:48, 40.26it/s]"
     ]
    },
    {
     "name": "stdout",
     "output_type": "stream",
     "text": [
      "000004E8.json\n",
      "000004E9.json\n",
      "000004EA.json\n",
      "000004EB.json\n",
      "000004EC.json\n",
      "000004ED.json\n",
      "000004EE.json\n",
      "000004EF.json\n"
     ]
    },
    {
     "name": "stderr",
     "output_type": "stream",
     "text": [
      " 39%|███▉      | 1269/3232 [00:36<00:50, 38.84it/s]"
     ]
    },
    {
     "name": "stdout",
     "output_type": "stream",
     "text": [
      "000004F0.json\n",
      "000004F1.json\n",
      "000004F2.json\n",
      "000004F3.json\n",
      "000004F4.json\n",
      "000004F5.json\n",
      "000004F6.json\n",
      "000004F7.json\n",
      "000004F8.json\n"
     ]
    },
    {
     "name": "stderr",
     "output_type": "stream",
     "text": [
      " 40%|███▉      | 1278/3232 [00:36<00:53, 36.53it/s]"
     ]
    },
    {
     "name": "stdout",
     "output_type": "stream",
     "text": [
      "000004F9.json\n",
      "000004FA.json\n",
      "000004FB.json\n",
      "000004FC.json\n",
      "000004FD.json\n",
      "000004FE.json\n",
      "000004FF.json\n"
     ]
    },
    {
     "name": "stderr",
     "output_type": "stream",
     "text": [
      " 40%|███▉      | 1287/3232 [00:36<00:53, 36.18it/s]"
     ]
    },
    {
     "name": "stdout",
     "output_type": "stream",
     "text": [
      "00000500.json\n",
      "00000501.json\n",
      "00000502.json\n",
      "00000503.json\n",
      "00000504.json\n",
      "00000505.json\n",
      "00000506.json\n"
     ]
    },
    {
     "name": "stderr",
     "output_type": "stream",
     "text": [
      " 40%|███▉      | 1292/3232 [00:37<00:51, 38.03it/s]"
     ]
    },
    {
     "name": "stdout",
     "output_type": "stream",
     "text": [
      "00000507.json\n",
      "00000508.json\n",
      "00000509.json\n",
      "0000050A.json\n",
      "0000050B.json\n",
      "0000050C.json\n",
      "0000050D.json\n",
      "0000050E.json\n",
      "0000050F.json\n",
      "00000510.json\n"
     ]
    },
    {
     "name": "stderr",
     "output_type": "stream",
     "text": [
      " 40%|████      | 1301/3232 [00:37<00:53, 36.25it/s]"
     ]
    },
    {
     "name": "stdout",
     "output_type": "stream",
     "text": [
      "00000511.json\n",
      "00000512.json\n",
      "00000513.json\n",
      "00000514.json\n",
      "00000515.json\n",
      "00000516.json\n",
      "00000517.json\n"
     ]
    },
    {
     "name": "stderr",
     "output_type": "stream",
     "text": [
      " 41%|████      | 1309/3232 [00:37<00:52, 36.43it/s]"
     ]
    },
    {
     "name": "stdout",
     "output_type": "stream",
     "text": [
      "00000518.json\n",
      "00000519.json\n",
      "0000051A.json\n",
      "0000051B.json\n",
      "0000051C.json\n",
      "0000051D.json\n",
      "0000051E.json\n",
      "0000051F.json\n",
      "00000520.json\n"
     ]
    },
    {
     "name": "stderr",
     "output_type": "stream",
     "text": [
      " 41%|████      | 1318/3232 [00:37<00:49, 38.61it/s]"
     ]
    },
    {
     "name": "stdout",
     "output_type": "stream",
     "text": [
      "00000521.json\n",
      "00000522.json\n",
      "00000523.json\n",
      "00000524.json\n",
      "00000525.json\n",
      "00000526.json\n",
      "00000527.json\n",
      "00000528.json\n",
      "00000529.json\n"
     ]
    },
    {
     "name": "stderr",
     "output_type": "stream",
     "text": [
      " 41%|████      | 1327/3232 [00:38<00:50, 37.58it/s]"
     ]
    },
    {
     "name": "stdout",
     "output_type": "stream",
     "text": [
      "0000052A.json\n",
      "0000052B.json\n",
      "0000052C.json\n",
      "0000052D.json\n",
      "0000052E.json\n",
      "0000052F.json\n",
      "00000530.json\n",
      "00000531.json\n"
     ]
    },
    {
     "name": "stderr",
     "output_type": "stream",
     "text": [
      " 41%|████▏     | 1335/3232 [00:38<00:49, 38.31it/s]"
     ]
    },
    {
     "name": "stdout",
     "output_type": "stream",
     "text": [
      "00000532.json\n",
      "00000533.json\n",
      "00000534.json\n",
      "00000535.json\n",
      "00000536.json\n",
      "00000537.json\n",
      "00000538.json\n",
      "00000539.json\n",
      "0000053A.json\n"
     ]
    },
    {
     "name": "stderr",
     "output_type": "stream",
     "text": [
      " 42%|████▏     | 1344/3232 [00:38<00:49, 38.18it/s]"
     ]
    },
    {
     "name": "stdout",
     "output_type": "stream",
     "text": [
      "0000053B.json\n",
      "0000053C.json\n",
      "0000053D.json\n",
      "0000053E.json\n",
      "0000053F.json\n",
      "00000540.json\n",
      "00000541.json\n",
      "00000542.json\n"
     ]
    },
    {
     "name": "stderr",
     "output_type": "stream",
     "text": [
      " 42%|████▏     | 1352/3232 [00:38<00:50, 36.89it/s]"
     ]
    },
    {
     "name": "stdout",
     "output_type": "stream",
     "text": [
      "00000543.json\n",
      "00000544.json\n",
      "00000545.json\n",
      "00000546.json\n",
      "00000547.json\n",
      "00000548.json\n",
      "00000549.json\n",
      "0000054A.json\n"
     ]
    },
    {
     "name": "stderr",
     "output_type": "stream",
     "text": [
      " 42%|████▏     | 1360/3232 [00:38<00:50, 36.89it/s]"
     ]
    },
    {
     "name": "stdout",
     "output_type": "stream",
     "text": [
      "0000054B.json\n",
      "0000054C.json\n",
      "0000054D.json\n",
      "0000054E.json\n",
      "0000054F.json\n",
      "00000550.json\n",
      "00000551.json\n",
      "00000552.json\n",
      "00000553.json\n"
     ]
    },
    {
     "name": "stderr",
     "output_type": "stream",
     "text": [
      " 42%|████▏     | 1368/3232 [00:39<00:56, 33.23it/s]"
     ]
    },
    {
     "name": "stdout",
     "output_type": "stream",
     "text": [
      "00000554.json\n",
      "00000555.json\n",
      "00000556.json\n",
      "00000557.json\n",
      "00000558.json\n",
      "00000559.json\n"
     ]
    },
    {
     "name": "stderr",
     "output_type": "stream",
     "text": [
      " 43%|████▎     | 1376/3232 [00:39<00:51, 35.73it/s]"
     ]
    },
    {
     "name": "stdout",
     "output_type": "stream",
     "text": [
      "0000055A.json\n",
      "0000055B.json\n",
      "0000055C.json\n",
      "0000055D.json\n",
      "0000055E.json\n",
      "0000055F.json\n",
      "00000560.json\n",
      "00000561.json\n",
      "00000562.json\n"
     ]
    },
    {
     "name": "stderr",
     "output_type": "stream",
     "text": [
      " 43%|████▎     | 1384/3232 [00:39<00:53, 34.71it/s]"
     ]
    },
    {
     "name": "stdout",
     "output_type": "stream",
     "text": [
      "00000563.json\n",
      "00000564.json\n",
      "00000565.json\n",
      "00000566.json\n",
      "00000567.json\n",
      "00000568.json\n",
      "00000569.json\n",
      "0000056A.json\n",
      "0000056B.json\n"
     ]
    },
    {
     "name": "stderr",
     "output_type": "stream",
     "text": [
      " 43%|████▎     | 1393/3232 [00:39<00:49, 37.15it/s]"
     ]
    },
    {
     "name": "stdout",
     "output_type": "stream",
     "text": [
      "0000056C.json\n",
      "0000056D.json\n",
      "0000056E.json\n",
      "0000056F.json\n",
      "00000570.json\n",
      "00000571.json\n",
      "00000572.json\n",
      "00000573.json\n",
      "00000574.json\n"
     ]
    },
    {
     "name": "stderr",
     "output_type": "stream",
     "text": [
      " 43%|████▎     | 1402/3232 [00:40<00:48, 37.64it/s]"
     ]
    },
    {
     "name": "stdout",
     "output_type": "stream",
     "text": [
      "00000575.json\n",
      "00000576.json\n",
      "00000577.json\n",
      "00000578.json\n",
      "00000579.json\n",
      "0000057A.json\n",
      "0000057B.json\n",
      "0000057C.json\n"
     ]
    },
    {
     "name": "stderr",
     "output_type": "stream",
     "text": [
      " 44%|████▎     | 1410/3232 [00:40<00:48, 37.40it/s]"
     ]
    },
    {
     "name": "stdout",
     "output_type": "stream",
     "text": [
      "0000057D.json\n",
      "0000057E.json\n",
      "0000057F.json\n",
      "00000580.json\n",
      "00000581.json\n",
      "00000582.json\n",
      "00000583.json\n",
      "00000584.json\n"
     ]
    },
    {
     "name": "stderr",
     "output_type": "stream",
     "text": [
      " 44%|████▍     | 1418/3232 [00:40<00:47, 37.93it/s]"
     ]
    },
    {
     "name": "stdout",
     "output_type": "stream",
     "text": [
      "00000585.json\n",
      "00000586.json\n",
      "00000587.json\n",
      "00000588.json\n",
      "00000589.json\n",
      "0000058A.json\n",
      "0000058B.json\n",
      "0000058C.json\n"
     ]
    },
    {
     "name": "stderr",
     "output_type": "stream",
     "text": [
      " 44%|████▍     | 1427/3232 [00:40<00:47, 37.65it/s]"
     ]
    },
    {
     "name": "stdout",
     "output_type": "stream",
     "text": [
      "0000058D.json\n",
      "0000058E.json\n",
      "0000058F.json\n",
      "00000590.json\n",
      "00000591.json\n",
      "00000592.json\n",
      "00000593.json\n",
      "00000594.json\n"
     ]
    },
    {
     "name": "stderr",
     "output_type": "stream",
     "text": [
      " 44%|████▍     | 1436/3232 [00:40<00:46, 38.66it/s]"
     ]
    },
    {
     "name": "stdout",
     "output_type": "stream",
     "text": [
      "00000595.json\n",
      "00000596.json\n",
      "00000597.json\n",
      "00000598.json\n",
      "00000599.json\n",
      "0000059A.json\n",
      "0000059B.json\n",
      "0000059C.json\n",
      "0000059D.json\n"
     ]
    },
    {
     "name": "stderr",
     "output_type": "stream",
     "text": [
      " 45%|████▍     | 1440/3232 [00:41<00:48, 36.91it/s]"
     ]
    },
    {
     "name": "stdout",
     "output_type": "stream",
     "text": [
      "0000059E.json\n",
      "0000059F.json\n",
      "000005A0.json\n",
      "000005A1.json\n",
      "000005A2.json\n",
      "000005A3.json\n"
     ]
    },
    {
     "name": "stderr",
     "output_type": "stream",
     "text": [
      " 45%|████▍     | 1448/3232 [00:41<00:50, 35.42it/s]"
     ]
    },
    {
     "name": "stdout",
     "output_type": "stream",
     "text": [
      "000005A4.json\n",
      "000005A5.json\n",
      "000005A6.json\n",
      "000005A7.json\n",
      "000005A8.json\n",
      "000005A9.json\n",
      "000005AA.json\n",
      "000005AB.json\n",
      "000005AC.json\n"
     ]
    },
    {
     "name": "stderr",
     "output_type": "stream",
     "text": [
      " 45%|████▌     | 1457/3232 [00:41<00:46, 38.41it/s]"
     ]
    },
    {
     "name": "stdout",
     "output_type": "stream",
     "text": [
      "000005AD.json\n",
      "000005AE.json\n",
      "000005AF.json\n",
      "000005B0.json\n",
      "000005B1.json\n",
      "000005B2.json\n",
      "000005B3.json\n",
      "000005B4.json\n"
     ]
    },
    {
     "name": "stderr",
     "output_type": "stream",
     "text": [
      " 45%|████▌     | 1465/3232 [00:41<00:48, 36.50it/s]"
     ]
    },
    {
     "name": "stdout",
     "output_type": "stream",
     "text": [
      "000005B5.json\n",
      "000005B6.json\n",
      "000005B7.json\n",
      "000005B8.json\n",
      "000005B9.json\n",
      "000005BA.json\n",
      "000005BB.json\n",
      "000005BC.json\n"
     ]
    },
    {
     "name": "stderr",
     "output_type": "stream",
     "text": [
      " 46%|████▌     | 1474/3232 [00:42<00:46, 37.72it/s]"
     ]
    },
    {
     "name": "stdout",
     "output_type": "stream",
     "text": [
      "000005BD.json\n",
      "000005BE.json\n",
      "000005BF.json\n",
      "000005C0.json\n",
      "000005C1.json\n",
      "000005C2.json\n",
      "000005C3.json\n",
      "000005C4.json\n",
      "000005C5.json\n"
     ]
    },
    {
     "name": "stderr",
     "output_type": "stream",
     "text": [
      " 46%|████▌     | 1482/3232 [00:42<00:46, 37.42it/s]"
     ]
    },
    {
     "name": "stdout",
     "output_type": "stream",
     "text": [
      "000005C6.json\n",
      "000005C7.json\n",
      "000005C8.json\n",
      "000005C9.json\n",
      "000005CA.json\n",
      "000005CB.json\n",
      "000005CC.json\n",
      "000005CD.json\n"
     ]
    },
    {
     "name": "stderr",
     "output_type": "stream",
     "text": [
      " 46%|████▌     | 1494/3232 [00:42<00:46, 37.68it/s]"
     ]
    },
    {
     "name": "stdout",
     "output_type": "stream",
     "text": [
      "000005CE.json\n",
      "000005CF.json\n",
      "000005D0.json\n",
      "000005D1.json\n",
      "000005D2.json\n",
      "000005D3.json\n",
      "000005D4.json\n",
      "000005D5.json\n"
     ]
    },
    {
     "name": "stderr",
     "output_type": "stream",
     "text": [
      " 46%|████▋     | 1499/3232 [00:42<00:44, 38.86it/s]"
     ]
    },
    {
     "name": "stdout",
     "output_type": "stream",
     "text": [
      "000005D6.json\n",
      "000005D7.json\n",
      "000005D8.json\n",
      "000005D9.json\n",
      "000005DA.json\n",
      "000005DB.json\n",
      "000005DC.json\n",
      "000005DD.json\n",
      "000005DE.json\n"
     ]
    },
    {
     "name": "stderr",
     "output_type": "stream",
     "text": [
      " 47%|████▋     | 1509/3232 [00:42<00:43, 39.86it/s]"
     ]
    },
    {
     "name": "stdout",
     "output_type": "stream",
     "text": [
      "000005DF.json\n",
      "000005E0.json\n",
      "000005E1.json\n",
      "000005E2.json\n",
      "000005E3.json\n",
      "000005E4.json\n",
      "000005E5.json\n",
      "000005E6.json\n",
      "000005E7.json\n"
     ]
    },
    {
     "name": "stderr",
     "output_type": "stream",
     "text": [
      " 47%|████▋     | 1519/3232 [00:43<00:41, 41.69it/s]"
     ]
    },
    {
     "name": "stdout",
     "output_type": "stream",
     "text": [
      "000005E8.json\n",
      "000005E9.json\n",
      "000005EA.json\n",
      "000005EB.json\n",
      "000005EC.json\n",
      "000005ED.json\n",
      "000005EE.json\n",
      "000005EF.json\n",
      "000005F0.json\n"
     ]
    },
    {
     "name": "stderr",
     "output_type": "stream",
     "text": [
      " 47%|████▋     | 1524/3232 [00:43<00:42, 40.16it/s]"
     ]
    },
    {
     "name": "stdout",
     "output_type": "stream",
     "text": [
      "000005F1.json\n",
      "000005F2.json\n",
      "000005F3.json\n",
      "000005F4.json\n",
      "000005F5.json\n",
      "000005F6.json\n",
      "000005F7.json\n",
      "000005F8.json\n"
     ]
    },
    {
     "name": "stderr",
     "output_type": "stream",
     "text": [
      " 47%|████▋     | 1533/3232 [00:43<00:47, 35.95it/s]"
     ]
    },
    {
     "name": "stdout",
     "output_type": "stream",
     "text": [
      "000005F9.json\n",
      "000005FA.json\n",
      "000005FB.json\n",
      "000005FC.json\n",
      "000005FD.json\n",
      "000005FE.json\n",
      "000005FF.json\n",
      "00000600.json\n"
     ]
    },
    {
     "name": "stderr",
     "output_type": "stream",
     "text": [
      " 48%|████▊     | 1543/3232 [00:43<00:43, 38.93it/s]"
     ]
    },
    {
     "name": "stdout",
     "output_type": "stream",
     "text": [
      "00000601.json\n",
      "00000602.json\n",
      "00000603.json\n",
      "00000604.json\n",
      "00000605.json\n",
      "00000606.json\n",
      "00000607.json\n",
      "00000608.json\n",
      "00000609.json\n"
     ]
    },
    {
     "name": "stderr",
     "output_type": "stream",
     "text": [
      " 48%|████▊     | 1552/3232 [00:44<00:41, 40.45it/s]"
     ]
    },
    {
     "name": "stdout",
     "output_type": "stream",
     "text": [
      "0000060A.json\n",
      "0000060B.json\n",
      "0000060C.json\n",
      "0000060D.json\n",
      "0000060E.json\n",
      "0000060F.json\n",
      "00000610.json\n",
      "00000611.json\n",
      "00000612.json\n",
      "00000613.json\n"
     ]
    },
    {
     "name": "stderr",
     "output_type": "stream",
     "text": [
      " 48%|████▊     | 1562/3232 [00:44<00:40, 41.14it/s]"
     ]
    },
    {
     "name": "stdout",
     "output_type": "stream",
     "text": [
      "00000614.json\n",
      "00000615.json\n",
      "00000616.json\n",
      "00000617.json\n",
      "00000618.json\n",
      "00000619.json\n",
      "0000061A.json\n",
      "0000061B.json\n"
     ]
    },
    {
     "name": "stderr",
     "output_type": "stream",
     "text": [
      " 48%|████▊     | 1567/3232 [00:44<00:40, 40.79it/s]"
     ]
    },
    {
     "name": "stdout",
     "output_type": "stream",
     "text": [
      "0000061C.json\n",
      "0000061D.json\n",
      "0000061E.json\n",
      "0000061F.json\n",
      "00000620.json\n",
      "00000621.json\n",
      "00000622.json\n",
      "00000623.json\n"
     ]
    },
    {
     "name": "stderr",
     "output_type": "stream",
     "text": [
      " 49%|████▉     | 1576/3232 [00:44<00:43, 38.36it/s]"
     ]
    },
    {
     "name": "stdout",
     "output_type": "stream",
     "text": [
      "00000624.json\n",
      "00000625.json\n",
      "00000626.json\n",
      "00000627.json\n",
      "00000628.json\n",
      "00000629.json\n"
     ]
    },
    {
     "name": "stderr",
     "output_type": "stream",
     "text": [
      " 49%|████▉     | 1584/3232 [00:44<00:47, 34.51it/s]"
     ]
    },
    {
     "name": "stdout",
     "output_type": "stream",
     "text": [
      "0000062A.json\n",
      "0000062B.json\n",
      "0000062C.json\n",
      "0000062D.json\n",
      "0000062E.json\n",
      "0000062F.json\n",
      "00000630.json\n",
      "00000631.json\n"
     ]
    },
    {
     "name": "stderr",
     "output_type": "stream",
     "text": [
      " 49%|████▉     | 1594/3232 [00:45<00:42, 38.38it/s]"
     ]
    },
    {
     "name": "stdout",
     "output_type": "stream",
     "text": [
      "00000632.json\n",
      "00000633.json\n",
      "00000634.json\n",
      "00000635.json\n",
      "00000636.json\n",
      "00000637.json\n",
      "00000638.json\n",
      "00000639.json\n",
      "0000063A.json\n",
      "0000063B.json\n"
     ]
    },
    {
     "name": "stderr",
     "output_type": "stream",
     "text": [
      " 50%|████▉     | 1602/3232 [00:45<00:43, 37.86it/s]"
     ]
    },
    {
     "name": "stdout",
     "output_type": "stream",
     "text": [
      "0000063C.json\n",
      "0000063D.json\n",
      "0000063E.json\n",
      "0000063F.json\n",
      "00000640.json\n",
      "00000641.json\n",
      "00000642.json\n",
      "00000643.json\n"
     ]
    },
    {
     "name": "stderr",
     "output_type": "stream",
     "text": [
      " 50%|████▉     | 1606/3232 [00:45<00:42, 37.98it/s]"
     ]
    },
    {
     "name": "stdout",
     "output_type": "stream",
     "text": [
      "00000644.json\n",
      "00000645.json\n",
      "00000646.json\n",
      "00000647.json\n",
      "00000648.json\n",
      "00000649.json\n"
     ]
    },
    {
     "name": "stderr",
     "output_type": "stream",
     "text": [
      " 50%|████▉     | 1614/3232 [00:45<00:51, 31.66it/s]"
     ]
    },
    {
     "name": "stdout",
     "output_type": "stream",
     "text": [
      "0000064A.json\n",
      "0000064B.json\n",
      "0000064C.json\n",
      "0000064D.json\n",
      "0000064E.json\n",
      "0000064F.json\n",
      "00000650.json\n"
     ]
    },
    {
     "name": "stderr",
     "output_type": "stream",
     "text": [
      " 50%|█████     | 1622/3232 [00:46<00:54, 29.73it/s]"
     ]
    },
    {
     "name": "stdout",
     "output_type": "stream",
     "text": [
      "00000651.json\n",
      "00000652.json\n",
      "00000653.json\n",
      "00000654.json\n",
      "00000655.json\n"
     ]
    },
    {
     "name": "stderr",
     "output_type": "stream",
     "text": [
      " 50%|█████     | 1626/3232 [00:46<00:52, 30.82it/s]"
     ]
    },
    {
     "name": "stdout",
     "output_type": "stream",
     "text": [
      "00000656.json\n",
      "00000657.json\n",
      "00000658.json\n",
      "00000659.json\n",
      "0000065A.json\n",
      "0000065B.json\n",
      "0000065C.json\n",
      "0000065D.json\n"
     ]
    },
    {
     "name": "stderr",
     "output_type": "stream",
     "text": [
      " 51%|█████     | 1634/3232 [00:46<00:47, 33.78it/s]"
     ]
    },
    {
     "name": "stdout",
     "output_type": "stream",
     "text": [
      "0000065E.json\n",
      "0000065F.json\n",
      "00000660.json\n",
      "00000661.json\n",
      "00000662.json\n",
      "00000663.json\n",
      "00000664.json\n",
      "00000665.json\n"
     ]
    },
    {
     "name": "stderr",
     "output_type": "stream",
     "text": [
      " 51%|█████     | 1642/3232 [00:46<00:46, 33.95it/s]"
     ]
    },
    {
     "name": "stdout",
     "output_type": "stream",
     "text": [
      "00000666.json\n",
      "00000667.json\n",
      "00000668.json\n",
      "00000669.json\n",
      "0000066A.json\n",
      "0000066B.json\n",
      "0000066C.json\n"
     ]
    },
    {
     "name": "stderr",
     "output_type": "stream",
     "text": [
      " 51%|█████     | 1650/3232 [00:46<00:44, 35.27it/s]"
     ]
    },
    {
     "name": "stdout",
     "output_type": "stream",
     "text": [
      "0000066D.json\n",
      "0000066E.json\n",
      "0000066F.json\n",
      "00000670.json\n",
      "00000671.json\n",
      "00000672.json\n",
      "00000673.json\n",
      "00000674.json\n",
      "00000675.json\n"
     ]
    },
    {
     "name": "stderr",
     "output_type": "stream",
     "text": [
      " 51%|█████▏    | 1658/3232 [00:47<00:46, 33.59it/s]"
     ]
    },
    {
     "name": "stdout",
     "output_type": "stream",
     "text": [
      "00000676.json\n",
      "00000677.json\n",
      "00000678.json\n",
      "00000679.json\n",
      "0000067A.json\n",
      "0000067B.json\n"
     ]
    },
    {
     "name": "stderr",
     "output_type": "stream",
     "text": [
      " 52%|█████▏    | 1666/3232 [00:47<00:45, 34.44it/s]"
     ]
    },
    {
     "name": "stdout",
     "output_type": "stream",
     "text": [
      "0000067C.json\n",
      "0000067D.json\n",
      "0000067E.json\n",
      "0000067F.json\n",
      "00000680.json\n",
      "00000681.json\n",
      "00000682.json\n",
      "00000683.json\n"
     ]
    },
    {
     "name": "stderr",
     "output_type": "stream",
     "text": [
      " 52%|█████▏    | 1670/3232 [00:47<00:50, 30.97it/s]"
     ]
    },
    {
     "name": "stdout",
     "output_type": "stream",
     "text": [
      "00000684.json\n",
      "00000685.json\n",
      "00000686.json\n",
      "00000687.json\n",
      "00000688.json\n"
     ]
    },
    {
     "name": "stderr",
     "output_type": "stream",
     "text": [
      " 52%|█████▏    | 1678/3232 [00:47<00:49, 31.41it/s]"
     ]
    },
    {
     "name": "stdout",
     "output_type": "stream",
     "text": [
      "00000689.json\n",
      "0000068A.json\n",
      "0000068B.json\n",
      "0000068C.json\n",
      "0000068D.json\n",
      "0000068E.json\n",
      "0000068F.json\n",
      "00000690.json\n"
     ]
    },
    {
     "name": "stderr",
     "output_type": "stream",
     "text": [
      " 52%|█████▏    | 1686/3232 [00:47<00:45, 34.07it/s]"
     ]
    },
    {
     "name": "stdout",
     "output_type": "stream",
     "text": [
      "00000691.json\n",
      "00000692.json\n",
      "00000693.json\n",
      "00000694.json\n",
      "00000695.json\n",
      "00000696.json\n",
      "00000697.json\n",
      "00000698.json\n"
     ]
    },
    {
     "name": "stderr",
     "output_type": "stream",
     "text": [
      " 52%|█████▏    | 1694/3232 [00:48<00:43, 34.99it/s]"
     ]
    },
    {
     "name": "stdout",
     "output_type": "stream",
     "text": [
      "00000699.json\n",
      "0000069A.json\n",
      "0000069B.json\n",
      "0000069C.json\n",
      "0000069D.json\n",
      "0000069E.json\n",
      "0000069F.json\n",
      "000006A0.json\n"
     ]
    },
    {
     "name": "stderr",
     "output_type": "stream",
     "text": [
      " 53%|█████▎    | 1702/3232 [00:48<00:44, 34.05it/s]"
     ]
    },
    {
     "name": "stdout",
     "output_type": "stream",
     "text": [
      "000006A1.json\n",
      "000006A2.json\n",
      "000006A3.json\n",
      "000006A4.json\n",
      "000006A5.json\n",
      "000006A6.json\n",
      "000006A7.json\n",
      "000006A8.json\n"
     ]
    },
    {
     "name": "stderr",
     "output_type": "stream",
     "text": [
      " 53%|█████▎    | 1710/3232 [00:48<00:44, 34.28it/s]"
     ]
    },
    {
     "name": "stdout",
     "output_type": "stream",
     "text": [
      "000006A9.json\n",
      "000006AA.json\n",
      "000006AB.json\n",
      "000006AC.json\n",
      "000006AD.json\n",
      "000006AE.json\n",
      "000006AF.json\n",
      "000006B0.json\n"
     ]
    },
    {
     "name": "stderr",
     "output_type": "stream",
     "text": [
      " 53%|█████▎    | 1719/3232 [00:48<00:40, 37.79it/s]"
     ]
    },
    {
     "name": "stdout",
     "output_type": "stream",
     "text": [
      "000006B1.json\n",
      "000006B2.json\n",
      "000006B3.json\n",
      "000006B4.json\n",
      "000006B5.json\n",
      "000006B6.json\n",
      "000006B7.json\n",
      "000006B8.json\n",
      "000006B9.json\n"
     ]
    },
    {
     "name": "stderr",
     "output_type": "stream",
     "text": [
      " 53%|█████▎    | 1728/3232 [00:49<00:39, 38.15it/s]"
     ]
    },
    {
     "name": "stdout",
     "output_type": "stream",
     "text": [
      "000006BA.json\n",
      "000006BB.json\n",
      "000006BC.json\n",
      "000006BD.json\n",
      "000006BE.json\n",
      "000006BF.json\n",
      "000006C0.json\n",
      "000006C1.json\n",
      "000006C2.json\n"
     ]
    },
    {
     "name": "stderr",
     "output_type": "stream",
     "text": [
      " 54%|█████▎    | 1736/3232 [00:49<00:39, 37.80it/s]"
     ]
    },
    {
     "name": "stdout",
     "output_type": "stream",
     "text": [
      "000006C3.json\n",
      "000006C4.json\n",
      "000006C5.json\n",
      "000006C6.json\n",
      "000006C7.json\n",
      "000006C8.json\n",
      "000006C9.json\n",
      "000006CA.json\n"
     ]
    },
    {
     "name": "stderr",
     "output_type": "stream",
     "text": [
      " 54%|█████▍    | 1744/3232 [00:49<00:39, 37.73it/s]"
     ]
    },
    {
     "name": "stdout",
     "output_type": "stream",
     "text": [
      "000006CB.json\n",
      "000006CC.json\n",
      "000006CD.json\n",
      "000006CE.json\n",
      "000006CF.json\n",
      "000006D0.json\n",
      "000006D1.json\n",
      "000006D2.json\n",
      "000006D3.json\n"
     ]
    },
    {
     "name": "stderr",
     "output_type": "stream",
     "text": [
      " 54%|█████▍    | 1754/3232 [00:49<00:40, 36.85it/s]"
     ]
    },
    {
     "name": "stdout",
     "output_type": "stream",
     "text": [
      "000006D4.json\n",
      "000006D5.json\n",
      "000006D6.json\n",
      "000006D7.json\n",
      "000006D8.json\n",
      "000006D9.json\n"
     ]
    },
    {
     "name": "stderr",
     "output_type": "stream",
     "text": [
      " 54%|█████▍    | 1759/3232 [00:49<00:38, 38.00it/s]"
     ]
    },
    {
     "name": "stdout",
     "output_type": "stream",
     "text": [
      "000006DA.json\n",
      "000006DB.json\n",
      "000006DC.json\n",
      "000006DD.json\n",
      "000006DE.json\n",
      "000006DF.json\n",
      "000006E0.json\n",
      "000006E1.json\n"
     ]
    },
    {
     "name": "stderr",
     "output_type": "stream",
     "text": [
      " 55%|█████▍    | 1767/3232 [00:50<00:43, 33.48it/s]"
     ]
    },
    {
     "name": "stdout",
     "output_type": "stream",
     "text": [
      "000006E2.json\n",
      "000006E3.json\n",
      "000006E4.json\n",
      "000006E5.json\n",
      "000006E6.json\n",
      "000006E7.json\n",
      "000006E8.json\n"
     ]
    },
    {
     "name": "stderr",
     "output_type": "stream",
     "text": [
      " 55%|█████▍    | 1777/3232 [00:50<00:38, 37.89it/s]"
     ]
    },
    {
     "name": "stdout",
     "output_type": "stream",
     "text": [
      "000006E9.json\n",
      "000006EA.json\n",
      "000006EB.json\n",
      "000006EC.json\n",
      "000006ED.json\n",
      "000006EE.json\n",
      "000006EF.json\n",
      "000006F0.json\n"
     ]
    },
    {
     "name": "stderr",
     "output_type": "stream",
     "text": [
      " 55%|█████▌    | 1786/3232 [00:50<00:37, 39.07it/s]"
     ]
    },
    {
     "name": "stdout",
     "output_type": "stream",
     "text": [
      "000006F1.json\n",
      "000006F2.json\n",
      "000006F3.json\n",
      "000006F4.json\n",
      "000006F5.json\n",
      "000006F6.json\n",
      "000006F7.json\n",
      "000006F8.json\n",
      "000006F9.json\n"
     ]
    },
    {
     "name": "stderr",
     "output_type": "stream",
     "text": [
      " 55%|█████▌    | 1791/3232 [00:50<00:36, 39.81it/s]"
     ]
    },
    {
     "name": "stdout",
     "output_type": "stream",
     "text": [
      "000006FA.json\n",
      "000006FB.json\n",
      "000006FC.json\n",
      "000006FD.json\n",
      "000006FE.json\n",
      "000006FF.json\n",
      "00000700.json\n",
      "00000701.json\n"
     ]
    },
    {
     "name": "stderr",
     "output_type": "stream",
     "text": [
      " 56%|█████▌    | 1799/3232 [00:50<00:38, 37.60it/s]"
     ]
    },
    {
     "name": "stdout",
     "output_type": "stream",
     "text": [
      "00000702.json\n",
      "00000703.json\n",
      "00000704.json\n",
      "00000705.json\n",
      "00000706.json\n",
      "00000707.json\n",
      "00000708.json\n",
      "00000709.json\n"
     ]
    },
    {
     "name": "stderr",
     "output_type": "stream",
     "text": [
      " 56%|█████▌    | 1808/3232 [00:51<00:36, 38.54it/s]"
     ]
    },
    {
     "name": "stdout",
     "output_type": "stream",
     "text": [
      "0000070A.json\n",
      "0000070B.json\n",
      "0000070C.json\n",
      "0000070D.json\n",
      "0000070E.json\n",
      "0000070F.json\n",
      "00000710.json\n",
      "00000711.json\n",
      "00000712.json\n"
     ]
    },
    {
     "name": "stderr",
     "output_type": "stream",
     "text": [
      " 56%|█████▌    | 1817/3232 [00:51<00:37, 37.35it/s]"
     ]
    },
    {
     "name": "stdout",
     "output_type": "stream",
     "text": [
      "00000713.json\n",
      "00000714.json\n",
      "00000715.json\n",
      "00000716.json\n",
      "00000717.json\n",
      "00000718.json\n",
      "00000719.json\n",
      "0000071A.json\n",
      "0000071B.json\n"
     ]
    },
    {
     "name": "stderr",
     "output_type": "stream",
     "text": [
      " 56%|█████▋    | 1825/3232 [00:51<00:39, 35.55it/s]"
     ]
    },
    {
     "name": "stdout",
     "output_type": "stream",
     "text": [
      "0000071C.json\n",
      "0000071D.json\n",
      "0000071E.json\n",
      "0000071F.json\n",
      "00000720.json\n",
      "00000721.json\n",
      "00000722.json\n"
     ]
    },
    {
     "name": "stderr",
     "output_type": "stream",
     "text": [
      " 57%|█████▋    | 1833/3232 [00:51<00:39, 35.08it/s]"
     ]
    },
    {
     "name": "stdout",
     "output_type": "stream",
     "text": [
      "00000723.json\n",
      "00000724.json\n",
      "00000725.json\n",
      "00000726.json\n",
      "00000727.json\n",
      "00000728.json\n",
      "00000729.json\n",
      "0000072A.json\n"
     ]
    },
    {
     "name": "stderr",
     "output_type": "stream",
     "text": [
      " 57%|█████▋    | 1837/3232 [00:52<00:44, 31.20it/s]"
     ]
    },
    {
     "name": "stdout",
     "output_type": "stream",
     "text": [
      "0000072B.json\n",
      "0000072C.json\n",
      "0000072D.json\n",
      "0000072E.json\n"
     ]
    },
    {
     "name": "stderr",
     "output_type": "stream",
     "text": [
      " 57%|█████▋    | 1845/3232 [00:52<00:46, 29.76it/s]"
     ]
    },
    {
     "name": "stdout",
     "output_type": "stream",
     "text": [
      "0000072F.json\n",
      "00000730.json\n",
      "00000731.json\n",
      "00000732.json\n",
      "00000733.json\n",
      "00000734.json\n"
     ]
    },
    {
     "name": "stderr",
     "output_type": "stream",
     "text": [
      " 57%|█████▋    | 1849/3232 [00:52<00:45, 30.32it/s]"
     ]
    },
    {
     "name": "stdout",
     "output_type": "stream",
     "text": [
      "00000735.json\n",
      "00000736.json\n",
      "00000737.json\n",
      "00000738.json\n",
      "00000739.json\n",
      "0000073A.json\n",
      "0000073B.json\n",
      "0000073C.json\n"
     ]
    },
    {
     "name": "stderr",
     "output_type": "stream",
     "text": [
      " 57%|█████▋    | 1857/3232 [00:52<00:41, 33.18it/s]"
     ]
    },
    {
     "name": "stdout",
     "output_type": "stream",
     "text": [
      "0000073D.json\n",
      "0000073E.json\n",
      "0000073F.json\n",
      "00000740.json\n",
      "00000741.json\n",
      "00000742.json\n",
      "00000743.json\n",
      "00000744.json\n",
      "00000745.json\n"
     ]
    },
    {
     "name": "stderr",
     "output_type": "stream",
     "text": [
      " 58%|█████▊    | 1866/3232 [00:52<00:37, 36.18it/s]"
     ]
    },
    {
     "name": "stdout",
     "output_type": "stream",
     "text": [
      "00000746.json\n",
      "00000747.json\n",
      "00000748.json\n",
      "00000749.json\n",
      "0000074A.json\n",
      "0000074B.json\n",
      "0000074C.json\n",
      "0000074D.json\n",
      "0000074E.json\n"
     ]
    },
    {
     "name": "stderr",
     "output_type": "stream",
     "text": [
      " 58%|█████▊    | 1875/3232 [00:53<00:35, 37.98it/s]"
     ]
    },
    {
     "name": "stdout",
     "output_type": "stream",
     "text": [
      "0000074F.json\n",
      "00000750.json\n",
      "00000751.json\n",
      "00000752.json\n",
      "00000753.json\n",
      "00000754.json\n",
      "00000755.json\n",
      "00000756.json\n"
     ]
    },
    {
     "name": "stderr",
     "output_type": "stream",
     "text": [
      " 58%|█████▊    | 1883/3232 [00:53<00:36, 36.77it/s]"
     ]
    },
    {
     "name": "stdout",
     "output_type": "stream",
     "text": [
      "00000757.json\n",
      "00000758.json\n",
      "00000759.json\n",
      "0000075A.json\n",
      "0000075B.json\n",
      "0000075C.json\n",
      "0000075D.json\n",
      "0000075E.json\n"
     ]
    },
    {
     "name": "stderr",
     "output_type": "stream",
     "text": [
      " 59%|█████▊    | 1891/3232 [00:53<00:37, 35.42it/s]"
     ]
    },
    {
     "name": "stdout",
     "output_type": "stream",
     "text": [
      "0000075F.json\n",
      "00000760.json\n",
      "00000761.json\n",
      "00000762.json\n",
      "00000763.json\n",
      "00000764.json\n",
      "00000765.json\n",
      "00000766.json\n"
     ]
    },
    {
     "name": "stderr",
     "output_type": "stream",
     "text": [
      " 59%|█████▉    | 1900/3232 [00:53<00:36, 36.65it/s]"
     ]
    },
    {
     "name": "stdout",
     "output_type": "stream",
     "text": [
      "00000767.json\n",
      "00000768.json\n",
      "00000769.json\n",
      "0000076A.json\n",
      "0000076B.json\n",
      "0000076C.json\n",
      "0000076D.json\n"
     ]
    },
    {
     "name": "stderr",
     "output_type": "stream",
     "text": [
      " 59%|█████▉    | 1908/3232 [00:54<00:37, 34.94it/s]"
     ]
    },
    {
     "name": "stdout",
     "output_type": "stream",
     "text": [
      "0000076E.json\n",
      "0000076F.json\n",
      "00000770.json\n",
      "00000771.json\n",
      "00000772.json\n",
      "00000773.json\n",
      "00000774.json\n",
      "00000775.json\n"
     ]
    },
    {
     "name": "stderr",
     "output_type": "stream",
     "text": [
      " 59%|█████▉    | 1918/3232 [00:54<00:33, 39.25it/s]"
     ]
    },
    {
     "name": "stdout",
     "output_type": "stream",
     "text": [
      "00000776.json\n",
      "00000777.json\n",
      "00000778.json\n",
      "00000779.json\n",
      "0000077A.json\n",
      "0000077B.json\n",
      "0000077C.json\n",
      "0000077D.json\n"
     ]
    },
    {
     "name": "stderr",
     "output_type": "stream",
     "text": [
      " 59%|█████▉    | 1922/3232 [00:54<00:35, 36.90it/s]"
     ]
    },
    {
     "name": "stdout",
     "output_type": "stream",
     "text": [
      "0000077E.json\n",
      "0000077F.json\n",
      "00000780.json\n",
      "00000781.json\n",
      "00000782.json\n",
      "00000783.json\n",
      "00000784.json\n"
     ]
    },
    {
     "name": "stderr",
     "output_type": "stream",
     "text": [
      " 60%|█████▉    | 1930/3232 [00:54<00:36, 36.15it/s]"
     ]
    },
    {
     "name": "stdout",
     "output_type": "stream",
     "text": [
      "00000785.json\n",
      "00000786.json\n",
      "00000787.json\n",
      "00000788.json\n",
      "00000789.json\n",
      "0000078A.json\n",
      "0000078B.json\n",
      "0000078C.json\n"
     ]
    },
    {
     "name": "stderr",
     "output_type": "stream",
     "text": [
      " 60%|█████▉    | 1939/3232 [00:54<00:35, 36.91it/s]"
     ]
    },
    {
     "name": "stdout",
     "output_type": "stream",
     "text": [
      "0000078D.json\n",
      "0000078E.json\n",
      "0000078F.json\n",
      "00000790.json\n",
      "00000791.json\n",
      "00000792.json\n",
      "00000793.json\n",
      "00000794.json\n"
     ]
    },
    {
     "name": "stderr",
     "output_type": "stream",
     "text": [
      " 60%|██████    | 1948/3232 [00:55<00:34, 37.49it/s]"
     ]
    },
    {
     "name": "stdout",
     "output_type": "stream",
     "text": [
      "00000795.json\n",
      "00000796.json\n",
      "00000797.json\n",
      "00000798.json\n",
      "00000799.json\n",
      "0000079A.json\n",
      "0000079B.json\n",
      "0000079C.json\n",
      "0000079D.json\n"
     ]
    },
    {
     "name": "stderr",
     "output_type": "stream",
     "text": [
      " 61%|██████    | 1958/3232 [00:55<00:33, 38.46it/s]"
     ]
    },
    {
     "name": "stdout",
     "output_type": "stream",
     "text": [
      "0000079E.json\n",
      "0000079F.json\n",
      "000007A0.json\n",
      "000007A1.json\n",
      "000007A2.json\n",
      "000007A3.json\n",
      "000007A4.json\n",
      "000007A5.json\n"
     ]
    },
    {
     "name": "stderr",
     "output_type": "stream",
     "text": [
      " 61%|██████    | 1962/3232 [00:55<00:33, 38.16it/s]"
     ]
    },
    {
     "name": "stdout",
     "output_type": "stream",
     "text": [
      "000007A6.json\n",
      "000007A7.json\n",
      "000007A8.json\n",
      "000007A9.json\n",
      "000007AA.json\n",
      "000007AB.json\n",
      "000007AC.json\n",
      "000007AD.json\n"
     ]
    },
    {
     "name": "stderr",
     "output_type": "stream",
     "text": [
      " 61%|██████    | 1971/3232 [00:55<00:32, 38.69it/s]"
     ]
    },
    {
     "name": "stdout",
     "output_type": "stream",
     "text": [
      "000007AE.json\n",
      "000007AF.json\n",
      "000007B0.json\n",
      "000007B1.json\n",
      "000007B2.json\n",
      "000007B3.json\n",
      "000007B4.json\n",
      "000007B5.json\n"
     ]
    },
    {
     "name": "stderr",
     "output_type": "stream",
     "text": [
      " 61%|██████    | 1979/3232 [00:55<00:35, 35.66it/s]"
     ]
    },
    {
     "name": "stdout",
     "output_type": "stream",
     "text": [
      "000007B6.json\n",
      "000007B7.json\n",
      "000007B8.json\n",
      "000007B9.json\n",
      "000007BA.json\n",
      "000007BB.json\n",
      "000007BC.json\n",
      "000007BD.json\n"
     ]
    },
    {
     "name": "stderr",
     "output_type": "stream",
     "text": [
      " 62%|██████▏   | 1988/3232 [00:56<00:33, 37.62it/s]"
     ]
    },
    {
     "name": "stdout",
     "output_type": "stream",
     "text": [
      "000007BE.json\n",
      "000007BF.json\n",
      "000007C0.json\n",
      "000007C1.json\n",
      "000007C2.json\n",
      "000007C3.json\n",
      "000007C4.json\n",
      "000007C5.json\n",
      "000007C6.json\n"
     ]
    },
    {
     "name": "stderr",
     "output_type": "stream",
     "text": [
      " 62%|██████▏   | 1997/3232 [00:56<00:32, 38.28it/s]"
     ]
    },
    {
     "name": "stdout",
     "output_type": "stream",
     "text": [
      "000007C7.json\n",
      "000007C8.json\n",
      "000007C9.json\n",
      "000007CA.json\n",
      "000007CB.json\n",
      "000007CC.json\n",
      "000007CD.json\n",
      "000007CE.json\n"
     ]
    },
    {
     "name": "stderr",
     "output_type": "stream",
     "text": [
      " 62%|██████▏   | 2005/3232 [00:56<00:32, 37.89it/s]"
     ]
    },
    {
     "name": "stdout",
     "output_type": "stream",
     "text": [
      "000007CF.json\n",
      "000007D0.json\n",
      "000007D1.json\n",
      "000007D2.json\n",
      "000007D3.json\n",
      "000007D4.json\n",
      "000007D5.json\n",
      "000007D6.json\n",
      "000007D7.json\n"
     ]
    },
    {
     "name": "stderr",
     "output_type": "stream",
     "text": [
      " 62%|██████▏   | 2014/3232 [00:56<00:32, 37.21it/s]"
     ]
    },
    {
     "name": "stdout",
     "output_type": "stream",
     "text": [
      "000007D8.json\n",
      "000007D9.json\n",
      "000007DA.json\n",
      "000007DB.json\n",
      "000007DC.json\n",
      "000007DD.json\n",
      "000007DE.json\n",
      "000007DF.json\n"
     ]
    },
    {
     "name": "stderr",
     "output_type": "stream",
     "text": [
      " 63%|██████▎   | 2023/3232 [00:57<00:32, 37.74it/s]"
     ]
    },
    {
     "name": "stdout",
     "output_type": "stream",
     "text": [
      "000007E0.json\n",
      "000007E1.json\n",
      "000007E2.json\n",
      "000007E3.json\n",
      "000007E4.json\n",
      "000007E5.json\n",
      "000007E6.json\n"
     ]
    },
    {
     "name": "stderr",
     "output_type": "stream",
     "text": [
      " 63%|██████▎   | 2027/3232 [00:57<00:32, 36.92it/s]"
     ]
    },
    {
     "name": "stdout",
     "output_type": "stream",
     "text": [
      "000007E7.json\n",
      "000007E8.json\n",
      "000007E9.json\n",
      "000007EA.json\n",
      "000007EB.json\n",
      "000007EC.json\n",
      "000007ED.json\n",
      "000007EE.json\n"
     ]
    },
    {
     "name": "stderr",
     "output_type": "stream",
     "text": [
      " 63%|██████▎   | 2036/3232 [00:57<00:30, 38.65it/s]"
     ]
    },
    {
     "name": "stdout",
     "output_type": "stream",
     "text": [
      "000007EF.json\n",
      "000007F0.json\n",
      "000007F1.json\n",
      "000007F2.json\n",
      "000007F3.json\n",
      "000007F4.json\n",
      "000007F5.json\n",
      "000007F6.json\n",
      "000007F7.json\n"
     ]
    },
    {
     "name": "stderr",
     "output_type": "stream",
     "text": [
      " 63%|██████▎   | 2044/3232 [00:57<00:31, 37.84it/s]"
     ]
    },
    {
     "name": "stdout",
     "output_type": "stream",
     "text": [
      "000007F8.json\n",
      "000007F9.json\n",
      "000007FA.json\n",
      "000007FB.json\n",
      "000007FC.json\n",
      "000007FD.json\n",
      "000007FE.json\n",
      "000007FF.json\n"
     ]
    },
    {
     "name": "stderr",
     "output_type": "stream",
     "text": [
      " 63%|██████▎   | 2052/3232 [00:57<00:31, 37.45it/s]"
     ]
    },
    {
     "name": "stdout",
     "output_type": "stream",
     "text": [
      "00000800.json\n",
      "00000801.json\n",
      "00000802.json\n",
      "00000803.json\n",
      "00000804.json\n",
      "00000805.json\n",
      "00000806.json\n",
      "00000807.json\n",
      "00000808.json\n"
     ]
    },
    {
     "name": "stderr",
     "output_type": "stream",
     "text": [
      " 64%|██████▍   | 2062/3232 [00:58<00:29, 39.17it/s]"
     ]
    },
    {
     "name": "stdout",
     "output_type": "stream",
     "text": [
      "00000809.json\n",
      "0000080A.json\n",
      "0000080B.json\n",
      "0000080C.json\n",
      "0000080D.json\n",
      "0000080E.json\n",
      "0000080F.json\n",
      "00000810.json\n",
      "00000811.json\n"
     ]
    },
    {
     "name": "stderr",
     "output_type": "stream",
     "text": [
      " 64%|██████▍   | 2071/3232 [00:58<00:28, 40.76it/s]"
     ]
    },
    {
     "name": "stdout",
     "output_type": "stream",
     "text": [
      "00000812.json\n",
      "00000813.json\n",
      "00000814.json\n",
      "00000815.json\n",
      "00000816.json\n",
      "00000817.json\n",
      "00000818.json\n",
      "00000819.json\n",
      "0000081A.json\n",
      "0000081B.json\n"
     ]
    },
    {
     "name": "stderr",
     "output_type": "stream",
     "text": [
      " 64%|██████▍   | 2081/3232 [00:58<00:27, 41.92it/s]"
     ]
    },
    {
     "name": "stdout",
     "output_type": "stream",
     "text": [
      "0000081C.json\n",
      "0000081D.json\n",
      "0000081E.json\n",
      "0000081F.json\n",
      "00000820.json\n",
      "00000821.json\n",
      "00000822.json\n",
      "00000823.json\n",
      "00000824.json\n"
     ]
    },
    {
     "name": "stderr",
     "output_type": "stream",
     "text": [
      " 65%|██████▍   | 2091/3232 [00:58<00:28, 40.62it/s]"
     ]
    },
    {
     "name": "stdout",
     "output_type": "stream",
     "text": [
      "00000825.json\n",
      "00000826.json\n",
      "00000827.json\n",
      "00000828.json\n",
      "00000829.json\n",
      "0000082A.json\n",
      "0000082B.json\n",
      "0000082C.json\n"
     ]
    },
    {
     "name": "stderr",
     "output_type": "stream",
     "text": [
      " 65%|██████▌   | 2101/3232 [00:59<00:27, 40.77it/s]"
     ]
    },
    {
     "name": "stdout",
     "output_type": "stream",
     "text": [
      "0000082D.json\n",
      "0000082E.json\n",
      "0000082F.json\n",
      "00000830.json\n",
      "00000831.json\n",
      "00000832.json\n",
      "00000833.json\n",
      "00000834.json\n"
     ]
    },
    {
     "name": "stderr",
     "output_type": "stream",
     "text": [
      " 65%|██████▌   | 2106/3232 [00:59<00:28, 39.35it/s]"
     ]
    },
    {
     "name": "stdout",
     "output_type": "stream",
     "text": [
      "00000835.json\n",
      "00000836.json\n",
      "00000837.json\n",
      "00000838.json\n",
      "00000839.json\n",
      "0000083A.json\n",
      "0000083B.json\n"
     ]
    },
    {
     "name": "stderr",
     "output_type": "stream",
     "text": [
      " 65%|██████▌   | 2114/3232 [00:59<00:30, 37.20it/s]"
     ]
    },
    {
     "name": "stdout",
     "output_type": "stream",
     "text": [
      "0000083C.json\n",
      "0000083D.json\n",
      "0000083E.json\n",
      "0000083F.json\n",
      "00000840.json\n",
      "00000841.json\n",
      "00000842.json\n",
      "00000843.json\n"
     ]
    },
    {
     "name": "stderr",
     "output_type": "stream",
     "text": [
      " 66%|██████▌   | 2123/3232 [00:59<00:27, 39.61it/s]"
     ]
    },
    {
     "name": "stdout",
     "output_type": "stream",
     "text": [
      "00000844.json\n",
      "00000845.json\n",
      "00000846.json\n",
      "00000847.json\n",
      "00000848.json\n",
      "00000849.json\n",
      "0000084A.json\n",
      "0000084B.json\n",
      "0000084C.json\n"
     ]
    },
    {
     "name": "stderr",
     "output_type": "stream",
     "text": [
      " 66%|██████▌   | 2132/3232 [00:59<00:27, 39.29it/s]"
     ]
    },
    {
     "name": "stdout",
     "output_type": "stream",
     "text": [
      "0000084D.json\n",
      "0000084E.json\n",
      "0000084F.json\n",
      "00000850.json\n",
      "00000851.json\n",
      "00000852.json\n",
      "00000853.json\n"
     ]
    },
    {
     "name": "stderr",
     "output_type": "stream",
     "text": [
      " 66%|██████▌   | 2137/3232 [01:00<00:27, 39.30it/s]"
     ]
    },
    {
     "name": "stdout",
     "output_type": "stream",
     "text": [
      "00000854.json\n",
      "00000855.json\n",
      "00000856.json\n",
      "00000857.json\n",
      "00000858.json\n",
      "00000859.json\n",
      "0000085A.json\n",
      "0000085B.json\n"
     ]
    },
    {
     "name": "stderr",
     "output_type": "stream",
     "text": [
      " 66%|██████▋   | 2145/3232 [01:00<00:28, 37.59it/s]"
     ]
    },
    {
     "name": "stdout",
     "output_type": "stream",
     "text": [
      "0000085C.json\n",
      "0000085D.json\n",
      "0000085E.json\n",
      "0000085F.json\n",
      "00000860.json\n",
      "00000861.json\n",
      "00000862.json\n",
      "00000863.json\n"
     ]
    },
    {
     "name": "stderr",
     "output_type": "stream",
     "text": [
      " 67%|██████▋   | 2153/3232 [01:00<00:28, 37.62it/s]"
     ]
    },
    {
     "name": "stdout",
     "output_type": "stream",
     "text": [
      "00000864.json\n",
      "00000865.json\n",
      "00000866.json\n",
      "00000867.json\n",
      "00000868.json\n",
      "00000869.json\n",
      "0000086A.json\n",
      "0000086B.json\n"
     ]
    },
    {
     "name": "stderr",
     "output_type": "stream",
     "text": [
      " 67%|██████▋   | 2162/3232 [01:00<00:27, 39.31it/s]"
     ]
    },
    {
     "name": "stdout",
     "output_type": "stream",
     "text": [
      "0000086C.json\n",
      "0000086D.json\n",
      "0000086E.json\n",
      "0000086F.json\n",
      "00000870.json\n",
      "00000871.json\n",
      "00000872.json\n",
      "00000873.json\n"
     ]
    },
    {
     "name": "stderr",
     "output_type": "stream",
     "text": [
      " 67%|██████▋   | 2171/3232 [01:00<00:25, 41.96it/s]"
     ]
    },
    {
     "name": "stdout",
     "output_type": "stream",
     "text": [
      "00000874.json\n",
      "00000875.json\n",
      "00000876.json\n",
      "00000877.json\n",
      "00000878.json\n",
      "00000879.json\n",
      "0000087A.json\n",
      "0000087B.json\n",
      "0000087C.json\n",
      "0000087D.json\n"
     ]
    },
    {
     "name": "stderr",
     "output_type": "stream",
     "text": [
      " 67%|██████▋   | 2181/3232 [01:01<00:26, 40.08it/s]"
     ]
    },
    {
     "name": "stdout",
     "output_type": "stream",
     "text": [
      "0000087E.json\n",
      "0000087F.json\n",
      "00000880.json\n",
      "00000881.json\n",
      "00000882.json\n",
      "00000883.json\n",
      "00000884.json\n"
     ]
    },
    {
     "name": "stderr",
     "output_type": "stream",
     "text": [
      " 68%|██████▊   | 2186/3232 [01:01<00:25, 40.35it/s]"
     ]
    },
    {
     "name": "stdout",
     "output_type": "stream",
     "text": [
      "00000885.json\n",
      "00000886.json\n",
      "00000887.json\n",
      "00000888.json\n",
      "00000889.json\n",
      "0000088A.json\n",
      "0000088B.json\n",
      "0000088C.json\n",
      "0000088D.json\n"
     ]
    },
    {
     "name": "stderr",
     "output_type": "stream",
     "text": [
      " 68%|██████▊   | 2196/3232 [01:01<00:25, 41.40it/s]"
     ]
    },
    {
     "name": "stdout",
     "output_type": "stream",
     "text": [
      "0000088E.json\n",
      "0000088F.json\n",
      "00000890.json\n",
      "00000891.json\n",
      "00000892.json\n",
      "00000893.json\n",
      "00000894.json\n",
      "00000895.json\n",
      "00000896.json\n"
     ]
    },
    {
     "name": "stderr",
     "output_type": "stream",
     "text": [
      " 68%|██████▊   | 2206/3232 [01:01<00:23, 42.87it/s]"
     ]
    },
    {
     "name": "stdout",
     "output_type": "stream",
     "text": [
      "00000897.json\n",
      "00000898.json\n",
      "00000899.json\n",
      "0000089A.json\n",
      "0000089B.json\n",
      "0000089C.json\n",
      "0000089D.json\n",
      "0000089E.json\n",
      "0000089F.json\n",
      "000008A0.json\n"
     ]
    },
    {
     "name": "stderr",
     "output_type": "stream",
     "text": [
      " 69%|██████▊   | 2216/3232 [01:02<00:24, 41.51it/s]"
     ]
    },
    {
     "name": "stdout",
     "output_type": "stream",
     "text": [
      "000008A1.json\n",
      "000008A2.json\n",
      "000008A3.json\n",
      "000008A4.json\n",
      "000008A5.json\n",
      "000008A6.json\n",
      "000008A7.json\n",
      "000008A8.json\n",
      "000008A9.json\n",
      "000008AA.json\n"
     ]
    },
    {
     "name": "stderr",
     "output_type": "stream",
     "text": [
      " 69%|██████▊   | 2221/3232 [01:02<00:24, 40.58it/s]"
     ]
    },
    {
     "name": "stdout",
     "output_type": "stream",
     "text": [
      "000008AB.json\n",
      "000008AC.json\n",
      "000008AD.json\n",
      "000008AE.json\n",
      "000008AF.json\n",
      "000008B0.json\n",
      "000008B1.json\n"
     ]
    },
    {
     "name": "stderr",
     "output_type": "stream",
     "text": [
      " 69%|██████▉   | 2234/3232 [01:02<00:26, 38.03it/s]"
     ]
    },
    {
     "name": "stdout",
     "output_type": "stream",
     "text": [
      "000008B2.json\n",
      "000008B3.json\n",
      "000008B4.json\n",
      "000008B5.json\n",
      "000008B6.json\n",
      "000008B7.json\n",
      "000008B8.json\n",
      "000008B9.json\n"
     ]
    },
    {
     "name": "stderr",
     "output_type": "stream",
     "text": [
      " 69%|██████▉   | 2239/3232 [01:02<00:25, 38.75it/s]"
     ]
    },
    {
     "name": "stdout",
     "output_type": "stream",
     "text": [
      "000008BA.json\n",
      "000008BB.json\n",
      "000008BC.json\n",
      "000008BD.json\n",
      "000008BE.json\n",
      "000008BF.json\n",
      "000008C0.json\n",
      "000008C1.json\n",
      "000008C2.json\n"
     ]
    },
    {
     "name": "stderr",
     "output_type": "stream",
     "text": [
      " 70%|██████▉   | 2248/3232 [01:02<00:24, 39.94it/s]"
     ]
    },
    {
     "name": "stdout",
     "output_type": "stream",
     "text": [
      "000008C3.json\n",
      "000008C4.json\n",
      "000008C5.json\n",
      "000008C6.json\n",
      "000008C7.json\n",
      "000008C8.json\n",
      "000008C9.json\n",
      "000008CA.json\n"
     ]
    },
    {
     "name": "stderr",
     "output_type": "stream",
     "text": [
      " 70%|██████▉   | 2256/3232 [01:03<00:26, 37.50it/s]"
     ]
    },
    {
     "name": "stdout",
     "output_type": "stream",
     "text": [
      "000008CB.json\n",
      "000008CC.json\n",
      "000008CD.json\n",
      "000008CE.json\n",
      "000008CF.json\n",
      "000008D0.json\n",
      "000008D1.json\n",
      "000008D2.json\n",
      "000008D3.json\n"
     ]
    },
    {
     "name": "stderr",
     "output_type": "stream",
     "text": [
      " 70%|███████   | 2265/3232 [01:03<00:25, 38.67it/s]"
     ]
    },
    {
     "name": "stdout",
     "output_type": "stream",
     "text": [
      "000008D4.json\n",
      "000008D5.json\n",
      "000008D6.json\n",
      "000008D7.json\n",
      "000008D8.json\n",
      "000008D9.json\n",
      "000008DA.json\n"
     ]
    },
    {
     "name": "stderr",
     "output_type": "stream",
     "text": [
      " 70%|███████   | 2274/3232 [01:03<00:24, 39.49it/s]"
     ]
    },
    {
     "name": "stdout",
     "output_type": "stream",
     "text": [
      "000008DB.json\n",
      "000008DC.json\n",
      "000008DD.json\n",
      "000008DE.json\n",
      "000008DF.json\n",
      "000008E0.json\n",
      "000008E1.json\n",
      "000008E2.json\n",
      "000008E3.json\n"
     ]
    },
    {
     "name": "stderr",
     "output_type": "stream",
     "text": [
      " 71%|███████   | 2282/3232 [01:03<00:25, 37.03it/s]"
     ]
    },
    {
     "name": "stdout",
     "output_type": "stream",
     "text": [
      "000008E4.json\n",
      "000008E5.json\n",
      "000008E6.json\n",
      "000008E7.json\n",
      "000008E8.json\n",
      "000008E9.json\n",
      "000008EA.json\n",
      "000008EB.json\n"
     ]
    },
    {
     "name": "stderr",
     "output_type": "stream",
     "text": [
      " 71%|███████   | 2291/3232 [01:03<00:24, 39.04it/s]"
     ]
    },
    {
     "name": "stdout",
     "output_type": "stream",
     "text": [
      "000008EC.json\n",
      "000008ED.json\n",
      "000008EE.json\n",
      "000008EF.json\n",
      "000008F0.json\n",
      "000008F1.json\n",
      "000008F2.json\n",
      "000008F3.json\n",
      "000008F4.json\n"
     ]
    },
    {
     "name": "stderr",
     "output_type": "stream",
     "text": [
      " 71%|███████   | 2296/3232 [01:04<00:22, 40.70it/s]"
     ]
    },
    {
     "name": "stdout",
     "output_type": "stream",
     "text": [
      "000008F5.json\n",
      "000008F6.json\n",
      "000008F7.json\n",
      "000008F8.json\n",
      "000008F9.json\n",
      "000008FA.json\n",
      "000008FB.json\n",
      "000008FC.json\n"
     ]
    },
    {
     "name": "stderr",
     "output_type": "stream",
     "text": [
      " 71%|███████▏  | 2306/3232 [01:04<00:23, 39.08it/s]"
     ]
    },
    {
     "name": "stdout",
     "output_type": "stream",
     "text": [
      "000008FD.json\n",
      "000008FE.json\n",
      "000008FF.json\n",
      "00000900.json\n",
      "00000901.json\n",
      "00000902.json\n",
      "00000903.json\n",
      "00000904.json\n",
      "00000905.json\n"
     ]
    },
    {
     "name": "stderr",
     "output_type": "stream",
     "text": [
      " 72%|███████▏  | 2314/3232 [01:04<00:24, 37.84it/s]"
     ]
    },
    {
     "name": "stdout",
     "output_type": "stream",
     "text": [
      "00000906.json\n",
      "00000907.json\n",
      "00000908.json\n",
      "00000909.json\n",
      "0000090A.json\n",
      "0000090B.json\n",
      "0000090C.json\n",
      "0000090D.json\n"
     ]
    },
    {
     "name": "stderr",
     "output_type": "stream",
     "text": [
      " 72%|███████▏  | 2322/3232 [01:04<00:23, 38.00it/s]"
     ]
    },
    {
     "name": "stdout",
     "output_type": "stream",
     "text": [
      "0000090E.json\n",
      "0000090F.json\n",
      "00000910.json\n",
      "00000911.json\n",
      "00000912.json\n",
      "00000913.json\n",
      "00000914.json\n",
      "00000915.json\n",
      "00000916.json\n"
     ]
    },
    {
     "name": "stderr",
     "output_type": "stream",
     "text": [
      " 72%|███████▏  | 2332/3232 [01:05<00:21, 41.09it/s]"
     ]
    },
    {
     "name": "stdout",
     "output_type": "stream",
     "text": [
      "00000917.json\n",
      "00000918.json\n",
      "00000919.json\n",
      "0000091A.json\n",
      "0000091B.json\n",
      "0000091C.json\n",
      "0000091D.json\n",
      "0000091E.json\n",
      "0000091F.json\n"
     ]
    },
    {
     "name": "stderr",
     "output_type": "stream",
     "text": [
      " 72%|███████▏  | 2341/3232 [01:05<00:22, 38.87it/s]"
     ]
    },
    {
     "name": "stdout",
     "output_type": "stream",
     "text": [
      "00000920.json\n",
      "00000921.json\n",
      "00000922.json\n",
      "00000923.json\n",
      "00000924.json\n",
      "00000925.json\n",
      "00000926.json\n",
      "00000927.json\n",
      "00000928.json\n"
     ]
    },
    {
     "name": "stderr",
     "output_type": "stream",
     "text": [
      " 73%|███████▎  | 2351/3232 [01:05<00:20, 42.39it/s]"
     ]
    },
    {
     "name": "stdout",
     "output_type": "stream",
     "text": [
      "00000929.json\n",
      "0000092A.json\n",
      "0000092B.json\n",
      "0000092C.json\n",
      "0000092D.json\n",
      "0000092E.json\n",
      "0000092F.json\n",
      "00000930.json\n",
      "00000931.json\n"
     ]
    },
    {
     "name": "stderr",
     "output_type": "stream",
     "text": [
      " 73%|███████▎  | 2361/3232 [01:05<00:21, 41.33it/s]"
     ]
    },
    {
     "name": "stdout",
     "output_type": "stream",
     "text": [
      "00000932.json\n",
      "00000933.json\n",
      "00000934.json\n",
      "00000935.json\n",
      "00000936.json\n",
      "00000937.json\n",
      "00000938.json\n",
      "00000939.json\n",
      "0000093A.json\n"
     ]
    },
    {
     "name": "stderr",
     "output_type": "stream",
     "text": [
      " 73%|███████▎  | 2371/3232 [01:05<00:21, 40.04it/s]"
     ]
    },
    {
     "name": "stdout",
     "output_type": "stream",
     "text": [
      "0000093B.json\n",
      "0000093C.json\n",
      "0000093D.json\n",
      "0000093E.json\n",
      "0000093F.json\n",
      "00000940.json\n",
      "00000941.json\n",
      "00000942.json\n"
     ]
    },
    {
     "name": "stderr",
     "output_type": "stream",
     "text": [
      " 74%|███████▎  | 2376/3232 [01:06<00:22, 38.63it/s]"
     ]
    },
    {
     "name": "stdout",
     "output_type": "stream",
     "text": [
      "00000943.json\n",
      "00000944.json\n",
      "00000945.json\n",
      "00000946.json\n",
      "00000947.json\n",
      "00000948.json\n",
      "00000949.json\n",
      "0000094A.json\n"
     ]
    },
    {
     "name": "stderr",
     "output_type": "stream",
     "text": [
      " 74%|███████▍  | 2384/3232 [01:06<00:21, 38.65it/s]"
     ]
    },
    {
     "name": "stdout",
     "output_type": "stream",
     "text": [
      "0000094B.json\n",
      "0000094C.json\n",
      "0000094D.json\n",
      "0000094E.json\n",
      "0000094F.json\n",
      "00000950.json\n",
      "00000951.json\n",
      "00000952.json\n",
      "00000953.json\n"
     ]
    },
    {
     "name": "stderr",
     "output_type": "stream",
     "text": [
      " 74%|███████▍  | 2396/3232 [01:06<00:21, 39.24it/s]"
     ]
    },
    {
     "name": "stdout",
     "output_type": "stream",
     "text": [
      "00000954.json\n",
      "00000955.json\n",
      "00000956.json\n",
      "00000957.json\n",
      "00000958.json\n",
      "00000959.json\n",
      "0000095A.json\n",
      "0000095B.json\n"
     ]
    },
    {
     "name": "stderr",
     "output_type": "stream",
     "text": [
      " 74%|███████▍  | 2400/3232 [01:06<00:21, 39.13it/s]"
     ]
    },
    {
     "name": "stdout",
     "output_type": "stream",
     "text": [
      "0000095C.json\n",
      "0000095D.json\n",
      "0000095E.json\n",
      "0000095F.json\n",
      "00000960.json\n",
      "00000961.json\n",
      "00000962.json\n",
      "00000963.json\n",
      "00000964.json\n"
     ]
    },
    {
     "name": "stderr",
     "output_type": "stream",
     "text": [
      " 75%|███████▍  | 2410/3232 [01:06<00:20, 40.02it/s]"
     ]
    },
    {
     "name": "stdout",
     "output_type": "stream",
     "text": [
      "00000965.json\n",
      "00000966.json\n",
      "00000967.json\n",
      "00000968.json\n",
      "00000969.json\n",
      "0000096A.json\n",
      "0000096B.json\n",
      "0000096C.json\n",
      "0000096D.json\n"
     ]
    },
    {
     "name": "stderr",
     "output_type": "stream",
     "text": [
      " 75%|███████▍  | 2420/3232 [01:07<00:20, 40.01it/s]"
     ]
    },
    {
     "name": "stdout",
     "output_type": "stream",
     "text": [
      "0000096E.json\n",
      "0000096F.json\n",
      "00000970.json\n",
      "00000971.json\n",
      "00000972.json\n",
      "00000973.json\n",
      "00000974.json\n",
      "00000975.json\n",
      "00000976.json\n"
     ]
    },
    {
     "name": "stderr",
     "output_type": "stream",
     "text": [
      " 75%|███████▌  | 2430/3232 [01:07<00:19, 40.73it/s]"
     ]
    },
    {
     "name": "stdout",
     "output_type": "stream",
     "text": [
      "00000977.json\n",
      "00000978.json\n",
      "00000979.json\n",
      "0000097A.json\n",
      "0000097B.json\n",
      "0000097C.json\n",
      "0000097D.json\n",
      "0000097E.json\n",
      "0000097F.json\n"
     ]
    },
    {
     "name": "stderr",
     "output_type": "stream",
     "text": [
      " 75%|███████▌  | 2435/3232 [01:07<00:20, 38.75it/s]"
     ]
    },
    {
     "name": "stdout",
     "output_type": "stream",
     "text": [
      "00000980.json\n",
      "00000981.json\n",
      "00000982.json\n",
      "00000983.json\n",
      "00000984.json\n",
      "00000985.json\n",
      "00000986.json\n",
      "00000987.json\n"
     ]
    },
    {
     "name": "stderr",
     "output_type": "stream",
     "text": [
      " 76%|███████▌  | 2445/3232 [01:07<00:19, 40.23it/s]"
     ]
    },
    {
     "name": "stdout",
     "output_type": "stream",
     "text": [
      "00000988.json\n",
      "00000989.json\n",
      "0000098A.json\n",
      "0000098B.json\n",
      "0000098C.json\n",
      "0000098D.json\n",
      "0000098E.json\n",
      "0000098F.json\n",
      "00000990.json\n"
     ]
    },
    {
     "name": "stderr",
     "output_type": "stream",
     "text": [
      " 76%|███████▌  | 2455/3232 [01:08<00:20, 38.39it/s]"
     ]
    },
    {
     "name": "stdout",
     "output_type": "stream",
     "text": [
      "00000991.json\n",
      "00000992.json\n",
      "00000993.json\n",
      "00000994.json\n",
      "00000995.json\n",
      "00000996.json\n",
      "00000997.json\n",
      "00000998.json\n"
     ]
    },
    {
     "name": "stderr",
     "output_type": "stream",
     "text": [
      " 76%|███████▌  | 2464/3232 [01:08<00:19, 39.23it/s]"
     ]
    },
    {
     "name": "stdout",
     "output_type": "stream",
     "text": [
      "00000999.json\n",
      "0000099A.json\n",
      "0000099B.json\n",
      "0000099C.json\n",
      "0000099D.json\n",
      "0000099E.json\n",
      "0000099F.json\n",
      "000009A0.json\n",
      "000009A1.json\n"
     ]
    },
    {
     "name": "stderr",
     "output_type": "stream",
     "text": [
      " 77%|███████▋  | 2473/3232 [01:08<00:19, 38.29it/s]"
     ]
    },
    {
     "name": "stdout",
     "output_type": "stream",
     "text": [
      "000009A2.json\n",
      "000009A3.json\n",
      "000009A4.json\n",
      "000009A5.json\n",
      "000009A6.json\n",
      "000009A7.json\n",
      "000009A8.json\n"
     ]
    },
    {
     "name": "stderr",
     "output_type": "stream",
     "text": [
      " 77%|███████▋  | 2481/3232 [01:08<00:19, 38.73it/s]"
     ]
    },
    {
     "name": "stdout",
     "output_type": "stream",
     "text": [
      "000009A9.json\n",
      "000009AA.json\n",
      "000009AB.json\n",
      "000009AC.json\n",
      "000009AD.json\n",
      "000009AE.json\n",
      "000009AF.json\n",
      "000009B0.json\n"
     ]
    },
    {
     "name": "stderr",
     "output_type": "stream",
     "text": [
      " 77%|███████▋  | 2486/3232 [01:08<00:18, 39.73it/s]"
     ]
    },
    {
     "name": "stdout",
     "output_type": "stream",
     "text": [
      "000009B1.json\n",
      "000009B2.json\n",
      "000009B3.json\n",
      "000009B4.json\n",
      "000009B5.json\n",
      "000009B6.json\n",
      "000009B7.json\n",
      "000009B8.json\n",
      "000009B9.json\n"
     ]
    },
    {
     "name": "stderr",
     "output_type": "stream",
     "text": [
      " 77%|███████▋  | 2496/3232 [01:09<00:19, 38.11it/s]"
     ]
    },
    {
     "name": "stdout",
     "output_type": "stream",
     "text": [
      "000009BA.json\n",
      "000009BB.json\n",
      "000009BC.json\n",
      "000009BD.json\n",
      "000009BE.json\n",
      "000009BF.json\n",
      "000009C0.json\n",
      "000009C1.json\n"
     ]
    },
    {
     "name": "stderr",
     "output_type": "stream",
     "text": [
      " 77%|███████▋  | 2504/3232 [01:09<00:19, 37.65it/s]"
     ]
    },
    {
     "name": "stdout",
     "output_type": "stream",
     "text": [
      "000009C2.json\n",
      "000009C3.json\n",
      "000009C4.json\n",
      "000009C5.json\n",
      "000009C6.json\n",
      "000009C7.json\n",
      "000009C8.json\n"
     ]
    },
    {
     "name": "stderr",
     "output_type": "stream",
     "text": [
      " 78%|███████▊  | 2512/3232 [01:09<00:19, 36.52it/s]"
     ]
    },
    {
     "name": "stdout",
     "output_type": "stream",
     "text": [
      "000009C9.json\n",
      "000009CA.json\n",
      "000009CB.json\n",
      "000009CC.json\n",
      "000009CD.json\n",
      "000009CE.json\n",
      "000009CF.json\n"
     ]
    },
    {
     "name": "stderr",
     "output_type": "stream",
     "text": [
      " 78%|███████▊  | 2516/3232 [01:09<00:19, 37.31it/s]"
     ]
    },
    {
     "name": "stdout",
     "output_type": "stream",
     "text": [
      "000009D0.json\n",
      "000009D1.json\n",
      "000009D2.json\n",
      "000009D3.json\n",
      "000009D4.json\n",
      "000009D5.json\n",
      "000009D6.json\n",
      "000009D7.json\n"
     ]
    },
    {
     "name": "stderr",
     "output_type": "stream",
     "text": [
      " 78%|███████▊  | 2525/3232 [01:09<00:18, 38.46it/s]"
     ]
    },
    {
     "name": "stdout",
     "output_type": "stream",
     "text": [
      "000009D8.json\n",
      "000009D9.json\n",
      "000009DA.json\n",
      "000009DB.json\n",
      "000009DC.json\n",
      "000009DD.json\n",
      "000009DE.json\n",
      "000009DF.json\n",
      "000009E0.json\n"
     ]
    },
    {
     "name": "stderr",
     "output_type": "stream",
     "text": [
      " 78%|███████▊  | 2535/3232 [01:10<00:17, 39.89it/s]"
     ]
    },
    {
     "name": "stdout",
     "output_type": "stream",
     "text": [
      "000009E1.json\n",
      "000009E2.json\n",
      "000009E3.json\n",
      "000009E4.json\n",
      "000009E5.json\n",
      "000009E6.json\n",
      "000009E7.json\n",
      "000009E8.json\n"
     ]
    },
    {
     "name": "stderr",
     "output_type": "stream",
     "text": [
      " 79%|███████▊  | 2540/3232 [01:10<00:17, 38.54it/s]"
     ]
    },
    {
     "name": "stdout",
     "output_type": "stream",
     "text": [
      "000009E9.json\n",
      "000009EA.json\n",
      "000009EB.json\n",
      "000009EC.json\n",
      "000009ED.json\n",
      "000009EE.json\n",
      "000009EF.json\n"
     ]
    },
    {
     "name": "stderr",
     "output_type": "stream",
     "text": [
      " 79%|███████▉  | 2549/3232 [01:10<00:17, 38.18it/s]"
     ]
    },
    {
     "name": "stdout",
     "output_type": "stream",
     "text": [
      "000009F0.json\n",
      "000009F1.json\n",
      "000009F2.json\n",
      "000009F3.json\n",
      "000009F4.json\n",
      "000009F5.json\n",
      "000009F6.json\n",
      "000009F7.json\n",
      "000009F8.json\n"
     ]
    },
    {
     "name": "stderr",
     "output_type": "stream",
     "text": [
      " 79%|███████▉  | 2558/3232 [01:10<00:16, 39.83it/s]"
     ]
    },
    {
     "name": "stdout",
     "output_type": "stream",
     "text": [
      "000009F9.json\n",
      "000009FA.json\n",
      "000009FB.json\n",
      "000009FC.json\n",
      "000009FD.json\n",
      "000009FE.json\n",
      "000009FF.json\n",
      "00000A00.json\n",
      "00000A01.json\n"
     ]
    },
    {
     "name": "stderr",
     "output_type": "stream",
     "text": [
      " 80%|███████▉  | 2570/3232 [01:11<00:17, 38.46it/s]"
     ]
    },
    {
     "name": "stdout",
     "output_type": "stream",
     "text": [
      "00000A02.json\n",
      "00000A03.json\n",
      "00000A04.json\n",
      "00000A05.json\n",
      "00000A06.json\n",
      "00000A07.json\n",
      "00000A08.json\n",
      "00000A09.json\n"
     ]
    },
    {
     "name": "stderr",
     "output_type": "stream",
     "text": [
      " 80%|███████▉  | 2574/3232 [01:11<00:17, 38.35it/s]"
     ]
    },
    {
     "name": "stdout",
     "output_type": "stream",
     "text": [
      "00000A0A.json\n",
      "00000A0B.json\n",
      "00000A0C.json\n",
      "00000A0D.json\n",
      "00000A0E.json\n",
      "00000A0F.json\n",
      "00000A10.json\n",
      "00000A11.json\n"
     ]
    },
    {
     "name": "stderr",
     "output_type": "stream",
     "text": [
      " 80%|███████▉  | 2583/3232 [01:11<00:17, 37.62it/s]"
     ]
    },
    {
     "name": "stdout",
     "output_type": "stream",
     "text": [
      "00000A12.json\n",
      "00000A13.json\n",
      "00000A14.json\n",
      "00000A15.json\n",
      "00000A16.json\n",
      "00000A17.json\n",
      "00000A18.json\n",
      "00000A19.json\n"
     ]
    },
    {
     "name": "stderr",
     "output_type": "stream",
     "text": [
      " 80%|████████  | 2592/3232 [01:11<00:17, 36.97it/s]"
     ]
    },
    {
     "name": "stdout",
     "output_type": "stream",
     "text": [
      "00000A1A.json\n",
      "00000A1B.json\n",
      "00000A1C.json\n",
      "00000A1D.json\n",
      "00000A1E.json\n",
      "00000A1F.json\n",
      "00000A20.json\n",
      "00000A21.json\n"
     ]
    },
    {
     "name": "stderr",
     "output_type": "stream",
     "text": [
      " 80%|████████  | 2600/3232 [01:11<00:17, 36.61it/s]"
     ]
    },
    {
     "name": "stdout",
     "output_type": "stream",
     "text": [
      "00000A22.json\n",
      "00000A23.json\n",
      "00000A24.json\n",
      "00000A25.json\n",
      "00000A26.json\n",
      "00000A27.json\n",
      "00000A28.json\n",
      "00000A29.json\n"
     ]
    },
    {
     "name": "stderr",
     "output_type": "stream",
     "text": [
      " 81%|████████  | 2609/3232 [01:12<00:16, 37.78it/s]"
     ]
    },
    {
     "name": "stdout",
     "output_type": "stream",
     "text": [
      "00000A2A.json\n",
      "00000A2B.json\n",
      "00000A2C.json\n",
      "00000A2D.json\n",
      "00000A2E.json\n",
      "00000A2F.json\n",
      "00000A30.json\n",
      "00000A31.json\n",
      "00000A32.json\n"
     ]
    },
    {
     "name": "stderr",
     "output_type": "stream",
     "text": [
      " 81%|████████  | 2617/3232 [01:12<00:16, 36.86it/s]"
     ]
    },
    {
     "name": "stdout",
     "output_type": "stream",
     "text": [
      "00000A33.json\n",
      "00000A34.json\n",
      "00000A35.json\n",
      "00000A36.json\n",
      "00000A37.json\n",
      "00000A38.json\n",
      "00000A39.json\n",
      "00000A3A.json\n"
     ]
    },
    {
     "name": "stderr",
     "output_type": "stream",
     "text": [
      " 81%|████████▏ | 2626/3232 [01:12<00:16, 36.51it/s]"
     ]
    },
    {
     "name": "stdout",
     "output_type": "stream",
     "text": [
      "00000A3B.json\n",
      "00000A3C.json\n",
      "00000A3D.json\n",
      "00000A3E.json\n",
      "00000A3F.json\n",
      "00000A40.json\n",
      "00000A41.json\n"
     ]
    },
    {
     "name": "stderr",
     "output_type": "stream",
     "text": [
      " 81%|████████▏ | 2631/3232 [01:12<00:16, 37.54it/s]"
     ]
    },
    {
     "name": "stdout",
     "output_type": "stream",
     "text": [
      "00000A42.json\n",
      "00000A43.json\n",
      "00000A44.json\n",
      "00000A45.json\n",
      "00000A46.json\n",
      "00000A47.json\n",
      "00000A48.json\n",
      "00000A49.json\n",
      "00000A4A.json\n"
     ]
    },
    {
     "name": "stderr",
     "output_type": "stream",
     "text": [
      " 82%|████████▏ | 2640/3232 [01:12<00:14, 39.81it/s]"
     ]
    },
    {
     "name": "stdout",
     "output_type": "stream",
     "text": [
      "00000A4B.json\n",
      "00000A4C.json\n",
      "00000A4D.json\n",
      "00000A4E.json\n",
      "00000A4F.json\n",
      "00000A50.json\n",
      "00000A51.json\n",
      "00000A52.json\n",
      "00000A53.json\n"
     ]
    },
    {
     "name": "stderr",
     "output_type": "stream",
     "text": [
      " 82%|████████▏ | 2649/3232 [01:13<00:14, 39.54it/s]"
     ]
    },
    {
     "name": "stdout",
     "output_type": "stream",
     "text": [
      "00000A54.json\n",
      "00000A55.json\n",
      "00000A56.json\n",
      "00000A57.json\n",
      "00000A58.json\n",
      "00000A59.json\n",
      "00000A5A.json\n",
      "00000A5B.json\n"
     ]
    },
    {
     "name": "stderr",
     "output_type": "stream",
     "text": [
      " 82%|████████▏ | 2657/3232 [01:13<00:15, 36.36it/s]"
     ]
    },
    {
     "name": "stdout",
     "output_type": "stream",
     "text": [
      "00000A5C.json\n",
      "00000A5D.json\n",
      "00000A5E.json\n",
      "00000A5F.json\n",
      "00000A60.json\n",
      "00000A61.json\n",
      "00000A62.json\n",
      "00000A63.json\n"
     ]
    },
    {
     "name": "stderr",
     "output_type": "stream",
     "text": [
      " 82%|████████▏ | 2665/3232 [01:13<00:15, 36.70it/s]"
     ]
    },
    {
     "name": "stdout",
     "output_type": "stream",
     "text": [
      "00000A64.json\n",
      "00000A65.json\n",
      "00000A66.json\n",
      "00000A67.json\n",
      "00000A68.json\n",
      "00000A69.json\n",
      "00000A6A.json\n",
      "00000A6B.json\n"
     ]
    },
    {
     "name": "stderr",
     "output_type": "stream",
     "text": [
      " 83%|████████▎ | 2674/3232 [01:13<00:14, 38.70it/s]"
     ]
    },
    {
     "name": "stdout",
     "output_type": "stream",
     "text": [
      "00000A6C.json\n",
      "00000A6D.json\n",
      "00000A6E.json\n",
      "00000A6F.json\n",
      "00000A70.json\n",
      "00000A71.json\n",
      "00000A72.json\n",
      "00000A73.json\n",
      "00000A74.json\n",
      "00000A75.json\n"
     ]
    },
    {
     "name": "stderr",
     "output_type": "stream",
     "text": [
      " 83%|████████▎ | 2684/3232 [01:14<00:13, 40.27it/s]"
     ]
    },
    {
     "name": "stdout",
     "output_type": "stream",
     "text": [
      "00000A76.json\n",
      "00000A77.json\n",
      "00000A78.json\n",
      "00000A79.json\n",
      "00000A7A.json\n",
      "00000A7B.json\n",
      "00000A7C.json\n",
      "00000A7D.json\n",
      "00000A7E.json\n"
     ]
    },
    {
     "name": "stderr",
     "output_type": "stream",
     "text": [
      " 83%|████████▎ | 2693/3232 [01:14<00:13, 38.67it/s]"
     ]
    },
    {
     "name": "stdout",
     "output_type": "stream",
     "text": [
      "00000A7F.json\n",
      "00000A80.json\n",
      "00000A81.json\n",
      "00000A82.json\n",
      "00000A83.json\n",
      "00000A84.json\n",
      "00000A85.json\n",
      "00000A86.json\n"
     ]
    },
    {
     "name": "stderr",
     "output_type": "stream",
     "text": [
      " 84%|████████▎ | 2701/3232 [01:14<00:14, 36.56it/s]"
     ]
    },
    {
     "name": "stdout",
     "output_type": "stream",
     "text": [
      "00000A87.json\n",
      "00000A88.json\n",
      "00000A89.json\n",
      "00000A8A.json\n",
      "00000A8B.json\n",
      "00000A8C.json\n",
      "00000A8D.json\n",
      "00000A8E.json\n",
      "00000A8F.json\n"
     ]
    },
    {
     "name": "stderr",
     "output_type": "stream",
     "text": [
      " 84%|████████▍ | 2709/3232 [01:14<00:14, 35.16it/s]"
     ]
    },
    {
     "name": "stdout",
     "output_type": "stream",
     "text": [
      "00000A90.json\n",
      "00000A91.json\n",
      "00000A92.json\n",
      "00000A93.json\n",
      "00000A94.json\n",
      "00000A95.json\n",
      "00000A96.json\n",
      "00000A97.json\n"
     ]
    },
    {
     "name": "stderr",
     "output_type": "stream",
     "text": [
      " 84%|████████▍ | 2717/3232 [01:15<00:14, 35.67it/s]"
     ]
    },
    {
     "name": "stdout",
     "output_type": "stream",
     "text": [
      "00000A98.json\n",
      "00000A99.json\n",
      "00000A9A.json\n",
      "00000A9B.json\n",
      "00000A9C.json\n",
      "00000A9D.json\n",
      "00000A9E.json\n",
      "00000A9F.json\n",
      "00000AA0.json\n"
     ]
    },
    {
     "name": "stderr",
     "output_type": "stream",
     "text": [
      " 84%|████████▍ | 2727/3232 [01:15<00:12, 39.80it/s]"
     ]
    },
    {
     "name": "stdout",
     "output_type": "stream",
     "text": [
      "00000AA1.json\n",
      "00000AA2.json\n",
      "00000AA3.json\n",
      "00000AA4.json\n",
      "00000AA5.json\n",
      "00000AA6.json\n",
      "00000AA7.json\n",
      "00000AA8.json\n",
      "00000AA9.json\n",
      "00000AAA.json\n"
     ]
    },
    {
     "name": "stderr",
     "output_type": "stream",
     "text": [
      " 85%|████████▍ | 2737/3232 [01:15<00:11, 41.41it/s]"
     ]
    },
    {
     "name": "stdout",
     "output_type": "stream",
     "text": [
      "00000AAB.json\n",
      "00000AAC.json\n",
      "00000AAD.json\n",
      "00000AAE.json\n",
      "00000AAF.json\n",
      "00000AB0.json\n",
      "00000AB1.json\n",
      "00000AB2.json\n"
     ]
    },
    {
     "name": "stderr",
     "output_type": "stream",
     "text": [
      " 85%|████████▍ | 2746/3232 [01:15<00:12, 39.40it/s]"
     ]
    },
    {
     "name": "stdout",
     "output_type": "stream",
     "text": [
      "00000AB3.json\n",
      "00000AB4.json\n",
      "00000AB5.json\n",
      "00000AB6.json\n",
      "00000AB7.json\n",
      "00000AB8.json\n",
      "00000AB9.json\n",
      "00000ABA.json\n"
     ]
    },
    {
     "name": "stderr",
     "output_type": "stream",
     "text": [
      " 85%|████████▌ | 2755/3232 [01:15<00:11, 39.92it/s]"
     ]
    },
    {
     "name": "stdout",
     "output_type": "stream",
     "text": [
      "00000ABB.json\n",
      "00000ABC.json\n",
      "00000ABD.json\n",
      "00000ABE.json\n",
      "00000ABF.json\n",
      "00000AC0.json\n",
      "00000AC1.json\n",
      "00000AC2.json\n",
      "00000AC3.json\n",
      "00000AC4.json\n"
     ]
    },
    {
     "name": "stderr",
     "output_type": "stream",
     "text": [
      " 86%|████████▌ | 2765/3232 [01:16<00:11, 42.32it/s]"
     ]
    },
    {
     "name": "stdout",
     "output_type": "stream",
     "text": [
      "00000AC5.json\n",
      "00000AC6.json\n",
      "00000AC7.json\n",
      "00000AC8.json\n",
      "00000AC9.json\n",
      "00000ACA.json\n",
      "00000ACB.json\n",
      "00000ACC.json\n"
     ]
    },
    {
     "name": "stderr",
     "output_type": "stream",
     "text": [
      " 86%|████████▌ | 2770/3232 [01:16<00:10, 42.27it/s]"
     ]
    },
    {
     "name": "stdout",
     "output_type": "stream",
     "text": [
      "00000ACD.json\n",
      "00000ACE.json\n",
      "00000ACF.json\n",
      "00000AD0.json\n",
      "00000AD1.json\n",
      "00000AD2.json\n",
      "00000AD3.json\n",
      "00000AD4.json\n",
      "00000AD5.json\n",
      "00000AD6.json\n"
     ]
    },
    {
     "name": "stderr",
     "output_type": "stream",
     "text": [
      " 86%|████████▌ | 2780/3232 [01:16<00:11, 40.53it/s]"
     ]
    },
    {
     "name": "stdout",
     "output_type": "stream",
     "text": [
      "00000AD7.json\n",
      "00000AD8.json\n",
      "00000AD9.json\n",
      "00000ADA.json\n",
      "00000ADB.json\n",
      "00000ADC.json\n",
      "00000ADD.json\n",
      "00000ADE.json\n"
     ]
    },
    {
     "name": "stderr",
     "output_type": "stream",
     "text": [
      " 86%|████████▋ | 2790/3232 [01:16<00:11, 38.68it/s]"
     ]
    },
    {
     "name": "stdout",
     "output_type": "stream",
     "text": [
      "00000ADF.json\n",
      "00000AE0.json\n",
      "00000AE1.json\n",
      "00000AE2.json\n",
      "00000AE3.json\n",
      "00000AE4.json\n",
      "00000AE5.json\n"
     ]
    },
    {
     "name": "stderr",
     "output_type": "stream",
     "text": [
      " 86%|████████▋ | 2794/3232 [01:16<00:11, 37.83it/s]"
     ]
    },
    {
     "name": "stdout",
     "output_type": "stream",
     "text": [
      "00000AE6.json\n",
      "00000AE7.json\n",
      "00000AE8.json\n",
      "00000AE9.json\n",
      "00000AEA.json\n",
      "00000AEB.json\n",
      "00000AEC.json\n",
      "00000AED.json\n"
     ]
    },
    {
     "name": "stderr",
     "output_type": "stream",
     "text": [
      " 87%|████████▋ | 2803/3232 [01:17<00:10, 39.18it/s]"
     ]
    },
    {
     "name": "stdout",
     "output_type": "stream",
     "text": [
      "00000AEE.json\n",
      "00000AEF.json\n",
      "00000AF0.json\n",
      "00000AF1.json\n",
      "00000AF2.json\n",
      "00000AF3.json\n",
      "00000AF4.json\n",
      "00000AF5.json\n"
     ]
    },
    {
     "name": "stderr",
     "output_type": "stream",
     "text": [
      " 87%|████████▋ | 2812/3232 [01:17<00:11, 37.39it/s]"
     ]
    },
    {
     "name": "stdout",
     "output_type": "stream",
     "text": [
      "00000AF6.json\n",
      "00000AF7.json\n",
      "00000AF8.json\n",
      "00000AF9.json\n",
      "00000AFA.json\n",
      "00000AFB.json\n",
      "00000AFC.json\n",
      "00000AFD.json\n",
      "00000AFE.json\n",
      "00000AFF.json\n"
     ]
    },
    {
     "name": "stderr",
     "output_type": "stream",
     "text": [
      " 87%|████████▋ | 2822/3232 [01:17<00:10, 40.08it/s]"
     ]
    },
    {
     "name": "stdout",
     "output_type": "stream",
     "text": [
      "00000B00.json\n",
      "00000B01.json\n",
      "00000B02.json\n",
      "00000B03.json\n",
      "00000B04.json\n",
      "00000B05.json\n",
      "00000B06.json\n",
      "00000B07.json\n",
      "00000B08.json\n"
     ]
    },
    {
     "name": "stderr",
     "output_type": "stream",
     "text": [
      " 88%|████████▊ | 2832/3232 [01:17<00:09, 41.68it/s]"
     ]
    },
    {
     "name": "stdout",
     "output_type": "stream",
     "text": [
      "00000B09.json\n",
      "00000B0A.json\n",
      "00000B0B.json\n",
      "00000B0C.json\n",
      "00000B0D.json\n",
      "00000B0E.json\n",
      "00000B0F.json\n",
      "00000B10.json\n",
      "00000B11.json\n"
     ]
    },
    {
     "name": "stderr",
     "output_type": "stream",
     "text": [
      " 88%|████████▊ | 2842/3232 [01:18<00:09, 40.87it/s]"
     ]
    },
    {
     "name": "stdout",
     "output_type": "stream",
     "text": [
      "00000B12.json\n",
      "00000B13.json\n",
      "00000B14.json\n",
      "00000B15.json\n",
      "00000B16.json\n",
      "00000B17.json\n",
      "00000B18.json\n",
      "00000B19.json\n"
     ]
    },
    {
     "name": "stderr",
     "output_type": "stream",
     "text": [
      " 88%|████████▊ | 2847/3232 [01:18<00:09, 39.07it/s]"
     ]
    },
    {
     "name": "stdout",
     "output_type": "stream",
     "text": [
      "00000B1A.json\n",
      "00000B1B.json\n",
      "00000B1C.json\n",
      "00000B1D.json\n",
      "00000B1E.json\n",
      "00000B1F.json\n",
      "00000B20.json\n",
      "00000B21.json\n"
     ]
    },
    {
     "name": "stderr",
     "output_type": "stream",
     "text": [
      " 88%|████████▊ | 2857/3232 [01:18<00:09, 41.10it/s]"
     ]
    },
    {
     "name": "stdout",
     "output_type": "stream",
     "text": [
      "00000B22.json\n",
      "00000B23.json\n",
      "00000B24.json\n",
      "00000B25.json\n",
      "00000B26.json\n",
      "00000B27.json\n",
      "00000B28.json\n",
      "00000B29.json\n",
      "00000B2A.json\n"
     ]
    },
    {
     "name": "stderr",
     "output_type": "stream",
     "text": [
      " 89%|████████▊ | 2862/3232 [01:18<00:09, 39.24it/s]"
     ]
    },
    {
     "name": "stdout",
     "output_type": "stream",
     "text": [
      "00000B2B.json\n",
      "00000B2C.json\n",
      "00000B2D.json\n",
      "00000B2E.json\n",
      "00000B2F.json\n",
      "00000B30.json\n",
      "00000B31.json\n",
      "00000B32.json\n"
     ]
    },
    {
     "name": "stderr",
     "output_type": "stream",
     "text": [
      " 89%|████████▉ | 2872/3232 [01:18<00:08, 41.39it/s]"
     ]
    },
    {
     "name": "stdout",
     "output_type": "stream",
     "text": [
      "00000B33.json\n",
      "00000B34.json\n",
      "00000B35.json\n",
      "00000B36.json\n",
      "00000B37.json\n",
      "00000B38.json\n",
      "00000B39.json\n",
      "00000B3A.json\n",
      "00000B3B.json\n",
      "00000B3C.json\n"
     ]
    },
    {
     "name": "stderr",
     "output_type": "stream",
     "text": [
      " 89%|████████▉ | 2882/3232 [01:19<00:08, 43.33it/s]"
     ]
    },
    {
     "name": "stdout",
     "output_type": "stream",
     "text": [
      "00000B3D.json\n",
      "00000B3E.json\n",
      "00000B3F.json\n",
      "00000B40.json\n",
      "00000B41.json\n",
      "00000B42.json\n",
      "00000B43.json\n",
      "00000B44.json\n"
     ]
    },
    {
     "name": "stderr",
     "output_type": "stream",
     "text": [
      " 89%|████████▉ | 2891/3232 [01:19<00:09, 37.29it/s]"
     ]
    },
    {
     "name": "stdout",
     "output_type": "stream",
     "text": [
      "00000B45.json\n",
      "00000B46.json\n",
      "00000B47.json\n",
      "00000B48.json\n",
      "00000B49.json\n",
      "00000B4A.json\n",
      "00000B4B.json\n",
      "00000B4C.json\n"
     ]
    },
    {
     "name": "stderr",
     "output_type": "stream",
     "text": [
      " 90%|████████▉ | 2900/3232 [01:19<00:08, 39.78it/s]"
     ]
    },
    {
     "name": "stdout",
     "output_type": "stream",
     "text": [
      "00000B4D.json\n",
      "00000B4E.json\n",
      "00000B4F.json\n",
      "00000B50.json\n",
      "00000B51.json\n",
      "00000B52.json\n",
      "00000B53.json\n",
      "00000B54.json\n",
      "00000B55.json\n",
      "00000B56.json\n"
     ]
    },
    {
     "name": "stderr",
     "output_type": "stream",
     "text": [
      " 90%|█████████ | 2910/3232 [01:19<00:08, 39.25it/s]"
     ]
    },
    {
     "name": "stdout",
     "output_type": "stream",
     "text": [
      "00000B57.json\n",
      "00000B58.json\n",
      "00000B59.json\n",
      "00000B5A.json\n",
      "00000B5B.json\n",
      "00000B5C.json\n",
      "00000B5D.json\n"
     ]
    },
    {
     "name": "stderr",
     "output_type": "stream",
     "text": [
      " 90%|█████████ | 2918/3232 [01:20<00:08, 38.85it/s]"
     ]
    },
    {
     "name": "stdout",
     "output_type": "stream",
     "text": [
      "00000B5E.json\n",
      "00000B5F.json\n",
      "00000B60.json\n",
      "00000B61.json\n",
      "00000B62.json\n",
      "00000B63.json\n",
      "00000B64.json\n",
      "00000B65.json\n"
     ]
    },
    {
     "name": "stderr",
     "output_type": "stream",
     "text": [
      " 90%|█████████ | 2923/3232 [01:20<00:08, 38.08it/s]"
     ]
    },
    {
     "name": "stdout",
     "output_type": "stream",
     "text": [
      "00000B66.json\n",
      "00000B67.json\n",
      "00000B68.json\n",
      "00000B69.json\n",
      "00000B6A.json\n",
      "00000B6B.json\n",
      "00000B6C.json\n",
      "00000B6D.json\n"
     ]
    },
    {
     "name": "stderr",
     "output_type": "stream",
     "text": [
      " 91%|█████████ | 2932/3232 [01:20<00:07, 40.38it/s]"
     ]
    },
    {
     "name": "stdout",
     "output_type": "stream",
     "text": [
      "00000B6E.json\n",
      "00000B6F.json\n",
      "00000B70.json\n",
      "00000B71.json\n",
      "00000B72.json\n",
      "00000B73.json\n",
      "00000B74.json\n",
      "00000B75.json\n",
      "00000B76.json\n",
      "00000B77.json\n"
     ]
    },
    {
     "name": "stderr",
     "output_type": "stream",
     "text": [
      " 91%|█████████ | 2942/3232 [01:20<00:07, 40.33it/s]"
     ]
    },
    {
     "name": "stdout",
     "output_type": "stream",
     "text": [
      "00000B78.json\n",
      "00000B79.json\n",
      "00000B7A.json\n",
      "00000B7B.json\n",
      "00000B7C.json\n",
      "00000B7D.json\n",
      "00000B7E.json\n",
      "00000B7F.json\n",
      "00000B80.json\n"
     ]
    },
    {
     "name": "stderr",
     "output_type": "stream",
     "text": [
      " 91%|█████████▏| 2952/3232 [01:20<00:06, 40.43it/s]"
     ]
    },
    {
     "name": "stdout",
     "output_type": "stream",
     "text": [
      "00000B81.json\n",
      "00000B82.json\n",
      "00000B83.json\n",
      "00000B84.json\n",
      "00000B85.json\n",
      "00000B86.json\n",
      "00000B87.json\n",
      "00000B88.json\n",
      "00000B89.json\n"
     ]
    },
    {
     "name": "stderr",
     "output_type": "stream",
     "text": [
      " 91%|█████████▏| 2957/3232 [01:21<00:07, 39.04it/s]"
     ]
    },
    {
     "name": "stdout",
     "output_type": "stream",
     "text": [
      "00000B8A.json\n",
      "00000B8B.json\n",
      "00000B8C.json\n",
      "00000B8D.json\n",
      "00000B8E.json\n",
      "00000B8F.json\n",
      "00000B90.json\n",
      "00000B91.json\n"
     ]
    },
    {
     "name": "stderr",
     "output_type": "stream",
     "text": [
      " 92%|█████████▏| 2967/3232 [01:21<00:06, 40.85it/s]"
     ]
    },
    {
     "name": "stdout",
     "output_type": "stream",
     "text": [
      "00000B92.json\n",
      "00000B93.json\n",
      "00000B94.json\n",
      "00000B95.json\n",
      "00000B96.json\n",
      "00000B97.json\n",
      "00000B98.json\n",
      "00000B99.json\n",
      "00000B9A.json\n"
     ]
    },
    {
     "name": "stderr",
     "output_type": "stream",
     "text": [
      " 92%|█████████▏| 2977/3232 [01:21<00:06, 40.69it/s]"
     ]
    },
    {
     "name": "stdout",
     "output_type": "stream",
     "text": [
      "00000B9B.json\n",
      "00000B9C.json\n",
      "00000B9D.json\n",
      "00000B9E.json\n",
      "00000B9F.json\n",
      "00000BA0.json\n",
      "00000BA1.json\n",
      "00000BA2.json\n"
     ]
    },
    {
     "name": "stderr",
     "output_type": "stream",
     "text": [
      " 92%|█████████▏| 2987/3232 [01:21<00:06, 39.52it/s]"
     ]
    },
    {
     "name": "stdout",
     "output_type": "stream",
     "text": [
      "00000BA3.json\n",
      "00000BA4.json\n",
      "00000BA5.json\n",
      "00000BA6.json\n",
      "00000BA7.json\n",
      "00000BA8.json\n",
      "00000BA9.json\n",
      "00000BAA.json\n"
     ]
    },
    {
     "name": "stderr",
     "output_type": "stream",
     "text": [
      " 93%|█████████▎| 2992/3232 [01:21<00:06, 39.30it/s]"
     ]
    },
    {
     "name": "stdout",
     "output_type": "stream",
     "text": [
      "00000BAB.json\n",
      "00000BAC.json\n",
      "00000BAD.json\n",
      "00000BAE.json\n",
      "00000BAF.json\n",
      "00000BB0.json\n",
      "00000BB1.json\n",
      "00000BB2.json\n",
      "00000BB3.json\n"
     ]
    },
    {
     "name": "stderr",
     "output_type": "stream",
     "text": [
      " 93%|█████████▎| 3004/3232 [01:22<00:05, 39.08it/s]"
     ]
    },
    {
     "name": "stdout",
     "output_type": "stream",
     "text": [
      "00000BB4.json\n",
      "00000BB5.json\n",
      "00000BB6.json\n",
      "00000BB7.json\n",
      "00000BB8.json\n",
      "00000BB9.json\n",
      "00000BBA.json\n",
      "00000BBB.json\n"
     ]
    },
    {
     "name": "stderr",
     "output_type": "stream",
     "text": [
      " 93%|█████████▎| 3008/3232 [01:22<00:05, 38.94it/s]"
     ]
    },
    {
     "name": "stdout",
     "output_type": "stream",
     "text": [
      "00000BBC.json\n",
      "00000BBD.json\n",
      "00000BBE.json\n",
      "00000BBF.json\n",
      "00000BC0.json\n",
      "00000BC1.json\n",
      "00000BC2.json\n",
      "00000BC3.json\n",
      "00000BC4.json\n"
     ]
    },
    {
     "name": "stderr",
     "output_type": "stream",
     "text": [
      " 93%|█████████▎| 3018/3232 [01:22<00:05, 38.33it/s]"
     ]
    },
    {
     "name": "stdout",
     "output_type": "stream",
     "text": [
      "00000BC5.json\n",
      "00000BC6.json\n",
      "00000BC7.json\n",
      "00000BC8.json\n",
      "00000BC9.json\n",
      "00000BCA.json\n",
      "00000BCB.json\n",
      "00000BCC.json\n"
     ]
    },
    {
     "name": "stderr",
     "output_type": "stream",
     "text": [
      " 94%|█████████▎| 3028/3232 [01:22<00:04, 41.20it/s]"
     ]
    },
    {
     "name": "stdout",
     "output_type": "stream",
     "text": [
      "00000BCD.json\n",
      "00000BCE.json\n",
      "00000BCF.json\n",
      "00000BD0.json\n",
      "00000BD1.json\n",
      "00000BD2.json\n",
      "00000BD3.json\n",
      "00000BD4.json\n",
      "00000BD5.json\n"
     ]
    },
    {
     "name": "stderr",
     "output_type": "stream",
     "text": [
      " 94%|█████████▍| 3033/3232 [01:22<00:04, 41.83it/s]"
     ]
    },
    {
     "name": "stdout",
     "output_type": "stream",
     "text": [
      "00000BD6.json\n",
      "00000BD7.json\n",
      "00000BD8.json\n",
      "00000BD9.json\n",
      "00000BDA.json\n",
      "00000BDB.json\n",
      "00000BDC.json\n",
      "00000BDD.json\n"
     ]
    },
    {
     "name": "stderr",
     "output_type": "stream",
     "text": [
      " 94%|█████████▍| 3043/3232 [01:23<00:04, 42.96it/s]"
     ]
    },
    {
     "name": "stdout",
     "output_type": "stream",
     "text": [
      "00000BDE.json\n",
      "00000BDF.json\n",
      "00000BE0.json\n",
      "00000BE1.json\n",
      "00000BE2.json\n",
      "00000BE3.json\n",
      "00000BE4.json\n",
      "00000BE5.json\n",
      "00000BE6.json\n",
      "00000BE7.json\n"
     ]
    },
    {
     "name": "stderr",
     "output_type": "stream",
     "text": [
      " 94%|█████████▍| 3053/3232 [01:23<00:04, 42.62it/s]"
     ]
    },
    {
     "name": "stdout",
     "output_type": "stream",
     "text": [
      "00000BE8.json\n",
      "00000BE9.json\n",
      "00000BEA.json\n",
      "00000BEB.json\n",
      "00000BEC.json\n",
      "00000BED.json\n",
      "00000BEE.json\n",
      "00000BEF.json\n"
     ]
    },
    {
     "name": "stderr",
     "output_type": "stream",
     "text": [
      " 95%|█████████▍| 3063/3232 [01:23<00:04, 38.64it/s]"
     ]
    },
    {
     "name": "stdout",
     "output_type": "stream",
     "text": [
      "00000BF0.json\n",
      "00000BF1.json\n",
      "00000BF2.json\n",
      "00000BF3.json\n",
      "00000BF4.json\n",
      "00000BF5.json\n",
      "00000BF6.json\n"
     ]
    },
    {
     "name": "stderr",
     "output_type": "stream",
     "text": [
      " 95%|█████████▍| 3068/3232 [01:23<00:04, 40.71it/s]"
     ]
    },
    {
     "name": "stdout",
     "output_type": "stream",
     "text": [
      "00000BF7.json\n",
      "00000BF8.json\n",
      "00000BF9.json\n",
      "00000BFA.json\n",
      "00000BFB.json\n",
      "00000BFC.json\n",
      "00000BFD.json\n",
      "00000BFE.json\n",
      "00000BFF.json\n",
      "00000C00.json\n"
     ]
    },
    {
     "name": "stderr",
     "output_type": "stream",
     "text": [
      " 95%|█████████▌| 3079/3232 [01:24<00:03, 42.84it/s]"
     ]
    },
    {
     "name": "stdout",
     "output_type": "stream",
     "text": [
      "00000C01.json\n",
      "00000C02.json\n",
      "00000C03.json\n",
      "00000C04.json\n",
      "00000C05.json\n",
      "00000C06.json\n",
      "00000C07.json\n",
      "00000C08.json\n",
      "00000C09.json\n",
      "00000C0B.json\n",
      "00000C0D.json\n"
     ]
    },
    {
     "name": "stderr",
     "output_type": "stream",
     "text": [
      " 96%|█████████▌| 3090/3232 [01:24<00:03, 45.27it/s]"
     ]
    },
    {
     "name": "stdout",
     "output_type": "stream",
     "text": [
      "00000C0F.json\n",
      "00000C11.json\n",
      "00000C13.json\n",
      "00000C15.json\n",
      "00000C17.json\n",
      "00000C19.json\n",
      "00000C1B.json\n",
      "00000C1D.json\n",
      "00000C1F.json\n",
      "00000C21.json\n"
     ]
    },
    {
     "name": "stderr",
     "output_type": "stream",
     "text": [
      " 96%|█████████▌| 3100/3232 [01:24<00:02, 45.32it/s]"
     ]
    },
    {
     "name": "stdout",
     "output_type": "stream",
     "text": [
      "00000C23.json\n",
      "00000C25.json\n",
      "00000C27.json\n",
      "00000C29.json\n",
      "00000C2B.json\n",
      "00000C2D.json\n",
      "00000C2F.json\n",
      "00000C31.json\n",
      "00000C33.json\n"
     ]
    },
    {
     "name": "stderr",
     "output_type": "stream",
     "text": [
      " 96%|█████████▌| 3110/3232 [01:24<00:02, 43.29it/s]"
     ]
    },
    {
     "name": "stdout",
     "output_type": "stream",
     "text": [
      "00000C35.json\n",
      "00000C37.json\n",
      "00000C39.json\n",
      "00000C3B.json\n",
      "00000C3D.json\n",
      "00000C3F.json\n",
      "00000C41.json\n",
      "00000C43.json\n",
      "00000C45.json\n"
     ]
    },
    {
     "name": "stderr",
     "output_type": "stream",
     "text": [
      " 96%|█████████▋| 3115/3232 [01:24<00:03, 38.25it/s]"
     ]
    },
    {
     "name": "stdout",
     "output_type": "stream",
     "text": [
      "00000C47.json\n",
      "00000C49.json\n",
      "00000C4B.json\n",
      "00000C4D.json\n",
      "00000C4F.json\n",
      "00000C51.json\n",
      "00000C53.json\n",
      "00000C55.json\n"
     ]
    },
    {
     "name": "stderr",
     "output_type": "stream",
     "text": [
      " 97%|█████████▋| 3128/3232 [01:25<00:02, 38.05it/s]"
     ]
    },
    {
     "name": "stdout",
     "output_type": "stream",
     "text": [
      "00000C57.json\n",
      "00000C59.json\n",
      "00000C5B.json\n",
      "00000C5D.json\n",
      "00000C5F.json\n",
      "00000C61.json\n",
      "00000C63.json\n",
      "00000C65.json\n"
     ]
    },
    {
     "name": "stderr",
     "output_type": "stream",
     "text": [
      " 97%|█████████▋| 3133/3232 [01:25<00:02, 39.14it/s]"
     ]
    },
    {
     "name": "stdout",
     "output_type": "stream",
     "text": [
      "00000C67.json\n",
      "00000C69.json\n",
      "00000C6B.json\n",
      "00000C6D.json\n",
      "00000C6F.json\n",
      "00000C71.json\n",
      "00000C73.json\n",
      "00000C75.json\n",
      "00000C77.json\n",
      "00000C79.json\n"
     ]
    },
    {
     "name": "stderr",
     "output_type": "stream",
     "text": [
      " 97%|█████████▋| 3143/3232 [01:25<00:02, 40.00it/s]"
     ]
    },
    {
     "name": "stdout",
     "output_type": "stream",
     "text": [
      "00000C7B.json\n",
      "00000C7D.json\n",
      "00000C7F.json\n",
      "00000C81.json\n",
      "00000C83.json\n",
      "00000C85.json\n",
      "00000C87.json\n",
      "00000C89.json\n",
      "00000C8B.json\n"
     ]
    },
    {
     "name": "stderr",
     "output_type": "stream",
     "text": [
      " 98%|█████████▊| 3152/3232 [01:25<00:02, 37.34it/s]"
     ]
    },
    {
     "name": "stdout",
     "output_type": "stream",
     "text": [
      "00000C8D.json\n",
      "00000C8F.json\n",
      "00000C91.json\n",
      "00000C93.json\n",
      "00000C95.json\n",
      "00000C97.json\n",
      "00000C99.json\n",
      "00000C9B.json\n"
     ]
    },
    {
     "name": "stderr",
     "output_type": "stream",
     "text": [
      " 98%|█████████▊| 3160/3232 [01:26<00:02, 35.21it/s]"
     ]
    },
    {
     "name": "stdout",
     "output_type": "stream",
     "text": [
      "00000C9D.json\n",
      "00000C9F.json\n",
      "00000CA1.json\n",
      "00000CA3.json\n",
      "00000CA5.json\n",
      "00000CA7.json\n",
      "00000CA9.json\n"
     ]
    },
    {
     "name": "stderr",
     "output_type": "stream",
     "text": [
      " 98%|█████████▊| 3168/3232 [01:26<00:01, 34.11it/s]"
     ]
    },
    {
     "name": "stdout",
     "output_type": "stream",
     "text": [
      "00000CAB.json\n",
      "00000CAD.json\n",
      "00000CAF.json\n",
      "00000CB1.json\n",
      "00000CB3.json\n",
      "00000CB5.json\n"
     ]
    },
    {
     "name": "stderr",
     "output_type": "stream",
     "text": [
      " 98%|█████████▊| 3172/3232 [01:26<00:01, 35.10it/s]"
     ]
    },
    {
     "name": "stdout",
     "output_type": "stream",
     "text": [
      "00000CB7.json\n",
      "00000CB9.json\n",
      "00000CBB.json\n",
      "00000CBD.json\n",
      "00000CBF.json\n",
      "00000CC1.json\n",
      "00000CC3.json\n",
      "00000CC5.json\n"
     ]
    },
    {
     "name": "stderr",
     "output_type": "stream",
     "text": [
      " 98%|█████████▊| 3181/3232 [01:26<00:01, 36.00it/s]"
     ]
    },
    {
     "name": "stdout",
     "output_type": "stream",
     "text": [
      "00000CC7.json\n",
      "00000CC9.json\n",
      "00000CCB.json\n",
      "00000CCD.json\n",
      "00000CCF.json\n",
      "00000CD1.json\n",
      "00000CD3.json\n",
      "00000CD5.json\n"
     ]
    },
    {
     "name": "stderr",
     "output_type": "stream",
     "text": [
      " 99%|█████████▊| 3189/3232 [01:26<00:01, 32.90it/s]"
     ]
    },
    {
     "name": "stdout",
     "output_type": "stream",
     "text": [
      "00000CD7.json\n",
      "00000CD9.json\n",
      "00000CDB.json\n",
      "00000CDD.json\n",
      "00000CDF.json\n",
      "00000CE1.json\n"
     ]
    },
    {
     "name": "stderr",
     "output_type": "stream",
     "text": [
      " 99%|█████████▉| 3197/3232 [01:27<00:00, 35.24it/s]"
     ]
    },
    {
     "name": "stdout",
     "output_type": "stream",
     "text": [
      "00000CE3.json\n",
      "00000CE5.json\n",
      "00000CE7.json\n",
      "00000CE9.json\n",
      "00000CEB.json\n",
      "00000CED.json\n",
      "00000CEF.json\n",
      "00000CF1.json\n",
      "00000CF3.json\n"
     ]
    },
    {
     "name": "stderr",
     "output_type": "stream",
     "text": [
      " 99%|█████████▉| 3206/3232 [01:27<00:00, 38.49it/s]"
     ]
    },
    {
     "name": "stdout",
     "output_type": "stream",
     "text": [
      "00000CF5.json\n",
      "00000CF7.json\n",
      "00000CF9.json\n",
      "00000CFB.json\n",
      "00000CFD.json\n",
      "00000CFF.json\n",
      "00000D01.json\n",
      "00000D03.json\n",
      "00000D05.json\n"
     ]
    },
    {
     "name": "stderr",
     "output_type": "stream",
     "text": [
      " 99%|█████████▉| 3214/3232 [01:27<00:00, 37.91it/s]"
     ]
    },
    {
     "name": "stdout",
     "output_type": "stream",
     "text": [
      "00000D07.json\n",
      "00000D09.json\n",
      "00000D0B.json\n",
      "00000D0D.json\n",
      "00000D0F.json\n",
      "00000D11.json\n",
      "00000D13.json\n",
      "00000D15.json\n"
     ]
    },
    {
     "name": "stderr",
     "output_type": "stream",
     "text": [
      "100%|█████████▉| 3222/3232 [01:27<00:00, 35.42it/s]"
     ]
    },
    {
     "name": "stdout",
     "output_type": "stream",
     "text": [
      "00000D17.json\n",
      "00000D19.json\n",
      "00000D1B.json\n",
      "00000D1D.json\n",
      "00000D1F.json\n",
      "00000D21.json\n"
     ]
    },
    {
     "name": "stderr",
     "output_type": "stream",
     "text": [
      "100%|█████████▉| 3226/3232 [01:27<00:00, 35.41it/s]"
     ]
    },
    {
     "name": "stdout",
     "output_type": "stream",
     "text": [
      "00000D23.json\n",
      "00000D25.json\n",
      "00000D27.json\n",
      "00000D29.json\n",
      "00000D2B.json\n",
      "00000D2D.json\n",
      "00000D2F.json\n",
      "00000D31.json\n",
      "00000D33.json\n"
     ]
    },
    {
     "name": "stderr",
     "output_type": "stream",
     "text": [
      "100%|██████████| 3232/3232 [01:28<00:00, 36.69it/s]"
     ]
    },
    {
     "name": "stdout",
     "output_type": "stream",
     "text": [
      "00000D35.json\n"
     ]
    },
    {
     "name": "stderr",
     "output_type": "stream",
     "text": [
      "\n"
     ]
    }
   ],
   "source": [
    "query_file = \"./populateOntology.sparql\"\n",
    "annotations_dir = \"./annotations/\"\n",
    "output_dir = \"./triples/\"\n",
    "\n",
    "engine = sa.SparqlAnything()\n",
    "\n",
    "populate_ontology(engine, query_file, annotations_dir, output_dir)"
   ]
  },
  {
   "cell_type": "code",
   "execution_count": null,
   "metadata": {},
   "outputs": [],
   "source": []
  }
 ],
 "metadata": {
  "kernelspec": {
   "display_name": "base",
   "language": "python",
   "name": "python3"
  },
  "language_info": {
   "codemirror_mode": {
    "name": "ipython",
    "version": 3
   },
   "file_extension": ".py",
   "mimetype": "text/x-python",
   "name": "python",
   "nbconvert_exporter": "python",
   "pygments_lexer": "ipython3",
   "version": "3.11.5"
  }
 },
 "nbformat": 4,
 "nbformat_minor": 2
}
