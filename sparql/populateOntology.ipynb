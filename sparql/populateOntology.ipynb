{
 "cells": [
  {
   "cell_type": "code",
   "execution_count": 1,
   "metadata": {},
   "outputs": [],
   "source": [
    "import rdflib\n",
    "import os\n",
    "import re\n",
    "import time\n",
    "\n",
    "import pysparql_anything as sa\n",
    "from tqdm import tqdm"
   ]
  },
  {
   "cell_type": "code",
   "execution_count": 2,
   "metadata": {},
   "outputs": [],
   "source": [
    "def populate_ontology(engine, query_file, annotations_dir, output_dir):\n",
    "\n",
    "    pattern = r'<x-sparql-anything:annotations\\/(.{8}.json)>'\n",
    "\n",
    "    file_list = os.listdir(annotations_dir)\n",
    "    for i, annotation_file in zip(tqdm(range(len(file_list))), file_list):\n",
    "\n",
    "        with open(query_file, 'r') as file:\n",
    "            content = file.read()\n",
    "\n",
    "        # Change the service file in the query file\n",
    "        new_content = re.sub(pattern, f'<x-sparql-anything:annotations/{annotation_file}>', content)\n",
    "\n",
    "        # Write the modified content back to the file\n",
    "        with open(query_file, 'w') as file:\n",
    "            file.write(new_content)\n",
    "\n",
    "        engine.run(\n",
    "            query=query_file,\n",
    "            output=f\"{output_dir}{annotation_file[:-5]}.ttl\",\n",
    "            format=\"ttl\",\n",
    "        )"
   ]
  },
  {
   "cell_type": "code",
   "execution_count": 3,
   "metadata": {},
   "outputs": [
    {
     "name": "stderr",
     "output_type": "stream",
     "text": [
      "100%|██████████| 3265/3265 [01:24<00:00, 38.54it/s]\n"
     ]
    }
   ],
   "source": [
    "query_file = \"./populateOntology.sparql\"\n",
    "annotations_dir = \"./annotations/\" # the content of this file must be all of our converted files (cf conversion/saved) to turn them all into triples\n",
    "output_dir = \"./triples/\"\n",
    "\n",
    "engine = sa.SparqlAnything()\n",
    "\n",
    "populate_ontology(engine, query_file, annotations_dir, output_dir)"
   ]
  }
 ],
 "metadata": {
  "kernelspec": {
   "display_name": "base",
   "language": "python",
   "name": "python3"
  },
  "language_info": {
   "codemirror_mode": {
    "name": "ipython",
    "version": 3
   },
   "file_extension": ".py",
   "mimetype": "text/x-python",
   "name": "python",
   "nbconvert_exporter": "python",
   "pygments_lexer": "ipython3",
   "version": "3.11.5"
  }
 },
 "nbformat": 4,
 "nbformat_minor": 2
}
