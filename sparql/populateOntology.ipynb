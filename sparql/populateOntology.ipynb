{
 "cells": [
  {
   "cell_type": "code",
   "execution_count": null,
   "metadata": {},
   "outputs": [],
   "source": [
    "import rdflib\n",
    "import os\n",
    "import re\n",
    "import time\n",
    "\n",
    "import pysparql_anything as sa\n",
    "from tqdm import tqdm"
   ]
  },
  {
   "cell_type": "code",
   "execution_count": 3,
   "metadata": {},
   "outputs": [],
   "source": [
    "def populate_ontology(engine, query_file, annotations_dir, output_dir):\n",
    "\n",
    "    pattern = r'<x-sparql-anything:annotations\\/(.{8}.json)>'\n",
    "\n",
    "    file_list = os.listdir(annotations_dir)\n",
    "    for i, annotation_file in zip(tqdm(range(len(file_list))), file_list):\n",
    "        print(annotation_file)\n",
    "\n",
    "        with open(query_file, 'r') as file:\n",
    "            content = file.read()\n",
    "\n",
    "        # Change the service file in the query file\n",
    "        new_content = re.sub(pattern, f'<x-sparql-anything:annotations/{annotation_file}>', content)\n",
    "\n",
    "        # Write the modified content back to the file\n",
    "        with open(query_file, 'w') as file:\n",
    "            file.write(new_content)\n",
    "\n",
    "        engine.run(\n",
    "            query=query_file,\n",
    "            output=f\"{output_dir}{annotation_file[:-5]}.ttl\",\n",
    "            format=\"ttl\",\n",
    "        )"
   ]
  },
  {
   "cell_type": "code",
   "execution_count": 4,
   "metadata": {},
   "outputs": [
    {
     "ename": "NameError",
     "evalue": "name 'sa' is not defined",
     "output_type": "error",
     "traceback": [
      "\u001b[1;31m---------------------------------------------------------------------------\u001b[0m",
      "\u001b[1;31mNameError\u001b[0m                                 Traceback (most recent call last)",
      "\u001b[1;32m~\\AppData\\Local\\Temp/ipykernel_192/1452134508.py\u001b[0m in \u001b[0;36m<module>\u001b[1;34m\u001b[0m\n\u001b[0;32m      3\u001b[0m \u001b[0moutput_dir\u001b[0m \u001b[1;33m=\u001b[0m \u001b[1;34m\"./triples/\"\u001b[0m\u001b[1;33m\u001b[0m\u001b[1;33m\u001b[0m\u001b[0m\n\u001b[0;32m      4\u001b[0m \u001b[1;33m\u001b[0m\u001b[0m\n\u001b[1;32m----> 5\u001b[1;33m \u001b[0mengine\u001b[0m \u001b[1;33m=\u001b[0m \u001b[0msa\u001b[0m\u001b[1;33m.\u001b[0m\u001b[0mSparqlAnything\u001b[0m\u001b[1;33m(\u001b[0m\u001b[1;33m)\u001b[0m\u001b[1;33m\u001b[0m\u001b[1;33m\u001b[0m\u001b[0m\n\u001b[0m\u001b[0;32m      6\u001b[0m \u001b[1;33m\u001b[0m\u001b[0m\n\u001b[0;32m      7\u001b[0m \u001b[0mpopulate_ontology\u001b[0m\u001b[1;33m(\u001b[0m\u001b[0mengine\u001b[0m\u001b[1;33m,\u001b[0m \u001b[0mquery_file\u001b[0m\u001b[1;33m,\u001b[0m \u001b[0mannotations_dir\u001b[0m\u001b[1;33m,\u001b[0m \u001b[0moutput_dir\u001b[0m\u001b[1;33m)\u001b[0m\u001b[1;33m\u001b[0m\u001b[1;33m\u001b[0m\u001b[0m\n",
      "\u001b[1;31mNameError\u001b[0m: name 'sa' is not defined"
     ]
    }
   ],
   "source": [
    "query_file = \"./populateOntology.sparql\"\n",
    "annotations_dir = \"./annotations/\" # the content of this file must be all of our converted files (cf conversion/saved) to turn them all into triples\n",
    "output_dir = \"./triples/\"\n",
    "\n",
    "engine = sa.SparqlAnything()\n",
    "\n",
    "populate_ontology(engine, query_file, annotations_dir, output_dir)"
   ]
  },
  {
   "cell_type": "code",
   "execution_count": null,
   "metadata": {},
   "outputs": [],
   "source": []
  }
 ],
 "metadata": {
  "kernelspec": {
   "display_name": "base",
   "language": "python",
   "name": "python3"
  },
  "language_info": {
   "codemirror_mode": {
    "name": "ipython",
    "version": 3
   },
   "file_extension": ".py",
   "mimetype": "text/x-python",
   "name": "python",
   "nbconvert_exporter": "python",
   "pygments_lexer": "ipython3",
   "version": "3.9.7"
  }
 },
 "nbformat": 4,
 "nbformat_minor": 2
}
