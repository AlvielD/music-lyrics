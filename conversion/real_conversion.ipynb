{
 "cells": [
  {
   "cell_type": "code",
   "execution_count": 2,
   "metadata": {},
   "outputs": [],
   "source": [
    "from LyricsAnnot import LyricsAnnot\n",
    "import json\n",
    "import main\n",
    "import utils"
   ]
  },
  {
   "cell_type": "markdown",
   "metadata": {},
   "source": [
    "Below are the functions we used and steps we followed to create our final dataset from DALI and DAMP, enriching it with information from Genius and Spotify. Please note that this notebook if rather to keep track of what we did rather than rerunning it. However, if you need to add another dataset to our dataset, you could use something similar to what we did below to integrate it to our work."
   ]
  },
  {
   "cell_type": "markdown",
   "metadata": {},
   "source": [
    "# Conversion of the whole DALI dataset"
   ]
  },
  {
   "cell_type": "code",
   "execution_count": 5,
   "metadata": {},
   "outputs": [],
   "source": [
    "# Path of the DALI json files folder (not present in the directory)\n",
    "DALI_dir = \"../dali/dali_json/\" \n",
    "\n",
    "# Since some DAMP songs were leading to some overwriting conversion errors, we preferred to keep\n",
    "# the id and avoided song files separated from dali ones\n",
    "id_file_path = \"./dali_id.txt\" # List of the usable converted songs along with their new id\n",
    "avoided_songs_file_path = \"./dali_avoided_songs.txt\" # List of the songs put aside from the conversion for different reasons\n",
    "\n",
    "# A temporary folder (not present in the repository anymore) hosting the dali json files already\n",
    "# processed that get deleted from the dali folder.\n",
    "# This way, we can rerun the function in case it stopped midway without having to start the conversion from scratch.\n",
    "already_converted_path = \"../dali/dali_already_converted\"\n",
    "\n",
    "# Path of the folder where the final json files get saved once the song gets processed and converted\n",
    "save_path = \"./saved/\""
   ]
  },
  {
   "cell_type": "code",
   "execution_count": null,
   "metadata": {},
   "outputs": [],
   "source": [
    "main.create_dali_notations(DALI_dir, save_path, already_converted_path, id_file_path, avoided_songs_file_path)"
   ]
  },
  {
   "cell_type": "markdown",
   "metadata": {},
   "source": [
    "## Post-conversion steps"
   ]
  },
  {
   "cell_type": "markdown",
   "metadata": {},
   "source": [
    "Is there some songs that got wrongly converted (because of errors in the dataset content that prevent from right line matching, for example) and hence need to be put aside? Usually, these songs only have one single paragraph."
   ]
  },
  {
   "cell_type": "code",
   "execution_count": null,
   "metadata": {},
   "outputs": [],
   "source": [
    "song_ids = utils.get_single_paragraph_song_info(\"./saved/\")"
   ]
  },
  {
   "cell_type": "code",
   "execution_count": null,
   "metadata": {},
   "outputs": [
    {
     "data": {
      "text/plain": [
       "304"
      ]
     },
     "metadata": {},
     "output_type": "display_data"
    }
   ],
   "source": [
    "len(song_ids)"
   ]
  },
  {
   "cell_type": "markdown",
   "metadata": {},
   "source": [
    "There are 304 songs we need to put aside. Let's use their id to perform this."
   ]
  },
  {
   "cell_type": "code",
   "execution_count": null,
   "metadata": {},
   "outputs": [
    {
     "name": "stdout",
     "output_type": "stream",
     "text": [
      "{'00000003': ('Geschwisterliebe', 'Die Ärzte'), '00000011': ('Adios', 'Rammstein'), '00000015': ('Kinky Afro', 'Happy Mondays'), '00000048': ('Bad Moon Rising', 'Creedence Clearwater Revival'), '0000006F': ('Hounds Of Love', 'Kate Bush'), '00000082': ('My Love', 'Westlife'), '00000085': ('Have You Ever Seen The Rain', 'Creedence Clearwater Revival'), '0000008A': ('Sweetest Thing', 'U2'), '00000091': ('The Invisible Man', 'Queen'), '0000009C': ('Mine', 'Taylor Swift'), '000000A5': ('Totale Finsternis', 'Tanz Der Vampire'), '000000A8': ('A Boy Named Sue', 'Johnny Cash'), '000000B5': ('Mirror Mirror', 'Blind Guardian'), '000000BC': ('Eet', 'Regina Spektor'), '000000BD': ('Freiheit', 'Marius Müller-Westernhagen'), '000000D0': ('Stray Heart', 'Green Day'), '000000D7': ('Hard Candy Christmas', 'Dolly Parton'), '000000DF': ('Last Man Standing', 'HammerFall'), '000000EB': ('Rosas', 'La Oreja De Van Gogh'), '000000FA': ('Du Entschuldige I Kenn Di', 'Peter Cornelius'), '00000106': (\"'39\", 'Queen'), '00000115': ('Piano Man', 'Billy Joel'), '00000121': ('Tu', 'Noelia'), '00000125': ('Tra Te E Il Mare', 'Laura Pausini'), '00000141': (\"Cryin'\", 'Aerosmith'), '00000150': ('Yo (Excuse Me Miss)', 'Chris Brown'), '00000169': ('Return To Innocence', 'Enigma'), '0000016D': ('Mindestens In 1000 Jahren', 'Frittenbude'), '00000174': ('Breathe Easy', 'Blue'), '00000178': ('Cassius', 'Foals'), '00000191': ('Change The World', 'The Offspring'), '00000199': ('Broken Angel', 'Arash'), '000001A0': ('DOA', 'Foo Fighters'), '000001A3': ('Our Song', 'Taylor Swift'), '000001A6': ('Proud Mary', 'Creedence Clearwater Revival'), '000001C7': ('Time Is On My Side', 'The Rolling Stones'), '000001CB': (\"Without You I'm Nothing\", 'Placebo'), '000001D4': ('Build A Bridge', 'Limp Bizkit'), '000001DF': ('Shining Light', 'Ash'), '000001E7': ('Danny Boy', 'Elvis Presley'), '000001EA': ('Allt På Ett Kort', 'Bob Hund'), '000001ED': ('Touch Of My Hand', 'Britney Spears'), '000001F0': ('Calling You', 'Kat DeLuna'), '00000200': ('Leave It Alone', 'NOFX'), '00000201': ('Get Out Alive', 'Three Days Grace'), '00000205': ('National Anthem', 'LeAnn Rimes'), '0000020B': ('Saturday Night', 'Suede'), '0000020E': ('Bad Case Of Loving You (Doctor, Doctor)', 'Robert Palmer'), '00000217': ('Take Your Mama', 'Scissor Sisters'), '00000218': ('Desire', 'U2'), '0000022C': ('Stranger', 'Hilary Duff'), '00000236': ('(Do You) Get Excited', 'Roxette'), '0000023E': ('7 E 40', 'Lucio Battisti'), '00000246': ('Yes', 'Demi Lovato'), '0000025C': ('Stay', 'Tooji'), '00000260': ('En Algún Lugar', 'Duncan Dhu'), '00000265': (\"You'll Be Mine\", 'The Pierces'), '0000026C': ('Brown Eyed Girl', 'Van Morrison'), '0000026F': ('Missing', 'Evanescence'), '0000028B': ('Crush', 'David Archuleta'), '00000290': ('Antisocial', 'Anthrax'), '00000299': ('Woman', 'John Lennon'), '000002B0': ('The Greatest Man That Ever Lived (Variations On A Shaker Hymn)', 'Weezer'), '000002BB': ('You Sexy Thing', 'Hot Chocolate'), '000002BD': ('The Prayer', 'Bloc Party'), '000002C2': ('The Waiting One', 'All That Remains'), '000002CE': ('The Down Syndrome', 'Grey Daze'), '000002D0': ('Walk Like An Egyptian', 'The Bangles'), '000002EA': ('Dramatic Song', 'Toby Turner'), '000002ED': ('Deutschland', 'Die Prinzen'), '000002FD': ('Asereje', 'Las Ketchup'), '00000308': ('Mr. Sandman', 'Emmylou Harris'), '00000318': ('Serenata Rap', 'Jovanotti'), '00000329': ('Sunshine', 'Aerosmith'), '00000332': ('(Do You Get) Excited?', 'Roxette'), '0000033F': (\"Baba O'Riley\", 'The Who'), '00000344': ('Vieni A Ballare In Puglia', 'CapaRezza'), '00000345': ('Una Carezza In Un Pugno', 'Adriano Celentano'), '00000350': ('Broken', 'Seether'), '00000352': ('Would You Love A Monsterman?', 'Lordi'), '00000353': ('Virtual Insanity', 'Jamiroquai'), '0000036E': ('Mil Horas', 'Los Abuelos De La Nada'), '00000376': ('Half A World Away', 'R.E.M.'), '0000037A': ('Time Bomb', 'Rancid'), '00000386': ('There Is A Light That Never Goes Out', 'The Smiths'), '00000387': (\"Weus'd A Herz Hast Wia A Bergwerk\", 'Rainhard Fendrich'), '00000399': ('You Are The One', 'Shiny Toy Guns'), '000003AF': ('Sex Bomb', 'Tom Jones'), '000003C4': ('RadioVideo', 'System Of A Down'), '000003D2': ('Mentira', 'João Pedro Pais'), '000003D3': ('New Soul', 'Yael Naim'), '000003DB': ('Bad Day', 'Darwin Deez'), '000003F8': ('Hostage Of Love', 'Razorlight'), '00000410': ('Rooftops (A Liberation Broadcast)', 'Lostprophets'), '0000041D': ('Jour 1', 'Louane'), '00000426': ('Vielleicht', 'Madsen'), '00000428': ('Down', 'Something Corporate'), '0000042F': (\"Europe's Living A Celebration\", 'Rosa López'), '0000043E': ('Easy To Ignore', 'Sixpence None The Richer'), '00000448': ('Black Sheep', 'Sonata Arctica'), '0000044F': ('Tourniquet', 'Evanescence'), '00000462': ('Deutsche Bahn', 'Wise Guys'), '0000046E': (\"I'm Just A Kid\", 'Simple Plan'), '00000477': ('Since U Been Gone', 'Kelly Clarkson'), '0000047A': ('Up!', 'Shania Twain'), '00000484': ('Der Graf', 'Die Ärzte'), '0000048F': ('Fast Car', 'Jonas Blue'), '0000049D': ('Yellow Ledbetter', 'Pearl Jam'), '000004B8': ('Heartbreaker', 'G-Dragon'), '000004DA': ('Omaboy', 'Die Ärzte'), '000004E8': ('Three Lions', 'Lightning Seeds'), '000004EC': ('Paper Gangsta', 'Lady Gaga'), '000004F5': ('Pocahontas', 'AnnenMayKantereit'), '000004F8': ('Porch', 'Pearl Jam'), '0000050F': ('Double Je', 'Christophe Willem'), '0000051C': ('50 Special', 'Lùnapop'), '0000051E': ('Born To Be Wild', 'Steppenwolf'), '00000533': ('Dear God', 'Avenged Sevenfold'), '00000536': ('Lo Que Pasó, Pasó', 'Daddy Yankee'), '00000553': ('When I Kissed The Teacher', 'ABBA'), '00000555': ('Yellow', 'Coldplay'), '00000560': ('Too Young', 'Phoenix'), '00000562': ('I Am What I Am', 'Gloria Gaynor'), '00000569': ('Dicono Di Me', 'Cesare Cremonini'), '0000056A': ('First Time', 'Lifehouse'), '00000571': (\"Jesus Doesn't Want Me For A Sunbeam\", 'Nirvana'), '00000579': ('Psycho', 'Puddle Of Mudd'), '00000597': ('Invece No', 'Laura Pausini'), '0000059F': ('Tomber La Chemise', 'Zebda'), '000005B8': ('The Wind Blows', 'The All-American Rejects'), '000005BC': ('Una Donna Per Amico', 'Lucio Battisti'), '000005C9': ('Mama Kin', 'Aerosmith'), '000005EF': ('Around The World (La La La La La)', 'ATC'), '000005F7': ('Fallen Angels', 'Black Veil Brides'), '000005FB': ('Lift U Up', 'Gotthard'), '00000607': (\"Who's Going Home With You Tonight?\", 'Trapt'), '00000614': ('Schickeria', 'Rainhard Fendrich'), '00000619': ('Strange World', 'Iron Maiden'), '0000061A': ('Show Me Your Colours', 'S Club 7'), '00000626': ('Never Wake Up', 'Sum 41'), '00000627': ('Break Stuff', 'Limp Bizkit'), '00000631': (\"C'mon C'mon\", 'The Von Bondies'), '00000633': (\"God's Gonna Cut You Down\", 'Johnny Cash'), '0000063E': ('If I Had A Hammer', 'Trini Lopez'), '00000643': ('Por Mujeres Como Tú', 'Pepe Aguilar'), '0000064F': ('Have I Told You Lately', 'Rod Stewart'), '00000655': ('From The Inside', 'Linkin Park'), '00000661': ('Sultans Of Swing', 'Dire Straits'), '00000683': ('Großvater', 'STS'), '000006A1': ('500 Miles', 'Peter'), '000006B1': ('Why Still Bother', 'Itchy Poopzkid'), '000006C1': ('On Melancholy Hill', 'Gorillaz'), '000006D8': ('Walk Away', 'Kelly Clarkson'), '000006DE': ('Inside Of You', 'Hoobastank'), '000006EE': ('Runaround Sue', 'Dion'), '000006F9': ('These Dreams', 'Heart'), '000006FE': ('Days Without', 'All That Remains'), '00000719': ('Cherry Lips (Go Baby Go!)', 'Garbage'), '00000734': ('Just Give Me A Reason', 'P!nk'), '00000740': ('(Let Me Be Your) Teddy Bear', 'Elvis Presley'), '00000753': ('Moviestar', 'Harpo'), '00000755': ('Le Manège', 'Stanislas'), '0000076E': ('Georgia On My Mind', 'Ray Charles'), '00000781': ('Molinos De Viento', 'Mägo De Oz'), '00000785': (\"'54, '74, '90, 2006\", 'Sportfreunde Stiller'), '000007A3': ('Desperado', 'Eagles'), '000007B6': ('These Eyes', 'The Guess Who'), '000007C8': ('Go Tell It On The Mountain', 'Simon And Garfunkel'), '000007CD': ('Raggio Di Sole', 'Le Vibrazioni'), '000007E0': (\"The Shoop Shoop Song (It's In His Kiss)\", 'Cher'), '000007F0': (\"I Don't Feel Like Dancin'\", 'Scissor Sisters'), '000007F2': ('Demon Cleaner', 'Kyuss'), '000007F8': ('Free Your Mind', 'En Vogue'), '000007F9': ('We Are Who We Are', 'Little Mix'), '000007FB': (\"Sgt. Pepper's Lonely Hearts Club Band\", 'The Beatles'), '00000802': ('Doctor Jones', 'Aqua'), '00000813': ('Fallen Angel', 'Poison'), '0000082A': ('Summertime', 'DJ Jazzy Jeff'), '0000082E': ('Enjoy The Silence', 'Lacuna Coil'), '00000847': ('Élan', 'Nightwish'), '00000859': ('Kirche', 'Böhse Onkelz'), '0000086E': (\"It's Hard To Know\", 'Hot Water Music'), '00000880': ('Hey Tonight', 'Creedence Clearwater Revival'), '00000885': (\"Macy's Day Parade\", 'Green Day'), '0000088D': ('Chandelier', 'Sia'), '0000088E': ('Them Bones', 'Alice In Chains'), '00000897': ('Dance Of Death', 'Iron Maiden'), '000008AB': (\"Vuonna '85\", 'Eppu Normaali'), '000008AE': (\"Don't Cry For Pain\", 'Ana Johnsson'), '000008AF': ('Pushing Me Away', 'Linkin Park'), '000008BF': ('Spaceman', 'Babylon Zoo'), '000008D7': ('En Apesanteur', 'Calogero'), '000008DC': ('Blue (Da Ba Dee)', 'Eiffel 65'), '000008E2': ('Tu Seras', 'Emma Daumas'), '000008ED': ('Dile Al Sol', 'La Oreja De Van Gogh'), '000008FA': ('Cat And Mouse', 'The Red Jumpsuit Apparatus'), '00000916': ('Geil, Geil, Geil (Wir Sind Die Größten)', 'Wolfgang Petry'), '00000918': ('Leave In Silence', 'Depeche Mode'), '0000091D': ('Vindicated', 'Dashboard Confessional'), '0000092E': ('Second Chance', 'Shinedown'), '00000936': ('Skandal Im Sperrbezirk', 'Spider Murphy Gang'), '0000093A': ('Gay Pirates', 'Cosmo Jarvis'), '0000093C': ('Working For The Weekend', 'Loverboy'), '0000093D': ('Linoleum', 'NOFX'), '0000093E': ('Non Passerai', 'Marco Mengoni'), '00000943': ('Pretty Fly (For A White Guy)', 'The Offspring'), '00000950': ('Schickeria', 'Spider Murphy Gang'), '00000953': ('Half The World Away', 'Oasis'), '00000955': ('Oerend Hard', 'Normaal'), '00000967': ('Little Things', 'One Direction'), '0000096D': ('Lonely Boy', 'The Black Keys'), '00000975': ('Going Nowhere', 'Little Mix'), '0000097B': ('Carta', 'Toranja'), '00000988': ('Friday On My Mind', 'Gary Moore'), '00000995': ('Take A Chance On Me', 'ABBA'), '000009A4': ('Shapeshifter', 'Celldweller'), '000009AF': ('Sei Parte Di Me', 'Zero Assoluto'), '000009BA': ('Strong', 'London Grammar'), '000009CD': (\"Un'emozione Per Sempre\", 'Eros Ramazzotti'), '000009D1': ('Animals', 'Maroon 5'), '000009E7': ('Laura', 'Scissor Sisters'), '000009F1': ('Shine', 'Imogen Heap'), '00000A02': ('Coma', \"Guns N' Roses\"), '00000A04': ('Dieser Weg', 'Xavier Naidoo'), '00000A06': ('Numb', 'Linkin Park'), '00000A09': ('Hit The Lights', 'Metallica'), '00000A0E': ('Cotton-Eye Joe', 'Rednex'), '00000A14': ('Pure Morning', 'Placebo'), '00000A1A': (\"Ich Möcht' So Gerne Metal Hör'n\", 'J.B.O.'), '00000A20': (\"Sorry, You're Not A Winner\", 'Enter Shikari'), '00000A28': ('Plug In Baby', 'Muse'), '00000A46': ('Girls & Boys', 'Blur'), '00000A47': ('El Del Medio De Los Chichos', 'Estopa'), '00000A4D': ('Vivir Así Es Morir De Amor', 'Camilo Sesto'), '00000A5B': ('This Will Make You Love Again', 'IAMX'), '00000A6A': ('I Remember You', 'Skid Row'), '00000A72': ('She Goes Nana', 'The Radios'), '00000A7C': ('Story Of A Lonely Guy', 'Blink-182'), '00000A8F': ('Run To The Hills', 'Iron Maiden'), '00000AA3': (\"Give 'Em Hell, Kid\", 'My Chemical Romance'), '00000AA6': ('Zoe Jane', 'Staind'), '00000AAE': ('Between Angels And Insects', 'Papa Roach'), '00000AB0': (\"Gangsta's Paradise\", 'Coolio'), '00000AB2': ('Ho Hey', 'The Lumineers'), '00000ABA': ('Soulweeper 2', 'Volbeat'), '00000ABC': ('Beweg Dein Arsch', 'LaFee'), '00000AC3': ('Kein Gerede', 'WIZO'), '00000AC6': ('Tu Mi Porti Su', 'Giorgia'), '00000AD1': ('Ricominciamo', 'Adriano Pappalardo'), '00000AD6': ('Tutto Il Resto È Noia', 'Franco Califano'), '00000ADE': ('Hail To The King', 'Avenged Sevenfold'), '00000AE9': ('99 Red Balloons', 'Goldfinger'), '00000AF5': ('Return To Sender', 'Elvis Presley'), '00000AF9': ('Going Missing', 'Maxïmo Park'), '00000B07': ('The Joker', 'Steve Miller Band'), '00000B09': ('Name', 'Goo Goo Dolls'), '00000B0A': ('Oh Yeah', 'Roxy Music'), '00000B16': ('Wrapped', 'Gloria Estefan'), '00000B1C': ('Sweet Home Alabama', 'Lynyrd Skynyrd'), '00000B39': ('Rusted From The Rain', 'Billy Talent'), '00000B49': ('DeMoliendo Hoteles', 'Charly García'), '00000B51': ('Do You Want To', 'Franz Ferdinand'), '00000B57': ('Schwinger', 'Seeed'), '00000B61': ('Cross My Heart', 'Marianas Trench'), '00000B6E': ('Juke Box Hero', 'Foreigner'), '00000B74': ('Say You, Say Me', 'Lionel Richie'), '00000B7B': ('I Miss You', 'Miley Cyrus'), '00000B90': ('Celebrity Status', 'Marianas Trench'), '00000B97': (\"Parce Qu'on Vient De Loin\", 'Corneille'), '00000B98': ('Jump', 'Van Halen'), '00000B9D': ('Certe Notti', 'Ligabue'), '00000BA4': ('Traffic', 'Stereophonics'), '00000BB1': ('Brizgalna Brizga', 'Atomik Harmonik'), '00000BB4': (\"Rome Wasn't Built In A Day\", 'Morcheeba'), '00000BB5': ('Our Velocity', 'Maxïmo Park'), '00000BBD': ('Touch Me', 'The Doors'), '00000BC3': ('E Ritorno Da Te', 'Laura Pausini'), '00000BC4': ('Denial', 'Sugababes'), '00000BC7': ('Hier Kommt Kurt', 'Frank Zander'), '00000BCE': ('Eve Of Destruction', 'Barry McGuire'), '00000BD5': ('Thinking Out Loud', 'Ed Sheeran'), '00000BDD': ('Leuchtturm', 'Nena'), '00000C07': ('Real Things', 'Javine'), '00000C09': ('Cinderela', 'Carlos Paião'), '00000C16': ('Add It Up', 'Violent Femmes'), '00000C1B': ('Die Welt Kann Mich Nicht Mehr Verstehen', 'Tocotronic'), '00000C20': ('Crying In The Chapel', 'Elvis Presley'), '00000C4F': ('Guilty Of Love', 'Shanadoo'), '00000C75': ('Noches De Bohemia', 'Navajita Plateá'), '00000C87': ('4000 Rainy Nights', 'Stratovarius'), '00000C8E': ('The Trooper', 'Iron Maiden'), '00000C98': ('Gifts And Curses', 'Yellowcard'), '00000C9B': ('Tonight', 'Big Bang'), '00000CA0': ('Haschisch Kakalake', 'Creme De La Creme'), '00000CB0': ('My Hero', 'Foo Fighters'), '00000CB9': ('Torero', 'Chayanne'), '00000CC6': ('Everyday', 'Buddy Holly'), '00000CC7': ('Bad Day', 'Daniel Powter'), '00000CCC': ('Kiss This', 'Aaron Tippin'), '00000CD7': ('Dirty Deeds Done Dirt Cheap', 'AC/DC'), '00000CE4': ('El Alma En Pie', 'Chenoa'), '00000CEC': ('We Own The Night', 'The Wanted'), '00000CEF': ('Ghostbusters', 'Ray Parker'), '00000D20': ('...Baby One More Time', 'Britney Spears')}\n"
     ]
    }
   ],
   "source": [
    "print(song_ids)"
   ]
  },
  {
   "cell_type": "markdown",
   "metadata": {},
   "source": [
    "Let's remove the 304 songs from the usable converted songs."
   ]
  },
  {
   "cell_type": "code",
   "execution_count": null,
   "metadata": {},
   "outputs": [],
   "source": [
    "utils.delete_dict_entries(song_ids, './dali_id.txt')"
   ]
  },
  {
   "cell_type": "markdown",
   "metadata": {},
   "source": [
    "The 304 songs have been deleted from the id file. Now, let's update the id of the usable songs (and their names) so that they are all consecutive."
   ]
  },
  {
   "cell_type": "code",
   "execution_count": null,
   "metadata": {},
   "outputs": [],
   "source": [
    "utils.delete_wrong_converted_songs(song_ids, './saved/')"
   ]
  },
  {
   "cell_type": "code",
   "execution_count": null,
   "metadata": {},
   "outputs": [],
   "source": [
    "utils.change_ids_and_rename_files('./dali_id.txt', './saved/', 8)"
   ]
  },
  {
   "cell_type": "markdown",
   "metadata": {},
   "source": [
    "Finally, let's add the 304 avoided songs' information to the avoided songs file from DALI."
   ]
  },
  {
   "cell_type": "code",
   "execution_count": 1,
   "metadata": {},
   "outputs": [],
   "source": [
    "song_ids = {'00000003': ('Geschwisterliebe', 'Die Ärzte'), '00000011': ('Adios', 'Rammstein'), '00000015': ('Kinky Afro', 'Happy Mondays'), '00000048': ('Bad Moon Rising', 'Creedence Clearwater Revival'), '0000006F': ('Hounds Of Love', 'Kate Bush'), '00000082': ('My Love', 'Westlife'), '00000085': ('Have You Ever Seen The Rain', 'Creedence Clearwater Revival'), '0000008A': ('Sweetest Thing', 'U2'), '00000091': ('The Invisible Man', 'Queen'), '0000009C': ('Mine', 'Taylor Swift'), '000000A5': ('Totale Finsternis', 'Tanz Der Vampire'), '000000A8': ('A Boy Named Sue', 'Johnny Cash'), '000000B5': ('Mirror Mirror', 'Blind Guardian'), '000000BC': ('Eet', 'Regina Spektor'), '000000BD': ('Freiheit', 'Marius Müller-Westernhagen'), '000000D0': ('Stray Heart', 'Green Day'), '000000D7': ('Hard Candy Christmas', 'Dolly Parton'), '000000DF': ('Last Man Standing', 'HammerFall'), '000000EB': ('Rosas', 'La Oreja De Van Gogh'), '000000FA': ('Du Entschuldige I Kenn Di', 'Peter Cornelius'), '00000106': (\"'39\", 'Queen'), '00000115': ('Piano Man', 'Billy Joel'), '00000121': ('Tu', 'Noelia'), '00000125': ('Tra Te E Il Mare', 'Laura Pausini'), '00000141': (\"Cryin'\", 'Aerosmith'), '00000150': ('Yo (Excuse Me Miss)', 'Chris Brown'), '00000169': ('Return To Innocence', 'Enigma'), '0000016D': ('Mindestens In 1000 Jahren', 'Frittenbude'), '00000174': ('Breathe Easy', 'Blue'), '00000178': ('Cassius', 'Foals'), '00000191': ('Change The World', 'The Offspring'), '00000199': ('Broken Angel', 'Arash'), '000001A0': ('DOA', 'Foo Fighters'), '000001A3': ('Our Song', 'Taylor Swift'), '000001A6': ('Proud Mary', 'Creedence Clearwater Revival'), '000001C7': ('Time Is On My Side', 'The Rolling Stones'), '000001CB': (\"Without You I'm Nothing\", 'Placebo'), '000001D4': ('Build A Bridge', 'Limp Bizkit'), '000001DF': ('Shining Light', 'Ash'), '000001E7': ('Danny Boy', 'Elvis Presley'), '000001EA': ('Allt På Ett Kort', 'Bob Hund'), '000001ED': ('Touch Of My Hand', 'Britney Spears'), '000001F0': ('Calling You', 'Kat DeLuna'), '00000200': ('Leave It Alone', 'NOFX'), '00000201': ('Get Out Alive', 'Three Days Grace'), '00000205': ('National Anthem', 'LeAnn Rimes'), '0000020B': ('Saturday Night', 'Suede'), '0000020E': ('Bad Case Of Loving You (Doctor, Doctor)', 'Robert Palmer'), '00000217': ('Take Your Mama', 'Scissor Sisters'), '00000218': ('Desire', 'U2'), '0000022C': ('Stranger', 'Hilary Duff'), '00000236': ('(Do You) Get Excited', 'Roxette'), '0000023E': ('7 E 40', 'Lucio Battisti'), '00000246': ('Yes', 'Demi Lovato'), '0000025C': ('Stay', 'Tooji'), '00000260': ('En Algún Lugar', 'Duncan Dhu'), '00000265': (\"You'll Be Mine\", 'The Pierces'), '0000026C': ('Brown Eyed Girl', 'Van Morrison'), '0000026F': ('Missing', 'Evanescence'), '0000028B': ('Crush', 'David Archuleta'), '00000290': ('Antisocial', 'Anthrax'), '00000299': ('Woman', 'John Lennon'), '000002B0': ('The Greatest Man That Ever Lived (Variations On A Shaker Hymn)', 'Weezer'), '000002BB': ('You Sexy Thing', 'Hot Chocolate'), '000002BD': ('The Prayer', 'Bloc Party'), '000002C2': ('The Waiting One', 'All That Remains'), '000002CE': ('The Down Syndrome', 'Grey Daze'), '000002D0': ('Walk Like An Egyptian', 'The Bangles'), '000002EA': ('Dramatic Song', 'Toby Turner'), '000002ED': ('Deutschland', 'Die Prinzen'), '000002FD': ('Asereje', 'Las Ketchup'), '00000308': ('Mr. Sandman', 'Emmylou Harris'), '00000318': ('Serenata Rap', 'Jovanotti'), '00000329': ('Sunshine', 'Aerosmith'), '00000332': ('(Do You Get) Excited?', 'Roxette'), '0000033F': (\"Baba O'Riley\", 'The Who'), '00000344': ('Vieni A Ballare In Puglia', 'CapaRezza'), '00000345': ('Una Carezza In Un Pugno', 'Adriano Celentano'), '00000350': ('Broken', 'Seether'), '00000352': ('Would You Love A Monsterman?', 'Lordi'), '00000353': ('Virtual Insanity', 'Jamiroquai'), '0000036E': ('Mil Horas', 'Los Abuelos De La Nada'), '00000376': ('Half A World Away', 'R.E.M.'), '0000037A': ('Time Bomb', 'Rancid'), '00000386': ('There Is A Light That Never Goes Out', 'The Smiths'), '00000387': (\"Weus'd A Herz Hast Wia A Bergwerk\", 'Rainhard Fendrich'), '00000399': ('You Are The One', 'Shiny Toy Guns'), '000003AF': ('Sex Bomb', 'Tom Jones'), '000003C4': ('RadioVideo', 'System Of A Down'), '000003D2': ('Mentira', 'João Pedro Pais'), '000003D3': ('New Soul', 'Yael Naim'), '000003DB': ('Bad Day', 'Darwin Deez'), '000003F8': ('Hostage Of Love', 'Razorlight'), '00000410': ('Rooftops (A Liberation Broadcast)', 'Lostprophets'), '0000041D': ('Jour 1', 'Louane'), '00000426': ('Vielleicht', 'Madsen'), '00000428': ('Down', 'Something Corporate'), '0000042F': (\"Europe's Living A Celebration\", 'Rosa López'), '0000043E': ('Easy To Ignore', 'Sixpence None The Richer'), '00000448': ('Black Sheep', 'Sonata Arctica'), '0000044F': ('Tourniquet', 'Evanescence'), '00000462': ('Deutsche Bahn', 'Wise Guys'), '0000046E': (\"I'm Just A Kid\", 'Simple Plan'), '00000477': ('Since U Been Gone', 'Kelly Clarkson'), '0000047A': ('Up!', 'Shania Twain'), '00000484': ('Der Graf', 'Die Ärzte'), '0000048F': ('Fast Car', 'Jonas Blue'), '0000049D': ('Yellow Ledbetter', 'Pearl Jam'), '000004B8': ('Heartbreaker', 'G-Dragon'), '000004DA': ('Omaboy', 'Die Ärzte'), '000004E8': ('Three Lions', 'Lightning Seeds'), '000004EC': ('Paper Gangsta', 'Lady Gaga'), '000004F5': ('Pocahontas', 'AnnenMayKantereit'), '000004F8': ('Porch', 'Pearl Jam'), '0000050F': ('Double Je', 'Christophe Willem'), '0000051C': ('50 Special', 'Lùnapop'), '0000051E': ('Born To Be Wild', 'Steppenwolf'), '00000533': ('Dear God', 'Avenged Sevenfold'), '00000536': ('Lo Que Pasó, Pasó', 'Daddy Yankee'), '00000553': ('When I Kissed The Teacher', 'ABBA'), '00000555': ('Yellow', 'Coldplay'), '00000560': ('Too Young', 'Phoenix'), '00000562': ('I Am What I Am', 'Gloria Gaynor'), '00000569': ('Dicono Di Me', 'Cesare Cremonini'), '0000056A': ('First Time', 'Lifehouse'), '00000571': (\"Jesus Doesn't Want Me For A Sunbeam\", 'Nirvana'), '00000579': ('Psycho', 'Puddle Of Mudd'), '00000597': ('Invece No', 'Laura Pausini'), '0000059F': ('Tomber La Chemise', 'Zebda'), '000005B8': ('The Wind Blows', 'The All-American Rejects'), '000005BC': ('Una Donna Per Amico', 'Lucio Battisti'), '000005C9': ('Mama Kin', 'Aerosmith'), '000005EF': ('Around The World (La La La La La)', 'ATC'), '000005F7': ('Fallen Angels', 'Black Veil Brides'), '000005FB': ('Lift U Up', 'Gotthard'), '00000607': (\"Who's Going Home With You Tonight?\", 'Trapt'), '00000614': ('Schickeria', 'Rainhard Fendrich'), '00000619': ('Strange World', 'Iron Maiden'), '0000061A': ('Show Me Your Colours', 'S Club 7'), '00000626': ('Never Wake Up', 'Sum 41'), '00000627': ('Break Stuff', 'Limp Bizkit'), '00000631': (\"C'mon C'mon\", 'The Von Bondies'), '00000633': (\"God's Gonna Cut You Down\", 'Johnny Cash'), '0000063E': ('If I Had A Hammer', 'Trini Lopez'), '00000643': ('Por Mujeres Como Tú', 'Pepe Aguilar'), '0000064F': ('Have I Told You Lately', 'Rod Stewart'), '00000655': ('From The Inside', 'Linkin Park'), '00000661': ('Sultans Of Swing', 'Dire Straits'), '00000683': ('Großvater', 'STS'), '000006A1': ('500 Miles', 'Peter'), '000006B1': ('Why Still Bother', 'Itchy Poopzkid'), '000006C1': ('On Melancholy Hill', 'Gorillaz'), '000006D8': ('Walk Away', 'Kelly Clarkson'), '000006DE': ('Inside Of You', 'Hoobastank'), '000006EE': ('Runaround Sue', 'Dion'), '000006F9': ('These Dreams', 'Heart'), '000006FE': ('Days Without', 'All That Remains'), '00000719': ('Cherry Lips (Go Baby Go!)', 'Garbage'), '00000734': ('Just Give Me A Reason', 'P!nk'), '00000740': ('(Let Me Be Your) Teddy Bear', 'Elvis Presley'), '00000753': ('Moviestar', 'Harpo'), '00000755': ('Le Manège', 'Stanislas'), '0000076E': ('Georgia On My Mind', 'Ray Charles'), '00000781': ('Molinos De Viento', 'Mägo De Oz'), '00000785': (\"'54, '74, '90, 2006\", 'Sportfreunde Stiller'), '000007A3': ('Desperado', 'Eagles'), '000007B6': ('These Eyes', 'The Guess Who'), '000007C8': ('Go Tell It On The Mountain', 'Simon And Garfunkel'), '000007CD': ('Raggio Di Sole', 'Le Vibrazioni'), '000007E0': (\"The Shoop Shoop Song (It's In His Kiss)\", 'Cher'), '000007F0': (\"I Don't Feel Like Dancin'\", 'Scissor Sisters'), '000007F2': ('Demon Cleaner', 'Kyuss'), '000007F8': ('Free Your Mind', 'En Vogue'), '000007F9': ('We Are Who We Are', 'Little Mix'), '000007FB': (\"Sgt. Pepper's Lonely Hearts Club Band\", 'The Beatles'), '00000802': ('Doctor Jones', 'Aqua'), '00000813': ('Fallen Angel', 'Poison'), '0000082A': ('Summertime', 'DJ Jazzy Jeff'), '0000082E': ('Enjoy The Silence', 'Lacuna Coil'), '00000847': ('Élan', 'Nightwish'), '00000859': ('Kirche', 'Böhse Onkelz'), '0000086E': (\"It's Hard To Know\", 'Hot Water Music'), '00000880': ('Hey Tonight', 'Creedence Clearwater Revival'), '00000885': (\"Macy's Day Parade\", 'Green Day'), '0000088D': ('Chandelier', 'Sia'), '0000088E': ('Them Bones', 'Alice In Chains'), '00000897': ('Dance Of Death', 'Iron Maiden'), '000008AB': (\"Vuonna '85\", 'Eppu Normaali'), '000008AE': (\"Don't Cry For Pain\", 'Ana Johnsson'), '000008AF': ('Pushing Me Away', 'Linkin Park'), '000008BF': ('Spaceman', 'Babylon Zoo'), '000008D7': ('En Apesanteur', 'Calogero'), '000008DC': ('Blue (Da Ba Dee)', 'Eiffel 65'), '000008E2': ('Tu Seras', 'Emma Daumas'), '000008ED': ('Dile Al Sol', 'La Oreja De Van Gogh'), '000008FA': ('Cat And Mouse', 'The Red Jumpsuit Apparatus'), '00000916': ('Geil, Geil, Geil (Wir Sind Die Größten)', 'Wolfgang Petry'), '00000918': ('Leave In Silence', 'Depeche Mode'), '0000091D': ('Vindicated', 'Dashboard Confessional'), '0000092E': ('Second Chance', 'Shinedown'), '00000936': ('Skandal Im Sperrbezirk', 'Spider Murphy Gang'), '0000093A': ('Gay Pirates', 'Cosmo Jarvis'), '0000093C': ('Working For The Weekend', 'Loverboy'), '0000093D': ('Linoleum', 'NOFX'), '0000093E': ('Non Passerai', 'Marco Mengoni'), '00000943': ('Pretty Fly (For A White Guy)', 'The Offspring'), '00000950': ('Schickeria', 'Spider Murphy Gang'), '00000953': ('Half The World Away', 'Oasis'), '00000955': ('Oerend Hard', 'Normaal'), '00000967': ('Little Things', 'One Direction'), '0000096D': ('Lonely Boy', 'The Black Keys'), '00000975': ('Going Nowhere', 'Little Mix'), '0000097B': ('Carta', 'Toranja'), '00000988': ('Friday On My Mind', 'Gary Moore'), '00000995': ('Take A Chance On Me', 'ABBA'), '000009A4': ('Shapeshifter', 'Celldweller'), '000009AF': ('Sei Parte Di Me', 'Zero Assoluto'), '000009BA': ('Strong', 'London Grammar'), '000009CD': (\"Un'emozione Per Sempre\", 'Eros Ramazzotti'), '000009D1': ('Animals', 'Maroon 5'), '000009E7': ('Laura', 'Scissor Sisters'), '000009F1': ('Shine', 'Imogen Heap'), '00000A02': ('Coma', \"Guns N' Roses\"), '00000A04': ('Dieser Weg', 'Xavier Naidoo'), '00000A06': ('Numb', 'Linkin Park'), '00000A09': ('Hit The Lights', 'Metallica'), '00000A0E': ('Cotton-Eye Joe', 'Rednex'), '00000A14': ('Pure Morning', 'Placebo'), '00000A1A': (\"Ich Möcht' So Gerne Metal Hör'n\", 'J.B.O.'), '00000A20': (\"Sorry, You're Not A Winner\", 'Enter Shikari'), '00000A28': ('Plug In Baby', 'Muse'), '00000A46': ('Girls & Boys', 'Blur'), '00000A47': ('El Del Medio De Los Chichos', 'Estopa'), '00000A4D': ('Vivir Así Es Morir De Amor', 'Camilo Sesto'), '00000A5B': ('This Will Make You Love Again', 'IAMX'), '00000A6A': ('I Remember You', 'Skid Row'), '00000A72': ('She Goes Nana', 'The Radios'), '00000A7C': ('Story Of A Lonely Guy', 'Blink-182'), '00000A8F': ('Run To The Hills', 'Iron Maiden'), '00000AA3': (\"Give 'Em Hell, Kid\", 'My Chemical Romance'), '00000AA6': ('Zoe Jane', 'Staind'), '00000AAE': ('Between Angels And Insects', 'Papa Roach'), '00000AB0': (\"Gangsta's Paradise\", 'Coolio'), '00000AB2': ('Ho Hey', 'The Lumineers'), '00000ABA': ('Soulweeper 2', 'Volbeat'), '00000ABC': ('Beweg Dein Arsch', 'LaFee'), '00000AC3': ('Kein Gerede', 'WIZO'), '00000AC6': ('Tu Mi Porti Su', 'Giorgia'), '00000AD1': ('Ricominciamo', 'Adriano Pappalardo'), '00000AD6': ('Tutto Il Resto È Noia', 'Franco Califano'), '00000ADE': ('Hail To The King', 'Avenged Sevenfold'), '00000AE9': ('99 Red Balloons', 'Goldfinger'), '00000AF5': ('Return To Sender', 'Elvis Presley'), '00000AF9': ('Going Missing', 'Maxïmo Park'), '00000B07': ('The Joker', 'Steve Miller Band'), '00000B09': ('Name', 'Goo Goo Dolls'), '00000B0A': ('Oh Yeah', 'Roxy Music'), '00000B16': ('Wrapped', 'Gloria Estefan'), '00000B1C': ('Sweet Home Alabama', 'Lynyrd Skynyrd'), '00000B39': ('Rusted From The Rain', 'Billy Talent'), '00000B49': ('DeMoliendo Hoteles', 'Charly García'), '00000B51': ('Do You Want To', 'Franz Ferdinand'), '00000B57': ('Schwinger', 'Seeed'), '00000B61': ('Cross My Heart', 'Marianas Trench'), '00000B6E': ('Juke Box Hero', 'Foreigner'), '00000B74': ('Say You, Say Me', 'Lionel Richie'), '00000B7B': ('I Miss You', 'Miley Cyrus'), '00000B90': ('Celebrity Status', 'Marianas Trench'), '00000B97': (\"Parce Qu'on Vient De Loin\", 'Corneille'), '00000B98': ('Jump', 'Van Halen'), '00000B9D': ('Certe Notti', 'Ligabue'), '00000BA4': ('Traffic', 'Stereophonics'), '00000BB1': ('Brizgalna Brizga', 'Atomik Harmonik'), '00000BB4': (\"Rome Wasn't Built In A Day\", 'Morcheeba'), '00000BB5': ('Our Velocity', 'Maxïmo Park'), '00000BBD': ('Touch Me', 'The Doors'), '00000BC3': ('E Ritorno Da Te', 'Laura Pausini'), '00000BC4': ('Denial', 'Sugababes'), '00000BC7': ('Hier Kommt Kurt', 'Frank Zander'), '00000BCE': ('Eve Of Destruction', 'Barry McGuire'), '00000BD5': ('Thinking Out Loud', 'Ed Sheeran'), '00000BDD': ('Leuchtturm', 'Nena'), '00000C07': ('Real Things', 'Javine'), '00000C09': ('Cinderela', 'Carlos Paião'), '00000C16': ('Add It Up', 'Violent Femmes'), '00000C1B': ('Die Welt Kann Mich Nicht Mehr Verstehen', 'Tocotronic'), '00000C20': ('Crying In The Chapel', 'Elvis Presley'), '00000C4F': ('Guilty Of Love', 'Shanadoo'), '00000C75': ('Noches De Bohemia', 'Navajita Plateá'), '00000C87': ('4000 Rainy Nights', 'Stratovarius'), '00000C8E': ('The Trooper', 'Iron Maiden'), '00000C98': ('Gifts And Curses', 'Yellowcard'), '00000C9B': ('Tonight', 'Big Bang'), '00000CA0': ('Haschisch Kakalake', 'Creme De La Creme'), '00000CB0': ('My Hero', 'Foo Fighters'), '00000CB9': ('Torero', 'Chayanne'), '00000CC6': ('Everyday', 'Buddy Holly'), '00000CC7': ('Bad Day', 'Daniel Powter'), '00000CCC': ('Kiss This', 'Aaron Tippin'), '00000CD7': ('Dirty Deeds Done Dirt Cheap', 'AC/DC'), '00000CE4': ('El Alma En Pie', 'Chenoa'), '00000CEC': ('We Own The Night', 'The Wanted'), '00000CEF': ('Ghostbusters', 'Ray Parker'), '00000D20': ('...Baby One More Time', 'Britney Spears')}"
   ]
  },
  {
   "cell_type": "markdown",
   "metadata": {},
   "source": [
    "## Statistics about the DALI dataset"
   ]
  },
  {
   "cell_type": "code",
   "execution_count": 7,
   "metadata": {},
   "outputs": [],
   "source": [
    "dali_usable_count = utils.count_sources(id_file_path)"
   ]
  },
  {
   "cell_type": "code",
   "execution_count": 9,
   "metadata": {},
   "outputs": [
    {
     "name": "stdout",
     "output_type": "stream",
     "text": [
      "3060\n"
     ]
    }
   ],
   "source": [
    "print(dali_usable_count['count_dali'])"
   ]
  },
  {
   "cell_type": "code",
   "execution_count": null,
   "metadata": {},
   "outputs": [
    {
     "data": {
      "text/plain": [
       "{'dali_counts': {'no_language_information': 28,\n",
       "  'wrongly_encoded_asian_song': 48,\n",
       "  'no_paragraphs': 1801,\n",
       "  'not_found_on_Genius': 27,\n",
       "  'total': 1904}}"
      ]
     },
     "metadata": {},
     "output_type": "display_data"
    }
   ],
   "source": [
    "dali_avoided_songs = utils.dali_count_avoided_songs(avoided_songs_file_path)"
   ]
  },
  {
   "cell_type": "code",
   "execution_count": null,
   "metadata": {},
   "outputs": [],
   "source": [
    "print(dali_avoided_songs)"
   ]
  },
  {
   "cell_type": "code",
   "execution_count": null,
   "metadata": {},
   "outputs": [],
   "source": [
    "if dali_usable_count != 0:\n",
    "    percentage = dali_usable_count['count_dali']/(dali_usable_count['count_dali']+dali_avoided_songs['dali_counts']['total'])*100\n",
    "    print(f\"{percentage}% of the songs from DALI dataset are usable to create the feed the knowledge graph.\")"
   ]
  },
  {
   "cell_type": "markdown",
   "metadata": {},
   "source": [
    "# Conversion of the whole DAMP dataset"
   ]
  },
  {
   "cell_type": "code",
   "execution_count": 11,
   "metadata": {},
   "outputs": [],
   "source": [
    "# Path of the DAMP json files folder (not present in the directory)\n",
    "DAMP_dir = \"D:/US/\"\n",
    "\n",
    "# Since some DAMP songs were leading to some overwriting conversion errors, we preferred to keep\n",
    "# the id and avoided song files separated from DALI ones\n",
    "id_file_path = \"./damp_id.txt\" # List of the usable converted songs along with their new id\n",
    "avoided_songs_file_path = \"./damp_avoided_songs.txt\" # List of the songs put aside from the conversion for different reasons\n",
    "\n",
    "# A temporary folder (not present in the repository anymore) hosting the DAMP json files already\n",
    "# processed that get deleted from the dali folder.\n",
    "# This way, we can rerun the function in case it stopped midway without having to start the conversion from scratch.\n",
    "already_converted_path = \"D:/US_already/\"\n",
    "\n",
    "# Path of the folder where the final json files get saved once the song gets processed and converted\n",
    "save_path = \"./damp_saved/\""
   ]
  },
  {
   "cell_type": "code",
   "execution_count": null,
   "metadata": {},
   "outputs": [],
   "source": [
    "main.create_damp_notations(DAMP_dir, save_path, already_converted_path, id_file_path, avoided_songs_file_path)"
   ]
  },
  {
   "cell_type": "markdown",
   "metadata": {},
   "source": [
    "Unfortunately, some overwriting problems we did not have time to fix led us to be able to convert only a few hundreds songs despite the DAMP original dataset being way bigger. We also lost track of the songs that got avoided because of this same problem. However, we still have some data to work with. We decided to focus on this in addition to the 3060 converted files we got from DALI to feed our knowledge graph."
   ]
  },
  {
   "cell_type": "markdown",
   "metadata": {},
   "source": [
    "## Post-conversion steps"
   ]
  },
  {
   "cell_type": "markdown",
   "metadata": {},
   "source": [
    "Is there some songs that got wrongly converted (because of errors in the dataset content that prevent from right line matching, for example) and hence need to be put aside? Usually, these songs only have one single paragraph."
   ]
  },
  {
   "cell_type": "code",
   "execution_count": 12,
   "metadata": {},
   "outputs": [
    {
     "name": "stdout",
     "output_type": "stream",
     "text": [
      "Error decoding JSON in file ./damp_saved/000000BB.json: Extra data: line 756 column 2 (char 26409)\n",
      "Error decoding JSON in file ./damp_saved/00000109.json: Expecting property name enclosed in double quotes: line 702 column 6 (char 23805)\n"
     ]
    }
   ],
   "source": [
    "song_ids = utils.get_single_paragraph_song_info(\"./damp_saved/\")"
   ]
  },
  {
   "cell_type": "code",
   "execution_count": 3,
   "metadata": {},
   "outputs": [],
   "source": [
    "damp_path = \"./damp_saved\"\n",
    "dali_path = \"./saved\"\n",
    "id_file_path = \"./dali_id.txt\"\n",
    "starting_id = 3059"
   ]
  },
  {
   "cell_type": "code",
   "execution_count": 4,
   "metadata": {},
   "outputs": [
    {
     "ename": "NameError",
     "evalue": "name 'new_id_key' is not defined",
     "output_type": "error",
     "traceback": [
      "\u001b[1;31m---------------------------------------------------------------------------\u001b[0m",
      "\u001b[1;31mNameError\u001b[0m                                 Traceback (most recent call last)",
      "\u001b[1;32m~\\AppData\\Local\\Temp/ipykernel_10444/913174329.py\u001b[0m in \u001b[0;36m<module>\u001b[1;34m\u001b[0m\n\u001b[1;32m----> 1\u001b[1;33m \u001b[0mutils\u001b[0m\u001b[1;33m.\u001b[0m\u001b[0mmerge_damp_ids_to_dali\u001b[0m\u001b[1;33m(\u001b[0m\u001b[0mdamp_path\u001b[0m\u001b[1;33m,\u001b[0m \u001b[0mdali_path\u001b[0m\u001b[1;33m,\u001b[0m \u001b[0mid_file_path\u001b[0m\u001b[1;33m,\u001b[0m \u001b[0mstarting_id\u001b[0m\u001b[1;33m)\u001b[0m\u001b[1;33m\u001b[0m\u001b[1;33m\u001b[0m\u001b[0m\n\u001b[0m",
      "\u001b[1;32md:\\0_Maud\\Etudes\\4_ECL\\G2\\S8\\Cours Bologne\\Knowledge Engineering\\Project\\ke_final_project-july24\\conversion\\utils.py\u001b[0m in \u001b[0;36mmerge_damp_ids_to_dali\u001b[1;34m(damp_path, dali_path, id_file_path, starting_id)\u001b[0m\n\u001b[0;32m    433\u001b[0m         \u001b[1;32melse\u001b[0m \u001b[1;33m:\u001b[0m \u001b[1;31m# song already converted\u001b[0m\u001b[1;33m\u001b[0m\u001b[1;33m\u001b[0m\u001b[0m\n\u001b[0;32m    434\u001b[0m             \u001b[0mos\u001b[0m\u001b[1;33m.\u001b[0m\u001b[0mremove\u001b[0m\u001b[1;33m(\u001b[0m\u001b[0mfile_path\u001b[0m\u001b[1;33m)\u001b[0m\u001b[1;33m\u001b[0m\u001b[1;33m\u001b[0m\u001b[0m\n\u001b[1;32m--> 435\u001b[1;33m             \u001b[0msource\u001b[0m \u001b[1;33m=\u001b[0m \u001b[0mid_list\u001b[0m\u001b[1;33m[\u001b[0m\u001b[0mnew_id_key\u001b[0m\u001b[1;33m]\u001b[0m\u001b[1;33m[\u001b[0m\u001b[1;36m1\u001b[0m\u001b[1;33m]\u001b[0m\u001b[1;33m\u001b[0m\u001b[1;33m\u001b[0m\u001b[0m\n\u001b[0m\u001b[0;32m    436\u001b[0m             \u001b[0msource\u001b[0m\u001b[1;33m.\u001b[0m\u001b[0mappend\u001b[0m\u001b[1;33m(\u001b[0m\u001b[1;34m\"DAMP\"\u001b[0m\u001b[1;33m)\u001b[0m\u001b[1;33m\u001b[0m\u001b[1;33m\u001b[0m\u001b[0m\n\u001b[0;32m    437\u001b[0m             \u001b[1;32mwith\u001b[0m \u001b[0mopen\u001b[0m\u001b[1;33m(\u001b[0m\u001b[0mid_file_path\u001b[0m\u001b[1;33m,\u001b[0m \u001b[1;34m'w'\u001b[0m\u001b[1;33m)\u001b[0m \u001b[1;32mas\u001b[0m \u001b[0mid_file\u001b[0m\u001b[1;33m:\u001b[0m\u001b[1;33m\u001b[0m\u001b[1;33m\u001b[0m\u001b[0m\n",
      "\u001b[1;31mNameError\u001b[0m: name 'new_id_key' is not defined"
     ]
    }
   ],
   "source": [
    "utils.merge_damp_ids_to_dali(damp_path, dali_path, id_file_path, starting_id)"
   ]
  },
  {
   "cell_type": "code",
   "execution_count": 16,
   "metadata": {},
   "outputs": [
    {
     "data": {
      "text/plain": [
       "'./saved\\\\00000000_d.json'"
      ]
     },
     "execution_count": 16,
     "metadata": {},
     "output_type": "execute_result"
    }
   ],
   "source": [
    "# Move and rename the file to DALI folder\n",
    "shutil.move(file_path, new_file_path)"
   ]
  },
  {
   "cell_type": "code",
   "execution_count": 18,
   "metadata": {},
   "outputs": [],
   "source": [
    "current_id = starting_id\n",
    "# Increment ID\n",
    "current_id += 1\n",
    "renamed_file_path = os.path.join(dali_path, f\"{current_id:08X}{os.path.splitext(filename)[1]}\")\n",
    "\n",
    "# Rename file with the incremented ID\n",
    "os.rename(new_file_path, renamed_file_path)"
   ]
  },
  {
   "cell_type": "code",
   "execution_count": 20,
   "metadata": {},
   "outputs": [
    {
     "name": "stdout",
     "output_type": "stream",
     "text": [
      "00000BF4\n"
     ]
    }
   ],
   "source": [
    "print(f\"{current_id:08X}\")"
   ]
  },
  {
   "cell_type": "code",
   "execution_count": 24,
   "metadata": {},
   "outputs": [],
   "source": [
    "# Open file, modify its content and save it\n",
    "with open(renamed_file_path, 'r') as file:\n",
    "    dic = json.load(file)\n",
    "    # Update the ID\n",
    "    dic['meta']['song_id'] = f\"{current_id:08X}\"\n",
    "\n",
    "with open(renamed_file_path, 'w') as file:\n",
    "    json.dump(dic, file, indent=4)"
   ]
  },
  {
   "cell_type": "code",
   "execution_count": 25,
   "metadata": {},
   "outputs": [],
   "source": [
    "new_id_key = f\"{dic['meta']['title']} - {dic['meta']['artist']}\""
   ]
  },
  {
   "cell_type": "code",
   "execution_count": 26,
   "metadata": {},
   "outputs": [
    {
     "name": "stdout",
     "output_type": "stream",
     "text": [
      "All I Ask - Adele\n"
     ]
    }
   ],
   "source": [
    "print(new_id_key)"
   ]
  },
  {
   "cell_type": "code",
   "execution_count": null,
   "metadata": {},
   "outputs": [],
   "source": [
    "with open(id_file_path, 'w') as file:\n",
    "    id_list = json.load(id_file)\n",
    "    # Append the new entry\n",
    "    \n",
    "    new_id = {new_id_key : [f\"{current_id:08X}\", \"DAMP\"]}\n",
    "    id_list.update(new_id)\n",
    "\n",
    "    # Save the updated dictionary back to the file\n",
    "    with open(id_file_path, 'w') as id_file:\n",
    "        json.dump(id_list, id_file, indent=4)"
   ]
  },
  {
   "cell_type": "code",
   "execution_count": 3,
   "metadata": {},
   "outputs": [],
   "source": [
    "song_ids = {'000000BB': ('Mon ptit loup', 'Sofiane'), '00000109': ('Ohne Dich', 'Münchener Freiheit')}"
   ]
  },
  {
   "cell_type": "code",
   "execution_count": 4,
   "metadata": {},
   "outputs": [],
   "source": [
    "utils.delete_wrong_converted_songs(song_ids, \"./damp_saved/\")"
   ]
  },
  {
   "cell_type": "code",
   "execution_count": 3,
   "metadata": {},
   "outputs": [
    {
     "data": {
      "text/plain": [
       "'ID list updated successfully.'"
      ]
     },
     "execution_count": 3,
     "metadata": {},
     "output_type": "execute_result"
    }
   ],
   "source": [
    "utils.create_id_list(\"./damp_saved/\", \"./damp_id.txt\", \"DAMP\")"
   ]
  },
  {
   "cell_type": "code",
   "execution_count": 9,
   "metadata": {},
   "outputs": [],
   "source": [
    "with open(\"./damp_id.txt\", 'r') as file:\n",
    "        input_dict = json.load(file)\n",
    "    \n",
    "# Sort the dictionary items by the integer values of the first value of each entry\n",
    "sorted_items = sorted(input_dict.items(), key=lambda item: int(item[1][0], 16))\n",
    "\n",
    "# Create a new dictionary from the sorted items\n",
    "sorted_dict = {k: v for k, v in sorted_items}\n",
    "\n",
    "# Save the sorted dictionary back to the file\n",
    "with open(\"./damp_id.txt\", 'w') as file:\n",
    "    json.dump(sorted_dict, file, indent=4)\n"
   ]
  },
  {
   "cell_type": "code",
   "execution_count": 10,
   "metadata": {},
   "outputs": [
    {
     "ename": "FileExistsError",
     "evalue": "[WinError 183] Impossible de créer un fichier déjà existant: './damp_saved/0000000D.json' -> './damp_saved/0000000C.json'",
     "output_type": "error",
     "traceback": [
      "\u001b[1;31m---------------------------------------------------------------------------\u001b[0m",
      "\u001b[1;31mFileExistsError\u001b[0m                           Traceback (most recent call last)",
      "\u001b[1;32m~\\AppData\\Local\\Temp/ipykernel_15980/2256839549.py\u001b[0m in \u001b[0;36m<module>\u001b[1;34m\u001b[0m\n\u001b[1;32m----> 1\u001b[1;33m \u001b[0mutils\u001b[0m\u001b[1;33m.\u001b[0m\u001b[0mchange_ids_and_rename_files\u001b[0m\u001b[1;33m(\u001b[0m\u001b[1;34m\"./damp_id.txt\"\u001b[0m\u001b[1;33m,\u001b[0m \u001b[1;34m\"./damp_saved/\"\u001b[0m\u001b[1;33m,\u001b[0m \u001b[1;36m8\u001b[0m\u001b[1;33m)\u001b[0m\u001b[1;33m\u001b[0m\u001b[1;33m\u001b[0m\u001b[0m\n\u001b[0m",
      "\u001b[1;32md:\\0_Maud\\Etudes\\4_ECL\\G2\\S8\\Cours Bologne\\Knowledge Engineering\\Project\\ke_final_project-july24\\conversion\\utils.py\u001b[0m in \u001b[0;36mchange_ids_and_rename_files\u001b[1;34m(dict_path, files_directory, id_len)\u001b[0m\n\u001b[0;32m    360\u001b[0m                 \u001b[0mold_path\u001b[0m \u001b[1;33m=\u001b[0m \u001b[0mos\u001b[0m\u001b[1;33m.\u001b[0m\u001b[0mpath\u001b[0m\u001b[1;33m.\u001b[0m\u001b[0mjoin\u001b[0m\u001b[1;33m(\u001b[0m\u001b[0mfiles_directory\u001b[0m\u001b[1;33m,\u001b[0m \u001b[0mold_file\u001b[0m\u001b[1;33m)\u001b[0m\u001b[1;33m\u001b[0m\u001b[1;33m\u001b[0m\u001b[0m\n\u001b[0;32m    361\u001b[0m                 \u001b[0mnew_path\u001b[0m \u001b[1;33m=\u001b[0m \u001b[0mos\u001b[0m\u001b[1;33m.\u001b[0m\u001b[0mpath\u001b[0m\u001b[1;33m.\u001b[0m\u001b[0mjoin\u001b[0m\u001b[1;33m(\u001b[0m\u001b[0mfiles_directory\u001b[0m\u001b[1;33m,\u001b[0m \u001b[0mnew_file\u001b[0m\u001b[1;33m)\u001b[0m\u001b[1;33m\u001b[0m\u001b[1;33m\u001b[0m\u001b[0m\n\u001b[1;32m--> 362\u001b[1;33m                 \u001b[0mos\u001b[0m\u001b[1;33m.\u001b[0m\u001b[0mrename\u001b[0m\u001b[1;33m(\u001b[0m\u001b[0mold_path\u001b[0m\u001b[1;33m,\u001b[0m \u001b[0mnew_path\u001b[0m\u001b[1;33m)\u001b[0m\u001b[1;33m\u001b[0m\u001b[1;33m\u001b[0m\u001b[0m\n\u001b[0m\u001b[0;32m    363\u001b[0m \u001b[1;33m\u001b[0m\u001b[0m\n\u001b[0;32m    364\u001b[0m                 \u001b[1;31m# Open the JSON file and update the id field\u001b[0m\u001b[1;33m\u001b[0m\u001b[1;33m\u001b[0m\u001b[0m\n",
      "\u001b[1;31mFileExistsError\u001b[0m: [WinError 183] Impossible de créer un fichier déjà existant: './damp_saved/0000000D.json' -> './damp_saved/0000000C.json'"
     ]
    }
   ],
   "source": [
    "utils.change_ids_and_rename_files(\"./damp_id.txt\", \"./damp_saved/\", 8)"
   ]
  },
  {
   "cell_type": "markdown",
   "metadata": {},
   "source": [
    "There are 304 songs we need to put aside. Let's use their id to perform this."
   ]
  },
  {
   "cell_type": "code",
   "execution_count": 4,
   "metadata": {},
   "outputs": [],
   "source": [
    "import os"
   ]
  },
  {
   "cell_type": "code",
   "execution_count": null,
   "metadata": {},
   "outputs": [
    {
     "name": "stdout",
     "output_type": "stream",
     "text": [
      "{'00000003': ('Geschwisterliebe', 'Die Ärzte'), '00000011': ('Adios', 'Rammstein'), '00000015': ('Kinky Afro', 'Happy Mondays'), '00000048': ('Bad Moon Rising', 'Creedence Clearwater Revival'), '0000006F': ('Hounds Of Love', 'Kate Bush'), '00000082': ('My Love', 'Westlife'), '00000085': ('Have You Ever Seen The Rain', 'Creedence Clearwater Revival'), '0000008A': ('Sweetest Thing', 'U2'), '00000091': ('The Invisible Man', 'Queen'), '0000009C': ('Mine', 'Taylor Swift'), '000000A5': ('Totale Finsternis', 'Tanz Der Vampire'), '000000A8': ('A Boy Named Sue', 'Johnny Cash'), '000000B5': ('Mirror Mirror', 'Blind Guardian'), '000000BC': ('Eet', 'Regina Spektor'), '000000BD': ('Freiheit', 'Marius Müller-Westernhagen'), '000000D0': ('Stray Heart', 'Green Day'), '000000D7': ('Hard Candy Christmas', 'Dolly Parton'), '000000DF': ('Last Man Standing', 'HammerFall'), '000000EB': ('Rosas', 'La Oreja De Van Gogh'), '000000FA': ('Du Entschuldige I Kenn Di', 'Peter Cornelius'), '00000106': (\"'39\", 'Queen'), '00000115': ('Piano Man', 'Billy Joel'), '00000121': ('Tu', 'Noelia'), '00000125': ('Tra Te E Il Mare', 'Laura Pausini'), '00000141': (\"Cryin'\", 'Aerosmith'), '00000150': ('Yo (Excuse Me Miss)', 'Chris Brown'), '00000169': ('Return To Innocence', 'Enigma'), '0000016D': ('Mindestens In 1000 Jahren', 'Frittenbude'), '00000174': ('Breathe Easy', 'Blue'), '00000178': ('Cassius', 'Foals'), '00000191': ('Change The World', 'The Offspring'), '00000199': ('Broken Angel', 'Arash'), '000001A0': ('DOA', 'Foo Fighters'), '000001A3': ('Our Song', 'Taylor Swift'), '000001A6': ('Proud Mary', 'Creedence Clearwater Revival'), '000001C7': ('Time Is On My Side', 'The Rolling Stones'), '000001CB': (\"Without You I'm Nothing\", 'Placebo'), '000001D4': ('Build A Bridge', 'Limp Bizkit'), '000001DF': ('Shining Light', 'Ash'), '000001E7': ('Danny Boy', 'Elvis Presley'), '000001EA': ('Allt På Ett Kort', 'Bob Hund'), '000001ED': ('Touch Of My Hand', 'Britney Spears'), '000001F0': ('Calling You', 'Kat DeLuna'), '00000200': ('Leave It Alone', 'NOFX'), '00000201': ('Get Out Alive', 'Three Days Grace'), '00000205': ('National Anthem', 'LeAnn Rimes'), '0000020B': ('Saturday Night', 'Suede'), '0000020E': ('Bad Case Of Loving You (Doctor, Doctor)', 'Robert Palmer'), '00000217': ('Take Your Mama', 'Scissor Sisters'), '00000218': ('Desire', 'U2'), '0000022C': ('Stranger', 'Hilary Duff'), '00000236': ('(Do You) Get Excited', 'Roxette'), '0000023E': ('7 E 40', 'Lucio Battisti'), '00000246': ('Yes', 'Demi Lovato'), '0000025C': ('Stay', 'Tooji'), '00000260': ('En Algún Lugar', 'Duncan Dhu'), '00000265': (\"You'll Be Mine\", 'The Pierces'), '0000026C': ('Brown Eyed Girl', 'Van Morrison'), '0000026F': ('Missing', 'Evanescence'), '0000028B': ('Crush', 'David Archuleta'), '00000290': ('Antisocial', 'Anthrax'), '00000299': ('Woman', 'John Lennon'), '000002B0': ('The Greatest Man That Ever Lived (Variations On A Shaker Hymn)', 'Weezer'), '000002BB': ('You Sexy Thing', 'Hot Chocolate'), '000002BD': ('The Prayer', 'Bloc Party'), '000002C2': ('The Waiting One', 'All That Remains'), '000002CE': ('The Down Syndrome', 'Grey Daze'), '000002D0': ('Walk Like An Egyptian', 'The Bangles'), '000002EA': ('Dramatic Song', 'Toby Turner'), '000002ED': ('Deutschland', 'Die Prinzen'), '000002FD': ('Asereje', 'Las Ketchup'), '00000308': ('Mr. Sandman', 'Emmylou Harris'), '00000318': ('Serenata Rap', 'Jovanotti'), '00000329': ('Sunshine', 'Aerosmith'), '00000332': ('(Do You Get) Excited?', 'Roxette'), '0000033F': (\"Baba O'Riley\", 'The Who'), '00000344': ('Vieni A Ballare In Puglia', 'CapaRezza'), '00000345': ('Una Carezza In Un Pugno', 'Adriano Celentano'), '00000350': ('Broken', 'Seether'), '00000352': ('Would You Love A Monsterman?', 'Lordi'), '00000353': ('Virtual Insanity', 'Jamiroquai'), '0000036E': ('Mil Horas', 'Los Abuelos De La Nada'), '00000376': ('Half A World Away', 'R.E.M.'), '0000037A': ('Time Bomb', 'Rancid'), '00000386': ('There Is A Light That Never Goes Out', 'The Smiths'), '00000387': (\"Weus'd A Herz Hast Wia A Bergwerk\", 'Rainhard Fendrich'), '00000399': ('You Are The One', 'Shiny Toy Guns'), '000003AF': ('Sex Bomb', 'Tom Jones'), '000003C4': ('RadioVideo', 'System Of A Down'), '000003D2': ('Mentira', 'João Pedro Pais'), '000003D3': ('New Soul', 'Yael Naim'), '000003DB': ('Bad Day', 'Darwin Deez'), '000003F8': ('Hostage Of Love', 'Razorlight'), '00000410': ('Rooftops (A Liberation Broadcast)', 'Lostprophets'), '0000041D': ('Jour 1', 'Louane'), '00000426': ('Vielleicht', 'Madsen'), '00000428': ('Down', 'Something Corporate'), '0000042F': (\"Europe's Living A Celebration\", 'Rosa López'), '0000043E': ('Easy To Ignore', 'Sixpence None The Richer'), '00000448': ('Black Sheep', 'Sonata Arctica'), '0000044F': ('Tourniquet', 'Evanescence'), '00000462': ('Deutsche Bahn', 'Wise Guys'), '0000046E': (\"I'm Just A Kid\", 'Simple Plan'), '00000477': ('Since U Been Gone', 'Kelly Clarkson'), '0000047A': ('Up!', 'Shania Twain'), '00000484': ('Der Graf', 'Die Ärzte'), '0000048F': ('Fast Car', 'Jonas Blue'), '0000049D': ('Yellow Ledbetter', 'Pearl Jam'), '000004B8': ('Heartbreaker', 'G-Dragon'), '000004DA': ('Omaboy', 'Die Ärzte'), '000004E8': ('Three Lions', 'Lightning Seeds'), '000004EC': ('Paper Gangsta', 'Lady Gaga'), '000004F5': ('Pocahontas', 'AnnenMayKantereit'), '000004F8': ('Porch', 'Pearl Jam'), '0000050F': ('Double Je', 'Christophe Willem'), '0000051C': ('50 Special', 'Lùnapop'), '0000051E': ('Born To Be Wild', 'Steppenwolf'), '00000533': ('Dear God', 'Avenged Sevenfold'), '00000536': ('Lo Que Pasó, Pasó', 'Daddy Yankee'), '00000553': ('When I Kissed The Teacher', 'ABBA'), '00000555': ('Yellow', 'Coldplay'), '00000560': ('Too Young', 'Phoenix'), '00000562': ('I Am What I Am', 'Gloria Gaynor'), '00000569': ('Dicono Di Me', 'Cesare Cremonini'), '0000056A': ('First Time', 'Lifehouse'), '00000571': (\"Jesus Doesn't Want Me For A Sunbeam\", 'Nirvana'), '00000579': ('Psycho', 'Puddle Of Mudd'), '00000597': ('Invece No', 'Laura Pausini'), '0000059F': ('Tomber La Chemise', 'Zebda'), '000005B8': ('The Wind Blows', 'The All-American Rejects'), '000005BC': ('Una Donna Per Amico', 'Lucio Battisti'), '000005C9': ('Mama Kin', 'Aerosmith'), '000005EF': ('Around The World (La La La La La)', 'ATC'), '000005F7': ('Fallen Angels', 'Black Veil Brides'), '000005FB': ('Lift U Up', 'Gotthard'), '00000607': (\"Who's Going Home With You Tonight?\", 'Trapt'), '00000614': ('Schickeria', 'Rainhard Fendrich'), '00000619': ('Strange World', 'Iron Maiden'), '0000061A': ('Show Me Your Colours', 'S Club 7'), '00000626': ('Never Wake Up', 'Sum 41'), '00000627': ('Break Stuff', 'Limp Bizkit'), '00000631': (\"C'mon C'mon\", 'The Von Bondies'), '00000633': (\"God's Gonna Cut You Down\", 'Johnny Cash'), '0000063E': ('If I Had A Hammer', 'Trini Lopez'), '00000643': ('Por Mujeres Como Tú', 'Pepe Aguilar'), '0000064F': ('Have I Told You Lately', 'Rod Stewart'), '00000655': ('From The Inside', 'Linkin Park'), '00000661': ('Sultans Of Swing', 'Dire Straits'), '00000683': ('Großvater', 'STS'), '000006A1': ('500 Miles', 'Peter'), '000006B1': ('Why Still Bother', 'Itchy Poopzkid'), '000006C1': ('On Melancholy Hill', 'Gorillaz'), '000006D8': ('Walk Away', 'Kelly Clarkson'), '000006DE': ('Inside Of You', 'Hoobastank'), '000006EE': ('Runaround Sue', 'Dion'), '000006F9': ('These Dreams', 'Heart'), '000006FE': ('Days Without', 'All That Remains'), '00000719': ('Cherry Lips (Go Baby Go!)', 'Garbage'), '00000734': ('Just Give Me A Reason', 'P!nk'), '00000740': ('(Let Me Be Your) Teddy Bear', 'Elvis Presley'), '00000753': ('Moviestar', 'Harpo'), '00000755': ('Le Manège', 'Stanislas'), '0000076E': ('Georgia On My Mind', 'Ray Charles'), '00000781': ('Molinos De Viento', 'Mägo De Oz'), '00000785': (\"'54, '74, '90, 2006\", 'Sportfreunde Stiller'), '000007A3': ('Desperado', 'Eagles'), '000007B6': ('These Eyes', 'The Guess Who'), '000007C8': ('Go Tell It On The Mountain', 'Simon And Garfunkel'), '000007CD': ('Raggio Di Sole', 'Le Vibrazioni'), '000007E0': (\"The Shoop Shoop Song (It's In His Kiss)\", 'Cher'), '000007F0': (\"I Don't Feel Like Dancin'\", 'Scissor Sisters'), '000007F2': ('Demon Cleaner', 'Kyuss'), '000007F8': ('Free Your Mind', 'En Vogue'), '000007F9': ('We Are Who We Are', 'Little Mix'), '000007FB': (\"Sgt. Pepper's Lonely Hearts Club Band\", 'The Beatles'), '00000802': ('Doctor Jones', 'Aqua'), '00000813': ('Fallen Angel', 'Poison'), '0000082A': ('Summertime', 'DJ Jazzy Jeff'), '0000082E': ('Enjoy The Silence', 'Lacuna Coil'), '00000847': ('Élan', 'Nightwish'), '00000859': ('Kirche', 'Böhse Onkelz'), '0000086E': (\"It's Hard To Know\", 'Hot Water Music'), '00000880': ('Hey Tonight', 'Creedence Clearwater Revival'), '00000885': (\"Macy's Day Parade\", 'Green Day'), '0000088D': ('Chandelier', 'Sia'), '0000088E': ('Them Bones', 'Alice In Chains'), '00000897': ('Dance Of Death', 'Iron Maiden'), '000008AB': (\"Vuonna '85\", 'Eppu Normaali'), '000008AE': (\"Don't Cry For Pain\", 'Ana Johnsson'), '000008AF': ('Pushing Me Away', 'Linkin Park'), '000008BF': ('Spaceman', 'Babylon Zoo'), '000008D7': ('En Apesanteur', 'Calogero'), '000008DC': ('Blue (Da Ba Dee)', 'Eiffel 65'), '000008E2': ('Tu Seras', 'Emma Daumas'), '000008ED': ('Dile Al Sol', 'La Oreja De Van Gogh'), '000008FA': ('Cat And Mouse', 'The Red Jumpsuit Apparatus'), '00000916': ('Geil, Geil, Geil (Wir Sind Die Größten)', 'Wolfgang Petry'), '00000918': ('Leave In Silence', 'Depeche Mode'), '0000091D': ('Vindicated', 'Dashboard Confessional'), '0000092E': ('Second Chance', 'Shinedown'), '00000936': ('Skandal Im Sperrbezirk', 'Spider Murphy Gang'), '0000093A': ('Gay Pirates', 'Cosmo Jarvis'), '0000093C': ('Working For The Weekend', 'Loverboy'), '0000093D': ('Linoleum', 'NOFX'), '0000093E': ('Non Passerai', 'Marco Mengoni'), '00000943': ('Pretty Fly (For A White Guy)', 'The Offspring'), '00000950': ('Schickeria', 'Spider Murphy Gang'), '00000953': ('Half The World Away', 'Oasis'), '00000955': ('Oerend Hard', 'Normaal'), '00000967': ('Little Things', 'One Direction'), '0000096D': ('Lonely Boy', 'The Black Keys'), '00000975': ('Going Nowhere', 'Little Mix'), '0000097B': ('Carta', 'Toranja'), '00000988': ('Friday On My Mind', 'Gary Moore'), '00000995': ('Take A Chance On Me', 'ABBA'), '000009A4': ('Shapeshifter', 'Celldweller'), '000009AF': ('Sei Parte Di Me', 'Zero Assoluto'), '000009BA': ('Strong', 'London Grammar'), '000009CD': (\"Un'emozione Per Sempre\", 'Eros Ramazzotti'), '000009D1': ('Animals', 'Maroon 5'), '000009E7': ('Laura', 'Scissor Sisters'), '000009F1': ('Shine', 'Imogen Heap'), '00000A02': ('Coma', \"Guns N' Roses\"), '00000A04': ('Dieser Weg', 'Xavier Naidoo'), '00000A06': ('Numb', 'Linkin Park'), '00000A09': ('Hit The Lights', 'Metallica'), '00000A0E': ('Cotton-Eye Joe', 'Rednex'), '00000A14': ('Pure Morning', 'Placebo'), '00000A1A': (\"Ich Möcht' So Gerne Metal Hör'n\", 'J.B.O.'), '00000A20': (\"Sorry, You're Not A Winner\", 'Enter Shikari'), '00000A28': ('Plug In Baby', 'Muse'), '00000A46': ('Girls & Boys', 'Blur'), '00000A47': ('El Del Medio De Los Chichos', 'Estopa'), '00000A4D': ('Vivir Así Es Morir De Amor', 'Camilo Sesto'), '00000A5B': ('This Will Make You Love Again', 'IAMX'), '00000A6A': ('I Remember You', 'Skid Row'), '00000A72': ('She Goes Nana', 'The Radios'), '00000A7C': ('Story Of A Lonely Guy', 'Blink-182'), '00000A8F': ('Run To The Hills', 'Iron Maiden'), '00000AA3': (\"Give 'Em Hell, Kid\", 'My Chemical Romance'), '00000AA6': ('Zoe Jane', 'Staind'), '00000AAE': ('Between Angels And Insects', 'Papa Roach'), '00000AB0': (\"Gangsta's Paradise\", 'Coolio'), '00000AB2': ('Ho Hey', 'The Lumineers'), '00000ABA': ('Soulweeper 2', 'Volbeat'), '00000ABC': ('Beweg Dein Arsch', 'LaFee'), '00000AC3': ('Kein Gerede', 'WIZO'), '00000AC6': ('Tu Mi Porti Su', 'Giorgia'), '00000AD1': ('Ricominciamo', 'Adriano Pappalardo'), '00000AD6': ('Tutto Il Resto È Noia', 'Franco Califano'), '00000ADE': ('Hail To The King', 'Avenged Sevenfold'), '00000AE9': ('99 Red Balloons', 'Goldfinger'), '00000AF5': ('Return To Sender', 'Elvis Presley'), '00000AF9': ('Going Missing', 'Maxïmo Park'), '00000B07': ('The Joker', 'Steve Miller Band'), '00000B09': ('Name', 'Goo Goo Dolls'), '00000B0A': ('Oh Yeah', 'Roxy Music'), '00000B16': ('Wrapped', 'Gloria Estefan'), '00000B1C': ('Sweet Home Alabama', 'Lynyrd Skynyrd'), '00000B39': ('Rusted From The Rain', 'Billy Talent'), '00000B49': ('DeMoliendo Hoteles', 'Charly García'), '00000B51': ('Do You Want To', 'Franz Ferdinand'), '00000B57': ('Schwinger', 'Seeed'), '00000B61': ('Cross My Heart', 'Marianas Trench'), '00000B6E': ('Juke Box Hero', 'Foreigner'), '00000B74': ('Say You, Say Me', 'Lionel Richie'), '00000B7B': ('I Miss You', 'Miley Cyrus'), '00000B90': ('Celebrity Status', 'Marianas Trench'), '00000B97': (\"Parce Qu'on Vient De Loin\", 'Corneille'), '00000B98': ('Jump', 'Van Halen'), '00000B9D': ('Certe Notti', 'Ligabue'), '00000BA4': ('Traffic', 'Stereophonics'), '00000BB1': ('Brizgalna Brizga', 'Atomik Harmonik'), '00000BB4': (\"Rome Wasn't Built In A Day\", 'Morcheeba'), '00000BB5': ('Our Velocity', 'Maxïmo Park'), '00000BBD': ('Touch Me', 'The Doors'), '00000BC3': ('E Ritorno Da Te', 'Laura Pausini'), '00000BC4': ('Denial', 'Sugababes'), '00000BC7': ('Hier Kommt Kurt', 'Frank Zander'), '00000BCE': ('Eve Of Destruction', 'Barry McGuire'), '00000BD5': ('Thinking Out Loud', 'Ed Sheeran'), '00000BDD': ('Leuchtturm', 'Nena'), '00000C07': ('Real Things', 'Javine'), '00000C09': ('Cinderela', 'Carlos Paião'), '00000C16': ('Add It Up', 'Violent Femmes'), '00000C1B': ('Die Welt Kann Mich Nicht Mehr Verstehen', 'Tocotronic'), '00000C20': ('Crying In The Chapel', 'Elvis Presley'), '00000C4F': ('Guilty Of Love', 'Shanadoo'), '00000C75': ('Noches De Bohemia', 'Navajita Plateá'), '00000C87': ('4000 Rainy Nights', 'Stratovarius'), '00000C8E': ('The Trooper', 'Iron Maiden'), '00000C98': ('Gifts And Curses', 'Yellowcard'), '00000C9B': ('Tonight', 'Big Bang'), '00000CA0': ('Haschisch Kakalake', 'Creme De La Creme'), '00000CB0': ('My Hero', 'Foo Fighters'), '00000CB9': ('Torero', 'Chayanne'), '00000CC6': ('Everyday', 'Buddy Holly'), '00000CC7': ('Bad Day', 'Daniel Powter'), '00000CCC': ('Kiss This', 'Aaron Tippin'), '00000CD7': ('Dirty Deeds Done Dirt Cheap', 'AC/DC'), '00000CE4': ('El Alma En Pie', 'Chenoa'), '00000CEC': ('We Own The Night', 'The Wanted'), '00000CEF': ('Ghostbusters', 'Ray Parker'), '00000D20': ('...Baby One More Time', 'Britney Spears')}\n"
     ]
    }
   ],
   "source": [
    "print(song_ids)"
   ]
  },
  {
   "cell_type": "markdown",
   "metadata": {},
   "source": [
    "3364 songs have been converted and are considered as usable. We need to remove the 304 songs from them."
   ]
  },
  {
   "cell_type": "code",
   "execution_count": null,
   "metadata": {},
   "outputs": [],
   "source": [
    "utils.delete_dict_entries(song_ids, './dali_id.txt')"
   ]
  },
  {
   "cell_type": "markdown",
   "metadata": {},
   "source": [
    "The 304 songs have been deleted from the id file. Now, let's update the id of the usable songs so that they are all consecutive."
   ]
  },
  {
   "cell_type": "code",
   "execution_count": null,
   "metadata": {},
   "outputs": [],
   "source": [
    "utils.delete_wrong_converted_songs(song_ids, './saved/')"
   ]
  },
  {
   "cell_type": "code",
   "execution_count": null,
   "metadata": {},
   "outputs": [],
   "source": [
    "utils.change_ids_and_rename_files('./dali_id.txt', './saved/', 8)"
   ]
  }
 ],
 "metadata": {
  "kernelspec": {
   "display_name": "base",
   "language": "python",
   "name": "python3"
  },
  "language_info": {
   "codemirror_mode": {
    "name": "ipython",
    "version": 3
   },
   "file_extension": ".py",
   "mimetype": "text/x-python",
   "name": "python",
   "nbconvert_exporter": "python",
   "pygments_lexer": "ipython3",
   "version": "3.9.7"
  }
 },
 "nbformat": 4,
 "nbformat_minor": 2
}
