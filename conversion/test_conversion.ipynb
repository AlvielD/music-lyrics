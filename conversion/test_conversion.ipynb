{
 "cells": [
  {
   "cell_type": "code",
   "execution_count": 1,
   "metadata": {},
   "outputs": [],
   "source": [
    "from LyricsAnnot import LyricsAnnot\n",
    "import json\n",
    "import main\n",
    "import utils"
   ]
  },
  {
   "cell_type": "code",
   "execution_count": 2,
   "metadata": {},
   "outputs": [],
   "source": [
    "save_path = \"./test/saved/\"\n",
    "id_file_path = \"./test/test_id.txt\""
   ]
  },
  {
   "cell_type": "markdown",
   "metadata": {},
   "source": [
    "# Test with a song from DAMP dataset"
   ]
  },
  {
   "cell_type": "markdown",
   "metadata": {},
   "source": [
    "## Lyrics Annotation Class"
   ]
  },
  {
   "cell_type": "code",
   "execution_count": 3,
   "metadata": {},
   "outputs": [],
   "source": [
    "# Read the data from a JSON file\n",
    "file_path = './test/test_datasets/damp/ES/ESLyrics/3364824_3364824.json'\n",
    "\n",
    "with open(file_path) as file:\n",
    "    data = json.load(file)"
   ]
  },
  {
   "cell_type": "code",
   "execution_count": 4,
   "metadata": {},
   "outputs": [
    {
     "name": "stdout",
     "output_type": "stream",
     "text": [
      "Searching for \"Perro Fiel\" by Shakira...\n"
     ]
    },
    {
     "name": "stdout",
     "output_type": "stream",
     "text": [
      "Done.\n",
      "META-DATA\n",
      "------------------------\n",
      "ID:\tNone\n",
      "Title:\tPerro Fiel\n",
      "Artist:\tShakira\n",
      "Lang:\tes\n",
      "Writer Artists:\t['Juan Diego Medina', 'Saga WhiteBlack', 'Nicky Jam', 'Shakira']\n",
      "Duration:\t195.213\n",
      "\n",
      "ANNOTATIONS\n",
      "------------------------\n",
      "[]\n"
     ]
    }
   ],
   "source": [
    "# Create the Lyrics object\n",
    "lyrics = LyricsAnnot('Perro Fiel', 'Shakira')\n",
    "\n",
    "# Print its information\n",
    "print(lyrics)"
   ]
  },
  {
   "cell_type": "code",
   "execution_count": 5,
   "metadata": {},
   "outputs": [
    {
     "name": "stdout",
     "output_type": "stream",
     "text": [
      "META-DATA\n",
      "------------------------\n",
      "ID:\tNone\n",
      "Title:\tPerro Fiel\n",
      "Artist:\tShakira\n",
      "Lang:\tes\n",
      "Writer Artists:\t['Juan Diego Medina', 'Saga WhiteBlack', 'Nicky Jam', 'Shakira']\n",
      "Duration:\t195.213\n",
      "\n",
      "ANNOTATIONS\n",
      "------------------------\n",
      "[{'line': 'Aquí estás',\n",
      "  'time_duration': 2.25,\n",
      "  'time_index': [4.919791666666667, 7.069791666666667]},\n",
      " {'line': 'Ya no puedes detenerte',\n",
      "  'time_duration': 2.5,\n",
      "  'time_index': [7.169791666666667, 9.569791666666667]},\n",
      " {'line': '¿Dónde vas? ahh',\n",
      "  'time_duration': 2.75,\n",
      "  'time_index': [9.669791666666667, 12.319791666666667]},\n",
      " {'line': 'Si estoy loco por tenerte',\n",
      "  'time_duration': 3.25,\n",
      "  'time_index': [12.419791666666667, 15.569791666666667]},\n",
      " {'line': 'Cómo lo iba a saber eh ehh eh ehh',\n",
      "  'time_duration': 5.180208333333335,\n",
      "  'time_index': [15.669791666666667, 20.75]},\n",
      " {'line': 'Que te vería otra vez eh ehh eh ehh',\n",
      "  'time_duration': 0.0,\n",
      "  'time_index': [20.85, 20.75]},\n",
      " {'line': '',\n",
      "  'time_duration': 6.360416666666666,\n",
      "  'time_index': [20.85, 27.110416666666666]},\n",
      " {'line': 'Tú me confundes, no sé qué hacer',\n",
      "  'time_duration': 2.25,\n",
      "  'time_index': [27.210416666666667, 29.360416666666666]},\n",
      " {'line': 'Yo lo que quiero es pasarla bien',\n",
      "  'time_duration': 2.25,\n",
      "  'time_index': [29.460416666666667, 31.610416666666666]},\n",
      " {'line': 'Yo tengo miedo de que me guste',\n",
      "  'time_duration': 2.5,\n",
      "  'time_index': [31.710416666666667, 34.110416666666666]},\n",
      " {'line': 'Y que vaya a enloquecer',\n",
      "  'time_duration': 3.2395833333333357,\n",
      "  'time_index': [34.21041666666667, 37.35]},\n",
      " {'line': 'Si eso pasa yo seguiré',\n",
      "  'time_duration': 2.2604166666666643,\n",
      "  'time_index': [37.45, 39.610416666666666]},\n",
      " {'line': 'Contigo aquí como un perro fiel',\n",
      "  'time_duration': 2.5,\n",
      "  'time_index': [39.71041666666667, 42.110416666666666]},\n",
      " {'line': 'Yo tengo miedo de que me guste',\n",
      "  'time_duration': 2.5,\n",
      "  'time_index': [42.21041666666667, 44.610416666666666]},\n",
      " {'line': 'Y que vaya a enloquecer',\n",
      "  'time_duration': 0.0,\n",
      "  'time_index': [44.71041666666667, 44.610416666666666]},\n",
      " {'line': '',\n",
      "  'time_duration': 1.9895833333333357,\n",
      "  'time_index': [44.71041666666667, 46.6]},\n",
      " {'line': 'Te hablo en serio mai, no estoy jugando',\n",
      "  'time_duration': 2.7604166666666643,\n",
      "  'time_index': [46.7, 49.360416666666666]},\n",
      " {'line': 'Tanto tiempo pasa y nada',\n",
      "  'time_duration': 3.5,\n",
      "  'time_index': [49.46041666666667, 52.860416666666666]},\n",
      " {'line': 'Estas ganas no me aguanto',\n",
      "  'time_duration': 1.7395833333333286,\n",
      "  'time_index': [52.96041666666667, 54.599999999999994]},\n",
      " {'line': 'Y aunque tú me esquives,',\n",
      "  'time_duration': 1.2604166666666714,\n",
      "  'time_index': [54.699999999999996, 55.860416666666666]},\n",
      " {'line': 'yo te sigo deseando',\n",
      "  'time_duration': 1.0395833333333329,\n",
      "  'time_index': [55.96041666666667, 56.9]},\n",
      " {'line': 'Dicen que tú eres peligrosa',\n",
      "  'time_duration': 2.9499999999999957,\n",
      "  'time_index': [57.0, 59.849999999999994]},\n",
      " {'line': 'No le hago caso a esas cosas',\n",
      "  'time_duration': 3.25,\n",
      "  'time_index': [59.949999999999996, 63.099999999999994]},\n",
      " {'line': 'Dime qué está pasando',\n",
      "  'time_duration': 2.0104166666666643,\n",
      "  'time_index': [63.199999999999996, 65.11041666666667]},\n",
      " {'line': 'Me tienes como un loco,',\n",
      "  'time_duration': 0.78958333333334,\n",
      "  'time_index': [65.21041666666666, 65.9]},\n",
      " {'line': 'soy un loco enamorado, eh',\n",
      "  'time_duration': 2.700000000000003,\n",
      "  'time_index': [66.0, 68.60000000000001]},\n",
      " {'line': 'Quiero saber cuánto me vas a insistir',\n",
      "  'time_duration': 2.5,\n",
      "  'time_index': [68.7, 71.10000000000001]},\n",
      " {'line': 'Y hasta dónde llegarías por mí',\n",
      "  'time_duration': 2.75,\n",
      "  'time_index': [71.2, 73.85000000000001]},\n",
      " {'line': 'Siento mucho la espera',\n",
      "  'time_duration': 1.5104166666666572,\n",
      "  'time_index': [73.95, 75.36041666666667]},\n",
      " {'line': 'Pero valdrá la pena',\n",
      "  'time_duration': 1.4895833333333428,\n",
      "  'time_index': [75.46041666666666, 76.85000000000001]},\n",
      " {'line': 'cuando te esté besando',\n",
      "  'time_duration': 2.260416666666657,\n",
      "  'time_index': [76.95, 79.11041666666667]},\n",
      " {'line': 'De la manera que te mueves así',\n",
      "  'time_duration': 2.489583333333343,\n",
      "  'time_index': [79.21041666666666, 81.60000000000001]},\n",
      " {'line': 'Yo te lo juro me voy a derretir',\n",
      "  'time_duration': 3.0,\n",
      "  'time_index': [81.7, 84.60000000000001]},\n",
      " {'line': 'Tú sabes que soy buena',\n",
      "  'time_duration': 1.0197916666666629,\n",
      "  'time_index': [84.7, 85.61979166666667]},\n",
      " {'line': 'Por más que yo te esquive',\n",
      "  'time_duration': 1.5,\n",
      "  'time_index': [85.71979166666667, 87.11979166666667]},\n",
      " {'line': 'me sigues deseando',\n",
      "  'time_duration': 0.0,\n",
      "  'time_index': [87.21979166666667, 87.11979166666667]},\n",
      " {'line': '',\n",
      "  'time_duration': 2.480208333333337,\n",
      "  'time_index': [87.21979166666667, 89.60000000000001]},\n",
      " {'line': 'Tú me confundes, no sé qué hacer',\n",
      "  'time_duration': 2.260416666666657,\n",
      "  'time_index': [89.7, 91.86041666666667]},\n",
      " {'line': 'Yo lo que quiero es pasarla bien',\n",
      "  'time_duration': 2.739583333333343,\n",
      "  'time_index': [91.96041666666666, 94.60000000000001]},\n",
      " {'line': 'Yo tengo miedo de que me guste',\n",
      "  'time_duration': 2.5,\n",
      "  'time_index': [94.7, 97.10000000000001]},\n",
      " {'line': 'Y que vaya a enloquecer',\n",
      "  'time_duration': 2.75,\n",
      "  'time_index': [97.2, 99.85000000000001]},\n",
      " {'line': 'Si eso pasa yo seguiré',\n",
      "  'time_duration': 2.25,\n",
      "  'time_index': [99.95, 102.10000000000001]},\n",
      " {'line': 'Contigo aquí como un perro fiel',\n",
      "  'time_duration': 3.0,\n",
      "  'time_index': [102.2, 105.10000000000001]},\n",
      " {'line': 'Yo tengo miedo de que me guste',\n",
      "  'time_duration': 2.25,\n",
      "  'time_index': [105.2, 107.35000000000001]},\n",
      " {'line': 'Y que vaya a enloquecer',\n",
      "  'time_duration': 0.0,\n",
      "  'time_index': [107.45, 107.35000000000001]},\n",
      " {'line': '',\n",
      "  'time_duration': 3.160416666666663,\n",
      "  'time_index': [107.45, 110.51041666666667]},\n",
      " {'line': 'Enloque-que-quecer',\n",
      "  'time_duration': 4.009375000000006,\n",
      "  'time_index': [110.61041666666667, 114.51979166666668]},\n",
      " {'line': 'Yo no pido nada extraordinario',\n",
      "  'time_duration': 3.160416666666663,\n",
      "  'time_index': [114.61979166666667, 117.68020833333334]},\n",
      " {'line': 'Solo un hombre de verdad',\n",
      "  'time_duration': 3.25,\n",
      "  'time_index': [117.78020833333333, 120.93020833333334]},\n",
      " {'line': 'Que se tire por mí al barro',\n",
      "  'time_duration': 1.5,\n",
      "  'time_index': [121.03020833333333, 122.43020833333334]},\n",
      " {'line': 'Que cambie las bombillas y',\n",
      "  'time_duration': 1.0302083333333343,\n",
      "  'time_index': [122.53020833333333, 123.46041666666667]},\n",
      " {'line': 'hasta que me lave el carro',\n",
      "  'time_duration': 1.7197916666666657,\n",
      "  'time_index': [123.56041666666667, 125.18020833333334]},\n",
      " {'line': 'Quiero un tipo atento y cariñoso',\n",
      "  'time_duration': 2.5,\n",
      "  'time_index': [125.28020833333333, 127.68020833333334]},\n",
      " {'line': 'Pero que no sea muy celoso',\n",
      "  'time_duration': 3.5093749999999915,\n",
      "  'time_index': [127.78020833333333, 131.18958333333333]},\n",
      " {'line': 'Que en la calle sea un príncipe',\n",
      "  'time_duration': 1.9906249999999943,\n",
      "  'time_index': [131.28958333333333, 133.18020833333333]},\n",
      " {'line': 'Pero que en mi cama sea',\n",
      "  'time_duration': 1.0197916666666913,\n",
      "  'time_index': [133.28020833333332, 134.20000000000002]},\n",
      " {'line': 'salvaje y peligroso',\n",
      "  'time_duration': 0.0,\n",
      "  'time_index': [134.3, 134.20000000000002]},\n",
      " {'line': '',\n",
      "  'time_duration': 1.9802083333333087,\n",
      "  'time_index': [134.3, 136.18020833333333]},\n",
      " {'line': 'Puedes pedir lo que quieras de mí',\n",
      "  'time_duration': 2.5,\n",
      "  'time_index': [136.28020833333332, 138.68020833333333]},\n",
      " {'line': 'Yo haría lo que fuera para ti',\n",
      "  'time_duration': 3.25,\n",
      "  'time_index': [138.78020833333332, 141.93020833333333]},\n",
      " {'line': 'Siento mucho la espera',\n",
      "  'time_duration': 1.0395833333333542,\n",
      "  'time_index': [142.03020833333332, 142.96979166666668]},\n",
      " {'line': 'Pero valdrá la pena',\n",
      "  'time_duration': 1.2197916666666515,\n",
      "  'time_index': [143.06979166666667, 144.18958333333333]},\n",
      " {'line': 'cuando te esté besando',\n",
      "  'time_duration': 2.4906249999999943,\n",
      "  'time_index': [144.28958333333333, 146.68020833333333]},\n",
      " {'line': \"Yo estoy seguro que estoy hecho pa' ti\",\n",
      "  'time_duration': 2.5,\n",
      "  'time_index': [146.78020833333332, 149.18020833333333]},\n",
      " {'line': 'Yo te lo juro no te haré sufrir',\n",
      "  'time_duration': 3.25,\n",
      "  'time_index': [149.28020833333332, 152.43020833333333]},\n",
      " {'line': 'Como te dije nena',\n",
      "  'time_duration': 1.25,\n",
      "  'time_index': [152.53020833333332, 153.68020833333333]},\n",
      " {'line': 'Por más que tú me',\n",
      "  'time_duration': 1.0697916666666742,\n",
      "  'time_index': [153.78020833333332, 154.75]},\n",
      " {'line': 'esquives, te sigo deseando',\n",
      "  'time_duration': 0.0,\n",
      "  'time_index': [154.85, 154.75]},\n",
      " {'line': '',\n",
      "  'time_duration': 2.4302083333333258,\n",
      "  'time_index': [154.85, 157.18020833333333]},\n",
      " {'line': 'Tú me confundes, no sé qué hacer',\n",
      "  'time_duration': 2.25,\n",
      "  'time_index': [157.28020833333332, 159.43020833333333]},\n",
      " {'line': 'Yo lo que quiero es pasarla bien',\n",
      "  'time_duration': 3.0,\n",
      "  'time_index': [159.53020833333332, 162.43020833333333]},\n",
      " {'line': 'Yo tengo miedo de que me guste',\n",
      "  'time_duration': 2.5,\n",
      "  'time_index': [162.53020833333332, 164.93020833333333]},\n",
      " {'line': 'Y que vaya a enloquecer',\n",
      "  'time_duration': 2.5,\n",
      "  'time_index': [165.03020833333332, 167.43020833333333]},\n",
      " {'line': 'Si eso pasa yo seguiré',\n",
      "  'time_duration': 2.75,\n",
      "  'time_index': [167.53020833333332, 170.18020833333333]},\n",
      " {'line': 'Contigo aquí como un perro fiel',\n",
      "  'time_duration': 2.75,\n",
      "  'time_index': [170.28020833333332, 172.93020833333333]},\n",
      " {'line': 'Yo tengo miedo de que me guste',\n",
      "  'time_duration': 2.25,\n",
      "  'time_index': [173.03020833333332, 175.18020833333333]},\n",
      " {'line': 'Y que vaya a enloquecer',\n",
      "  'time_duration': 0.0,\n",
      "  'time_index': [175.28020833333332, 175.18020833333333]},\n",
      " {'line': '',\n",
      "  'time_duration': 3.0,\n",
      "  'time_index': [175.28020833333332, 178.18020833333333]},\n",
      " {'line': 'Enloque-que-quecer',\n",
      "  'time_duration': 4.0,\n",
      "  'time_index': [178.28020833333332, 182.18020833333333]},\n",
      " {'line': 'Aquí estás',\n",
      "  'time_duration': 2.25,\n",
      "  'time_index': [182.28020833333332, 184.43020833333333]},\n",
      " {'line': 'Ya no puedes detenerte',\n",
      "  'time_duration': 2.75,\n",
      "  'time_index': [184.53020833333332, 187.18020833333333]},\n",
      " {'line': '¿Dónde vas? (¡Oh!)',\n",
      "  'time_duration': 2.25,\n",
      "  'time_index': [187.28020833333332, 189.43020833333333]},\n",
      " {'line': 'Si estoy loco por tenerte',\n",
      "  'time_duration': 5.682791666666674,\n",
      "  'time_index': [189.53020833333332, 195.213]}]\n"
     ]
    }
   ],
   "source": [
    "# Build the annotations from the read data and print again\n",
    "lyrics.build_annotations(data, 'DAMP')\n",
    "\n",
    "print(lyrics)"
   ]
  },
  {
   "cell_type": "code",
   "execution_count": 6,
   "metadata": {},
   "outputs": [],
   "source": [
    "# Save it to a JSON file\n",
    "lyrics.save_to_json(save_path, id_file_path, 'DAMP')"
   ]
  },
  {
   "cell_type": "markdown",
   "metadata": {},
   "source": [
    "## Add information to the annotations related to lyrics section"
   ]
  },
  {
   "cell_type": "code",
   "execution_count": 7,
   "metadata": {},
   "outputs": [
    {
     "name": "stdout",
     "output_type": "stream",
     "text": [
      "Searching for \"Perro Fiel\" by Shakira...\n",
      "Done.\n",
      "Warning: Paragraph name 'Letra de \"Perro Fiel\" ft. Nicky Jam' in language 'es' is not a standard section name.\n"
     ]
    },
    {
     "data": {
      "text/plain": [
       "True"
      ]
     },
     "execution_count": 7,
     "metadata": {},
     "output_type": "execute_result"
    }
   ],
   "source": [
    "lyrics.add_section_info()"
   ]
  },
  {
   "cell_type": "code",
   "execution_count": 8,
   "metadata": {},
   "outputs": [
    {
     "name": "stdout",
     "output_type": "stream",
     "text": [
      "META-DATA\n",
      "------------------------\n",
      "ID:\t00000000\n",
      "Title:\tPerro Fiel\n",
      "Artist:\tShakira\n",
      "Lang:\tes\n",
      "Writer Artists:\t['Juan Diego Medina', 'Saga WhiteBlack', 'Nicky Jam', 'Shakira']\n",
      "Duration:\t195.213\n",
      "\n",
      "ANNOTATIONS\n",
      "------------------------\n",
      "[{'lines': [{'line': 'Aquí estás',\n",
      "             'time_duration': 2.1500000000000004,\n",
      "             'time_index': [4.919791666666667, 7.069791666666667]},\n",
      "            {'line': 'Ya no puedes detenerte',\n",
      "             'time_duration': 2.4000000000000004,\n",
      "             'time_index': [7.169791666666667, 9.569791666666667]},\n",
      "            {'line': '¿Dónde vas? ahh',\n",
      "             'time_duration': 2.6500000000000004,\n",
      "             'time_index': [9.669791666666667, 12.319791666666667]},\n",
      "            {'line': 'Si estoy loco por tenerte',\n",
      "             'time_duration': 3.1500000000000004,\n",
      "             'time_index': [12.419791666666667, 15.569791666666667]},\n",
      "            {'line': 'Cómo lo iba a saber eh ehh eh ehh',\n",
      "             'time_duration': 5.080208333333333,\n",
      "             'time_index': [15.669791666666667, 20.75]},\n",
      "            {'line': 'Que te vería otra vez eh ehh eh ehh',\n",
      "             'time_duration': -0.10000000000000142,\n",
      "             'time_index': [20.85, 20.75]},\n",
      "            {'line': '',\n",
      "             'time_duration': 6.260416666666664,\n",
      "             'time_index': [20.85, 27.110416666666666]}],\n",
      "  'occurrence': 1,\n",
      "  'paragraph': 'Verse',\n",
      "  'singer': ['Shakira', 'Nicky Jam'],\n",
      "  'time_duration': 15.830208333333333,\n",
      "  'time_index': [4.919791666666667, 20.75]},\n",
      " {'lines': [{'line': 'Tú me confundes, no sé qué hacer',\n",
      "             'time_duration': 2.1499999999999986,\n",
      "             'time_index': [27.210416666666667, 29.360416666666666]},\n",
      "            {'line': 'Yo lo que quiero es pasarla bien',\n",
      "             'time_duration': 2.1499999999999986,\n",
      "             'time_index': [29.460416666666667, 31.610416666666666]},\n",
      "            {'line': 'Yo tengo miedo de que me guste',\n",
      "             'time_duration': 2.3999999999999986,\n",
      "             'time_index': [31.710416666666667, 34.110416666666666]},\n",
      "            {'line': 'Y que vaya a enloquecer',\n",
      "             'time_duration': 3.1395833333333343,\n",
      "             'time_index': [34.21041666666667, 37.35]},\n",
      "            {'line': 'Si eso pasa yo seguiré',\n",
      "             'time_duration': 2.160416666666663,\n",
      "             'time_index': [37.45, 39.610416666666666]},\n",
      "            {'line': 'Contigo aquí como un perro fiel',\n",
      "             'time_duration': 2.3999999999999986,\n",
      "             'time_index': [39.71041666666667, 42.110416666666666]},\n",
      "            {'line': 'Yo tengo miedo de que me guste',\n",
      "             'time_duration': 2.3999999999999986,\n",
      "             'time_index': [42.21041666666667, 44.610416666666666]},\n",
      "            {'line': 'Y que vaya a enloquecer',\n",
      "             'time_duration': -0.10000000000000142,\n",
      "             'time_index': [44.71041666666667, 44.610416666666666]},\n",
      "            {'line': '',\n",
      "             'time_duration': 1.8895833333333343,\n",
      "             'time_index': [44.71041666666667, 46.6]}],\n",
      "  'occurrence': 1,\n",
      "  'paragraph': 'Chorus',\n",
      "  'singer': ['Shakira', 'Nicky Jam'],\n",
      "  'time_duration': 17.4,\n",
      "  'time_index': [27.210416666666667, 44.610416666666666]},\n",
      " {'lines': [{'line': 'Te hablo en serio mai, no estoy jugando',\n",
      "             'time_duration': 2.660416666666663,\n",
      "             'time_index': [46.7, 49.360416666666666]},\n",
      "            {'line': 'Tanto tiempo pasa y nada',\n",
      "             'time_duration': 3.3999999999999986,\n",
      "             'time_index': [49.46041666666667, 52.860416666666666]},\n",
      "            {'line': 'Estas ganas no me aguanto',\n",
      "             'time_duration': 1.6395833333333272,\n",
      "             'time_index': [52.96041666666667, 54.599999999999994]},\n",
      "            {'line': 'Y aunque tú me esquives,',\n",
      "             'time_duration': 1.16041666666667,\n",
      "             'time_index': [54.699999999999996, 55.860416666666666]},\n",
      "            {'line': 'yo te sigo deseando',\n",
      "             'time_duration': 0.9395833333333314,\n",
      "             'time_index': [55.96041666666667, 56.9]},\n",
      "            {'line': 'Dicen que tú eres peligrosa',\n",
      "             'time_duration': 2.8499999999999943,\n",
      "             'time_index': [57.0, 59.849999999999994]},\n",
      "            {'line': 'No le hago caso a esas cosas',\n",
      "             'time_duration': 3.1499999999999986,\n",
      "             'time_index': [59.949999999999996, 63.099999999999994]},\n",
      "            {'line': 'Dime qué está pasando',\n",
      "             'time_duration': 1.91041666666667,\n",
      "             'time_index': [63.199999999999996, 65.11041666666667]},\n",
      "            {'line': 'Me tienes como un loco,',\n",
      "             'time_duration': 0.6895833333333456,\n",
      "             'time_index': [65.21041666666666, 65.9]},\n",
      "            {'line': 'soy un loco enamorado, eh',\n",
      "             'time_duration': 2.6000000000000085,\n",
      "             'time_index': [66.0, 68.60000000000001]},\n",
      "            {'line': 'Quiero saber cuánto me vas a insistir',\n",
      "             'time_duration': 2.4000000000000057,\n",
      "             'time_index': [68.7, 71.10000000000001]},\n",
      "            {'line': 'Y hasta dónde llegarías por mí',\n",
      "             'time_duration': 2.6500000000000057,\n",
      "             'time_index': [71.2, 73.85000000000001]},\n",
      "            {'line': 'Siento mucho la espera',\n",
      "             'time_duration': 1.4104166666666629,\n",
      "             'time_index': [73.95, 75.36041666666667]},\n",
      "            {'line': 'Pero valdrá la pena',\n",
      "             'time_duration': 1.3895833333333485,\n",
      "             'time_index': [75.46041666666666, 76.85000000000001]},\n",
      "            {'line': 'cuando te esté besando',\n",
      "             'time_duration': 2.160416666666663,\n",
      "             'time_index': [76.95, 79.11041666666667]},\n",
      "            {'line': 'De la manera que te mueves así',\n",
      "             'time_duration': 2.3895833333333485,\n",
      "             'time_index': [79.21041666666666, 81.60000000000001]},\n",
      "            {'line': 'Yo te lo juro me voy a derretir',\n",
      "             'time_duration': 2.9000000000000057,\n",
      "             'time_index': [81.7, 84.60000000000001]},\n",
      "            {'line': 'Tú sabes que soy buena',\n",
      "             'time_duration': 0.9197916666666686,\n",
      "             'time_index': [84.7, 85.61979166666667]},\n",
      "            {'line': 'Por más que yo te esquive',\n",
      "             'time_duration': 1.4000000000000057,\n",
      "             'time_index': [85.71979166666667, 87.11979166666667]},\n",
      "            {'line': 'me sigues deseando',\n",
      "             'time_duration': -0.09999999999999432,\n",
      "             'time_index': [87.21979166666667, 87.11979166666667]},\n",
      "            {'line': '',\n",
      "             'time_duration': 2.380208333333343,\n",
      "             'time_index': [87.21979166666667, 89.60000000000001]}],\n",
      "  'occurrence': 2,\n",
      "  'paragraph': 'Verse',\n",
      "  'singer': ['Shakira', 'Nicky Jam'],\n",
      "  'time_duration': 40.41979166666667,\n",
      "  'time_index': [46.7, 87.11979166666667]},\n",
      " {'lines': [{'line': 'Tú me confundes, no sé qué hacer',\n",
      "             'time_duration': 2.160416666666663,\n",
      "             'time_index': [89.7, 91.86041666666667]},\n",
      "            {'line': 'Yo lo que quiero es pasarla bien',\n",
      "             'time_duration': 2.6395833333333485,\n",
      "             'time_index': [91.96041666666666, 94.60000000000001]},\n",
      "            {'line': 'Yo tengo miedo de que me guste',\n",
      "             'time_duration': 2.4000000000000057,\n",
      "             'time_index': [94.7, 97.10000000000001]},\n",
      "            {'line': 'Y que vaya a enloquecer',\n",
      "             'time_duration': 2.6500000000000057,\n",
      "             'time_index': [97.2, 99.85000000000001]},\n",
      "            {'line': 'Si eso pasa yo seguiré',\n",
      "             'time_duration': 2.1500000000000057,\n",
      "             'time_index': [99.95, 102.10000000000001]},\n",
      "            {'line': 'Contigo aquí como un perro fiel',\n",
      "             'time_duration': 2.9000000000000057,\n",
      "             'time_index': [102.2, 105.10000000000001]},\n",
      "            {'line': 'Yo tengo miedo de que me guste',\n",
      "             'time_duration': 2.1500000000000057,\n",
      "             'time_index': [105.2, 107.35000000000001]},\n",
      "            {'line': 'Y que vaya a enloquecer',\n",
      "             'time_duration': -0.09999999999999432,\n",
      "             'time_index': [107.45, 107.35000000000001]},\n",
      "            {'line': '',\n",
      "             'time_duration': 3.0604166666666686,\n",
      "             'time_index': [107.45, 110.51041666666667]}],\n",
      "  'occurrence': 2,\n",
      "  'paragraph': 'Chorus',\n",
      "  'singer': ['Shakira', 'Nicky Jam'],\n",
      "  'time_duration': 17.650000000000006,\n",
      "  'time_index': [89.7, 107.35000000000001]},\n",
      " {'lines': [{'line': 'Enloque-que-quecer',\n",
      "             'time_duration': 3.9093750000000114,\n",
      "             'time_index': [110.61041666666667, 114.51979166666668]},\n",
      "            {'line': 'Yo no pido nada extraordinario',\n",
      "             'time_duration': 3.0604166666666686,\n",
      "             'time_index': [114.61979166666667, 117.68020833333334]},\n",
      "            {'line': 'Solo un hombre de verdad',\n",
      "             'time_duration': 3.1500000000000057,\n",
      "             'time_index': [117.78020833333333, 120.93020833333334]},\n",
      "            {'line': 'Que se tire por mí al barro',\n",
      "             'time_duration': 1.4000000000000057,\n",
      "             'time_index': [121.03020833333333, 122.43020833333334]},\n",
      "            {'line': 'Que cambie las bombillas y',\n",
      "             'time_duration': 0.93020833333334,\n",
      "             'time_index': [122.53020833333333, 123.46041666666667]},\n",
      "            {'line': 'hasta que me lave el carro',\n",
      "             'time_duration': 1.6197916666666714,\n",
      "             'time_index': [123.56041666666667, 125.18020833333334]},\n",
      "            {'line': 'Quiero un tipo atento y cariñoso',\n",
      "             'time_duration': 2.4000000000000057,\n",
      "             'time_index': [125.28020833333333, 127.68020833333334]},\n",
      "            {'line': 'Pero que no sea muy celoso',\n",
      "             'time_duration': 3.409374999999997,\n",
      "             'time_index': [127.78020833333333, 131.18958333333333]},\n",
      "            {'line': 'Que en la calle sea un príncipe',\n",
      "             'time_duration': 1.890625,\n",
      "             'time_index': [131.28958333333333, 133.18020833333333]},\n",
      "            {'line': 'Pero que en mi cama sea',\n",
      "             'time_duration': 0.919791666666697,\n",
      "             'time_index': [133.28020833333332, 134.20000000000002]},\n",
      "            {'line': 'salvaje y peligroso',\n",
      "             'time_duration': -0.09999999999999432,\n",
      "             'time_index': [134.3, 134.20000000000002]},\n",
      "            {'line': '',\n",
      "             'time_duration': 1.8802083333333144,\n",
      "             'time_index': [134.3, 136.18020833333333]}],\n",
      "  'occurrence': 1,\n",
      "  'paragraph': 'Bridge',\n",
      "  'singer': ['Shakira'],\n",
      "  'time_duration': 23.58958333333335,\n",
      "  'time_index': [110.61041666666667, 134.20000000000002]},\n",
      " {'lines': [{'line': 'Puedes pedir lo que quieras de mí',\n",
      "             'time_duration': 2.4000000000000057,\n",
      "             'time_index': [136.28020833333332, 138.68020833333333]},\n",
      "            {'line': 'Yo haría lo que fuera para ti',\n",
      "             'time_duration': 3.1500000000000057,\n",
      "             'time_index': [138.78020833333332, 141.93020833333333]},\n",
      "            {'line': 'Siento mucho la espera',\n",
      "             'time_duration': 0.9395833333333599,\n",
      "             'time_index': [142.03020833333332, 142.96979166666668]},\n",
      "            {'line': 'Pero valdrá la pena',\n",
      "             'time_duration': 1.1197916666666572,\n",
      "             'time_index': [143.06979166666667, 144.18958333333333]},\n",
      "            {'line': 'cuando te esté besando',\n",
      "             'time_duration': 2.390625,\n",
      "             'time_index': [144.28958333333333, 146.68020833333333]},\n",
      "            {'line': \"Yo estoy seguro que estoy hecho pa' ti\",\n",
      "             'time_duration': 2.4000000000000057,\n",
      "             'time_index': [146.78020833333332, 149.18020833333333]},\n",
      "            {'line': 'Yo te lo juro no te haré sufrir',\n",
      "             'time_duration': 3.1500000000000057,\n",
      "             'time_index': [149.28020833333332, 152.43020833333333]},\n",
      "            {'line': 'Como te dije nena',\n",
      "             'time_duration': 1.1500000000000057,\n",
      "             'time_index': [152.53020833333332, 153.68020833333333]},\n",
      "            {'line': 'Por más que tú me',\n",
      "             'time_duration': 0.9697916666666799,\n",
      "             'time_index': [153.78020833333332, 154.75]},\n",
      "            {'line': 'esquives, te sigo deseando',\n",
      "             'time_duration': -0.09999999999999432,\n",
      "             'time_index': [154.85, 154.75]},\n",
      "            {'line': '',\n",
      "             'time_duration': 2.3302083333333314,\n",
      "             'time_index': [154.85, 157.18020833333333]}],\n",
      "  'occurrence': 3,\n",
      "  'paragraph': 'Verse',\n",
      "  'singer': ['Shakira', 'Nicky Jam'],\n",
      "  'time_duration': 18.46979166666668,\n",
      "  'time_index': [136.28020833333332, 154.75]},\n",
      " {'lines': [{'line': 'Tú me confundes, no sé qué hacer',\n",
      "             'time_duration': 2.1500000000000057,\n",
      "             'time_index': [157.28020833333332, 159.43020833333333]},\n",
      "            {'line': 'Yo lo que quiero es pasarla bien',\n",
      "             'time_duration': 2.9000000000000057,\n",
      "             'time_index': [159.53020833333332, 162.43020833333333]},\n",
      "            {'line': 'Yo tengo miedo de que me guste',\n",
      "             'time_duration': 2.4000000000000057,\n",
      "             'time_index': [162.53020833333332, 164.93020833333333]},\n",
      "            {'line': 'Y que vaya a enloquecer',\n",
      "             'time_duration': 2.4000000000000057,\n",
      "             'time_index': [165.03020833333332, 167.43020833333333]},\n",
      "            {'line': 'Si eso pasa yo seguiré',\n",
      "             'time_duration': 2.6500000000000057,\n",
      "             'time_index': [167.53020833333332, 170.18020833333333]},\n",
      "            {'line': 'Contigo aquí como un perro fiel',\n",
      "             'time_duration': 2.6500000000000057,\n",
      "             'time_index': [170.28020833333332, 172.93020833333333]},\n",
      "            {'line': 'Yo tengo miedo de que me guste',\n",
      "             'time_duration': 2.1500000000000057,\n",
      "             'time_index': [173.03020833333332, 175.18020833333333]},\n",
      "            {'line': 'Y que vaya a enloquecer',\n",
      "             'time_duration': -0.09999999999999432,\n",
      "             'time_index': [175.28020833333332, 175.18020833333333]},\n",
      "            {'line': '',\n",
      "             'time_duration': 2.9000000000000057,\n",
      "             'time_index': [175.28020833333332, 178.18020833333333]}],\n",
      "  'occurrence': 3,\n",
      "  'paragraph': 'Chorus',\n",
      "  'singer': ['Shakira', 'Nicky Jam'],\n",
      "  'time_duration': 17.900000000000006,\n",
      "  'time_index': [157.28020833333332, 175.18020833333333]},\n",
      " {'lines': [{'line': 'Enloque-que-quecer',\n",
      "             'time_duration': 3.9000000000000057,\n",
      "             'time_index': [178.28020833333332, 182.18020833333333]},\n",
      "            {'line': 'Aquí estás',\n",
      "             'time_duration': 2.1500000000000057,\n",
      "             'time_index': [182.28020833333332, 184.43020833333333]},\n",
      "            {'line': 'Ya no puedes detenerte',\n",
      "             'time_duration': 2.6500000000000057,\n",
      "             'time_index': [184.53020833333332, 187.18020833333333]},\n",
      "            {'line': '¿Dónde vas? (¡Oh!)',\n",
      "             'time_duration': 2.1500000000000057,\n",
      "             'time_index': [187.28020833333332, 189.43020833333333]},\n",
      "            {'line': 'Si estoy loco por tenerte',\n",
      "             'time_duration': 5.682791666666674,\n",
      "             'time_index': [189.53020833333332, 195.213]}],\n",
      "  'occurrence': 2,\n",
      "  'paragraph': 'Bridge',\n",
      "  'singer': ['Shakira', 'Nicky Jam'],\n",
      "  'time_duration': 0,\n",
      "  'time_index': [178.28020833333332, 195.213]}]\n"
     ]
    }
   ],
   "source": [
    "print(lyrics)"
   ]
  },
  {
   "cell_type": "code",
   "execution_count": 9,
   "metadata": {},
   "outputs": [],
   "source": [
    "lyrics.save_to_json(save_path, id_file_path, 'DAMP')"
   ]
  },
  {
   "cell_type": "markdown",
   "metadata": {},
   "source": [
    "# Test with a song from DALI dataset"
   ]
  },
  {
   "cell_type": "markdown",
   "metadata": {},
   "source": [
    "## Lyrics Annotation Class"
   ]
  },
  {
   "cell_type": "code",
   "execution_count": 10,
   "metadata": {},
   "outputs": [],
   "source": [
    "# Read the data from a JSON file\n",
    "file_path = './test/test_datasets/dali/my_annot_name_0082266932594913a73b3302355076e2.json'\n",
    "\n",
    "with open(file_path) as file:\n",
    "    data = json.load(file)"
   ]
  },
  {
   "cell_type": "code",
   "execution_count": 11,
   "metadata": {},
   "outputs": [
    {
     "name": "stdout",
     "output_type": "stream",
     "text": [
      "Searching for \"Geschwisterliebe\" by Die Ärzte...\n",
      "Done.\n",
      "META-DATA\n",
      "------------------------\n",
      "ID:\tNone\n",
      "Title:\tGeschwisterliebe\n",
      "Artist:\tDie Ärzte\n",
      "Lang:\tde\n",
      "Writer Artists:\t['Farin Urlaub']\n",
      "Duration:\t155.093\n",
      "\n",
      "ANNOTATIONS\n",
      "------------------------\n",
      "[]\n"
     ]
    }
   ],
   "source": [
    "# Create the Lyrics object\n",
    "lyrics = LyricsAnnot(\"Geschwisterliebe\", \"Die Ärzte\")\n",
    "\n",
    "# Print its information\n",
    "print(lyrics)"
   ]
  },
  {
   "cell_type": "code",
   "execution_count": 12,
   "metadata": {},
   "outputs": [
    {
     "name": "stdout",
     "output_type": "stream",
     "text": [
      "META-DATA\n",
      "------------------------\n",
      "ID:\tNone\n",
      "Title:\tGeschwisterliebe\n",
      "Artist:\tDie Ärzte\n",
      "Lang:\tde\n",
      "Writer Artists:\t['Farin Urlaub']\n",
      "Duration:\t155.093\n",
      "\n",
      "ANNOTATIONS\n",
      "------------------------\n",
      "[{'line': 'wir haben zusammen im sandkasten gesessen',\n",
      "  'time_duration': 5.9880239520958085,\n",
      "  'time_index': [40.098, 46.08602395209581]},\n",
      " {'line': 'beim doktor spielen wollt ich nur dein fieber messen',\n",
      "  'time_duration': 5.9880239520958085,\n",
      "  'time_index': [48.08203193612774, 54.07005588822355]},\n",
      " {'line': 'jetzt bist du vierzehn und du bist soweit',\n",
      "  'time_duration': 4.9900199600798345,\n",
      "  'time_index': [56.066063872255484, 61.05608383233532]},\n",
      " {'line': 'wir warten keine ewigkeit-',\n",
      "  'time_duration': 7.318695941450443,\n",
      "  'time_index': [64.05009580838322, 71.36879174983366]},\n",
      " {'line': 'sind unsre eltern auch dagegen',\n",
      "  'time_duration': 4.324683965402514,\n",
      "  'time_index': [72.03412774451097, 76.35881170991348]},\n",
      " {'line': 'ich wurd dich gerne mal flach legen',\n",
      "  'time_duration': 7.318695941450429,\n",
      "  'time_index': [80.0181596806387, 87.33685562208913]},\n",
      " {'line': 'ich hoffe das du keine kinder kriegst,',\n",
      "  'time_duration': 4.657351962741188,\n",
      "  'time_index': [103.97025548902192, 108.62760745176311]},\n",
      " {'line': 'weil du doch schliesslich meine schwester bist',\n",
      "  'time_duration': 4.9900199600798345,\n",
      "  'time_index': [111.95428742514967, 116.94430738522951]},\n",
      " {'line': 'die eltern die sind weggefahren',\n",
      "  'time_duration': 4.657351962741188,\n",
      "  'time_index': [119.93831936127741, 124.5956713240186]},\n",
      " {'line': 'auf die gelegenheit warte ich seit vierzehn jahren',\n",
      "  'time_duration': 7.3186959414504145,\n",
      "  'time_index': [127.92235129740516, 135.24104723885557]},\n",
      " {'line': 'noch sitzen wir hier und spielen schach',\n",
      "  'time_duration': 3.9920159680638676,\n",
      "  'time_index': [135.9063832335329, 139.89839920159676]},\n",
      " {'line': 'aber gleich, leg ich dich flach',\n",
      "  'time_duration': 6.32069194943449,\n",
      "  'time_index': [144.2230831669993, 150.54377511643378]},\n",
      " {'line': 'der grosse augenblick ist da',\n",
      "  'time_duration': 3.6593479707252357,\n",
      "  'time_index': [167.84251097804386, 171.5018589487691]},\n",
      " {'line': 'ich liege auf dir du schreist jaaaaaaaaaa',\n",
      "  'time_duration': 7.3186959414504145,\n",
      "  'time_index': [175.82654291417163, 183.14523885562204]},\n",
      " {'line': 'du bist so eng das macht mich geil',\n",
      "  'time_duration': 5.988023952095773,\n",
      "  'time_index': [183.81057485029936, 189.79859880239513]},\n",
      " {'line': 'und morgen nehme ich dein hinterteil-',\n",
      "  'time_duration': 7.3186959414504145,\n",
      "  'time_index': [191.7946067864271, 199.1133027278775]},\n",
      " {'line': 'noch stunden spater bist du sehr erregt',\n",
      "  'time_duration': 5.98802395209583,\n",
      "  'time_index': [199.77863872255483, 205.76666267465066]},\n",
      " {'line': 'ich hab dich schliesslich grade flach gelegt',\n",
      "  'time_duration': 5.98802395209583,\n",
      "  'time_index': [207.76267065868257, 213.7506946107784]},\n",
      " {'line': 'das befriedigt meine triebe',\n",
      "  'time_duration': 3.6593479707252072,\n",
      "  'time_index': [215.08136660013298, 218.7407145708582]},\n",
      " {'line': 'geschwisterliebe, geschwisterliebe',\n",
      "  'time_duration': 3.9920159680639244,\n",
      "  'time_index': [218.7407145708582, 222.7327305389221]},\n",
      " {'line': 'das befriedigt meine triebe',\n",
      "  'time_duration': 3.659347970725264,\n",
      "  'time_index': [223.06539853626072, 226.72474650698598]},\n",
      " {'line': 'ge schwisterliebe, geschwisterliebe',\n",
      "  'time_duration': 3.9920159680638676,\n",
      "  'time_index': [226.72474650698598, 230.71676247504985]},\n",
      " {'line': 'das befriedigt meine triebe',\n",
      "  'time_duration': 3.6593479707252072,\n",
      "  'time_index': [231.0494304723885, 234.70877844311372]},\n",
      " {'line': 'geschwisterliebe, geschwisterliebe',\n",
      "  'time_duration': 6.320691949434433,\n",
      "  'time_index': [234.70877844311372, 241.02947039254815]}]\n"
     ]
    }
   ],
   "source": [
    "# Build the annotations from the read data and print again\n",
    "lyrics.build_annotations(data, 'DALI')\n",
    "\n",
    "print(lyrics)"
   ]
  },
  {
   "cell_type": "code",
   "execution_count": 13,
   "metadata": {},
   "outputs": [],
   "source": [
    "# Save it to a JSON file\n",
    "lyrics.save_to_json(save_path, id_file_path, 'DALI')"
   ]
  },
  {
   "cell_type": "markdown",
   "metadata": {},
   "source": [
    "## Add information to the annotations related to lyrics section"
   ]
  },
  {
   "cell_type": "code",
   "execution_count": 14,
   "metadata": {},
   "outputs": [
    {
     "name": "stdout",
     "output_type": "stream",
     "text": [
      "Searching for \"Geschwisterliebe\" by Die Ärzte...\n",
      "Done.\n",
      "Warning: Paragraph name 'Songtext zu „Geschwisterliebe“' in language 'de' is not a standard section name.\n",
      "Warning: Paragraph name 'Guitar Solo' in language 'de' is not a standard section name.\n"
     ]
    },
    {
     "data": {
      "text/plain": [
       "True"
      ]
     },
     "execution_count": 14,
     "metadata": {},
     "output_type": "execute_result"
    }
   ],
   "source": [
    "lyrics.add_section_info()"
   ]
  },
  {
   "cell_type": "code",
   "execution_count": 15,
   "metadata": {},
   "outputs": [
    {
     "name": "stdout",
     "output_type": "stream",
     "text": [
      "META-DATA\n",
      "------------------------\n",
      "ID:\t00000005\n",
      "Title:\tGeschwisterliebe\n",
      "Artist:\tDie Ärzte\n",
      "Lang:\tde\n",
      "Writer Artists:\t['Farin Urlaub']\n",
      "Duration:\t155.093\n",
      "\n",
      "ANNOTATIONS\n",
      "------------------------\n",
      "[{'lines': [{'line': 'wir haben zusammen im sandkasten gesessen',\n",
      "             'time_duration': 5.9880239520958085,\n",
      "             'time_index': [40.098, 46.08602395209581]},\n",
      "            {'line': 'beim doktor spielen wollt ich nur dein fieber messen',\n",
      "             'time_duration': 5.9880239520958085,\n",
      "             'time_index': [48.08203193612774, 54.07005588822355]},\n",
      "            {'line': 'jetzt bist du vierzehn und du bist soweit',\n",
      "             'time_duration': 4.9900199600798345,\n",
      "             'time_index': [56.066063872255484, 61.05608383233532]},\n",
      "            {'line': 'wir warten keine ewigkeit-',\n",
      "             'time_duration': 7.318695941450443,\n",
      "             'time_index': [64.05009580838322, 71.36879174983366]},\n",
      "            {'line': 'sind unsre eltern auch dagegen',\n",
      "             'time_duration': 4.324683965402514,\n",
      "             'time_index': [72.03412774451097, 76.35881170991348]},\n",
      "            {'line': 'ich wurd dich gerne mal flach legen',\n",
      "             'time_duration': 7.318695941450429,\n",
      "             'time_index': [80.0181596806387, 87.33685562208913]},\n",
      "            {'line': 'ich hoffe das du keine kinder kriegst,',\n",
      "             'time_duration': 4.657351962741188,\n",
      "             'time_index': [103.97025548902192, 108.62760745176311]},\n",
      "            {'line': 'weil du doch schliesslich meine schwester bist',\n",
      "             'time_duration': 4.9900199600798345,\n",
      "             'time_index': [111.95428742514967, 116.94430738522951]},\n",
      "            {'line': 'die eltern die sind weggefahren',\n",
      "             'time_duration': 4.657351962741188,\n",
      "             'time_index': [119.93831936127741, 124.5956713240186]},\n",
      "            {'line': 'auf die gelegenheit warte ich seit vierzehn jahren',\n",
      "             'time_duration': 7.3186959414504145,\n",
      "             'time_index': [127.92235129740516, 135.24104723885557]},\n",
      "            {'line': 'noch sitzen wir hier und spielen schach',\n",
      "             'time_duration': 3.9920159680638676,\n",
      "             'time_index': [135.9063832335329, 139.89839920159676]},\n",
      "            {'line': 'aber gleich, leg ich dich flach',\n",
      "             'time_duration': 6.32069194943449,\n",
      "             'time_index': [144.2230831669993, 150.54377511643378]},\n",
      "            {'line': 'der grosse augenblick ist da',\n",
      "             'time_duration': 3.6593479707252357,\n",
      "             'time_index': [167.84251097804386, 171.5018589487691]},\n",
      "            {'line': 'ich liege auf dir du schreist jaaaaaaaaaa',\n",
      "             'time_duration': 7.3186959414504145,\n",
      "             'time_index': [175.82654291417163, 183.14523885562204]},\n",
      "            {'line': 'du bist so eng das macht mich geil',\n",
      "             'time_duration': 5.988023952095773,\n",
      "             'time_index': [183.81057485029936, 189.79859880239513]},\n",
      "            {'line': 'und morgen nehme ich dein hinterteil-',\n",
      "             'time_duration': 7.3186959414504145,\n",
      "             'time_index': [191.7946067864271, 199.1133027278775]},\n",
      "            {'line': 'noch stunden spater bist du sehr erregt',\n",
      "             'time_duration': 5.98802395209583,\n",
      "             'time_index': [199.77863872255483, 205.76666267465066]},\n",
      "            {'line': 'ich hab dich schliesslich grade flach gelegt',\n",
      "             'time_duration': 5.98802395209583,\n",
      "             'time_index': [207.76267065868257, 213.7506946107784]},\n",
      "            {'line': 'das befriedigt meine triebe',\n",
      "             'time_duration': 3.6593479707252072,\n",
      "             'time_index': [215.08136660013298, 218.7407145708582]},\n",
      "            {'line': 'geschwisterliebe, geschwisterliebe',\n",
      "             'time_duration': 3.9920159680639244,\n",
      "             'time_index': [218.7407145708582, 222.7327305389221]},\n",
      "            {'line': 'das befriedigt meine triebe',\n",
      "             'time_duration': 3.659347970725264,\n",
      "             'time_index': [223.06539853626072, 226.72474650698598]},\n",
      "            {'line': 'ge schwisterliebe, geschwisterliebe',\n",
      "             'time_duration': 3.9920159680638676,\n",
      "             'time_index': [226.72474650698598, 230.71676247504985]},\n",
      "            {'line': 'das befriedigt meine triebe',\n",
      "             'time_duration': 3.6593479707252072,\n",
      "             'time_index': [231.0494304723885, 234.70877844311372]},\n",
      "            {'line': 'geschwisterliebe, geschwisterliebe',\n",
      "             'time_duration': 6.320691949434433,\n",
      "             'time_index': [234.70877844311372, 241.02947039254815]}],\n",
      "  'occurrence': 1,\n",
      "  'paragraph': 'Verse',\n",
      "  'singer': ['Die Ärzte'],\n",
      "  'time_duration': 31.270791749833663,\n",
      "  'time_index': [40.098, 71.36879174983366]}]\n"
     ]
    }
   ],
   "source": [
    "print(lyrics)"
   ]
  },
  {
   "cell_type": "code",
   "execution_count": 16,
   "metadata": {},
   "outputs": [],
   "source": [
    "lyrics.save_to_json(save_path, id_file_path, 'DALI')"
   ]
  },
  {
   "cell_type": "markdown",
   "metadata": {},
   "source": [
    "# Translation test"
   ]
  },
  {
   "cell_type": "markdown",
   "metadata": {},
   "source": [
    "So as to standardize the paragraph's names to enable future SPARQL queries, we created a dictionary used to translate the headers from each language used in our datasets to english. Here are the standard names we use: Intro, Verse, Pre-Chorus, Chorus, Post-Chorus, Bridge and Outro. Any paragraph that cannot get translated to one of these gets put aside."
   ]
  },
  {
   "cell_type": "markdown",
   "metadata": {},
   "source": [
    "## DALI"
   ]
  },
  {
   "cell_type": "code",
   "execution_count": 17,
   "metadata": {},
   "outputs": [],
   "source": [
    "# Read the data from a JSON file\n",
    "file_path = './test/test_datasets/dali/my_annot_name_27c19af62d9d440fb7cc2c14ab853a7d.json'\n",
    "\n",
    "#turkish song: 0f63c15316874f04b7b918ea4147877d\n",
    "\n",
    "with open(file_path, 'r', encoding='utf-8') as file:\n",
    "    data = json.load(file)"
   ]
  },
  {
   "cell_type": "code",
   "execution_count": 18,
   "metadata": {},
   "outputs": [
    {
     "name": "stdout",
     "output_type": "stream",
     "text": [
      "Searching for \"Allt På Ett Kort\" by Bob Hund...\n",
      "Done.\n",
      "META-DATA\n",
      "------------------------\n",
      "ID:\tNone\n",
      "Title:\tAllt På Ett Kort\n",
      "Artist:\tBob Hund\n",
      "Lang:\tsv\n",
      "Writer Artists:\t['\\u200bbob hund']\n",
      "Duration:\t150.786\n",
      "\n",
      "ANNOTATIONS\n",
      "------------------------\n",
      "[]\n"
     ]
    }
   ],
   "source": [
    "# Create the Lyrics object\n",
    "lyrics = LyricsAnnot('Allt På Ett Kort', 'Bob Hund')\n",
    "\n",
    "# Print its information\n",
    "print(lyrics)"
   ]
  },
  {
   "cell_type": "code",
   "execution_count": 19,
   "metadata": {},
   "outputs": [
    {
     "name": "stdout",
     "output_type": "stream",
     "text": [
      "META-DATA\n",
      "------------------------\n",
      "ID:\tNone\n",
      "Title:\tAllt På Ett Kort\n",
      "Artist:\tBob Hund\n",
      "Lang:\tsv\n",
      "Writer Artists:\t['\\u200bbob hund']\n",
      "Duration:\t150.786\n",
      "\n",
      "ANNOTATIONS\n",
      "------------------------\n",
      "[{'line': 'och jag har glomt min forsta sommar',\n",
      "  'time_duration': 4.799999999999997,\n",
      "  'time_index': [44.2965, 49.0965]},\n",
      " {'line': 'och jag har glomt min forsta vinter med sno',\n",
      "  'time_duration': 4.837499999999999,\n",
      "  'time_index': [49.734, 54.5715]},\n",
      " {'line': 'men jag har kvar ett kort av min far',\n",
      "  'time_duration': 2.5124999999999957,\n",
      "  'time_index': [55.209, 57.7215]},\n",
      " {'line': 'jag har glomt min forsta fotboll',\n",
      "  'time_duration': 4.275000000000006,\n",
      "  'time_index': [58.059, 62.334]},\n",
      " {'line': \"men det ar svart att sag' om det spelar nan roll\",\n",
      "  'time_duration': 5.25,\n",
      "  'time_index': [63.384, 68.634]},\n",
      " {'line': 'jag har kvar ett kort av',\n",
      "  'time_duration': 1.5,\n",
      "  'time_index': [68.934, 70.434]},\n",
      " {'line': 'och jag har glomt min forsta cykel',\n",
      "  'time_duration': 4.462500000000006,\n",
      "  'time_index': [85.13399999999999, 89.59649999999999]},\n",
      " {'line': 'men jag har kvar en minnesnyckel av guld',\n",
      "  'time_duration': 5.137500000000017,\n",
      "  'time_index': [90.57149999999999, 95.709]},\n",
      " {'line': 'och jag har kvar ett kort av min far',\n",
      "  'time_duration': 2.549999999999997,\n",
      "  'time_index': [96.1215, 98.6715]},\n",
      " {'line': 'och jag minns var forsta flygtur',\n",
      "  'time_duration': 4.612499999999997,\n",
      "  'time_index': [98.97149999999999, 103.58399999999999]},\n",
      " {'line': 'och jag minns en gang en regnskur',\n",
      "  'time_duration': 4.724999999999994,\n",
      "  'time_index': [104.22149999999999, 108.94649999999999]},\n",
      " {'line': 'jag har kvar ett kort av min far',\n",
      "  'time_duration': 5.4375,\n",
      "  'time_index': [109.7715, 115.209]},\n",
      " {'line': 'jag har kvar ett kort av min far',\n",
      "  'time_duration': 4.275000000000006,\n",
      "  'time_index': [136.884, 141.159]}]\n"
     ]
    }
   ],
   "source": [
    "# Build the annotations from the read data and print again\n",
    "lyrics.build_annotations(data, 'DALI')\n",
    "\n",
    "print(lyrics)"
   ]
  },
  {
   "cell_type": "code",
   "execution_count": 20,
   "metadata": {},
   "outputs": [],
   "source": [
    "# Save it to a JSON file\n",
    "lyrics.save_to_json(save_path, id_file_path, 'DALI')"
   ]
  },
  {
   "cell_type": "code",
   "execution_count": 21,
   "metadata": {},
   "outputs": [
    {
     "name": "stdout",
     "output_type": "stream",
     "text": [
      "Searching for \"Allt På Ett Kort\" by Bob Hund...\n"
     ]
    },
    {
     "name": "stdout",
     "output_type": "stream",
     "text": [
      "Done.\n"
     ]
    }
   ],
   "source": [
    "lyrics = LyricsAnnot._genius_compiler.get_lyrics('Allt På Ett Kort', 'Bob Hund')"
   ]
  },
  {
   "cell_type": "code",
   "execution_count": 22,
   "metadata": {},
   "outputs": [],
   "source": [
    "paragraphs = LyricsAnnot._genius_compiler.split_by_section(lyrics, 'Bob Hund', 'sv')"
   ]
  },
  {
   "cell_type": "code",
   "execution_count": 23,
   "metadata": {},
   "outputs": [
    {
     "name": "stdout",
     "output_type": "stream",
     "text": [
      "{('Verse', 1): {'content': 'Och jag har glömt min första sommar Och jag har glömt min första vinter med snö Men jag har kvar ett kort av far Och jag har glömt min första fotboll Men det är svårt att säga om det spelar nån roll Jag har kvar ett kort av min…', 'singer': ['Bob Hund']}, ('Verse', 2): {'content': 'Och jag har glömt min första cykel Men jag har kvar en minnesnyckel av guld Och jag har kvar ett kort av far Och jag minns vår första flygtur Och jag minns en gång en regnskur Jag har kvar ett kort av far', 'singer': ['Bob Hund']}, ('Outro', 1): {'content': 'Men jag har kvar ett kort av min farYou might also likeEmbed', 'singer': ['Bob Hund']}}\n"
     ]
    }
   ],
   "source": [
    "print(paragraphs)"
   ]
  },
  {
   "cell_type": "markdown",
   "metadata": {},
   "source": [
    "## DAMP"
   ]
  },
  {
   "cell_type": "code",
   "execution_count": 24,
   "metadata": {},
   "outputs": [],
   "source": [
    "DAMP_dir = './test/test_datasets/damp/'\n",
    "dir = 'ES'\n",
    "metadata_file = \"3364824_3364824.txt\""
   ]
  },
  {
   "cell_type": "code",
   "execution_count": 25,
   "metadata": {},
   "outputs": [
    {
     "name": "stdout",
     "output_type": "stream",
     "text": [
      "Skipping line: Arrangement tags: (does not contain ': ')\n",
      "DETECTED FRONT INDEX: -1\n",
      "DETECTED BACK INDEX 78\n"
     ]
    }
   ],
   "source": [
    "track_metadata = utils.read_arrangement_file(f\"{DAMP_dir}{dir}/{dir}ArrangementMeta/{metadata_file}\")\n",
    "\n",
    "title = utils.parse_title(track_metadata['Arrangement title'])\n",
    "artists = utils.parse_artist_names(track_metadata['Arrangement artist'])\n",
    "\n",
    "file_path = f\"{DAMP_dir}{dir}/{dir}Lyrics/{metadata_file.split('.')[0]}.json\"\n",
    "\n",
    "# Read JSON file\n",
    "with open(file_path, encoding='utf-8') as file:\n",
    "    data = json.load(file)\n",
    "\n",
    "# Clean the lyrics\n",
    "data = utils.clean_damp_json(data)"
   ]
  },
  {
   "cell_type": "code",
   "execution_count": 26,
   "metadata": {},
   "outputs": [
    {
     "name": "stdout",
     "output_type": "stream",
     "text": [
      "Searching for \"Perro Fiel\" by Shakira...\n",
      "Done.\n",
      "META-DATA\n",
      "------------------------\n",
      "ID:\tNone\n",
      "Title:\tPerro Fiel\n",
      "Artist:\tShakira\n",
      "Lang:\tes\n",
      "Writer Artists:\t['Juan Diego Medina', 'Saga WhiteBlack', 'Nicky Jam', 'Shakira']\n",
      "Duration:\t195.213\n",
      "\n",
      "ANNOTATIONS\n",
      "------------------------\n",
      "[]\n",
      "META-DATA\n",
      "------------------------\n",
      "ID:\tNone\n",
      "Title:\tPerro Fiel\n",
      "Artist:\tShakira\n",
      "Lang:\tes\n",
      "Writer Artists:\t['Juan Diego Medina', 'Saga WhiteBlack', 'Nicky Jam', 'Shakira']\n",
      "Duration:\t195.213\n",
      "\n",
      "ANNOTATIONS\n",
      "------------------------\n",
      "[{'line': 'Aquí estás',\n",
      "  'time_duration': 2.25,\n",
      "  'time_index': [4.919791666666667, 7.069791666666667]},\n",
      " {'line': 'Ya no puedes detenerte',\n",
      "  'time_duration': 2.5,\n",
      "  'time_index': [7.169791666666667, 9.569791666666667]},\n",
      " {'line': '¿Dónde vas? ahh',\n",
      "  'time_duration': 2.75,\n",
      "  'time_index': [9.669791666666667, 12.319791666666667]},\n",
      " {'line': 'Si estoy loco por tenerte',\n",
      "  'time_duration': 3.25,\n",
      "  'time_index': [12.419791666666667, 15.569791666666667]},\n",
      " {'line': 'Cómo lo iba a saber eh ehh eh ehh',\n",
      "  'time_duration': 5.180208333333335,\n",
      "  'time_index': [15.669791666666667, 20.75]},\n",
      " {'line': 'Que te vería otra vez eh ehh eh ehh',\n",
      "  'time_duration': 0.0,\n",
      "  'time_index': [20.85, 20.75]},\n",
      " {'line': '',\n",
      "  'time_duration': 6.360416666666666,\n",
      "  'time_index': [20.85, 27.110416666666666]},\n",
      " {'line': 'Tú me confundes, no sé qué hacer',\n",
      "  'time_duration': 2.25,\n",
      "  'time_index': [27.210416666666667, 29.360416666666666]},\n",
      " {'line': 'Yo lo que quiero es pasarla bien',\n",
      "  'time_duration': 2.25,\n",
      "  'time_index': [29.460416666666667, 31.610416666666666]},\n",
      " {'line': 'Yo tengo miedo de que me guste',\n",
      "  'time_duration': 2.5,\n",
      "  'time_index': [31.710416666666667, 34.110416666666666]},\n",
      " {'line': 'Y que vaya a enloquecer',\n",
      "  'time_duration': 3.2395833333333357,\n",
      "  'time_index': [34.21041666666667, 37.35]},\n",
      " {'line': 'Si eso pasa yo seguiré',\n",
      "  'time_duration': 2.2604166666666643,\n",
      "  'time_index': [37.45, 39.610416666666666]},\n",
      " {'line': 'Contigo aquí como un perro fiel',\n",
      "  'time_duration': 2.5,\n",
      "  'time_index': [39.71041666666667, 42.110416666666666]},\n",
      " {'line': 'Yo tengo miedo de que me guste',\n",
      "  'time_duration': 2.5,\n",
      "  'time_index': [42.21041666666667, 44.610416666666666]},\n",
      " {'line': 'Y que vaya a enloquecer',\n",
      "  'time_duration': 0.0,\n",
      "  'time_index': [44.71041666666667, 44.610416666666666]},\n",
      " {'line': '',\n",
      "  'time_duration': 1.9895833333333357,\n",
      "  'time_index': [44.71041666666667, 46.6]},\n",
      " {'line': 'Te hablo en serio mai, no estoy jugando',\n",
      "  'time_duration': 2.7604166666666643,\n",
      "  'time_index': [46.7, 49.360416666666666]},\n",
      " {'line': 'Tanto tiempo pasa y nada',\n",
      "  'time_duration': 3.5,\n",
      "  'time_index': [49.46041666666667, 52.860416666666666]},\n",
      " {'line': 'Estas ganas no me aguanto',\n",
      "  'time_duration': 1.7395833333333286,\n",
      "  'time_index': [52.96041666666667, 54.599999999999994]},\n",
      " {'line': 'Y aunque tú me esquives,',\n",
      "  'time_duration': 1.2604166666666714,\n",
      "  'time_index': [54.699999999999996, 55.860416666666666]},\n",
      " {'line': 'yo te sigo deseando',\n",
      "  'time_duration': 1.0395833333333329,\n",
      "  'time_index': [55.96041666666667, 56.9]},\n",
      " {'line': 'Dicen que tú eres peligrosa',\n",
      "  'time_duration': 2.9499999999999957,\n",
      "  'time_index': [57.0, 59.849999999999994]},\n",
      " {'line': 'No le hago caso a esas cosas',\n",
      "  'time_duration': 3.25,\n",
      "  'time_index': [59.949999999999996, 63.099999999999994]},\n",
      " {'line': 'Dime qué está pasando',\n",
      "  'time_duration': 2.0104166666666643,\n",
      "  'time_index': [63.199999999999996, 65.11041666666667]},\n",
      " {'line': 'Me tienes como un loco,',\n",
      "  'time_duration': 0.78958333333334,\n",
      "  'time_index': [65.21041666666666, 65.9]},\n",
      " {'line': 'soy un loco enamorado, eh',\n",
      "  'time_duration': 2.700000000000003,\n",
      "  'time_index': [66.0, 68.60000000000001]},\n",
      " {'line': 'Quiero saber cuánto me vas a insistir',\n",
      "  'time_duration': 2.5,\n",
      "  'time_index': [68.7, 71.10000000000001]},\n",
      " {'line': 'Y hasta dónde llegarías por mí',\n",
      "  'time_duration': 2.75,\n",
      "  'time_index': [71.2, 73.85000000000001]},\n",
      " {'line': 'Siento mucho la espera',\n",
      "  'time_duration': 1.5104166666666572,\n",
      "  'time_index': [73.95, 75.36041666666667]},\n",
      " {'line': 'Pero valdrá la pena',\n",
      "  'time_duration': 1.4895833333333428,\n",
      "  'time_index': [75.46041666666666, 76.85000000000001]},\n",
      " {'line': 'cuando te esté besando',\n",
      "  'time_duration': 2.260416666666657,\n",
      "  'time_index': [76.95, 79.11041666666667]},\n",
      " {'line': 'De la manera que te mueves así',\n",
      "  'time_duration': 2.489583333333343,\n",
      "  'time_index': [79.21041666666666, 81.60000000000001]},\n",
      " {'line': 'Yo te lo juro me voy a derretir',\n",
      "  'time_duration': 3.0,\n",
      "  'time_index': [81.7, 84.60000000000001]},\n",
      " {'line': 'Tú sabes que soy buena',\n",
      "  'time_duration': 1.0197916666666629,\n",
      "  'time_index': [84.7, 85.61979166666667]},\n",
      " {'line': 'Por más que yo te esquive',\n",
      "  'time_duration': 1.5,\n",
      "  'time_index': [85.71979166666667, 87.11979166666667]},\n",
      " {'line': 'me sigues deseando',\n",
      "  'time_duration': 0.0,\n",
      "  'time_index': [87.21979166666667, 87.11979166666667]},\n",
      " {'line': '',\n",
      "  'time_duration': 2.480208333333337,\n",
      "  'time_index': [87.21979166666667, 89.60000000000001]},\n",
      " {'line': 'Tú me confundes, no sé qué hacer',\n",
      "  'time_duration': 2.260416666666657,\n",
      "  'time_index': [89.7, 91.86041666666667]},\n",
      " {'line': 'Yo lo que quiero es pasarla bien',\n",
      "  'time_duration': 2.739583333333343,\n",
      "  'time_index': [91.96041666666666, 94.60000000000001]},\n",
      " {'line': 'Yo tengo miedo de que me guste',\n",
      "  'time_duration': 2.5,\n",
      "  'time_index': [94.7, 97.10000000000001]},\n",
      " {'line': 'Y que vaya a enloquecer',\n",
      "  'time_duration': 2.75,\n",
      "  'time_index': [97.2, 99.85000000000001]},\n",
      " {'line': 'Si eso pasa yo seguiré',\n",
      "  'time_duration': 2.25,\n",
      "  'time_index': [99.95, 102.10000000000001]},\n",
      " {'line': 'Contigo aquí como un perro fiel',\n",
      "  'time_duration': 3.0,\n",
      "  'time_index': [102.2, 105.10000000000001]},\n",
      " {'line': 'Yo tengo miedo de que me guste',\n",
      "  'time_duration': 2.25,\n",
      "  'time_index': [105.2, 107.35000000000001]},\n",
      " {'line': 'Y que vaya a enloquecer',\n",
      "  'time_duration': 0.0,\n",
      "  'time_index': [107.45, 107.35000000000001]},\n",
      " {'line': '',\n",
      "  'time_duration': 3.160416666666663,\n",
      "  'time_index': [107.45, 110.51041666666667]},\n",
      " {'line': 'Enloque-que-quecer',\n",
      "  'time_duration': 4.009375000000006,\n",
      "  'time_index': [110.61041666666667, 114.51979166666668]},\n",
      " {'line': 'Yo no pido nada extraordinario',\n",
      "  'time_duration': 3.160416666666663,\n",
      "  'time_index': [114.61979166666667, 117.68020833333334]},\n",
      " {'line': 'Solo un hombre de verdad',\n",
      "  'time_duration': 3.25,\n",
      "  'time_index': [117.78020833333333, 120.93020833333334]},\n",
      " {'line': 'Que se tire por mí al barro',\n",
      "  'time_duration': 1.5,\n",
      "  'time_index': [121.03020833333333, 122.43020833333334]},\n",
      " {'line': 'Que cambie las bombillas y',\n",
      "  'time_duration': 1.0302083333333343,\n",
      "  'time_index': [122.53020833333333, 123.46041666666667]},\n",
      " {'line': 'hasta que me lave el carro',\n",
      "  'time_duration': 1.7197916666666657,\n",
      "  'time_index': [123.56041666666667, 125.18020833333334]},\n",
      " {'line': 'Quiero un tipo atento y cariñoso',\n",
      "  'time_duration': 2.5,\n",
      "  'time_index': [125.28020833333333, 127.68020833333334]},\n",
      " {'line': 'Pero que no sea muy celoso',\n",
      "  'time_duration': 3.5093749999999915,\n",
      "  'time_index': [127.78020833333333, 131.18958333333333]},\n",
      " {'line': 'Que en la calle sea un príncipe',\n",
      "  'time_duration': 1.9906249999999943,\n",
      "  'time_index': [131.28958333333333, 133.18020833333333]},\n",
      " {'line': 'Pero que en mi cama sea',\n",
      "  'time_duration': 1.0197916666666913,\n",
      "  'time_index': [133.28020833333332, 134.20000000000002]},\n",
      " {'line': 'salvaje y peligroso',\n",
      "  'time_duration': 0.0,\n",
      "  'time_index': [134.3, 134.20000000000002]},\n",
      " {'line': '',\n",
      "  'time_duration': 1.9802083333333087,\n",
      "  'time_index': [134.3, 136.18020833333333]},\n",
      " {'line': 'Puedes pedir lo que quieras de mí',\n",
      "  'time_duration': 2.5,\n",
      "  'time_index': [136.28020833333332, 138.68020833333333]},\n",
      " {'line': 'Yo haría lo que fuera para ti',\n",
      "  'time_duration': 3.25,\n",
      "  'time_index': [138.78020833333332, 141.93020833333333]},\n",
      " {'line': 'Siento mucho la espera',\n",
      "  'time_duration': 1.0395833333333542,\n",
      "  'time_index': [142.03020833333332, 142.96979166666668]},\n",
      " {'line': 'Pero valdrá la pena',\n",
      "  'time_duration': 1.2197916666666515,\n",
      "  'time_index': [143.06979166666667, 144.18958333333333]},\n",
      " {'line': 'cuando te esté besando',\n",
      "  'time_duration': 2.4906249999999943,\n",
      "  'time_index': [144.28958333333333, 146.68020833333333]},\n",
      " {'line': \"Yo estoy seguro que estoy hecho pa' ti\",\n",
      "  'time_duration': 2.5,\n",
      "  'time_index': [146.78020833333332, 149.18020833333333]},\n",
      " {'line': 'Yo te lo juro no te haré sufrir',\n",
      "  'time_duration': 3.25,\n",
      "  'time_index': [149.28020833333332, 152.43020833333333]},\n",
      " {'line': 'Como te dije nena',\n",
      "  'time_duration': 1.25,\n",
      "  'time_index': [152.53020833333332, 153.68020833333333]},\n",
      " {'line': 'Por más que tú me',\n",
      "  'time_duration': 1.0697916666666742,\n",
      "  'time_index': [153.78020833333332, 154.75]},\n",
      " {'line': 'esquives, te sigo deseando',\n",
      "  'time_duration': 0.0,\n",
      "  'time_index': [154.85, 154.75]},\n",
      " {'line': '',\n",
      "  'time_duration': 2.4302083333333258,\n",
      "  'time_index': [154.85, 157.18020833333333]},\n",
      " {'line': 'Tú me confundes, no sé qué hacer',\n",
      "  'time_duration': 2.25,\n",
      "  'time_index': [157.28020833333332, 159.43020833333333]},\n",
      " {'line': 'Yo lo que quiero es pasarla bien',\n",
      "  'time_duration': 3.0,\n",
      "  'time_index': [159.53020833333332, 162.43020833333333]},\n",
      " {'line': 'Yo tengo miedo de que me guste',\n",
      "  'time_duration': 2.5,\n",
      "  'time_index': [162.53020833333332, 164.93020833333333]},\n",
      " {'line': 'Y que vaya a enloquecer',\n",
      "  'time_duration': 2.5,\n",
      "  'time_index': [165.03020833333332, 167.43020833333333]},\n",
      " {'line': 'Si eso pasa yo seguiré',\n",
      "  'time_duration': 2.75,\n",
      "  'time_index': [167.53020833333332, 170.18020833333333]},\n",
      " {'line': 'Contigo aquí como un perro fiel',\n",
      "  'time_duration': 2.75,\n",
      "  'time_index': [170.28020833333332, 172.93020833333333]},\n",
      " {'line': 'Yo tengo miedo de que me guste',\n",
      "  'time_duration': 2.25,\n",
      "  'time_index': [173.03020833333332, 175.18020833333333]},\n",
      " {'line': 'Y que vaya a enloquecer',\n",
      "  'time_duration': 0.0,\n",
      "  'time_index': [175.28020833333332, 175.18020833333333]},\n",
      " {'line': '',\n",
      "  'time_duration': 19.932791666666674,\n",
      "  'time_index': [175.28020833333332, 195.213]}]\n"
     ]
    }
   ],
   "source": [
    "if utils.compute_avg_line_len(data) > 7.0:\n",
    "    # Create annotations\n",
    "    annot = LyricsAnnot(title, artists[0])\n",
    "    print(annot)\n",
    "\n",
    "    annot.build_annotations(data, 'DAMP')\n",
    "    print(annot)"
   ]
  },
  {
   "cell_type": "code",
   "execution_count": 27,
   "metadata": {},
   "outputs": [
    {
     "name": "stdout",
     "output_type": "stream",
     "text": [
      "Searching for \"Perro Fiel\" by Shakira...\n",
      "Done.\n"
     ]
    }
   ],
   "source": [
    "lyrics = LyricsAnnot('Perro Fiel', 'Shakira')"
   ]
  },
  {
   "cell_type": "code",
   "execution_count": 28,
   "metadata": {},
   "outputs": [],
   "source": [
    "# Save it to a JSON file\n",
    "lyrics.save_to_json(save_path, id_file_path, 'DAMP')"
   ]
  },
  {
   "cell_type": "code",
   "execution_count": 29,
   "metadata": {},
   "outputs": [
    {
     "name": "stdout",
     "output_type": "stream",
     "text": [
      "Searching for \"Perro Fiel\" by Shakira...\n"
     ]
    },
    {
     "name": "stdout",
     "output_type": "stream",
     "text": [
      "Done.\n"
     ]
    }
   ],
   "source": [
    "lyrics = LyricsAnnot._genius_compiler.get_lyrics(title, artists[0])"
   ]
  },
  {
   "cell_type": "code",
   "execution_count": 30,
   "metadata": {},
   "outputs": [
    {
     "name": "stdout",
     "output_type": "stream",
     "text": [
      "Warning: Paragraph name 'Letra de \"Perro Fiel\" ft. Nicky Jam' in language 'es' is not a standard section name.\n"
     ]
    }
   ],
   "source": [
    "paragraphs = LyricsAnnot._genius_compiler.split_by_section(lyrics, artists[0], 'es')"
   ]
  },
  {
   "cell_type": "code",
   "execution_count": 31,
   "metadata": {},
   "outputs": [
    {
     "name": "stdout",
     "output_type": "stream",
     "text": [
      "{('Verse', 1): {'content': 'Aquí estás Ya no puedes detenerte ¿Dónde vas? Si estoy loco por tenerte Cómo lo iba a saber Que te vería otra vez', 'singer': ['Shakira', 'Nicky Jam']}, ('Chorus', 1): {'content': 'Tú me confundes, no sé qué hacer Yo lo que quiero es pasarla bien Yo tengo miedo de que me guste Y que vaya a enloquecer Si eso pasa yo seguiré Contigo aquí como un perro fiel Yo tengo miedo de que me guste Y que vaya a enloquecer', 'singer': ['Shakira', 'Nicky Jam']}, ('Verse', 2): {'content': 'Te hablo en serio mai, no estoy jugando Tanto tiempo pasa y nada Estas ganas no me aguanto Y aunque tú me esquives, yo te sigo deseando Dicen que tú eres peligrosa No le hago caso a esas cosas Dime qué está pasando Me tienes como un loco, soy un loco enamorado, eh Quiero saber cuánto me vas a insistir Y hasta dónde llegarías por mí Siento mucho la espera Pero valdrá la pena cuando te esté besando De la manera que te mueves así Yo te lo juro me voy a derretir Tú sabes que soy buena Por más que yo te esquive me sigues deseando', 'singer': ['Shakira', 'Nicky Jam']}, ('Chorus', 2): {'content': 'Tú me confundes, no sé qué hacer Yo lo que quiero es pasarla bien Yo tengo miedo de que me guste Y que vaya a enloquecer Si eso pasa yo seguiré Contigo aquí como un perro fiel Yo tengo miedo de que me guste Y que vaya a enloquecer', 'singer': ['Shakira', 'Nicky Jam']}, ('Bridge', 1): {'content': 'Enloque-que-quecer Yo no pido nada extraordinario Solo un hombre de verdad Que se tire por mí al barro Que cambie las bombillas y hasta que me lave el carro Quiero un tipo atento y cariñoso Pero que no sea muy celoso Que en la calle sea un príncipe Pero que en mi cama sea salvaje y peligroso', 'singer': ['Shakira']}, ('Verse', 3): {'content': \"Puedes pedir lo que quieras de mí Yo haría lo que fuera para ti Siento mucho la espera Pero valdrá la pena cuando te esté besando Yo estoy seguro que estoy hecho pa' ti Yo te lo juro no te haré sufrir Como te dije nena Por más que tú me esquives, te sigo deseando\", 'singer': ['Shakira', 'Nicky Jam']}, ('Chorus', 3): {'content': 'Tú me confundes, no sé qué hacer Yo lo que quiero es pasarla bien Yo tengo miedo de que me guste Y que vaya a enloquecer Si eso pasa yo seguiré Contigo aquí como un perro fiel Yo tengo miedo de que me guste Y que vaya a enloquecer', 'singer': ['Shakira', 'Nicky Jam']}, ('Bridge', 2): {'content': 'Enloque-que-quecer Aquí estás Ya no puedes detenerte ¿Dónde vas? (¡Oh!) Si estoy loco por tenerte8Embed', 'singer': ['Shakira', 'Nicky Jam']}}\n"
     ]
    }
   ],
   "source": [
    "print(paragraphs)"
   ]
  },
  {
   "cell_type": "markdown",
   "metadata": {},
   "source": [
    "# Test of duplicates \n",
    "### When converting a DAMP file while the same song from DALI dataset has already been converted, there should not be any duplicate of id"
   ]
  },
  {
   "cell_type": "markdown",
   "metadata": {},
   "source": [
    "Let's use Diamonds by Rihanna as a use case."
   ]
  },
  {
   "cell_type": "markdown",
   "metadata": {},
   "source": [
    "## DALI"
   ]
  },
  {
   "cell_type": "code",
   "execution_count": 3,
   "metadata": {},
   "outputs": [],
   "source": [
    "# Read the data from a JSON file\n",
    "file_path = './test/test_datasets/dali/my_annot_name_54d200fbe0424767acc0e414759f049d.json'\n",
    "\n",
    "with open(file_path, 'r', encoding='utf-8') as file:\n",
    "    data = json.load(file)"
   ]
  },
  {
   "cell_type": "code",
   "execution_count": 10,
   "metadata": {},
   "outputs": [
    {
     "name": "stdout",
     "output_type": "stream",
     "text": [
      "Searching for \"Diamonds\" by Rihanna...\n",
      "Done.\n",
      "META-DATA\n",
      "------------------------\n",
      "ID:\tNone\n",
      "Title:\tDiamonds\n",
      "Artist:\tRihanna\n",
      "Lang:\ten\n",
      "Writer Artists:\t['Tor Erik Hermansen', 'Mikkel Storleer Eriksen', '\\u200bbenny blanco', 'Sia']\n",
      "Duration:\t225.146\n",
      "\n",
      "ANNOTATIONS\n",
      "------------------------\n",
      "[]\n"
     ]
    }
   ],
   "source": [
    "# Create the Lyrics object\n",
    "lyrics = LyricsAnnot('Diamonds', 'Rihanna')\n",
    "\n",
    "# Print its information\n",
    "print(lyrics)"
   ]
  },
  {
   "cell_type": "code",
   "execution_count": 5,
   "metadata": {},
   "outputs": [
    {
     "data": {
      "text/plain": [
       "True"
      ]
     },
     "execution_count": 5,
     "metadata": {},
     "output_type": "execute_result"
    }
   ],
   "source": [
    "# Build the annotations from the read data and print again\n",
    "lyrics.build_annotations(data, 'DALI')"
   ]
  },
  {
   "cell_type": "code",
   "execution_count": 6,
   "metadata": {},
   "outputs": [],
   "source": [
    "# Save it to a JSON file\n",
    "lyrics.save_to_json(save_path, id_file_path, 'DALI')"
   ]
  },
  {
   "cell_type": "code",
   "execution_count": 7,
   "metadata": {},
   "outputs": [
    {
     "name": "stdout",
     "output_type": "stream",
     "text": [
      "META-DATA\n",
      "------------------------\n",
      "ID:\t00000001\n",
      "Title:\tDiamonds\n",
      "Artist:\tRihanna\n",
      "Lang:\ten\n",
      "Writer Artists:\t['Tor Erik Hermansen', 'Mikkel Storleer Eriksen', '\\u200bbenny blanco', 'Sia']\n",
      "Duration:\t225.146\n",
      "\n",
      "ANNOTATIONS\n",
      "------------------------\n",
      "[{'line': 'shine bright like a diamond',\n",
      "  'time_duration': 1.5896739130434787,\n",
      "  'time_index': [1.304, 2.8936739130434788]},\n",
      " {'line': 'shine bright like a diamond',\n",
      "  'time_duration': 1.5896739130434776,\n",
      "  'time_index': [6.521391304347827, 8.111065217391305]},\n",
      " {'line': 'find light in the beautiful sea',\n",
      "  'time_duration': 2.078804347826088,\n",
      "  'time_index': [11.738782608695654, 13.817586956521742]},\n",
      " {'line': 'i choose to be happy',\n",
      "  'time_duration': 1.875,\n",
      "  'time_index': [14.02139130434783, 15.89639130434783]},\n",
      " {'line': 'you and i',\n",
      "  'time_duration': 0.8967391304347849,\n",
      "  'time_index': [16.63008695652174, 17.526826086956525]},\n",
      " {'line': 'you and i',\n",
      "  'time_duration': 0.8967391304347849,\n",
      "  'time_index': [18.01595652173913, 18.912695652173916]},\n",
      " {'line': \"we're like diamonds in the sky\",\n",
      "  'time_duration': 2.0788043478260896,\n",
      "  'time_index': [19.564869565217393, 21.643673913043482]},\n",
      " {'line': \"you're a shooting star i see\",\n",
      "  'time_duration': 1.9157608695652186,\n",
      "  'time_index': [22.173565217391307, 24.089326086956525]},\n",
      " {'line': 'a vision of ecstasy',\n",
      "  'time_duration': 1.9157608695652186,\n",
      "  'time_index': [24.29313043478261, 26.20889130434783]},\n",
      " {'line': 'when you hold me',\n",
      "  'time_duration': 0.9375,\n",
      "  'time_index': [26.738782608695658, 27.676282608695658]},\n",
      " {'line': \"i'm alive\",\n",
      "  'time_duration': 0.774456521739129,\n",
      "  'time_index': [28.69530434782609, 29.46976086956522]},\n",
      " {'line': \"we're like diamonds in the sky\",\n",
      "  'time_duration': 2.1603260869565233,\n",
      "  'time_index': [29.99965217391305, 32.15997826086957]},\n",
      " {'line': \"i knew that we'd become one\",\n",
      "  'time_duration': 4.198369565217391,\n",
      "  'time_index': [32.28226086956523, 36.48063043478262]},\n",
      " {'line': 'right away',\n",
      "  'time_duration': 0.9782608695652186,\n",
      "  'time_index': [36.84747826086957, 37.82573913043479]},\n",
      " {'line': 'oh, right away',\n",
      "  'time_duration': 1.5081521739130395,\n",
      "  'time_index': [39.13008695652175, 40.63823913043479]},\n",
      " {'line': 'at first sight i',\n",
      "  'time_duration': 2.282608695652172,\n",
      "  'time_index': [42.717043478260884, 44.999652173913056]},\n",
      " {'line': 'felt the energy of sun rays',\n",
      "  'time_duration': 2.9347826086956488,\n",
      "  'time_index': [45.3257391304348, 48.260521739130446]},\n",
      " {'line': 'i saw the life',\n",
      "  'time_duration': 1.1820652173913047,\n",
      "  'time_index': [49.56486956521741, 50.74693478260871]},\n",
      " {'line': 'so shine bright',\n",
      "  'time_duration': 2.201086956521742,\n",
      "  'time_index': [51.52139130434784, 53.72247826086958]},\n",
      " {'line': 'tonight',\n",
      "  'time_duration': 1.9565217391304373,\n",
      "  'time_index': [54.45617391304349, 56.41269565217393]},\n",
      " {'line': 'you and i',\n",
      "  'time_duration': 2.1195652173913047,\n",
      "  'time_index': [56.738782608695665, 58.85834782608697]},\n",
      " {'line': \"we're beautiful like diamonds in the sky\",\n",
      "  'time_duration': 3.66847826086957,\n",
      "  'time_index': [59.999652173913056, 63.668130434782626]},\n",
      " {'line': 'eye to eye',\n",
      "  'time_duration': 1.875,\n",
      "  'time_index': [64.5648695652174, 66.4398695652174]},\n",
      " {'line': 'so alive',\n",
      "  'time_duration': 2.1195652173912976,\n",
      "  'time_index': [67.17356521739133, 69.29313043478263]},\n",
      " {'line': \"we're beautiful like diamonds in the sky\",\n",
      "  'time_duration': 3.5869565217391255,\n",
      "  'time_index': [70.43443478260872, 74.02139130434784]},\n",
      " {'line': 'oh',\n",
      "  'time_duration': 2.160326086956516,\n",
      "  'time_index': [74.99965217391306, 77.15997826086958]},\n",
      " {'line': 'oh',\n",
      "  'time_duration': 1.6711956521739069,\n",
      "  'time_index': [77.93443478260872, 79.60563043478263]},\n",
      " {'line': \"we're beautiful like diamonds in the sky\",\n",
      "  'time_duration': 3.5869565217391255,\n",
      "  'time_index': [80.86921739130437, 84.4561739130435]},\n",
      " {'line': 'oh',\n",
      "  'time_duration': 2.160326086956516,\n",
      "  'time_index': [85.43443478260872, 87.59476086956523]},\n",
      " {'line': 'oh',\n",
      "  'time_duration': 1.6711956521739069,\n",
      "  'time_index': [88.36921739130437, 90.04041304347828]},\n",
      " {'line': \"we're beautiful like diamonds in the sky\",\n",
      "  'time_duration': 3.5869565217391397,\n",
      "  'time_index': [91.30400000000002, 94.89095652173916]},\n",
      " {'line': 'palms rise to the universe',\n",
      "  'time_duration': 1.7119565217391255,\n",
      "  'time_index': [95.21704347826089, 96.92900000000002]},\n",
      " {'line': 'as we moonshine and molly',\n",
      "  'time_duration': 2.527173913043484,\n",
      "  'time_index': [97.17356521739133, 99.70073913043481]},\n",
      " {'line': \"feel the warmth we'll never die\",\n",
      "  'time_duration': 2.5271739130434696,\n",
      "  'time_index': [100.10834782608698, 102.63552173913045]},\n",
      " {'line': \"we're like diamonds in the sky\",\n",
      "  'time_duration': 2.2418478260869534,\n",
      "  'time_index': [103.04313043478264, 105.2849782608696]},\n",
      " {'line': \"you're a shooting star i see\",\n",
      "  'time_duration': 1.9972826086956559,\n",
      "  'time_index': [105.65182608695655, 107.6491086956522]},\n",
      " {'line': 'a vision of ecstasy',\n",
      "  'time_duration': 1.9157608695652044,\n",
      "  'time_index': [107.77139130434786, 109.68715217391306]},\n",
      " {'line': 'when you hold me',\n",
      "  'time_duration': 0.9782608695652186,\n",
      "  'time_index': [110.21704347826089, 111.19530434782611]},\n",
      " {'line': \"i'm alive\",\n",
      "  'time_duration': 0.8559782608695627,\n",
      "  'time_index': [112.17356521739133, 113.02954347826089]},\n",
      " {'line': \"we're like diamonds in the sky\",\n",
      "  'time_duration': 2.078804347826093,\n",
      "  'time_index': [113.47791304347828, 115.55671739130437]},\n",
      " {'line': 'at first sight i',\n",
      "  'time_duration': 2.282608695652172,\n",
      "  'time_index': [115.76052173913047, 118.04313043478264]},\n",
      " {'line': 'felt the energy of sun rays',\n",
      "  'time_duration': 2.934782608695656,\n",
      "  'time_index': [118.36921739130437, 121.30400000000003]},\n",
      " {'line': 'i saw the life',\n",
      "  'time_duration': 1.1820652173913118,\n",
      "  'time_index': [122.60834782608698, 123.7904130434783]},\n",
      " {'line': 'so shine bright',\n",
      "  'time_duration': 2.201086956521735,\n",
      "  'time_index': [124.56486956521742, 126.76595652173916]},\n",
      " {'line': 'tonight',\n",
      "  'time_duration': 1.8342391304347672,\n",
      "  'time_index': [127.49965217391308, 129.33389130434784]},\n",
      " {'line': 'you and i',\n",
      "  'time_duration': 2.1195652173913118,\n",
      "  'time_index': [129.78226086956525, 131.90182608695656]},\n",
      " {'line': \"we're beautiful like diamonds in the sky\",\n",
      "  'time_duration': 3.6684782608695627,\n",
      "  'time_index': [133.04313043478265, 136.71160869565222]},\n",
      " {'line': 'eye to eye',\n",
      "  'time_duration': 1.8342391304347814,\n",
      "  'time_index': [137.608347826087, 139.44258695652178]},\n",
      " {'line': 'so alive',\n",
      "  'time_duration': 2.1195652173913118,\n",
      "  'time_index': [140.2170434782609, 142.33660869565222]},\n",
      " {'line': \"we're beautiful like diamonds in the sky\",\n",
      "  'time_duration': 3.586956521739154,\n",
      "  'time_index': [143.47791304347828, 147.06486956521744]},\n",
      " {'line': 'oh',\n",
      "  'time_duration': 2.160326086956502,\n",
      "  'time_index': [148.04313043478265, 150.20345652173916]},\n",
      " {'line': 'oh',\n",
      "  'time_duration': 1.6711956521739069,\n",
      "  'time_index': [150.9779130434783, 152.64910869565222]},\n",
      " {'line': \"we're beautiful like diamonds in the sky\",\n",
      "  'time_duration': 3.586956521739154,\n",
      "  'time_index': [153.91269565217394, 157.4996521739131]},\n",
      " {'line': 'oh',\n",
      "  'time_duration': 2.160326086956502,\n",
      "  'time_index': [158.4779130434783, 160.6382391304348]},\n",
      " {'line': 'oh',\n",
      "  'time_duration': 1.6711956521739353,\n",
      "  'time_index': [161.41269565217394, 163.08389130434787]},\n",
      " {'line': \"we're beautiful like diamonds in the sky\",\n",
      "  'time_duration': 3.586956521739154,\n",
      "  'time_index': [164.3474782608696, 167.93443478260875]},\n",
      " {'line': 'shine bright like a diamond',\n",
      "  'time_duration': 1.7934782608695627,\n",
      "  'time_index': [168.26052173913047, 170.05400000000003]},\n",
      " {'line': 'shine bright like a diamond',\n",
      "  'time_duration': 1.711956521739154,\n",
      "  'time_index': [170.86921739130437, 172.58117391304353]},\n",
      " {'line': 'shine bright like a diamond',\n",
      "  'time_duration': 1.875,\n",
      "  'time_index': [173.4779130434783, 175.3529130434783]},\n",
      " {'line': 'so shine bright',\n",
      "  'time_duration': 2.201086956521749,\n",
      "  'time_index': [176.7387826086957, 178.93986956521744]},\n",
      " {'line': 'tonight',\n",
      "  'time_duration': 1.7934782608695627,\n",
      "  'time_index': [179.67356521739134, 181.4670434782609]},\n",
      " {'line': 'you and i',\n",
      "  'time_duration': 2.1195652173912833,\n",
      "  'time_index': [181.95617391304353, 184.0757391304348]},\n",
      " {'line': \"we're beautiful like diamonds in the sky\",\n",
      "  'time_duration': 3.6684782608695627,\n",
      "  'time_index': [185.2170434782609, 188.88552173913047]},\n",
      " {'line': 'eye to eye',\n",
      "  'time_duration': 1.7934782608695912,\n",
      "  'time_index': [189.78226086956525, 191.57573913043484]},\n",
      " {'line': 'so alive',\n",
      "  'time_duration': 2.1195652173912833,\n",
      "  'time_index': [192.39095652173918, 194.51052173913047]},\n",
      " {'line': \"we're beautiful like diamonds in the sky\",\n",
      "  'time_duration': 3.5869565217391255,\n",
      "  'time_index': [195.65182608695656, 199.2387826086957]},\n",
      " {'line': 'shine bright like a diamond',\n",
      "  'time_duration': 1.875,\n",
      "  'time_index': [199.56486956521744, 201.43986956521744]},\n",
      " {'line': 'shine bright like a diamond',\n",
      "  'time_duration': 1.9157608695652186,\n",
      "  'time_index': [202.17356521739134, 204.08932608695656]},\n",
      " {'line': 'shine bright like a diamond',\n",
      "  'time_duration': 1.9565217391304088,\n",
      "  'time_index': [204.78226086956528, 206.7387826086957]},\n",
      " {'line': 'oh yeah',\n",
      "  'time_duration': 2.0380434782608745,\n",
      "  'time_index': [207.39095652173918, 209.42900000000006]},\n",
      " {'line': 'shine bright like a diamond',\n",
      "  'time_duration': 2.2826086956521863,\n",
      "  'time_index': [209.9996521739131, 212.28226086956528]},\n",
      " {'line': 'shine bright like a diamond',\n",
      "  'time_duration': 1.9157608695652186,\n",
      "  'time_index': [212.608347826087, 214.52410869565222]},\n",
      " {'line': 'shine bright like a diamond',\n",
      "  'time_duration': 1.6304347826087167,\n",
      "  'time_index': [215.2170434782609, 216.84747826086962]},\n",
      " {'line': 'shine bright like a diamond',\n",
      "  'time_duration': 1.711956521739154,\n",
      "  'time_index': [217.17356521739134, 218.8855217391305]}]\n"
     ]
    }
   ],
   "source": [
    "print(lyrics)"
   ]
  },
  {
   "cell_type": "markdown",
   "metadata": {},
   "source": [
    "## DAMP"
   ]
  },
  {
   "cell_type": "code",
   "execution_count": 13,
   "metadata": {},
   "outputs": [],
   "source": [
    "DAMP_dir = \"./test/test_datasets/damp/\"\n",
    "dir = 'FR'\n",
    "metadata_file = \"738276_127259.txt\""
   ]
  },
  {
   "cell_type": "code",
   "execution_count": 14,
   "metadata": {},
   "outputs": [
    {
     "name": "stdout",
     "output_type": "stream",
     "text": [
      "DETECTED FRONT INDEX: 3\n",
      "DETECTED BACK INDEX 69\n"
     ]
    }
   ],
   "source": [
    "track_metadata = utils.read_arrangement_file(f\"{DAMP_dir}{dir}/{dir}ArrangementMeta/{metadata_file}\")\n",
    "\n",
    "title = utils.parse_title(track_metadata['Arrangement title'])\n",
    "artists = utils.parse_artist_names(track_metadata['Arrangement artist'])\n",
    "\n",
    "file_path = f\"{DAMP_dir}{dir}/{dir}Lyrics/{metadata_file.split('.')[0]}.json\"\n",
    "\n",
    "# Read JSON file\n",
    "with open(file_path, encoding='utf-8') as file:\n",
    "    data = json.load(file)\n",
    "\n",
    "# Clean the lyrics\n",
    "data = utils.clean_damp_json(data)"
   ]
  },
  {
   "cell_type": "code",
   "execution_count": 16,
   "metadata": {},
   "outputs": [
    {
     "name": "stdout",
     "output_type": "stream",
     "text": [
      "Searching for \"Diamonds\" by Rihanna...\n",
      "Done.\n",
      "META-DATA\n",
      "------------------------\n",
      "ID:\tNone\n",
      "Title:\tDiamonds\n",
      "Artist:\tRihanna\n",
      "Lang:\ten\n",
      "Writer Artists:\t['Tor Erik Hermansen', 'Mikkel Storleer Eriksen', '\\u200bbenny blanco', 'Sia']\n",
      "Duration:\t225.146\n",
      "\n",
      "ANNOTATIONS\n",
      "------------------------\n",
      "[{'line': 'Find light in the beautiful sea',\n",
      "  'time_duration': 2.260416666666666,\n",
      "  'time_index': [11.189583333333333, 13.35]},\n",
      " {'line': 'I choose to be happy',\n",
      "  'time_duration': 2.5197916666666664,\n",
      "  'time_index': [13.45, 15.869791666666666]},\n",
      " {'line': 'You and I, you and I',\n",
      "  'time_duration': 3.0302083333333343,\n",
      "  'time_index': [15.969791666666666, 18.9]},\n",
      " {'line': 'We’re like diamonds in the sky',\n",
      "  'time_duration': 0.0,\n",
      "  'time_index': [19.0, 18.9]},\n",
      " {'line': '',\n",
      "  'time_duration': 2.5302083333333343,\n",
      "  'time_index': [19.0, 21.430208333333333]},\n",
      " {'line': 'You’re a shooting star I see',\n",
      "  'time_duration': 2.2697916666666664,\n",
      "  'time_index': [21.530208333333334, 23.7]},\n",
      " {'line': 'A vision of ecstasy',\n",
      "  'time_duration': 2.5197916666666664,\n",
      "  'time_index': [23.8, 26.219791666666666]},\n",
      " {'line': 'When you hold me, I’m alive',\n",
      "  'time_duration': 3.0302083333333307,\n",
      "  'time_index': [26.319791666666667, 29.249999999999996]},\n",
      " {'line': 'We’re like diamonds in the sky',\n",
      "  'time_duration': 0.0,\n",
      "  'time_index': [29.349999999999998, 29.249999999999996]},\n",
      " {'line': '',\n",
      "  'time_duration': 2.2802083333333343,\n",
      "  'time_index': [29.349999999999998, 31.53020833333333]},\n",
      " {'line': 'I knew that we’d become one right away',\n",
      "  'time_duration': 6.819791666666671,\n",
      "  'time_index': [31.630208333333332, 38.35]},\n",
      " {'line': 'Oh, right away',\n",
      "  'time_duration': 3.530208333333327,\n",
      "  'time_index': [38.45, 41.88020833333333]},\n",
      " {'line': 'At first sight I felt',\n",
      "  'time_duration': 3.289583333333333,\n",
      "  'time_index': [41.98020833333333, 45.16979166666666]},\n",
      " {'line': 'the energy of sun rays',\n",
      "  'time_duration': 3.5302083333333343,\n",
      "  'time_index': [45.26979166666666, 48.699999999999996]},\n",
      " {'line': 'I saw the life inside your eyes',\n",
      "  'time_duration': 0.0,\n",
      "  'time_index': [48.8, 48.699999999999996]},\n",
      " {'line': '',\n",
      "  'time_duration': 2.26979166666667,\n",
      "  'time_index': [48.8, 50.969791666666666]},\n",
      " {'line': 'So shine bright tonight, you and I',\n",
      "  'time_duration': 8.330208333333331,\n",
      "  'time_index': [51.06979166666667, 59.3]},\n",
      " {'line': 'We’re beautiful like',\n",
      "  'time_duration': 1.7802083333333343,\n",
      "  'time_index': [59.4, 61.08020833333333]},\n",
      " {'line': 'Diamonds in the sky',\n",
      "  'time_duration': 2.7802083333333343,\n",
      "  'time_index': [61.18020833333333, 63.860416666666666]},\n",
      " {'line': 'Eye to eye, so alive',\n",
      "  'time_duration': 6.069791666666667,\n",
      "  'time_index': [63.96041666666667, 69.93020833333334]},\n",
      " {'line': 'We’re beautiful like',\n",
      "  'time_duration': 1.5197916666666629,\n",
      "  'time_index': [70.03020833333333, 71.45]},\n",
      " {'line': 'Diamonds in the sky',\n",
      "  'time_duration': 0.0,\n",
      "  'time_index': [71.55, 71.45]},\n",
      " {'line': '',\n",
      "  'time_duration': 2.2802083333333343,\n",
      "  'time_index': [71.55, 73.73020833333334]},\n",
      " {'line': 'Shine bright like a diamond',\n",
      "  'time_duration': 2.7802083333333343,\n",
      "  'time_index': [73.83020833333333, 76.51041666666667]},\n",
      " {'line': 'Shine bright like a diamond',\n",
      "  'time_duration': 2.519791666666663,\n",
      "  'time_index': [76.61041666666667, 79.03020833333333]},\n",
      " {'line': 'Shine bright like a diamond',\n",
      "  'time_duration': 1.519791666666677,\n",
      "  'time_index': [79.13020833333333, 80.55000000000001]},\n",
      " {'line': 'Beautiful like diamonds in the sky',\n",
      "  'time_duration': 0.0,\n",
      "  'time_index': [80.65, 80.55000000000001]},\n",
      " {'line': '',\n",
      "  'time_duration': 3.78020833333332,\n",
      "  'time_index': [80.65, 84.33020833333333]},\n",
      " {'line': 'Shine bright like a diamond',\n",
      "  'time_duration': 2.519791666666677,\n",
      "  'time_index': [84.43020833333333, 86.85000000000001]},\n",
      " {'line': 'Shine bright like a diamond',\n",
      "  'time_duration': 2.5302083333333343,\n",
      "  'time_index': [86.95, 89.38020833333334]},\n",
      " {'line': 'Shine bright like a diamond',\n",
      "  'time_duration': 1.7593749999999915,\n",
      "  'time_index': [89.48020833333334, 91.13958333333333]},\n",
      " {'line': 'Beautiful like diamonds in the sky',\n",
      "  'time_duration': 0.0,\n",
      "  'time_index': [91.23958333333333, 91.13958333333333]},\n",
      " {'line': '',\n",
      "  'time_duration': 3.299999999999997,\n",
      "  'time_index': [91.23958333333333, 94.43958333333333]},\n",
      " {'line': 'Palms rise to the universe',\n",
      "  'time_duration': 2.270833333333343,\n",
      "  'time_index': [94.53958333333333, 96.71041666666667]},\n",
      " {'line': 'As we moonshine and molly',\n",
      "  'time_duration': 2.769791666666663,\n",
      "  'time_index': [96.81041666666667, 99.48020833333334]},\n",
      " {'line': 'Feel the warmth, we’ll never die',\n",
      "  'time_duration': 2.7802083333333343,\n",
      "  'time_index': [99.58020833333333, 102.26041666666667]},\n",
      " {'line': 'We’re like diamonds in the sky',\n",
      "  'time_duration': 0.0,\n",
      "  'time_index': [102.36041666666667, 102.26041666666667]},\n",
      " {'line': '',\n",
      "  'time_duration': 2.769791666666663,\n",
      "  'time_index': [102.36041666666667, 105.03020833333333]},\n",
      " {'line': 'You’re a shooting star I see',\n",
      "  'time_duration': 2.269791666666663,\n",
      "  'time_index': [105.13020833333333, 107.3]},\n",
      " {'line': 'A vision of ecstasy',\n",
      "  'time_duration': 2.269791666666677,\n",
      "  'time_index': [107.39999999999999, 109.56979166666667]},\n",
      " {'line': 'When you hold me, I’m alive',\n",
      "  'time_duration': 3.2906249999999915,\n",
      "  'time_index': [109.66979166666667, 112.86041666666667]},\n",
      " {'line': 'We’re like diamonds in the sky',\n",
      "  'time_duration': 0.0,\n",
      "  'time_index': [112.96041666666666, 112.86041666666667]},\n",
      " {'line': '',\n",
      "  'time_duration': 2.269791666666677,\n",
      "  'time_index': [112.96041666666666, 115.13020833333334]},\n",
      " {'line': 'I knew that we’d become one right away',\n",
      "  'time_duration': 6.81979166666666,\n",
      "  'time_index': [115.23020833333334, 121.95]},\n",
      " {'line': 'Oh, right away',\n",
      "  'time_duration': 3.019791666666663,\n",
      "  'time_index': [122.05, 124.96979166666667]},\n",
      " {'line': 'At first sight I felt',\n",
      "  'time_duration': 3.7906249999999915,\n",
      "  'time_index': [125.06979166666666, 128.76041666666666]},\n",
      " {'line': 'the energy of sun rays',\n",
      "  'time_duration': 3.539583333333354,\n",
      "  'time_index': [128.86041666666665, 132.3]},\n",
      " {'line': 'I saw the life inside your eyes',\n",
      "  'time_duration': 0.0,\n",
      "  'time_index': [132.4, 132.3]},\n",
      " {'line': '', 'time_duration': 2.299999999999983, 'time_index': [132.4, 134.6]},\n",
      " {'line': 'So shine bright tonight, you and I',\n",
      "  'time_duration': 8.350000000000023,\n",
      "  'time_index': [134.7, 142.95000000000002]},\n",
      " {'line': \"We're beautiful like\",\n",
      "  'time_duration': 1.2604166666666572,\n",
      "  'time_index': [143.05, 144.21041666666667]},\n",
      " {'line': 'Diamonds in the sky',\n",
      "  'time_duration': 3.2791666666666686,\n",
      "  'time_index': [144.31041666666667, 147.48958333333334]},\n",
      " {'line': 'Eye to eye, so alive',\n",
      "  'time_duration': 5.810416666666669,\n",
      "  'time_index': [147.58958333333334, 153.3]},\n",
      " {'line': \"We're beautiful like\",\n",
      "  'time_duration': 1.5104166666666572,\n",
      "  'time_index': [153.4, 154.81041666666667]},\n",
      " {'line': 'Diamonds in the sky',\n",
      "  'time_duration': 0.0,\n",
      "  'time_index': [154.91041666666666, 154.81041666666667]},\n",
      " {'line': '',\n",
      "  'time_duration': 2.5291666666666686,\n",
      "  'time_index': [154.91041666666666, 157.33958333333334]},\n",
      " {'line': 'Shine bright like a diamond',\n",
      "  'time_duration': 2.510416666666657,\n",
      "  'time_index': [157.43958333333333, 159.85]},\n",
      " {'line': 'Shine bright like a diamond',\n",
      "  'time_duration': 2.5302083333333485,\n",
      "  'time_index': [159.95, 162.38020833333334]},\n",
      " {'line': 'Shine bright like a diamond',\n",
      "  'time_duration': 1.5093750000000057,\n",
      "  'time_index': [162.48020833333334, 163.88958333333335]},\n",
      " {'line': 'Beautiful like diamonds in the sky',\n",
      "  'time_duration': 0.0,\n",
      "  'time_index': [163.98958333333334, 163.88958333333335]},\n",
      " {'line': '',\n",
      "  'time_duration': 4.040624999999977,\n",
      "  'time_index': [163.98958333333334, 167.93020833333333]},\n",
      " {'line': 'Shine bright like a diamond',\n",
      "  'time_duration': 2.3302083333333314,\n",
      "  'time_index': [168.03020833333332, 170.26041666666666]},\n",
      " {'line': 'Shine bright like a diamond',\n",
      "  'time_duration': 2.5291666666666686,\n",
      "  'time_index': [170.36041666666665, 172.78958333333333]},\n",
      " {'line': 'Shine bright like a diamond',\n",
      "  'time_duration': 1.7604166666666856,\n",
      "  'time_index': [172.88958333333332, 174.55]},\n",
      " {'line': 'Beautiful like diamonds in the sky',\n",
      "  'time_duration': 50.49599999999998,\n",
      "  'time_index': [174.65, 225.146]}]\n"
     ]
    }
   ],
   "source": [
    "if utils.compute_avg_line_len(data) > 7.0:\n",
    "    # Create annotations\n",
    "    annot = LyricsAnnot(title, artists[0])\n",
    "\n",
    "    annot.build_annotations(data, 'DAMP')\n",
    "    print(annot)"
   ]
  },
  {
   "cell_type": "code",
   "execution_count": 18,
   "metadata": {},
   "outputs": [],
   "source": [
    "# Save it to a JSON file\n",
    "annot.save_to_json(save_path, id_file_path, 'DAMP')"
   ]
  },
  {
   "cell_type": "code",
   "execution_count": 19,
   "metadata": {},
   "outputs": [
    {
     "name": "stdout",
     "output_type": "stream",
     "text": [
      "META-DATA\n",
      "------------------------\n",
      "ID:\t00000001\n",
      "Title:\tDiamonds\n",
      "Artist:\tRihanna\n",
      "Lang:\ten\n",
      "Writer Artists:\t['Tor Erik Hermansen', 'Mikkel Storleer Eriksen', '\\u200bbenny blanco', 'Sia']\n",
      "Duration:\t225.146\n",
      "\n",
      "ANNOTATIONS\n",
      "------------------------\n",
      "[{'line': 'Find light in the beautiful sea',\n",
      "  'time_duration': 2.260416666666666,\n",
      "  'time_index': [11.189583333333333, 13.35]},\n",
      " {'line': 'I choose to be happy',\n",
      "  'time_duration': 2.5197916666666664,\n",
      "  'time_index': [13.45, 15.869791666666666]},\n",
      " {'line': 'You and I, you and I',\n",
      "  'time_duration': 3.0302083333333343,\n",
      "  'time_index': [15.969791666666666, 18.9]},\n",
      " {'line': 'We’re like diamonds in the sky',\n",
      "  'time_duration': 0.0,\n",
      "  'time_index': [19.0, 18.9]},\n",
      " {'line': '',\n",
      "  'time_duration': 2.5302083333333343,\n",
      "  'time_index': [19.0, 21.430208333333333]},\n",
      " {'line': 'You’re a shooting star I see',\n",
      "  'time_duration': 2.2697916666666664,\n",
      "  'time_index': [21.530208333333334, 23.7]},\n",
      " {'line': 'A vision of ecstasy',\n",
      "  'time_duration': 2.5197916666666664,\n",
      "  'time_index': [23.8, 26.219791666666666]},\n",
      " {'line': 'When you hold me, I’m alive',\n",
      "  'time_duration': 3.0302083333333307,\n",
      "  'time_index': [26.319791666666667, 29.249999999999996]},\n",
      " {'line': 'We’re like diamonds in the sky',\n",
      "  'time_duration': 0.0,\n",
      "  'time_index': [29.349999999999998, 29.249999999999996]},\n",
      " {'line': '',\n",
      "  'time_duration': 2.2802083333333343,\n",
      "  'time_index': [29.349999999999998, 31.53020833333333]},\n",
      " {'line': 'I knew that we’d become one right away',\n",
      "  'time_duration': 6.819791666666671,\n",
      "  'time_index': [31.630208333333332, 38.35]},\n",
      " {'line': 'Oh, right away',\n",
      "  'time_duration': 3.530208333333327,\n",
      "  'time_index': [38.45, 41.88020833333333]},\n",
      " {'line': 'At first sight I felt',\n",
      "  'time_duration': 3.289583333333333,\n",
      "  'time_index': [41.98020833333333, 45.16979166666666]},\n",
      " {'line': 'the energy of sun rays',\n",
      "  'time_duration': 3.5302083333333343,\n",
      "  'time_index': [45.26979166666666, 48.699999999999996]},\n",
      " {'line': 'I saw the life inside your eyes',\n",
      "  'time_duration': 0.0,\n",
      "  'time_index': [48.8, 48.699999999999996]},\n",
      " {'line': '',\n",
      "  'time_duration': 2.26979166666667,\n",
      "  'time_index': [48.8, 50.969791666666666]},\n",
      " {'line': 'So shine bright tonight, you and I',\n",
      "  'time_duration': 8.330208333333331,\n",
      "  'time_index': [51.06979166666667, 59.3]},\n",
      " {'line': 'We’re beautiful like',\n",
      "  'time_duration': 1.7802083333333343,\n",
      "  'time_index': [59.4, 61.08020833333333]},\n",
      " {'line': 'Diamonds in the sky',\n",
      "  'time_duration': 2.7802083333333343,\n",
      "  'time_index': [61.18020833333333, 63.860416666666666]},\n",
      " {'line': 'Eye to eye, so alive',\n",
      "  'time_duration': 6.069791666666667,\n",
      "  'time_index': [63.96041666666667, 69.93020833333334]},\n",
      " {'line': 'We’re beautiful like',\n",
      "  'time_duration': 1.5197916666666629,\n",
      "  'time_index': [70.03020833333333, 71.45]},\n",
      " {'line': 'Diamonds in the sky',\n",
      "  'time_duration': 0.0,\n",
      "  'time_index': [71.55, 71.45]},\n",
      " {'line': '',\n",
      "  'time_duration': 2.2802083333333343,\n",
      "  'time_index': [71.55, 73.73020833333334]},\n",
      " {'line': 'Shine bright like a diamond',\n",
      "  'time_duration': 2.7802083333333343,\n",
      "  'time_index': [73.83020833333333, 76.51041666666667]},\n",
      " {'line': 'Shine bright like a diamond',\n",
      "  'time_duration': 2.519791666666663,\n",
      "  'time_index': [76.61041666666667, 79.03020833333333]},\n",
      " {'line': 'Shine bright like a diamond',\n",
      "  'time_duration': 1.519791666666677,\n",
      "  'time_index': [79.13020833333333, 80.55000000000001]},\n",
      " {'line': 'Beautiful like diamonds in the sky',\n",
      "  'time_duration': 0.0,\n",
      "  'time_index': [80.65, 80.55000000000001]},\n",
      " {'line': '',\n",
      "  'time_duration': 3.78020833333332,\n",
      "  'time_index': [80.65, 84.33020833333333]},\n",
      " {'line': 'Shine bright like a diamond',\n",
      "  'time_duration': 2.519791666666677,\n",
      "  'time_index': [84.43020833333333, 86.85000000000001]},\n",
      " {'line': 'Shine bright like a diamond',\n",
      "  'time_duration': 2.5302083333333343,\n",
      "  'time_index': [86.95, 89.38020833333334]},\n",
      " {'line': 'Shine bright like a diamond',\n",
      "  'time_duration': 1.7593749999999915,\n",
      "  'time_index': [89.48020833333334, 91.13958333333333]},\n",
      " {'line': 'Beautiful like diamonds in the sky',\n",
      "  'time_duration': 0.0,\n",
      "  'time_index': [91.23958333333333, 91.13958333333333]},\n",
      " {'line': '',\n",
      "  'time_duration': 3.299999999999997,\n",
      "  'time_index': [91.23958333333333, 94.43958333333333]},\n",
      " {'line': 'Palms rise to the universe',\n",
      "  'time_duration': 2.270833333333343,\n",
      "  'time_index': [94.53958333333333, 96.71041666666667]},\n",
      " {'line': 'As we moonshine and molly',\n",
      "  'time_duration': 2.769791666666663,\n",
      "  'time_index': [96.81041666666667, 99.48020833333334]},\n",
      " {'line': 'Feel the warmth, we’ll never die',\n",
      "  'time_duration': 2.7802083333333343,\n",
      "  'time_index': [99.58020833333333, 102.26041666666667]},\n",
      " {'line': 'We’re like diamonds in the sky',\n",
      "  'time_duration': 0.0,\n",
      "  'time_index': [102.36041666666667, 102.26041666666667]},\n",
      " {'line': '',\n",
      "  'time_duration': 2.769791666666663,\n",
      "  'time_index': [102.36041666666667, 105.03020833333333]},\n",
      " {'line': 'You’re a shooting star I see',\n",
      "  'time_duration': 2.269791666666663,\n",
      "  'time_index': [105.13020833333333, 107.3]},\n",
      " {'line': 'A vision of ecstasy',\n",
      "  'time_duration': 2.269791666666677,\n",
      "  'time_index': [107.39999999999999, 109.56979166666667]},\n",
      " {'line': 'When you hold me, I’m alive',\n",
      "  'time_duration': 3.2906249999999915,\n",
      "  'time_index': [109.66979166666667, 112.86041666666667]},\n",
      " {'line': 'We’re like diamonds in the sky',\n",
      "  'time_duration': 0.0,\n",
      "  'time_index': [112.96041666666666, 112.86041666666667]},\n",
      " {'line': '',\n",
      "  'time_duration': 2.269791666666677,\n",
      "  'time_index': [112.96041666666666, 115.13020833333334]},\n",
      " {'line': 'I knew that we’d become one right away',\n",
      "  'time_duration': 6.81979166666666,\n",
      "  'time_index': [115.23020833333334, 121.95]},\n",
      " {'line': 'Oh, right away',\n",
      "  'time_duration': 3.019791666666663,\n",
      "  'time_index': [122.05, 124.96979166666667]},\n",
      " {'line': 'At first sight I felt',\n",
      "  'time_duration': 3.7906249999999915,\n",
      "  'time_index': [125.06979166666666, 128.76041666666666]},\n",
      " {'line': 'the energy of sun rays',\n",
      "  'time_duration': 3.539583333333354,\n",
      "  'time_index': [128.86041666666665, 132.3]},\n",
      " {'line': 'I saw the life inside your eyes',\n",
      "  'time_duration': 0.0,\n",
      "  'time_index': [132.4, 132.3]},\n",
      " {'line': '', 'time_duration': 2.299999999999983, 'time_index': [132.4, 134.6]},\n",
      " {'line': 'So shine bright tonight, you and I',\n",
      "  'time_duration': 8.350000000000023,\n",
      "  'time_index': [134.7, 142.95000000000002]},\n",
      " {'line': \"We're beautiful like\",\n",
      "  'time_duration': 1.2604166666666572,\n",
      "  'time_index': [143.05, 144.21041666666667]},\n",
      " {'line': 'Diamonds in the sky',\n",
      "  'time_duration': 3.2791666666666686,\n",
      "  'time_index': [144.31041666666667, 147.48958333333334]},\n",
      " {'line': 'Eye to eye, so alive',\n",
      "  'time_duration': 5.810416666666669,\n",
      "  'time_index': [147.58958333333334, 153.3]},\n",
      " {'line': \"We're beautiful like\",\n",
      "  'time_duration': 1.5104166666666572,\n",
      "  'time_index': [153.4, 154.81041666666667]},\n",
      " {'line': 'Diamonds in the sky',\n",
      "  'time_duration': 0.0,\n",
      "  'time_index': [154.91041666666666, 154.81041666666667]},\n",
      " {'line': '',\n",
      "  'time_duration': 2.5291666666666686,\n",
      "  'time_index': [154.91041666666666, 157.33958333333334]},\n",
      " {'line': 'Shine bright like a diamond',\n",
      "  'time_duration': 2.510416666666657,\n",
      "  'time_index': [157.43958333333333, 159.85]},\n",
      " {'line': 'Shine bright like a diamond',\n",
      "  'time_duration': 2.5302083333333485,\n",
      "  'time_index': [159.95, 162.38020833333334]},\n",
      " {'line': 'Shine bright like a diamond',\n",
      "  'time_duration': 1.5093750000000057,\n",
      "  'time_index': [162.48020833333334, 163.88958333333335]},\n",
      " {'line': 'Beautiful like diamonds in the sky',\n",
      "  'time_duration': 0.0,\n",
      "  'time_index': [163.98958333333334, 163.88958333333335]},\n",
      " {'line': '',\n",
      "  'time_duration': 4.040624999999977,\n",
      "  'time_index': [163.98958333333334, 167.93020833333333]},\n",
      " {'line': 'Shine bright like a diamond',\n",
      "  'time_duration': 2.3302083333333314,\n",
      "  'time_index': [168.03020833333332, 170.26041666666666]},\n",
      " {'line': 'Shine bright like a diamond',\n",
      "  'time_duration': 2.5291666666666686,\n",
      "  'time_index': [170.36041666666665, 172.78958333333333]},\n",
      " {'line': 'Shine bright like a diamond',\n",
      "  'time_duration': 1.7604166666666856,\n",
      "  'time_index': [172.88958333333332, 174.55]},\n",
      " {'line': 'Beautiful like diamonds in the sky',\n",
      "  'time_duration': 50.49599999999998,\n",
      "  'time_index': [174.65, 225.146]}]\n"
     ]
    }
   ],
   "source": [
    "print(annot)"
   ]
  },
  {
   "cell_type": "markdown",
   "metadata": {},
   "source": [
    "It works, the id created to generate the json from the DALI dataset's file is reused to generate the json from the DAMP dataset's one.\n",
    "Moreover, the information regarding the second dataset the song comes from is added to the source field in the id text file."
   ]
  },
  {
   "cell_type": "markdown",
   "metadata": {},
   "source": [
    "# Test with an asian song that should be avoided"
   ]
  },
  {
   "cell_type": "markdown",
   "metadata": {},
   "source": [
    "We will carry out this test with the song Hurry Xmas from L'Arc~en~Ciel. This song is in Japanese (wrongly listed as english in the DALI dataset), and it is written with occidental letters. Since Genius only uses asian characters for asian songs, we need to discard this song.<br>\n",
    "<br>\n",
    "/!\\ Be careful, once you run this function once, the song gets processed: its dataset file should get moved to dali_already_converted folder and its id gets added in the dali_avoided_songs file. If you want to rerun this function, make sure to:<br>\n",
    "1) erase the section of this song from the dali_avoided_songs file\n",
    "2) move its dataset file once again in the original folder (in our case, dali/test/)"
   ]
  },
  {
   "cell_type": "code",
   "execution_count": 44,
   "metadata": {},
   "outputs": [],
   "source": [
    "metadata_file = \"my_annot_name_752c98e592864d75b818347825aabc03.json\"\n",
    "DALI_dir = \"../dali/test/\"\n",
    "avoided_songs_file_path = \"./test/test_dali_avoided_songs.txt\"\n",
    "already_converted_path = \"./test/dali_already_converted/\""
   ]
  },
  {
   "cell_type": "code",
   "execution_count": 45,
   "metadata": {},
   "outputs": [
    {
     "name": "stdout",
     "output_type": "stream",
     "text": [
      "DETECTED FRONT INDEX: -1\n",
      "DETECTED BACK INDEX 62\n",
      "Searching for \"Hurry Xmas\" by L'Arc~en~Ciel...\n",
      "Done.\n"
     ]
    },
    {
     "data": {
      "text/plain": [
       "'Success: my_annot_name_752c98e592864d75b818347825aabc03.json'"
      ]
     },
     "execution_count": 45,
     "metadata": {},
     "output_type": "execute_result"
    }
   ],
   "source": [
    "main.process_dali_file(metadata_file, DALI_dir, save_path, already_converted_path, id_file_path, avoided_songs_file_path, )"
   ]
  },
  {
   "cell_type": "markdown",
   "metadata": {},
   "source": [
    "# Conversion of the whole DALI dataset"
   ]
  },
  {
   "cell_type": "code",
   "execution_count": 4,
   "metadata": {},
   "outputs": [],
   "source": [
    "DALI_dir = \"../dali/dali_json/\"\n",
    "id_file_path = \"./dali_id.txt\"\n",
    "avoided_songs_file_path = \"./dali_avoided_songs.txt\"\n",
    "already_converted_path = \"../dali/dali_already_converted\"\n",
    "save_path = \"./saved/\""
   ]
  },
  {
   "cell_type": "code",
   "execution_count": 6,
   "metadata": {},
   "outputs": [
    {
     "name": "stdout",
     "output_type": "stream",
     "text": [
      "Creating notations for the file my_annot_name_6d7f12f8d1224068a6f8aaf31a893791.json\n"
     ]
    },
    {
     "name": "stderr",
     "output_type": "stream",
     "text": [
      "  0%|          | 0/10 [00:00<?, ?it/s]"
     ]
    },
    {
     "name": "stdout",
     "output_type": "stream",
     "text": [
      "DETECTED FRONT INDEX: -1\n",
      "DETECTED BACK INDEX 95\n",
      "Searching for \"Smells Like Teen Spirit\" by Nirvana...\n",
      "Done.\n",
      "Searching for \"Smells Like Teen Spirit\" by Nirvana...\n",
      "Done.\n",
      "Warning: Paragraph name 'Guitar Solo' in language 'en' is not a standard section name.\n"
     ]
    },
    {
     "name": "stderr",
     "output_type": "stream",
     "text": [
      " 10%|█         | 1/10 [00:11<01:39, 11.04s/it]\n"
     ]
    },
    {
     "name": "stdout",
     "output_type": "stream",
     "text": [
      "Success: my_annot_name_6d7f12f8d1224068a6f8aaf31a893791.json\n",
      "Creating notations for the file my_annot_name_b1ae9051705d4314872b1a19a1507a26.json\n"
     ]
    },
    {
     "name": "stderr",
     "output_type": "stream",
     "text": [
      "  0%|          | 0/10 [00:00<?, ?it/s]"
     ]
    },
    {
     "name": "stdout",
     "output_type": "stream",
     "text": [
      "DETECTED FRONT INDEX: -1\n",
      "DETECTED BACK INDEX 95\n",
      "Searching for \"Girls Just Want To Have Fun\" by Cyndi Lauper...\n",
      "Done.\n",
      "Searching for \"Girls Just Want To Have Fun\" by Cyndi Lauper...\n"
     ]
    },
    {
     "name": "stderr",
     "output_type": "stream",
     "text": [
      " 10%|█         | 1/10 [00:10<01:38, 10.90s/it]\n"
     ]
    },
    {
     "name": "stdout",
     "output_type": "stream",
     "text": [
      "Done.\n",
      "Success: my_annot_name_b1ae9051705d4314872b1a19a1507a26.json\n",
      "Creating notations for the file my_annot_name_b78005c19ffa450aa1b9d1ec48c32710.json\n"
     ]
    },
    {
     "name": "stderr",
     "output_type": "stream",
     "text": [
      "  0%|          | 0/10 [00:00<?, ?it/s]"
     ]
    },
    {
     "name": "stdout",
     "output_type": "stream",
     "text": [
      "DETECTED FRONT INDEX: -1\n",
      "DETECTED BACK INDEX 80\n",
      "Searching for \"Royals\" by Lorde...\n",
      "Done.\n",
      "Searching for \"Royals\" by Lorde...\n"
     ]
    },
    {
     "name": "stderr",
     "output_type": "stream",
     "text": [
      " 10%|█         | 1/10 [00:04<00:44,  4.95s/it]"
     ]
    },
    {
     "name": "stdout",
     "output_type": "stream",
     "text": [
      "Done.\n",
      "Warning: Paragraph name 'Produced by Joel Little' in language 'en' is not a standard section name.\n",
      "Warning: Paragraph name 'Video by Joel Kefali' in language 'en' is not a standard section name.\n",
      "Success: my_annot_name_b78005c19ffa450aa1b9d1ec48c32710.json\n"
     ]
    },
    {
     "name": "stderr",
     "output_type": "stream",
     "text": [
      " 10%|█         | 1/10 [00:04<00:44,  4.95s/it]\n"
     ]
    },
    {
     "name": "stdout",
     "output_type": "stream",
     "text": [
      "Creating notations for the file my_annot_name_cc5cdff338b5407fa33efc9c5e44c9cf.json\n"
     ]
    },
    {
     "name": "stderr",
     "output_type": "stream",
     "text": [
      "  0%|          | 0/10 [00:00<?, ?it/s]"
     ]
    },
    {
     "name": "stdout",
     "output_type": "stream",
     "text": [
      "DETECTED FRONT INDEX: -1\n",
      "DETECTED BACK INDEX 42\n",
      "Searching for \"Take Me Home, Country Roads\" by John Denver...\n",
      "Done.\n",
      "Searching for \"Take Me Home, Country Roads\" by John Denver...\n"
     ]
    },
    {
     "name": "stderr",
     "output_type": "stream",
     "text": [
      " 10%|█         | 1/10 [00:12<01:48, 12.09s/it]\n"
     ]
    },
    {
     "name": "stdout",
     "output_type": "stream",
     "text": [
      "Done.\n",
      "Success: my_annot_name_cc5cdff338b5407fa33efc9c5e44c9cf.json\n",
      "Creating notations for the file my_annot_name_cdd7cdedccc441f79af56832d817e362.json\n"
     ]
    },
    {
     "name": "stderr",
     "output_type": "stream",
     "text": [
      "  0%|          | 0/10 [00:00<?, ?it/s]"
     ]
    },
    {
     "name": "stdout",
     "output_type": "stream",
     "text": [
      "DETECTED FRONT INDEX: -1\n",
      "DETECTED BACK INDEX 96\n",
      "Searching for \"...Baby One More Time\" by Britney Spears...\n",
      "Done.\n",
      "Searching for \"...Baby One More Time\" by Britney Spears...\n"
     ]
    },
    {
     "name": "stderr",
     "output_type": "stream",
     "text": [
      " 10%|█         | 1/10 [00:11<01:47, 12.00s/it]\n"
     ]
    },
    {
     "name": "stdout",
     "output_type": "stream",
     "text": [
      "Done.\n",
      "Success: my_annot_name_cdd7cdedccc441f79af56832d817e362.json\n",
      "Creating notations for the file my_annot_name_cedbbeb641184ebbae8f01a909ea1da7.json\n"
     ]
    },
    {
     "name": "stderr",
     "output_type": "stream",
     "text": [
      "  0%|          | 0/10 [00:00<?, ?it/s]"
     ]
    },
    {
     "name": "stdout",
     "output_type": "stream",
     "text": [
      "DETECTED FRONT INDEX: 6\n",
      "DETECTED BACK INDEX 26\n",
      "Searching for \"Wonderful Tonight\" by Eric Clapton...\n",
      "Done.\n",
      "Searching for \"Wonderful Tonight\" by Eric Clapton...\n"
     ]
    },
    {
     "name": "stderr",
     "output_type": "stream",
     "text": [
      " 10%|█         | 1/10 [00:06<00:55,  6.14s/it]\n"
     ]
    },
    {
     "name": "stdout",
     "output_type": "stream",
     "text": [
      "Done.\n",
      "Success: my_annot_name_cedbbeb641184ebbae8f01a909ea1da7.json\n",
      "Creating notations for the file my_annot_name_d2462019670b4f46bca8df24ce1e8132.json\n"
     ]
    },
    {
     "name": "stderr",
     "output_type": "stream",
     "text": [
      "  0%|          | 0/10 [00:00<?, ?it/s]"
     ]
    },
    {
     "name": "stdout",
     "output_type": "stream",
     "text": [
      "DETECTED FRONT INDEX: -1\n",
      "DETECTED BACK INDEX 66\n",
      "Searching for \"Wrecking Ball\" by Miley Cyrus...\n",
      "Done.\n",
      "Searching for \"Wrecking Ball\" by Miley Cyrus...\n"
     ]
    },
    {
     "name": "stderr",
     "output_type": "stream",
     "text": [
      " 10%|█         | 1/10 [00:06<01:01,  6.79s/it]\n"
     ]
    },
    {
     "name": "stdout",
     "output_type": "stream",
     "text": [
      "Done.\n",
      "Success: my_annot_name_d2462019670b4f46bca8df24ce1e8132.json\n",
      "Creating notations for the file my_annot_name_f1ead3dd60ba4395a5385cd7b8f091fd.json\n"
     ]
    },
    {
     "name": "stderr",
     "output_type": "stream",
     "text": [
      "  0%|          | 0/10 [00:00<?, ?it/s]"
     ]
    },
    {
     "name": "stdout",
     "output_type": "stream",
     "text": [
      "DETECTED FRONT INDEX: -1\n",
      "DETECTED BACK INDEX 65\n",
      "Searching for \"El Scorcho\" by Weezer...\n",
      "Done.\n",
      "Searching for \"El Scorcho\" by Weezer...\n"
     ]
    },
    {
     "name": "stderr",
     "output_type": "stream",
     "text": [
      " 10%|█         | 1/10 [00:06<00:57,  6.44s/it]\n"
     ]
    },
    {
     "name": "stdout",
     "output_type": "stream",
     "text": [
      "Done.\n",
      "Success: my_annot_name_f1ead3dd60ba4395a5385cd7b8f091fd.json\n",
      "Creating notations for the file my_annot_name_f9db03fa14fb4028b5e34d68364a024d.json\n"
     ]
    },
    {
     "name": "stderr",
     "output_type": "stream",
     "text": [
      "  0%|          | 0/10 [00:00<?, ?it/s]"
     ]
    },
    {
     "name": "stdout",
     "output_type": "stream",
     "text": [
      "DETECTED FRONT INDEX: -1\n",
      "DETECTED BACK INDEX 153\n",
      "Searching for \"Say My Name\" by Destiny's Child...\n",
      "Done.\n",
      "Searching for \"Say My Name\" by Destiny's Child...\n"
     ]
    },
    {
     "name": "stderr",
     "output_type": "stream",
     "text": [
      " 10%|█         | 1/10 [00:06<00:58,  6.54s/it]\n"
     ]
    },
    {
     "name": "stdout",
     "output_type": "stream",
     "text": [
      "Done.\n",
      "Success: my_annot_name_f9db03fa14fb4028b5e34d68364a024d.json\n",
      "Creating notations for the file my_annot_name_fc6d7838d422425680b3c529604f8df3.json\n"
     ]
    },
    {
     "name": "stderr",
     "output_type": "stream",
     "text": [
      "  0%|          | 0/10 [00:00<?, ?it/s]"
     ]
    },
    {
     "name": "stdout",
     "output_type": "stream",
     "text": [
      "DETECTED FRONT INDEX: -1\n",
      "DETECTED BACK INDEX 48\n",
      "Searching for \"Burning Down The House\" by Talking Heads...\n",
      "Done.\n",
      "Searching for \"Burning Down The House\" by Talking Heads...\n"
     ]
    },
    {
     "name": "stderr",
     "output_type": "stream",
     "text": [
      " 10%|█         | 1/10 [00:05<00:47,  5.31s/it]"
     ]
    },
    {
     "name": "stdout",
     "output_type": "stream",
     "text": [
      "Done.\n",
      "Warning: Paragraph name 'Synthesizer Solo' in language 'en' is not a standard section name.\n",
      "Warning: Paragraph name 'Instrumental Outro' in language 'en' is not a standard section name.\n",
      "Success: my_annot_name_fc6d7838d422425680b3c529604f8df3.json\n"
     ]
    },
    {
     "name": "stderr",
     "output_type": "stream",
     "text": [
      "\n"
     ]
    }
   ],
   "source": [
    "main.create_dali_notations(DALI_dir, save_path, already_converted_path, id_file_path, avoided_songs_file_path)"
   ]
  },
  {
   "cell_type": "markdown",
   "metadata": {},
   "source": [
    "## Statistics about the DALI dataset"
   ]
  },
  {
   "cell_type": "code",
   "execution_count": 7,
   "metadata": {},
   "outputs": [
    {
     "data": {
      "text/plain": [
       "{'count_dali': 3364, 'count_damp': 0, 'count_double_sources': 0}"
      ]
     },
     "execution_count": 7,
     "metadata": {},
     "output_type": "execute_result"
    }
   ],
   "source": [
    "utils.count_sources(id_file_path)"
   ]
  },
  {
   "cell_type": "code",
   "execution_count": 8,
   "metadata": {},
   "outputs": [
    {
     "data": {
      "text/plain": [
       "'63.86% of the songs from DALI dataset are usable to create the feed the knowledge graph.'"
      ]
     },
     "execution_count": 8,
     "metadata": {},
     "output_type": "execute_result"
    }
   ],
   "source": [
    "utils.calculate_percentage(id_file_path, already_converted_path, 'DALI')"
   ]
  },
  {
   "cell_type": "code",
   "execution_count": 9,
   "metadata": {},
   "outputs": [
    {
     "data": {
      "text/plain": [
       "{'dali_counts': {'no_language_information': 28,\n",
       "  'wrongly_encoded_asian_song': 48,\n",
       "  'no_paragraphs': 1801,\n",
       "  'not_found_on_Genius': 27,\n",
       "  'total': 1904}}"
      ]
     },
     "execution_count": 9,
     "metadata": {},
     "output_type": "execute_result"
    }
   ],
   "source": [
    "utils.dali_count_avoided_songs(avoided_songs_file_path)"
   ]
  },
  {
   "cell_type": "markdown",
   "metadata": {},
   "source": [
    "# Conversion of the whole DAMP dataset"
   ]
  },
  {
   "cell_type": "markdown",
   "metadata": {},
   "source": [
    "### Paths for test"
   ]
  },
  {
   "cell_type": "code",
   "execution_count": 2,
   "metadata": {},
   "outputs": [],
   "source": [
    "fr_file = '738276_127259.txt'\n",
    "fr_dir = \"FR\"\n",
    "\n",
    "es_file = '738276_127259.txt'\n",
    "es_dir = \"US\"\n",
    "\n",
    "DAMP_dir = 'D:/US/'\n",
    "avoided_songs_file_path = \"./damp_avoided_songs.txt\"\n",
    "id_file_path = \"./damp_id.txt\"\n",
    "already_converted_path = 'D:/US_already/'\n",
    "save_path = \"./damp_saved/\""
   ]
  },
  {
   "cell_type": "markdown",
   "metadata": {},
   "source": [
    "## Check with a song already converted from DALI"
   ]
  },
  {
   "cell_type": "markdown",
   "metadata": {},
   "source": [
    "The id used should be the same, and \"DAMP\" annotation added to the source list in id.txt."
   ]
  },
  {
   "cell_type": "code",
   "execution_count": 15,
   "metadata": {},
   "outputs": [
    {
     "name": "stdout",
     "output_type": "stream",
     "text": [
      "DETECTED FRONT INDEX: 3\n",
      "DETECTED BACK INDEX 69\n",
      "Searching for \"Diamonds\" by Rihanna...\n",
      "Done.\n",
      "Searching for \"Diamonds\" by Rihanna...\n",
      "Done.\n"
     ]
    }
   ],
   "source": [
    "main.process_damp_metadata_file(fr_file, fr_dir, DAMP_dir, save_path, already_converted_path, id_file_path, avoided_songs_file_path)"
   ]
  },
  {
   "cell_type": "markdown",
   "metadata": {},
   "source": [
    "## Check with a song not in DALI"
   ]
  },
  {
   "cell_type": "markdown",
   "metadata": {},
   "source": [
    "The id used should be a brand new one, in the continuity of the last id generated to convert the last dali file."
   ]
  },
  {
   "cell_type": "code",
   "execution_count": 3,
   "metadata": {},
   "outputs": [
    {
     "name": "stdout",
     "output_type": "stream",
     "text": [
      "DETECTED FRONT INDEX: 3\n",
      "DETECTED BACK INDEX 69\n",
      "Searching for \"Diamonds\" by Rihanna...\n",
      "Done.\n",
      "Searching for \"Diamonds\" by Rihanna...\n",
      "Done.\n",
      "{'line': 'Find light in the beautiful sea', 'time_index': [11.189583333333333, 13.35], 'time_duration': 2.260416666666666}\n",
      "1\n",
      "('Verse', 1) {'content': \"Find light in the beautiful sea, I choose to be happy You and I, you and I We're like diamonds in the sky You're a shooting star I see, a vision of ecstasy When you hold me, I'm alive We're like diamonds in the sky\", 'singer': ['Rihanna']}\n",
      "1.0\n",
      "Before:  None\n",
      "After:  I choose to be happy You and I, you and I We're like diamonds in the sky You're a shooting star I see, a vision of ecstasy When you hold me, I'm alive We're like diamonds in the sky\n",
      "{'line': 'I choose to be happy', 'time_index': [13.45, 15.869791666666666], 'time_duration': 2.5197916666666664}\n",
      "Before:  I choose to be happy You and I, you and I We're like diamonds in the sky You're a shooting star I see, a vision of ecstasy When you hold me, I'm alive We're like diamonds in the sky\n",
      "After:  You and I, you and I We're like diamonds in the sky You're a shooting star I see, a vision of ecstasy When you hold me, I'm alive We're like diamonds in the sky\n",
      "{'line': 'You and I, you and I', 'time_index': [15.969791666666666, 18.9], 'time_duration': 3.0302083333333343}\n",
      "Before:  You and I, you and I We're like diamonds in the sky You're a shooting star I see, a vision of ecstasy When you hold me, I'm alive We're like diamonds in the sky\n",
      "After:  We're like diamonds in the sky You're a shooting star I see, a vision of ecstasy When you hold me, I'm alive We're like diamonds in the sky\n",
      "{'line': 'We’re like diamonds in the sky', 'time_index': [19.0, 18.9], 'time_duration': 0.0}\n",
      "Before:  We're like diamonds in the sky You're a shooting star I see, a vision of ecstasy When you hold me, I'm alive We're like diamonds in the sky\n",
      "After:  You're a shooting star I see, a vision of ecstasy When you hold me, I'm alive We're like diamonds in the sky\n",
      "{'line': '', 'time_index': [19.0, 21.430208333333333], 'time_duration': 2.5302083333333343}\n",
      "2\n",
      "('Pre-Chorus', 1) {'content': \"I knew that we'd become one right away Oh, right away At first sight, I felt the energy of sun rays I saw the life inside your eyes\", 'singer': ['Rihanna']}\n",
      "0.0\n",
      "{'line': 'You’re a shooting star I see', 'time_index': [21.530208333333334, 23.7], 'time_duration': 2.2697916666666664}\n",
      "Before:  You're a shooting star I see, a vision of ecstasy When you hold me, I'm alive We're like diamonds in the sky\n",
      "After:  a vision of ecstasy When you hold me, I'm alive We're like diamonds in the sky\n",
      "{'line': 'A vision of ecstasy', 'time_index': [23.8, 26.219791666666666], 'time_duration': 2.5197916666666664}\n",
      "Before:  a vision of ecstasy When you hold me, I'm alive We're like diamonds in the sky\n",
      "After:  When you hold me, I'm alive We're like diamonds in the sky\n",
      "{'line': 'When you hold me, I’m alive', 'time_index': [26.319791666666667, 29.249999999999996], 'time_duration': 3.0302083333333307}\n",
      "Before:  When you hold me, I'm alive We're like diamonds in the sky\n",
      "After:  We're like diamonds in the sky\n",
      "{'line': 'We’re like diamonds in the sky', 'time_index': [29.349999999999998, 29.249999999999996], 'time_duration': 0.0}\n",
      "Before:  We're like diamonds in the sky\n",
      "After:  \n",
      "{'line': '', 'time_index': [29.349999999999998, 31.53020833333333], 'time_duration': 2.2802083333333343}\n",
      "2\n",
      "('Pre-Chorus', 1) {'content': \"I knew that we'd become one right away Oh, right away At first sight, I felt the energy of sun rays I saw the life inside your eyes\", 'singer': ['Rihanna']}\n",
      "0.0\n",
      "{'line': 'I knew that we’d become one right away', 'time_index': [31.630208333333332, 38.35], 'time_duration': 6.819791666666671}\n",
      "2\n",
      "('Pre-Chorus', 1) {'content': \"I knew that we'd become one right away Oh, right away At first sight, I felt the energy of sun rays I saw the life inside your eyes\", 'singer': ['Rihanna']}\n",
      "0.6052631578947368\n",
      "Before:  \n",
      "After:  Oh, right away At first sight, I felt the energy of sun rays I saw the life inside your eyes\n",
      "{'line': 'Oh, right away', 'time_index': [38.45, 41.88020833333333], 'time_duration': 3.530208333333327}\n",
      "Before:  Oh, right away At first sight, I felt the energy of sun rays I saw the life inside your eyes\n",
      "After:  At first sight, I felt the energy of sun rays I saw the life inside your eyes\n",
      "{'line': 'At first sight I felt', 'time_index': [41.98020833333333, 45.16979166666666], 'time_duration': 3.289583333333333}\n",
      "Before:  At first sight, I felt the energy of sun rays I saw the life inside your eyes\n",
      "After:  At first sight, I felt the energy of sun rays I saw the life inside your eyes\n",
      "{'line': 'the energy of sun rays', 'time_index': [45.26979166666666, 48.699999999999996], 'time_duration': 3.5302083333333343}\n",
      "Before:  At first sight, I felt the energy of sun rays I saw the life inside your eyes\n",
      "After:  I saw the life inside your eyes\n",
      "{'line': 'I saw the life inside your eyes', 'time_index': [48.8, 48.699999999999996], 'time_duration': 0.0}\n",
      "Before:  I saw the life inside your eyes\n",
      "After:  \n",
      "{'line': '', 'time_index': [48.8, 50.969791666666666], 'time_duration': 2.26979166666667}\n",
      "3\n",
      "('Chorus', 1) {'content': \"So shine bright, tonight, you and I We're beautiful, like diamonds in the sky Eye to eye, so alive We're beautiful, like diamonds in the sky\", 'singer': ['Rihanna']}\n",
      "0.0\n",
      "{'line': 'So shine bright tonight, you and I', 'time_index': [51.06979166666667, 59.3], 'time_duration': 8.330208333333331}\n",
      "3\n",
      "('Chorus', 1) {'content': \"So shine bright, tonight, you and I We're beautiful, like diamonds in the sky Eye to eye, so alive We're beautiful, like diamonds in the sky\", 'singer': ['Rihanna']}\n",
      "0.9696969696969697\n",
      "Before:  \n",
      "After:  So shine bright, tonight, you and I We're beautiful, like diamonds in the sky Eye to eye, so alive We're beautiful, like diamonds in the sky\n",
      "{'line': 'We’re beautiful like', 'time_index': [59.4, 61.08020833333333], 'time_duration': 1.7802083333333343}\n",
      "Before:  So shine bright, tonight, you and I We're beautiful, like diamonds in the sky Eye to eye, so alive We're beautiful, like diamonds in the sky\n",
      "After:  So shine bright, tonight, you and I We're beautiful, like diamonds in the sky Eye to eye, so alive We're beautiful, like diamonds in the sky\n",
      "{'line': 'Diamonds in the sky', 'time_index': [61.18020833333333, 63.860416666666666], 'time_duration': 2.7802083333333343}\n",
      "Before:  So shine bright, tonight, you and I We're beautiful, like diamonds in the sky Eye to eye, so alive We're beautiful, like diamonds in the sky\n",
      "After:  Eye to eye, so alive We're beautiful, like diamonds in the sky\n",
      "{'line': 'Eye to eye, so alive', 'time_index': [63.96041666666667, 69.93020833333334], 'time_duration': 6.069791666666667}\n",
      "Before:  Eye to eye, so alive We're beautiful, like diamonds in the sky\n",
      "After:  We're beautiful, like diamonds in the sky\n",
      "{'line': 'We’re beautiful like', 'time_index': [70.03020833333333, 71.45], 'time_duration': 1.5197916666666629}\n",
      "Before:  We're beautiful, like diamonds in the sky\n",
      "After:  We're beautiful, like diamonds in the sky\n",
      "{'line': 'Diamonds in the sky', 'time_index': [71.55, 71.45], 'time_duration': 0.0}\n",
      "Before:  We're beautiful, like diamonds in the sky\n",
      "After:  \n",
      "{'line': '', 'time_index': [71.55, 73.73020833333334], 'time_duration': 2.2802083333333343}\n",
      "4\n",
      "('Post-Chorus', 1) {'content': \"Shine bright like a diamond (Woah) Shine bright like a diamond (Woah) Shinin' bright like a diamond We're beautiful, like diamonds in the sky Shine bright like a diamond (Woah) Shine bright like a diamond (Woah) Shinin' bright like a diamond We're beautiful, like diamonds in the sky\", 'singer': ['Rihanna']}\n",
      "0.0\n",
      "{'line': 'Shine bright like a diamond', 'time_index': [73.83020833333333, 76.51041666666667], 'time_duration': 2.7802083333333343}\n",
      "4\n",
      "('Post-Chorus', 1) {'content': \"Shine bright like a diamond (Woah) Shine bright like a diamond (Woah) Shinin' bright like a diamond We're beautiful, like diamonds in the sky Shine bright like a diamond (Woah) Shine bright like a diamond (Woah) Shinin' bright like a diamond We're beautiful, like diamonds in the sky\", 'singer': ['Rihanna']}\n",
      "1.0\n",
      "Before:  \n",
      "After:  (Woah) Shine bright like a diamond (Woah) Shinin' bright like a diamond We're beautiful, like diamonds in the sky Shine bright like a diamond (Woah) Shine bright like a diamond (Woah) Shinin' bright like a diamond We're beautiful, like diamonds in the sky\n",
      "{'line': 'Shine bright like a diamond', 'time_index': [76.61041666666667, 79.03020833333333], 'time_duration': 2.519791666666663}\n",
      "Before:  (Woah) Shine bright like a diamond (Woah) Shinin' bright like a diamond We're beautiful, like diamonds in the sky Shine bright like a diamond (Woah) Shine bright like a diamond (Woah) Shinin' bright like a diamond We're beautiful, like diamonds in the sky\n",
      "After:  (Woah) Shinin' bright like a diamond We're beautiful, like diamonds in the sky Shine bright like a diamond (Woah) Shine bright like a diamond (Woah) Shinin' bright like a diamond We're beautiful, like diamonds in the sky\n",
      "{'line': 'Shine bright like a diamond', 'time_index': [79.13020833333333, 80.55000000000001], 'time_duration': 1.519791666666677}\n",
      "Before:  (Woah) Shinin' bright like a diamond We're beautiful, like diamonds in the sky Shine bright like a diamond (Woah) Shine bright like a diamond (Woah) Shinin' bright like a diamond We're beautiful, like diamonds in the sky\n",
      "After:  (Woah) Shine bright like a diamond (Woah) Shinin' bright like a diamond We're beautiful, like diamonds in the sky\n",
      "{'line': 'Beautiful like diamonds in the sky', 'time_index': [80.65, 80.55000000000001], 'time_duration': 0.0}\n",
      "Before:  (Woah) Shine bright like a diamond (Woah) Shinin' bright like a diamond We're beautiful, like diamonds in the sky\n",
      "After:  (Woah) Shine bright like a diamond (Woah) Shinin' bright like a diamond We're beautiful, like diamonds in the sky\n",
      "{'line': '', 'time_index': [80.65, 84.33020833333333], 'time_duration': 3.78020833333332}\n",
      "5\n",
      "('Verse', 2) {'content': \"Palms rise to the universe as we moonshine and molly Feel the warmth, we'll never die We're like diamonds in the sky You're a shooting star I see, a vision of ecstasy When you hold me, I'm alive We're like diamonds in the sky\", 'singer': ['Rihanna']}\n",
      "0.0\n",
      "{'line': 'Shine bright like a diamond', 'time_index': [84.43020833333333, 86.85000000000001], 'time_duration': 2.519791666666677}\n",
      "Before:  (Woah) Shine bright like a diamond (Woah) Shinin' bright like a diamond We're beautiful, like diamonds in the sky\n",
      "After:  (Woah) Shinin' bright like a diamond We're beautiful, like diamonds in the sky\n",
      "{'line': 'Shine bright like a diamond', 'time_index': [86.95, 89.38020833333334], 'time_duration': 2.5302083333333343}\n",
      "Before:  (Woah) Shinin' bright like a diamond We're beautiful, like diamonds in the sky\n",
      "After:  (Woah) Shinin' bright like a diamond We're beautiful, like diamonds in the sky\n",
      "{'line': 'Shine bright like a diamond', 'time_index': [89.48020833333334, 91.13958333333333], 'time_duration': 1.7593749999999915}\n",
      "Before:  (Woah) Shinin' bright like a diamond We're beautiful, like diamonds in the sky\n",
      "After:  (Woah) Shinin' bright like a diamond We're beautiful, like diamonds in the sky\n",
      "{'line': 'Beautiful like diamonds in the sky', 'time_index': [91.23958333333333, 91.13958333333333], 'time_duration': 0.0}\n",
      "Before:  (Woah) Shinin' bright like a diamond We're beautiful, like diamonds in the sky\n",
      "After:  (Woah) Shinin' bright like a diamond We're beautiful, like diamonds in the sky\n",
      "{'line': '', 'time_index': [91.23958333333333, 94.43958333333333], 'time_duration': 3.299999999999997}\n",
      "5\n",
      "('Verse', 2) {'content': \"Palms rise to the universe as we moonshine and molly Feel the warmth, we'll never die We're like diamonds in the sky You're a shooting star I see, a vision of ecstasy When you hold me, I'm alive We're like diamonds in the sky\", 'singer': ['Rihanna']}\n",
      "0.0\n",
      "{'line': 'Palms rise to the universe', 'time_index': [94.53958333333333, 96.71041666666667], 'time_duration': 2.270833333333343}\n",
      "5\n",
      "('Verse', 2) {'content': \"Palms rise to the universe as we moonshine and molly Feel the warmth, we'll never die We're like diamonds in the sky You're a shooting star I see, a vision of ecstasy When you hold me, I'm alive We're like diamonds in the sky\", 'singer': ['Rihanna']}\n",
      "1.0\n",
      "Before:  (Woah) Shinin' bright like a diamond We're beautiful, like diamonds in the sky\n",
      "After:  as we moonshine and molly Feel the warmth, we'll never die We're like diamonds in the sky You're a shooting star I see, a vision of ecstasy When you hold me, I'm alive We're like diamonds in the sky\n",
      "{'line': 'As we moonshine and molly', 'time_index': [96.81041666666667, 99.48020833333334], 'time_duration': 2.769791666666663}\n",
      "Before:  as we moonshine and molly Feel the warmth, we'll never die We're like diamonds in the sky You're a shooting star I see, a vision of ecstasy When you hold me, I'm alive We're like diamonds in the sky\n",
      "After:  Feel the warmth, we'll never die We're like diamonds in the sky You're a shooting star I see, a vision of ecstasy When you hold me, I'm alive We're like diamonds in the sky\n",
      "{'line': 'Feel the warmth, we’ll never die', 'time_index': [99.58020833333333, 102.26041666666667], 'time_duration': 2.7802083333333343}\n",
      "6\n",
      "('Pre-Chorus', 2) {'content': 'At first sight, I felt the energy of sun rays I saw the life inside your eyes', 'singer': ['Rihanna']}\n",
      "0.16129032258064516\n",
      "{'line': 'We’re like diamonds in the sky', 'time_index': [102.36041666666667, 102.26041666666667], 'time_duration': 0.0}\n",
      "Before:  Feel the warmth, we'll never die We're like diamonds in the sky You're a shooting star I see, a vision of ecstasy When you hold me, I'm alive We're like diamonds in the sky\n",
      "After:  You're a shooting star I see, a vision of ecstasy When you hold me, I'm alive We're like diamonds in the sky\n",
      "{'line': '', 'time_index': [102.36041666666667, 105.03020833333333], 'time_duration': 2.769791666666663}\n",
      "6\n",
      "('Pre-Chorus', 2) {'content': 'At first sight, I felt the energy of sun rays I saw the life inside your eyes', 'singer': ['Rihanna']}\n",
      "0.0\n",
      "{'line': 'You’re a shooting star I see', 'time_index': [105.13020833333333, 107.3], 'time_duration': 2.269791666666663}\n",
      "Before:  You're a shooting star I see, a vision of ecstasy When you hold me, I'm alive We're like diamonds in the sky\n",
      "After:  a vision of ecstasy When you hold me, I'm alive We're like diamonds in the sky\n",
      "{'line': 'A vision of ecstasy', 'time_index': [107.39999999999999, 109.56979166666667], 'time_duration': 2.269791666666677}\n",
      "Before:  a vision of ecstasy When you hold me, I'm alive We're like diamonds in the sky\n",
      "After:  When you hold me, I'm alive We're like diamonds in the sky\n",
      "{'line': 'When you hold me, I’m alive', 'time_index': [109.66979166666667, 112.86041666666667], 'time_duration': 3.2906249999999915}\n",
      "Before:  When you hold me, I'm alive We're like diamonds in the sky\n",
      "After:  We're like diamonds in the sky\n",
      "{'line': 'We’re like diamonds in the sky', 'time_index': [112.96041666666666, 112.86041666666667], 'time_duration': 0.0}\n",
      "Before:  We're like diamonds in the sky\n",
      "After:  \n",
      "{'line': '', 'time_index': [112.96041666666666, 115.13020833333334], 'time_duration': 2.269791666666677}\n",
      "6\n",
      "('Pre-Chorus', 2) {'content': 'At first sight, I felt the energy of sun rays I saw the life inside your eyes', 'singer': ['Rihanna']}\n",
      "0.0\n",
      "{'line': 'I knew that we’d become one right away', 'time_index': [115.23020833333334, 121.95], 'time_duration': 6.81979166666666}\n",
      "6\n",
      "('Pre-Chorus', 2) {'content': 'At first sight, I felt the energy of sun rays I saw the life inside your eyes', 'singer': ['Rihanna']}\n",
      "0.13157894736842105\n",
      "{'line': 'Oh, right away', 'time_index': [122.05, 124.96979166666667], 'time_duration': 3.019791666666663}\n",
      "6\n",
      "('Pre-Chorus', 2) {'content': 'At first sight, I felt the energy of sun rays I saw the life inside your eyes', 'singer': ['Rihanna']}\n",
      "0.3076923076923077\n",
      "{'line': 'At first sight I felt', 'time_index': [125.06979166666666, 128.76041666666666], 'time_duration': 3.7906249999999915}\n",
      "6\n",
      "('Pre-Chorus', 2) {'content': 'At first sight, I felt the energy of sun rays I saw the life inside your eyes', 'singer': ['Rihanna']}\n",
      "0.9523809523809523\n",
      "Before:  \n",
      "After:  At first sight, I felt the energy of sun rays I saw the life inside your eyes\n",
      "{'line': 'the energy of sun rays', 'time_index': [128.86041666666665, 132.3], 'time_duration': 3.539583333333354}\n",
      "Before:  At first sight, I felt the energy of sun rays I saw the life inside your eyes\n",
      "After:  I saw the life inside your eyes\n",
      "{'line': 'I saw the life inside your eyes', 'time_index': [132.4, 132.3], 'time_duration': 0.0}\n",
      "Before:  I saw the life inside your eyes\n",
      "After:  \n",
      "{'line': '', 'time_index': [132.4, 134.6], 'time_duration': 2.299999999999983}\n",
      "7\n",
      "('Chorus', 2) {'content': \"So shine bright, tonight, you and I We're beautiful, like diamonds in the sky Eye to eye, so alive We're beautiful, like diamonds in the sky\", 'singer': ['Rihanna']}\n",
      "0.0\n",
      "{'line': 'So shine bright tonight, you and I', 'time_index': [134.7, 142.95000000000002], 'time_duration': 8.350000000000023}\n",
      "7\n",
      "('Chorus', 2) {'content': \"So shine bright, tonight, you and I We're beautiful, like diamonds in the sky Eye to eye, so alive We're beautiful, like diamonds in the sky\", 'singer': ['Rihanna']}\n",
      "0.9696969696969697\n",
      "Before:  \n",
      "After:  So shine bright, tonight, you and I We're beautiful, like diamonds in the sky Eye to eye, so alive We're beautiful, like diamonds in the sky\n",
      "{'line': \"We're beautiful like\", 'time_index': [143.05, 144.21041666666667], 'time_duration': 1.2604166666666572}\n",
      "Before:  So shine bright, tonight, you and I We're beautiful, like diamonds in the sky Eye to eye, so alive We're beautiful, like diamonds in the sky\n",
      "After:  So shine bright, tonight, you and I We're beautiful, like diamonds in the sky Eye to eye, so alive We're beautiful, like diamonds in the sky\n",
      "{'line': 'Diamonds in the sky', 'time_index': [144.31041666666667, 147.48958333333334], 'time_duration': 3.2791666666666686}\n",
      "Before:  So shine bright, tonight, you and I We're beautiful, like diamonds in the sky Eye to eye, so alive We're beautiful, like diamonds in the sky\n",
      "After:  Eye to eye, so alive We're beautiful, like diamonds in the sky\n",
      "{'line': 'Eye to eye, so alive', 'time_index': [147.58958333333334, 153.3], 'time_duration': 5.810416666666669}\n",
      "Before:  Eye to eye, so alive We're beautiful, like diamonds in the sky\n",
      "After:  We're beautiful, like diamonds in the sky\n",
      "{'line': \"We're beautiful like\", 'time_index': [153.4, 154.81041666666667], 'time_duration': 1.5104166666666572}\n",
      "Before:  We're beautiful, like diamonds in the sky\n",
      "After:  We're beautiful, like diamonds in the sky\n",
      "{'line': 'Diamonds in the sky', 'time_index': [154.91041666666666, 154.81041666666667], 'time_duration': 0.0}\n",
      "Before:  We're beautiful, like diamonds in the sky\n",
      "After:  \n",
      "{'line': '', 'time_index': [154.91041666666666, 157.33958333333334], 'time_duration': 2.5291666666666686}\n",
      "8\n",
      "('Post-Chorus', 2) {'content': \"Shine bright like a diamond (Woah) Shine bright like a diamond (Woah) Shinin' bright like a diamond We're beautiful, like diamonds in the sky Shine bright like a diamond (Woah) Shine bright like a diamond (Woah) Shinin' bright like a diamond We're beautiful, like diamonds in the sky\", 'singer': ['Rihanna']}\n",
      "0.0\n",
      "{'line': 'Shine bright like a diamond', 'time_index': [157.43958333333333, 159.85], 'time_duration': 2.510416666666657}\n",
      "8\n",
      "('Post-Chorus', 2) {'content': \"Shine bright like a diamond (Woah) Shine bright like a diamond (Woah) Shinin' bright like a diamond We're beautiful, like diamonds in the sky Shine bright like a diamond (Woah) Shine bright like a diamond (Woah) Shinin' bright like a diamond We're beautiful, like diamonds in the sky\", 'singer': ['Rihanna']}\n",
      "1.0\n",
      "Before:  \n",
      "After:  (Woah) Shine bright like a diamond (Woah) Shinin' bright like a diamond We're beautiful, like diamonds in the sky Shine bright like a diamond (Woah) Shine bright like a diamond (Woah) Shinin' bright like a diamond We're beautiful, like diamonds in the sky\n",
      "{'line': 'Shine bright like a diamond', 'time_index': [159.95, 162.38020833333334], 'time_duration': 2.5302083333333485}\n",
      "Before:  (Woah) Shine bright like a diamond (Woah) Shinin' bright like a diamond We're beautiful, like diamonds in the sky Shine bright like a diamond (Woah) Shine bright like a diamond (Woah) Shinin' bright like a diamond We're beautiful, like diamonds in the sky\n",
      "After:  (Woah) Shinin' bright like a diamond We're beautiful, like diamonds in the sky Shine bright like a diamond (Woah) Shine bright like a diamond (Woah) Shinin' bright like a diamond We're beautiful, like diamonds in the sky\n",
      "{'line': 'Shine bright like a diamond', 'time_index': [162.48020833333334, 163.88958333333335], 'time_duration': 1.5093750000000057}\n",
      "Before:  (Woah) Shinin' bright like a diamond We're beautiful, like diamonds in the sky Shine bright like a diamond (Woah) Shine bright like a diamond (Woah) Shinin' bright like a diamond We're beautiful, like diamonds in the sky\n",
      "After:  (Woah) Shine bright like a diamond (Woah) Shinin' bright like a diamond We're beautiful, like diamonds in the sky\n",
      "{'line': 'Beautiful like diamonds in the sky', 'time_index': [163.98958333333334, 163.88958333333335], 'time_duration': 0.0}\n",
      "Before:  (Woah) Shine bright like a diamond (Woah) Shinin' bright like a diamond We're beautiful, like diamonds in the sky\n",
      "After:  (Woah) Shine bright like a diamond (Woah) Shinin' bright like a diamond We're beautiful, like diamonds in the sky\n",
      "{'line': '', 'time_index': [163.98958333333334, 167.93020833333333], 'time_duration': 4.040624999999977}\n",
      "9\n",
      "('Bridge', 1) {'content': 'Shine bright like a diamond Shine bright like a diamond Shine bright like a diamond', 'singer': ['Rihanna']}\n",
      "0.0\n",
      "{'line': 'Shine bright like a diamond', 'time_index': [168.03020833333332, 170.26041666666666], 'time_duration': 2.3302083333333314}\n",
      "Before:  (Woah) Shine bright like a diamond (Woah) Shinin' bright like a diamond We're beautiful, like diamonds in the sky\n",
      "After:  (Woah) Shinin' bright like a diamond We're beautiful, like diamonds in the sky\n",
      "{'line': 'Shine bright like a diamond', 'time_index': [170.36041666666665, 172.78958333333333], 'time_duration': 2.5291666666666686}\n",
      "Before:  (Woah) Shinin' bright like a diamond We're beautiful, like diamonds in the sky\n",
      "After:  (Woah) Shinin' bright like a diamond We're beautiful, like diamonds in the sky\n",
      "{'line': 'Shine bright like a diamond', 'time_index': [172.88958333333332, 174.55], 'time_duration': 1.7604166666666856}\n",
      "Before:  (Woah) Shinin' bright like a diamond We're beautiful, like diamonds in the sky\n",
      "After:  (Woah) Shinin' bright like a diamond We're beautiful, like diamonds in the sky\n",
      "{'line': 'Beautiful like diamonds in the sky', 'time_index': [174.65, 225.146], 'time_duration': 50.49599999999998}\n",
      "Before:  (Woah) Shinin' bright like a diamond We're beautiful, like diamonds in the sky\n",
      "After:  (Woah) Shinin' bright like a diamond We're beautiful, like diamonds in the sky\n"
     ]
    }
   ],
   "source": [
    "main.process_damp_metadata_file(es_file, es_dir, DAMP_dir, save_path, already_converted_path, id_file_path, avoided_songs_file_path)"
   ]
  },
  {
   "cell_type": "markdown",
   "metadata": {},
   "source": [
    "## Call for the bulk function"
   ]
  },
  {
   "cell_type": "markdown",
   "metadata": {},
   "source": [
    "### Real pathes"
   ]
  },
  {
   "cell_type": "code",
   "execution_count": 2,
   "metadata": {},
   "outputs": [],
   "source": [
    "DAMP_dir = 'D:/US/'\n",
    "avoided_songs_file_path = \"./damp_avoided_songs.txt\"\n",
    "id_file_path = \"./damp_id.txt\"\n",
    "already_converted_path = 'D:/US_already/'\n",
    "save_path = \"./damp_saved/\""
   ]
  },
  {
   "cell_type": "code",
   "execution_count": null,
   "metadata": {},
   "outputs": [],
   "source": [
    "main.create_damp_notations(DAMP_dir, save_path, already_converted_path, id_file_path, avoided_songs_file_path)"
   ]
  },
  {
   "cell_type": "markdown",
   "metadata": {},
   "source": [
    "## Statistics about the DAMP dataset"
   ]
  },
  {
   "cell_type": "code",
   "execution_count": null,
   "metadata": {},
   "outputs": [],
   "source": [
    "utils.count_sources(id_file_path)"
   ]
  },
  {
   "cell_type": "code",
   "execution_count": null,
   "metadata": {},
   "outputs": [],
   "source": [
    "utils.calculate_percentage(id_file_path, already_converted_path, 'DAMP')"
   ]
  },
  {
   "cell_type": "code",
   "execution_count": null,
   "metadata": {},
   "outputs": [],
   "source": [
    "utils.damp_count_avoided_songs(avoided_songs_file_path)"
   ]
  },
  {
   "cell_type": "code",
   "execution_count": null,
   "metadata": {},
   "outputs": [],
   "source": []
  },
  {
   "cell_type": "markdown",
   "metadata": {},
   "source": [
    "# Post-conversion steps"
   ]
  },
  {
   "cell_type": "markdown",
   "metadata": {},
   "source": [
    "## Single paragraphs"
   ]
  },
  {
   "cell_type": "markdown",
   "metadata": {},
   "source": [
    "Is there some songs that got wrongly converted (because of errors in the dataset content that prevent from right line matching, for example) and hence need to be put aside? Usually, these songs only have one single paragraph."
   ]
  },
  {
   "cell_type": "code",
   "execution_count": 3,
   "metadata": {},
   "outputs": [],
   "source": [
    "song_ids = utils.get_single_paragraph_song_info(\"./saved/\")"
   ]
  },
  {
   "cell_type": "code",
   "execution_count": 4,
   "metadata": {},
   "outputs": [
    {
     "data": {
      "text/plain": [
       "304"
      ]
     },
     "execution_count": 4,
     "metadata": {},
     "output_type": "execute_result"
    }
   ],
   "source": [
    "len(song_ids)"
   ]
  },
  {
   "cell_type": "markdown",
   "metadata": {},
   "source": [
    "There are 304 songs we need to put aside. Let's use their id to perform this."
   ]
  },
  {
   "cell_type": "code",
   "execution_count": 5,
   "metadata": {},
   "outputs": [
    {
     "name": "stdout",
     "output_type": "stream",
     "text": [
      "{'00000003': ('Geschwisterliebe', 'Die Ärzte'), '00000011': ('Adios', 'Rammstein'), '00000015': ('Kinky Afro', 'Happy Mondays'), '00000048': ('Bad Moon Rising', 'Creedence Clearwater Revival'), '0000006F': ('Hounds Of Love', 'Kate Bush'), '00000082': ('My Love', 'Westlife'), '00000085': ('Have You Ever Seen The Rain', 'Creedence Clearwater Revival'), '0000008A': ('Sweetest Thing', 'U2'), '00000091': ('The Invisible Man', 'Queen'), '0000009C': ('Mine', 'Taylor Swift'), '000000A5': ('Totale Finsternis', 'Tanz Der Vampire'), '000000A8': ('A Boy Named Sue', 'Johnny Cash'), '000000B5': ('Mirror Mirror', 'Blind Guardian'), '000000BC': ('Eet', 'Regina Spektor'), '000000BD': ('Freiheit', 'Marius Müller-Westernhagen'), '000000D0': ('Stray Heart', 'Green Day'), '000000D7': ('Hard Candy Christmas', 'Dolly Parton'), '000000DF': ('Last Man Standing', 'HammerFall'), '000000EB': ('Rosas', 'La Oreja De Van Gogh'), '000000FA': ('Du Entschuldige I Kenn Di', 'Peter Cornelius'), '00000106': (\"'39\", 'Queen'), '00000115': ('Piano Man', 'Billy Joel'), '00000121': ('Tu', 'Noelia'), '00000125': ('Tra Te E Il Mare', 'Laura Pausini'), '00000141': (\"Cryin'\", 'Aerosmith'), '00000150': ('Yo (Excuse Me Miss)', 'Chris Brown'), '00000169': ('Return To Innocence', 'Enigma'), '0000016D': ('Mindestens In 1000 Jahren', 'Frittenbude'), '00000174': ('Breathe Easy', 'Blue'), '00000178': ('Cassius', 'Foals'), '00000191': ('Change The World', 'The Offspring'), '00000199': ('Broken Angel', 'Arash'), '000001A0': ('DOA', 'Foo Fighters'), '000001A3': ('Our Song', 'Taylor Swift'), '000001A6': ('Proud Mary', 'Creedence Clearwater Revival'), '000001C7': ('Time Is On My Side', 'The Rolling Stones'), '000001CB': (\"Without You I'm Nothing\", 'Placebo'), '000001D4': ('Build A Bridge', 'Limp Bizkit'), '000001DF': ('Shining Light', 'Ash'), '000001E7': ('Danny Boy', 'Elvis Presley'), '000001EA': ('Allt På Ett Kort', 'Bob Hund'), '000001ED': ('Touch Of My Hand', 'Britney Spears'), '000001F0': ('Calling You', 'Kat DeLuna'), '00000200': ('Leave It Alone', 'NOFX'), '00000201': ('Get Out Alive', 'Three Days Grace'), '00000205': ('National Anthem', 'LeAnn Rimes'), '0000020B': ('Saturday Night', 'Suede'), '0000020E': ('Bad Case Of Loving You (Doctor, Doctor)', 'Robert Palmer'), '00000217': ('Take Your Mama', 'Scissor Sisters'), '00000218': ('Desire', 'U2'), '0000022C': ('Stranger', 'Hilary Duff'), '00000236': ('(Do You) Get Excited', 'Roxette'), '0000023E': ('7 E 40', 'Lucio Battisti'), '00000246': ('Yes', 'Demi Lovato'), '0000025C': ('Stay', 'Tooji'), '00000260': ('En Algún Lugar', 'Duncan Dhu'), '00000265': (\"You'll Be Mine\", 'The Pierces'), '0000026C': ('Brown Eyed Girl', 'Van Morrison'), '0000026F': ('Missing', 'Evanescence'), '0000028B': ('Crush', 'David Archuleta'), '00000290': ('Antisocial', 'Anthrax'), '00000299': ('Woman', 'John Lennon'), '000002B0': ('The Greatest Man That Ever Lived (Variations On A Shaker Hymn)', 'Weezer'), '000002BB': ('You Sexy Thing', 'Hot Chocolate'), '000002BD': ('The Prayer', 'Bloc Party'), '000002C2': ('The Waiting One', 'All That Remains'), '000002CE': ('The Down Syndrome', 'Grey Daze'), '000002D0': ('Walk Like An Egyptian', 'The Bangles'), '000002EA': ('Dramatic Song', 'Toby Turner'), '000002ED': ('Deutschland', 'Die Prinzen'), '000002FD': ('Asereje', 'Las Ketchup'), '00000308': ('Mr. Sandman', 'Emmylou Harris'), '00000318': ('Serenata Rap', 'Jovanotti'), '00000329': ('Sunshine', 'Aerosmith'), '00000332': ('(Do You Get) Excited?', 'Roxette'), '0000033F': (\"Baba O'Riley\", 'The Who'), '00000344': ('Vieni A Ballare In Puglia', 'CapaRezza'), '00000345': ('Una Carezza In Un Pugno', 'Adriano Celentano'), '00000350': ('Broken', 'Seether'), '00000352': ('Would You Love A Monsterman?', 'Lordi'), '00000353': ('Virtual Insanity', 'Jamiroquai'), '0000036E': ('Mil Horas', 'Los Abuelos De La Nada'), '00000376': ('Half A World Away', 'R.E.M.'), '0000037A': ('Time Bomb', 'Rancid'), '00000386': ('There Is A Light That Never Goes Out', 'The Smiths'), '00000387': (\"Weus'd A Herz Hast Wia A Bergwerk\", 'Rainhard Fendrich'), '00000399': ('You Are The One', 'Shiny Toy Guns'), '000003AF': ('Sex Bomb', 'Tom Jones'), '000003C4': ('RadioVideo', 'System Of A Down'), '000003D2': ('Mentira', 'João Pedro Pais'), '000003D3': ('New Soul', 'Yael Naim'), '000003DB': ('Bad Day', 'Darwin Deez'), '000003F8': ('Hostage Of Love', 'Razorlight'), '00000410': ('Rooftops (A Liberation Broadcast)', 'Lostprophets'), '0000041D': ('Jour 1', 'Louane'), '00000426': ('Vielleicht', 'Madsen'), '00000428': ('Down', 'Something Corporate'), '0000042F': (\"Europe's Living A Celebration\", 'Rosa López'), '0000043E': ('Easy To Ignore', 'Sixpence None The Richer'), '00000448': ('Black Sheep', 'Sonata Arctica'), '0000044F': ('Tourniquet', 'Evanescence'), '00000462': ('Deutsche Bahn', 'Wise Guys'), '0000046E': (\"I'm Just A Kid\", 'Simple Plan'), '00000477': ('Since U Been Gone', 'Kelly Clarkson'), '0000047A': ('Up!', 'Shania Twain'), '00000484': ('Der Graf', 'Die Ärzte'), '0000048F': ('Fast Car', 'Jonas Blue'), '0000049D': ('Yellow Ledbetter', 'Pearl Jam'), '000004B8': ('Heartbreaker', 'G-Dragon'), '000004DA': ('Omaboy', 'Die Ärzte'), '000004E8': ('Three Lions', 'Lightning Seeds'), '000004EC': ('Paper Gangsta', 'Lady Gaga'), '000004F5': ('Pocahontas', 'AnnenMayKantereit'), '000004F8': ('Porch', 'Pearl Jam'), '0000050F': ('Double Je', 'Christophe Willem'), '0000051C': ('50 Special', 'Lùnapop'), '0000051E': ('Born To Be Wild', 'Steppenwolf'), '00000533': ('Dear God', 'Avenged Sevenfold'), '00000536': ('Lo Que Pasó, Pasó', 'Daddy Yankee'), '00000553': ('When I Kissed The Teacher', 'ABBA'), '00000555': ('Yellow', 'Coldplay'), '00000560': ('Too Young', 'Phoenix'), '00000562': ('I Am What I Am', 'Gloria Gaynor'), '00000569': ('Dicono Di Me', 'Cesare Cremonini'), '0000056A': ('First Time', 'Lifehouse'), '00000571': (\"Jesus Doesn't Want Me For A Sunbeam\", 'Nirvana'), '00000579': ('Psycho', 'Puddle Of Mudd'), '00000597': ('Invece No', 'Laura Pausini'), '0000059F': ('Tomber La Chemise', 'Zebda'), '000005B8': ('The Wind Blows', 'The All-American Rejects'), '000005BC': ('Una Donna Per Amico', 'Lucio Battisti'), '000005C9': ('Mama Kin', 'Aerosmith'), '000005EF': ('Around The World (La La La La La)', 'ATC'), '000005F7': ('Fallen Angels', 'Black Veil Brides'), '000005FB': ('Lift U Up', 'Gotthard'), '00000607': (\"Who's Going Home With You Tonight?\", 'Trapt'), '00000614': ('Schickeria', 'Rainhard Fendrich'), '00000619': ('Strange World', 'Iron Maiden'), '0000061A': ('Show Me Your Colours', 'S Club 7'), '00000626': ('Never Wake Up', 'Sum 41'), '00000627': ('Break Stuff', 'Limp Bizkit'), '00000631': (\"C'mon C'mon\", 'The Von Bondies'), '00000633': (\"God's Gonna Cut You Down\", 'Johnny Cash'), '0000063E': ('If I Had A Hammer', 'Trini Lopez'), '00000643': ('Por Mujeres Como Tú', 'Pepe Aguilar'), '0000064F': ('Have I Told You Lately', 'Rod Stewart'), '00000655': ('From The Inside', 'Linkin Park'), '00000661': ('Sultans Of Swing', 'Dire Straits'), '00000683': ('Großvater', 'STS'), '000006A1': ('500 Miles', 'Peter'), '000006B1': ('Why Still Bother', 'Itchy Poopzkid'), '000006C1': ('On Melancholy Hill', 'Gorillaz'), '000006D8': ('Walk Away', 'Kelly Clarkson'), '000006DE': ('Inside Of You', 'Hoobastank'), '000006EE': ('Runaround Sue', 'Dion'), '000006F9': ('These Dreams', 'Heart'), '000006FE': ('Days Without', 'All That Remains'), '00000719': ('Cherry Lips (Go Baby Go!)', 'Garbage'), '00000734': ('Just Give Me A Reason', 'P!nk'), '00000740': ('(Let Me Be Your) Teddy Bear', 'Elvis Presley'), '00000753': ('Moviestar', 'Harpo'), '00000755': ('Le Manège', 'Stanislas'), '0000076E': ('Georgia On My Mind', 'Ray Charles'), '00000781': ('Molinos De Viento', 'Mägo De Oz'), '00000785': (\"'54, '74, '90, 2006\", 'Sportfreunde Stiller'), '000007A3': ('Desperado', 'Eagles'), '000007B6': ('These Eyes', 'The Guess Who'), '000007C8': ('Go Tell It On The Mountain', 'Simon And Garfunkel'), '000007CD': ('Raggio Di Sole', 'Le Vibrazioni'), '000007E0': (\"The Shoop Shoop Song (It's In His Kiss)\", 'Cher'), '000007F0': (\"I Don't Feel Like Dancin'\", 'Scissor Sisters'), '000007F2': ('Demon Cleaner', 'Kyuss'), '000007F8': ('Free Your Mind', 'En Vogue'), '000007F9': ('We Are Who We Are', 'Little Mix'), '000007FB': (\"Sgt. Pepper's Lonely Hearts Club Band\", 'The Beatles'), '00000802': ('Doctor Jones', 'Aqua'), '00000813': ('Fallen Angel', 'Poison'), '0000082A': ('Summertime', 'DJ Jazzy Jeff'), '0000082E': ('Enjoy The Silence', 'Lacuna Coil'), '00000847': ('Élan', 'Nightwish'), '00000859': ('Kirche', 'Böhse Onkelz'), '0000086E': (\"It's Hard To Know\", 'Hot Water Music'), '00000880': ('Hey Tonight', 'Creedence Clearwater Revival'), '00000885': (\"Macy's Day Parade\", 'Green Day'), '0000088D': ('Chandelier', 'Sia'), '0000088E': ('Them Bones', 'Alice In Chains'), '00000897': ('Dance Of Death', 'Iron Maiden'), '000008AB': (\"Vuonna '85\", 'Eppu Normaali'), '000008AE': (\"Don't Cry For Pain\", 'Ana Johnsson'), '000008AF': ('Pushing Me Away', 'Linkin Park'), '000008BF': ('Spaceman', 'Babylon Zoo'), '000008D7': ('En Apesanteur', 'Calogero'), '000008DC': ('Blue (Da Ba Dee)', 'Eiffel 65'), '000008E2': ('Tu Seras', 'Emma Daumas'), '000008ED': ('Dile Al Sol', 'La Oreja De Van Gogh'), '000008FA': ('Cat And Mouse', 'The Red Jumpsuit Apparatus'), '00000916': ('Geil, Geil, Geil (Wir Sind Die Größten)', 'Wolfgang Petry'), '00000918': ('Leave In Silence', 'Depeche Mode'), '0000091D': ('Vindicated', 'Dashboard Confessional'), '0000092E': ('Second Chance', 'Shinedown'), '00000936': ('Skandal Im Sperrbezirk', 'Spider Murphy Gang'), '0000093A': ('Gay Pirates', 'Cosmo Jarvis'), '0000093C': ('Working For The Weekend', 'Loverboy'), '0000093D': ('Linoleum', 'NOFX'), '0000093E': ('Non Passerai', 'Marco Mengoni'), '00000943': ('Pretty Fly (For A White Guy)', 'The Offspring'), '00000950': ('Schickeria', 'Spider Murphy Gang'), '00000953': ('Half The World Away', 'Oasis'), '00000955': ('Oerend Hard', 'Normaal'), '00000967': ('Little Things', 'One Direction'), '0000096D': ('Lonely Boy', 'The Black Keys'), '00000975': ('Going Nowhere', 'Little Mix'), '0000097B': ('Carta', 'Toranja'), '00000988': ('Friday On My Mind', 'Gary Moore'), '00000995': ('Take A Chance On Me', 'ABBA'), '000009A4': ('Shapeshifter', 'Celldweller'), '000009AF': ('Sei Parte Di Me', 'Zero Assoluto'), '000009BA': ('Strong', 'London Grammar'), '000009CD': (\"Un'emozione Per Sempre\", 'Eros Ramazzotti'), '000009D1': ('Animals', 'Maroon 5'), '000009E7': ('Laura', 'Scissor Sisters'), '000009F1': ('Shine', 'Imogen Heap'), '00000A02': ('Coma', \"Guns N' Roses\"), '00000A04': ('Dieser Weg', 'Xavier Naidoo'), '00000A06': ('Numb', 'Linkin Park'), '00000A09': ('Hit The Lights', 'Metallica'), '00000A0E': ('Cotton-Eye Joe', 'Rednex'), '00000A14': ('Pure Morning', 'Placebo'), '00000A1A': (\"Ich Möcht' So Gerne Metal Hör'n\", 'J.B.O.'), '00000A20': (\"Sorry, You're Not A Winner\", 'Enter Shikari'), '00000A28': ('Plug In Baby', 'Muse'), '00000A46': ('Girls & Boys', 'Blur'), '00000A47': ('El Del Medio De Los Chichos', 'Estopa'), '00000A4D': ('Vivir Así Es Morir De Amor', 'Camilo Sesto'), '00000A5B': ('This Will Make You Love Again', 'IAMX'), '00000A6A': ('I Remember You', 'Skid Row'), '00000A72': ('She Goes Nana', 'The Radios'), '00000A7C': ('Story Of A Lonely Guy', 'Blink-182'), '00000A8F': ('Run To The Hills', 'Iron Maiden'), '00000AA3': (\"Give 'Em Hell, Kid\", 'My Chemical Romance'), '00000AA6': ('Zoe Jane', 'Staind'), '00000AAE': ('Between Angels And Insects', 'Papa Roach'), '00000AB0': (\"Gangsta's Paradise\", 'Coolio'), '00000AB2': ('Ho Hey', 'The Lumineers'), '00000ABA': ('Soulweeper 2', 'Volbeat'), '00000ABC': ('Beweg Dein Arsch', 'LaFee'), '00000AC3': ('Kein Gerede', 'WIZO'), '00000AC6': ('Tu Mi Porti Su', 'Giorgia'), '00000AD1': ('Ricominciamo', 'Adriano Pappalardo'), '00000AD6': ('Tutto Il Resto È Noia', 'Franco Califano'), '00000ADE': ('Hail To The King', 'Avenged Sevenfold'), '00000AE9': ('99 Red Balloons', 'Goldfinger'), '00000AF5': ('Return To Sender', 'Elvis Presley'), '00000AF9': ('Going Missing', 'Maxïmo Park'), '00000B07': ('The Joker', 'Steve Miller Band'), '00000B09': ('Name', 'Goo Goo Dolls'), '00000B0A': ('Oh Yeah', 'Roxy Music'), '00000B16': ('Wrapped', 'Gloria Estefan'), '00000B1C': ('Sweet Home Alabama', 'Lynyrd Skynyrd'), '00000B39': ('Rusted From The Rain', 'Billy Talent'), '00000B49': ('DeMoliendo Hoteles', 'Charly García'), '00000B51': ('Do You Want To', 'Franz Ferdinand'), '00000B57': ('Schwinger', 'Seeed'), '00000B61': ('Cross My Heart', 'Marianas Trench'), '00000B6E': ('Juke Box Hero', 'Foreigner'), '00000B74': ('Say You, Say Me', 'Lionel Richie'), '00000B7B': ('I Miss You', 'Miley Cyrus'), '00000B90': ('Celebrity Status', 'Marianas Trench'), '00000B97': (\"Parce Qu'on Vient De Loin\", 'Corneille'), '00000B98': ('Jump', 'Van Halen'), '00000B9D': ('Certe Notti', 'Ligabue'), '00000BA4': ('Traffic', 'Stereophonics'), '00000BB1': ('Brizgalna Brizga', 'Atomik Harmonik'), '00000BB4': (\"Rome Wasn't Built In A Day\", 'Morcheeba'), '00000BB5': ('Our Velocity', 'Maxïmo Park'), '00000BBD': ('Touch Me', 'The Doors'), '00000BC3': ('E Ritorno Da Te', 'Laura Pausini'), '00000BC4': ('Denial', 'Sugababes'), '00000BC7': ('Hier Kommt Kurt', 'Frank Zander'), '00000BCE': ('Eve Of Destruction', 'Barry McGuire'), '00000BD5': ('Thinking Out Loud', 'Ed Sheeran'), '00000BDD': ('Leuchtturm', 'Nena'), '00000C07': ('Real Things', 'Javine'), '00000C09': ('Cinderela', 'Carlos Paião'), '00000C16': ('Add It Up', 'Violent Femmes'), '00000C1B': ('Die Welt Kann Mich Nicht Mehr Verstehen', 'Tocotronic'), '00000C20': ('Crying In The Chapel', 'Elvis Presley'), '00000C4F': ('Guilty Of Love', 'Shanadoo'), '00000C75': ('Noches De Bohemia', 'Navajita Plateá'), '00000C87': ('4000 Rainy Nights', 'Stratovarius'), '00000C8E': ('The Trooper', 'Iron Maiden'), '00000C98': ('Gifts And Curses', 'Yellowcard'), '00000C9B': ('Tonight', 'Big Bang'), '00000CA0': ('Haschisch Kakalake', 'Creme De La Creme'), '00000CB0': ('My Hero', 'Foo Fighters'), '00000CB9': ('Torero', 'Chayanne'), '00000CC6': ('Everyday', 'Buddy Holly'), '00000CC7': ('Bad Day', 'Daniel Powter'), '00000CCC': ('Kiss This', 'Aaron Tippin'), '00000CD7': ('Dirty Deeds Done Dirt Cheap', 'AC/DC'), '00000CE4': ('El Alma En Pie', 'Chenoa'), '00000CEC': ('We Own The Night', 'The Wanted'), '00000CEF': ('Ghostbusters', 'Ray Parker'), '00000D20': ('...Baby One More Time', 'Britney Spears')}\n"
     ]
    }
   ],
   "source": [
    "print(song_ids)"
   ]
  },
  {
   "cell_type": "markdown",
   "metadata": {},
   "source": [
    "3364 songs have been converted and are considered as usable. We need to remove the 304 songs from them."
   ]
  },
  {
   "cell_type": "code",
   "execution_count": null,
   "metadata": {},
   "outputs": [],
   "source": [
    "utils.delete_dict_entries(song_ids, './dali_id.txt')"
   ]
  },
  {
   "cell_type": "markdown",
   "metadata": {},
   "source": [
    "The 304 songs have been deleted from the id file. Now, let's update the id of the usable songs so that they are all consecutive."
   ]
  },
  {
   "cell_type": "code",
   "execution_count": 6,
   "metadata": {},
   "outputs": [],
   "source": [
    "utils.delete_wrong_converted_songs(song_ids, './saved/')"
   ]
  },
  {
   "cell_type": "code",
   "execution_count": null,
   "metadata": {},
   "outputs": [],
   "source": [
    "utils.change_ids_and_rename_files('./dali_id.txt', './saved/', 8)"
   ]
  }
 ],
 "metadata": {
  "kernelspec": {
   "display_name": "base",
   "language": "python",
   "name": "python3"
  },
  "language_info": {
   "codemirror_mode": {
    "name": "ipython",
    "version": 3
   },
   "file_extension": ".py",
   "mimetype": "text/x-python",
   "name": "python",
   "nbconvert_exporter": "python",
   "pygments_lexer": "ipython3",
   "version": "3.9.7"
  }
 },
 "nbformat": 4,
 "nbformat_minor": 2
}
